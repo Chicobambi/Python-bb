{
 "cells": [
  {
   "cell_type": "markdown",
   "metadata": {},
   "source": [
    "# Which one is a better plan?\n",
    "\n",
    "You work as an analyst for the telecom operator Megaline. The company offers its clients two prepaid plans, Surf and Ultimate. The commercial department wants to know which of the plans brings in more revenue in order to adjust the advertising budget.\n",
    "\n",
    "You are going to carry out a preliminary analysis of the plans based on a relatively small client selection. You'll have the data on 500 Megaline clients: who the clients are, where they're from, which plan they use, and the number of calls they made and text messages they sent in 2018. Your job is to analyze the clients' behavior and determine which prepaid plan brings in more revenue."
   ]
  },
  {
   "cell_type": "markdown",
   "metadata": {},
   "source": [
    "[We've provided you with some commentary to guide your thinking as you complete this project. However, make sure to remove all the bracketed comments before submitting your project.]\n",
    "\n",
    "[Before you dive into analyzing your data, explain for yourself the purpose of the project and actions you plan to take.]\n",
    "\n",
    "[Please bear in mind that studying, amending, and analyzing data is an iterative process. It is normal to return to previous steps and correct/expand them to allow for further steps.]"
   ]
  },
  {
   "cell_type": "markdown",
   "metadata": {},
   "source": [
    "## Initialization"
   ]
  },
  {
   "cell_type": "markdown",
   "metadata": {},
   "source": []
  },
  {
   "cell_type": "code",
   "execution_count": 1,
   "metadata": {},
   "outputs": [],
   "source": [
    "# Loading all the libraries\n",
    "import pandas as pd\n",
    "import numpy as np\n",
    "import datetime as dt\n",
    "import matplotlib.pyplot as plt\n",
    "from scipy import stats"
   ]
  },
  {
   "cell_type": "markdown",
   "metadata": {},
   "source": [
    "## Load data"
   ]
  },
  {
   "cell_type": "markdown",
   "metadata": {},
   "source": []
  },
  {
   "cell_type": "code",
   "execution_count": 2,
   "metadata": {},
   "outputs": [],
   "source": [
    "# Load the data files into different DataFrames\n",
    "users = pd.read_csv('/datasets/megaline_users.csv')\n",
    "plans = pd.read_csv('/datasets/megaline_plans.csv')\n",
    "messages = pd.read_csv('/datasets/megaline_messages.csv')\n",
    "net = pd.read_csv('/datasets/megaline_internet.csv')\n",
    "calls = pd.read_csv('/datasets/megaline_calls.csv')\n"
   ]
  },
  {
   "cell_type": "markdown",
   "metadata": {},
   "source": [
    "## Prepare the data"
   ]
  },
  {
   "cell_type": "markdown",
   "metadata": {},
   "source": [
    "[The data for this project is split into several tables. Explore each one to get an initial understanding of the data. Do necessary corrections to each table if necessary.]"
   ]
  },
  {
   "cell_type": "markdown",
   "metadata": {},
   "source": [
    "## Plans"
   ]
  },
  {
   "cell_type": "markdown",
   "metadata": {},
   "source": [
    "# Print the general/summary information about the plans' DataFrame\n",
    "plans.info() # Using info() to display the basic information of the Data frame.\n"
   ]
  },
  {
   "cell_type": "code",
   "execution_count": 3,
   "metadata": {},
   "outputs": [
    {
     "data": {
      "text/html": [
       "<div>\n",
       "<style scoped>\n",
       "    .dataframe tbody tr th:only-of-type {\n",
       "        vertical-align: middle;\n",
       "    }\n",
       "\n",
       "    .dataframe tbody tr th {\n",
       "        vertical-align: top;\n",
       "    }\n",
       "\n",
       "    .dataframe thead th {\n",
       "        text-align: right;\n",
       "    }\n",
       "</style>\n",
       "<table border=\"1\" class=\"dataframe\">\n",
       "  <thead>\n",
       "    <tr style=\"text-align: right;\">\n",
       "      <th></th>\n",
       "      <th>messages_included</th>\n",
       "      <th>mb_per_month_included</th>\n",
       "      <th>minutes_included</th>\n",
       "      <th>usd_monthly_pay</th>\n",
       "      <th>usd_per_gb</th>\n",
       "      <th>usd_per_message</th>\n",
       "      <th>usd_per_minute</th>\n",
       "      <th>plan_name</th>\n",
       "    </tr>\n",
       "  </thead>\n",
       "  <tbody>\n",
       "    <tr>\n",
       "      <th>0</th>\n",
       "      <td>50</td>\n",
       "      <td>15360</td>\n",
       "      <td>500</td>\n",
       "      <td>20</td>\n",
       "      <td>10</td>\n",
       "      <td>0.03</td>\n",
       "      <td>0.03</td>\n",
       "      <td>surf</td>\n",
       "    </tr>\n",
       "    <tr>\n",
       "      <th>1</th>\n",
       "      <td>1000</td>\n",
       "      <td>30720</td>\n",
       "      <td>3000</td>\n",
       "      <td>70</td>\n",
       "      <td>7</td>\n",
       "      <td>0.01</td>\n",
       "      <td>0.01</td>\n",
       "      <td>ultimate</td>\n",
       "    </tr>\n",
       "  </tbody>\n",
       "</table>\n",
       "</div>"
      ],
      "text/plain": [
       "   messages_included  mb_per_month_included  minutes_included  \\\n",
       "0                 50                  15360               500   \n",
       "1               1000                  30720              3000   \n",
       "\n",
       "   usd_monthly_pay  usd_per_gb  usd_per_message  usd_per_minute plan_name  \n",
       "0               20          10             0.03            0.03      surf  \n",
       "1               70           7             0.01            0.01  ultimate  "
      ]
     },
     "metadata": {},
     "output_type": "display_data"
    },
    {
     "data": {
      "text/html": [
       "<div>\n",
       "<style scoped>\n",
       "    .dataframe tbody tr th:only-of-type {\n",
       "        vertical-align: middle;\n",
       "    }\n",
       "\n",
       "    .dataframe tbody tr th {\n",
       "        vertical-align: top;\n",
       "    }\n",
       "\n",
       "    .dataframe thead th {\n",
       "        text-align: right;\n",
       "    }\n",
       "</style>\n",
       "<table border=\"1\" class=\"dataframe\">\n",
       "  <thead>\n",
       "    <tr style=\"text-align: right;\">\n",
       "      <th></th>\n",
       "      <th>messages_included</th>\n",
       "      <th>mb_per_month_included</th>\n",
       "      <th>minutes_included</th>\n",
       "      <th>usd_monthly_pay</th>\n",
       "      <th>usd_per_gb</th>\n",
       "      <th>usd_per_message</th>\n",
       "      <th>usd_per_minute</th>\n",
       "    </tr>\n",
       "  </thead>\n",
       "  <tbody>\n",
       "    <tr>\n",
       "      <th>count</th>\n",
       "      <td>2.000000</td>\n",
       "      <td>2.000000</td>\n",
       "      <td>2.000000</td>\n",
       "      <td>2.000000</td>\n",
       "      <td>2.00000</td>\n",
       "      <td>2.000000</td>\n",
       "      <td>2.000000</td>\n",
       "    </tr>\n",
       "    <tr>\n",
       "      <th>mean</th>\n",
       "      <td>525.000000</td>\n",
       "      <td>23040.000000</td>\n",
       "      <td>1750.000000</td>\n",
       "      <td>45.000000</td>\n",
       "      <td>8.50000</td>\n",
       "      <td>0.020000</td>\n",
       "      <td>0.020000</td>\n",
       "    </tr>\n",
       "    <tr>\n",
       "      <th>std</th>\n",
       "      <td>671.751442</td>\n",
       "      <td>10861.160159</td>\n",
       "      <td>1767.766953</td>\n",
       "      <td>35.355339</td>\n",
       "      <td>2.12132</td>\n",
       "      <td>0.014142</td>\n",
       "      <td>0.014142</td>\n",
       "    </tr>\n",
       "    <tr>\n",
       "      <th>min</th>\n",
       "      <td>50.000000</td>\n",
       "      <td>15360.000000</td>\n",
       "      <td>500.000000</td>\n",
       "      <td>20.000000</td>\n",
       "      <td>7.00000</td>\n",
       "      <td>0.010000</td>\n",
       "      <td>0.010000</td>\n",
       "    </tr>\n",
       "    <tr>\n",
       "      <th>25%</th>\n",
       "      <td>287.500000</td>\n",
       "      <td>19200.000000</td>\n",
       "      <td>1125.000000</td>\n",
       "      <td>32.500000</td>\n",
       "      <td>7.75000</td>\n",
       "      <td>0.015000</td>\n",
       "      <td>0.015000</td>\n",
       "    </tr>\n",
       "    <tr>\n",
       "      <th>50%</th>\n",
       "      <td>525.000000</td>\n",
       "      <td>23040.000000</td>\n",
       "      <td>1750.000000</td>\n",
       "      <td>45.000000</td>\n",
       "      <td>8.50000</td>\n",
       "      <td>0.020000</td>\n",
       "      <td>0.020000</td>\n",
       "    </tr>\n",
       "    <tr>\n",
       "      <th>75%</th>\n",
       "      <td>762.500000</td>\n",
       "      <td>26880.000000</td>\n",
       "      <td>2375.000000</td>\n",
       "      <td>57.500000</td>\n",
       "      <td>9.25000</td>\n",
       "      <td>0.025000</td>\n",
       "      <td>0.025000</td>\n",
       "    </tr>\n",
       "    <tr>\n",
       "      <th>max</th>\n",
       "      <td>1000.000000</td>\n",
       "      <td>30720.000000</td>\n",
       "      <td>3000.000000</td>\n",
       "      <td>70.000000</td>\n",
       "      <td>10.00000</td>\n",
       "      <td>0.030000</td>\n",
       "      <td>0.030000</td>\n",
       "    </tr>\n",
       "  </tbody>\n",
       "</table>\n",
       "</div>"
      ],
      "text/plain": [
       "       messages_included  mb_per_month_included  minutes_included  \\\n",
       "count           2.000000               2.000000          2.000000   \n",
       "mean          525.000000           23040.000000       1750.000000   \n",
       "std           671.751442           10861.160159       1767.766953   \n",
       "min            50.000000           15360.000000        500.000000   \n",
       "25%           287.500000           19200.000000       1125.000000   \n",
       "50%           525.000000           23040.000000       1750.000000   \n",
       "75%           762.500000           26880.000000       2375.000000   \n",
       "max          1000.000000           30720.000000       3000.000000   \n",
       "\n",
       "       usd_monthly_pay  usd_per_gb  usd_per_message  usd_per_minute  \n",
       "count         2.000000     2.00000         2.000000        2.000000  \n",
       "mean         45.000000     8.50000         0.020000        0.020000  \n",
       "std          35.355339     2.12132         0.014142        0.014142  \n",
       "min          20.000000     7.00000         0.010000        0.010000  \n",
       "25%          32.500000     7.75000         0.015000        0.015000  \n",
       "50%          45.000000     8.50000         0.020000        0.020000  \n",
       "75%          57.500000     9.25000         0.025000        0.025000  \n",
       "max          70.000000    10.00000         0.030000        0.030000  "
      ]
     },
     "metadata": {},
     "output_type": "display_data"
    },
    {
     "data": {
      "text/plain": [
       "0    False\n",
       "1    False\n",
       "dtype: bool"
      ]
     },
     "metadata": {},
     "output_type": "display_data"
    },
    {
     "data": {
      "text/plain": [
       "messages_included        0\n",
       "mb_per_month_included    0\n",
       "minutes_included         0\n",
       "usd_monthly_pay          0\n",
       "usd_per_gb               0\n",
       "usd_per_message          0\n",
       "usd_per_minute           0\n",
       "plan_name                0\n",
       "dtype: int64"
      ]
     },
     "metadata": {},
     "output_type": "display_data"
    }
   ],
   "source": [
    "# Print a sample of data for plans\n",
    "\n",
    "display(plans.sample(2)) # We used sample() to take a quick view of the data.\n",
    "display(plans.describe()) # We used describe() to check if exist values out of the expected range.\n",
    "display(plans.duplicated()) # We used duplicated() to check for any duplicated value.\n",
    "display(plans.isna().sum()) # We used isna().sum() looking for empty values."
   ]
  },
  {
   "cell_type": "markdown",
   "metadata": {},
   "source": [
    "We use multiple tools to ensure that the data is reliable for continuing the analysis."
   ]
  },
  {
   "cell_type": "markdown",
   "metadata": {},
   "source": [
    " "
   ]
  },
  {
   "cell_type": "markdown",
   "metadata": {},
   "source": [
    "## Fix data"
   ]
  },
  {
   "cell_type": "markdown",
   "metadata": {},
   "source": [
    "[Fix obvious issues with the data given the initial observations.]"
   ]
  },
  {
   "cell_type": "code",
   "execution_count": null,
   "metadata": {},
   "outputs": [],
   "source": []
  },
  {
   "cell_type": "markdown",
   "metadata": {},
   "source": [
    "## Enrich data"
   ]
  },
  {
   "cell_type": "markdown",
   "metadata": {},
   "source": [
    "[Add additional factors to the data if you believe they might be useful.]"
   ]
  },
  {
   "cell_type": "code",
   "execution_count": 4,
   "metadata": {},
   "outputs": [],
   "source": [
    "plans['gb_included'] = (plans['mb_per_month_included'] / 1024).round(2).astype('int') # We add a column called 'gb_included' too round the full amount of net data in Gb.\n"
   ]
  },
  {
   "cell_type": "markdown",
   "metadata": {},
   "source": [
    "## Users"
   ]
  },
  {
   "cell_type": "code",
   "execution_count": 5,
   "metadata": {},
   "outputs": [
    {
     "name": "stdout",
     "output_type": "stream",
     "text": [
      "<class 'pandas.core.frame.DataFrame'>\n",
      "RangeIndex: 500 entries, 0 to 499\n",
      "Data columns (total 8 columns):\n",
      " #   Column      Non-Null Count  Dtype \n",
      "---  ------      --------------  ----- \n",
      " 0   user_id     500 non-null    int64 \n",
      " 1   first_name  500 non-null    object\n",
      " 2   last_name   500 non-null    object\n",
      " 3   age         500 non-null    int64 \n",
      " 4   city        500 non-null    object\n",
      " 5   reg_date    500 non-null    object\n",
      " 6   plan        500 non-null    object\n",
      " 7   churn_date  34 non-null     object\n",
      "dtypes: int64(2), object(6)\n",
      "memory usage: 31.4+ KB\n"
     ]
    }
   ],
   "source": [
    "# Print the general/summary information about the users' DataFrame\n",
    "users.info() # Using info() to display the basic information of the Data frame.\n"
   ]
  },
  {
   "cell_type": "code",
   "execution_count": 6,
   "metadata": {},
   "outputs": [
    {
     "data": {
      "text/html": [
       "<div>\n",
       "<style scoped>\n",
       "    .dataframe tbody tr th:only-of-type {\n",
       "        vertical-align: middle;\n",
       "    }\n",
       "\n",
       "    .dataframe tbody tr th {\n",
       "        vertical-align: top;\n",
       "    }\n",
       "\n",
       "    .dataframe thead th {\n",
       "        text-align: right;\n",
       "    }\n",
       "</style>\n",
       "<table border=\"1\" class=\"dataframe\">\n",
       "  <thead>\n",
       "    <tr style=\"text-align: right;\">\n",
       "      <th></th>\n",
       "      <th>user_id</th>\n",
       "      <th>first_name</th>\n",
       "      <th>last_name</th>\n",
       "      <th>age</th>\n",
       "      <th>city</th>\n",
       "      <th>reg_date</th>\n",
       "      <th>plan</th>\n",
       "      <th>churn_date</th>\n",
       "    </tr>\n",
       "  </thead>\n",
       "  <tbody>\n",
       "    <tr>\n",
       "      <th>281</th>\n",
       "      <td>1281</td>\n",
       "      <td>Zack</td>\n",
       "      <td>Hardy</td>\n",
       "      <td>39</td>\n",
       "      <td>Charlotte-Concord-Gastonia, NC-SC MSA</td>\n",
       "      <td>2018-07-23</td>\n",
       "      <td>surf</td>\n",
       "      <td>2018-11-14</td>\n",
       "    </tr>\n",
       "    <tr>\n",
       "      <th>56</th>\n",
       "      <td>1056</td>\n",
       "      <td>Denis</td>\n",
       "      <td>Chandler</td>\n",
       "      <td>33</td>\n",
       "      <td>Cincinnati, OH-KY-IN MSA</td>\n",
       "      <td>2018-03-01</td>\n",
       "      <td>surf</td>\n",
       "      <td>NaN</td>\n",
       "    </tr>\n",
       "    <tr>\n",
       "      <th>373</th>\n",
       "      <td>1373</td>\n",
       "      <td>Lindsey</td>\n",
       "      <td>Dickerson</td>\n",
       "      <td>21</td>\n",
       "      <td>Minneapolis-St. Paul-Bloomington, MN-WI MSA</td>\n",
       "      <td>2018-08-30</td>\n",
       "      <td>ultimate</td>\n",
       "      <td>NaN</td>\n",
       "    </tr>\n",
       "    <tr>\n",
       "      <th>11</th>\n",
       "      <td>1011</td>\n",
       "      <td>Halina</td>\n",
       "      <td>Henry</td>\n",
       "      <td>73</td>\n",
       "      <td>Cleveland-Elyria, OH MSA</td>\n",
       "      <td>2018-01-18</td>\n",
       "      <td>ultimate</td>\n",
       "      <td>NaN</td>\n",
       "    </tr>\n",
       "    <tr>\n",
       "      <th>483</th>\n",
       "      <td>1483</td>\n",
       "      <td>Miguel</td>\n",
       "      <td>Farrell</td>\n",
       "      <td>35</td>\n",
       "      <td>Chicago-Naperville-Elgin, IL-IN-WI MSA</td>\n",
       "      <td>2018-04-25</td>\n",
       "      <td>surf</td>\n",
       "      <td>NaN</td>\n",
       "    </tr>\n",
       "  </tbody>\n",
       "</table>\n",
       "</div>"
      ],
      "text/plain": [
       "     user_id first_name  last_name  age  \\\n",
       "281     1281       Zack      Hardy   39   \n",
       "56      1056      Denis   Chandler   33   \n",
       "373     1373    Lindsey  Dickerson   21   \n",
       "11      1011     Halina      Henry   73   \n",
       "483     1483     Miguel    Farrell   35   \n",
       "\n",
       "                                            city    reg_date      plan  \\\n",
       "281        Charlotte-Concord-Gastonia, NC-SC MSA  2018-07-23      surf   \n",
       "56                      Cincinnati, OH-KY-IN MSA  2018-03-01      surf   \n",
       "373  Minneapolis-St. Paul-Bloomington, MN-WI MSA  2018-08-30  ultimate   \n",
       "11                      Cleveland-Elyria, OH MSA  2018-01-18  ultimate   \n",
       "483       Chicago-Naperville-Elgin, IL-IN-WI MSA  2018-04-25      surf   \n",
       "\n",
       "     churn_date  \n",
       "281  2018-11-14  \n",
       "56          NaN  \n",
       "373         NaN  \n",
       "11          NaN  \n",
       "483         NaN  "
      ]
     },
     "metadata": {},
     "output_type": "display_data"
    },
    {
     "data": {
      "text/html": [
       "<div>\n",
       "<style scoped>\n",
       "    .dataframe tbody tr th:only-of-type {\n",
       "        vertical-align: middle;\n",
       "    }\n",
       "\n",
       "    .dataframe tbody tr th {\n",
       "        vertical-align: top;\n",
       "    }\n",
       "\n",
       "    .dataframe thead th {\n",
       "        text-align: right;\n",
       "    }\n",
       "</style>\n",
       "<table border=\"1\" class=\"dataframe\">\n",
       "  <thead>\n",
       "    <tr style=\"text-align: right;\">\n",
       "      <th></th>\n",
       "      <th>user_id</th>\n",
       "      <th>age</th>\n",
       "    </tr>\n",
       "  </thead>\n",
       "  <tbody>\n",
       "    <tr>\n",
       "      <th>count</th>\n",
       "      <td>500.000000</td>\n",
       "      <td>500.000000</td>\n",
       "    </tr>\n",
       "    <tr>\n",
       "      <th>mean</th>\n",
       "      <td>1249.500000</td>\n",
       "      <td>45.486000</td>\n",
       "    </tr>\n",
       "    <tr>\n",
       "      <th>std</th>\n",
       "      <td>144.481833</td>\n",
       "      <td>16.972269</td>\n",
       "    </tr>\n",
       "    <tr>\n",
       "      <th>min</th>\n",
       "      <td>1000.000000</td>\n",
       "      <td>18.000000</td>\n",
       "    </tr>\n",
       "    <tr>\n",
       "      <th>25%</th>\n",
       "      <td>1124.750000</td>\n",
       "      <td>30.000000</td>\n",
       "    </tr>\n",
       "    <tr>\n",
       "      <th>50%</th>\n",
       "      <td>1249.500000</td>\n",
       "      <td>46.000000</td>\n",
       "    </tr>\n",
       "    <tr>\n",
       "      <th>75%</th>\n",
       "      <td>1374.250000</td>\n",
       "      <td>61.000000</td>\n",
       "    </tr>\n",
       "    <tr>\n",
       "      <th>max</th>\n",
       "      <td>1499.000000</td>\n",
       "      <td>75.000000</td>\n",
       "    </tr>\n",
       "  </tbody>\n",
       "</table>\n",
       "</div>"
      ],
      "text/plain": [
       "           user_id         age\n",
       "count   500.000000  500.000000\n",
       "mean   1249.500000   45.486000\n",
       "std     144.481833   16.972269\n",
       "min    1000.000000   18.000000\n",
       "25%    1124.750000   30.000000\n",
       "50%    1249.500000   46.000000\n",
       "75%    1374.250000   61.000000\n",
       "max    1499.000000   75.000000"
      ]
     },
     "metadata": {},
     "output_type": "display_data"
    },
    {
     "data": {
      "text/plain": [
       "0      False\n",
       "1      False\n",
       "2      False\n",
       "3      False\n",
       "4      False\n",
       "       ...  \n",
       "495    False\n",
       "496    False\n",
       "497    False\n",
       "498    False\n",
       "499    False\n",
       "Length: 500, dtype: bool"
      ]
     },
     "metadata": {},
     "output_type": "display_data"
    },
    {
     "data": {
      "text/plain": [
       "user_id         0\n",
       "first_name      0\n",
       "last_name       0\n",
       "age             0\n",
       "city            0\n",
       "reg_date        0\n",
       "plan            0\n",
       "churn_date    466\n",
       "dtype: int64"
      ]
     },
     "metadata": {},
     "output_type": "display_data"
    }
   ],
   "source": [
    "# Print a sample of data for users\n",
    "display(users.sample(5)) # We used sample() for take a quick view of the data.\n",
    "display(users.describe()) # We used describe() for check if exist values out of the expected range.\n",
    "display(users.duplicated()) # We used duplicated()to check for any duplicated value.\n",
    "display(users.isna().sum()) # We used isna().sum() looking for empty values."
   ]
  },
  {
   "cell_type": "markdown",
   "metadata": {},
   "source": [
    "- The reg_date and churn_date columns were initially of type object instead of datetime.\n",
    "- We converted them using pd.to_datetime() to enable proper date operations.\n",
    "\n",
    "- The city column contained long metro area names like \"New York-Newark-Jersey City, NY-NJ-PA MSA\".\n",
    "- We split it into city_name and state_code for easier analysis and cleaner visualizations\n"
   ]
  },
  {
   "cell_type": "markdown",
   "metadata": {},
   "source": [
    " "
   ]
  },
  {
   "cell_type": "markdown",
   "metadata": {},
   "source": [
    "### Fix Data"
   ]
  },
  {
   "cell_type": "markdown",
   "metadata": {},
   "source": [
    "[Fix obvious issues with the data given the initial observations.]"
   ]
  },
  {
   "cell_type": "code",
   "execution_count": 7,
   "metadata": {},
   "outputs": [],
   "source": [
    "users['churn_date'] = pd.to_datetime(users['churn_date']) # We use datetime for change the data type from objetc to datetime.\n",
    "users['reg_date'] = pd.to_datetime(users['reg_date'])\n"
   ]
  },
  {
   "cell_type": "markdown",
   "metadata": {},
   "source": [
    "### Enrich Data"
   ]
  },
  {
   "cell_type": "markdown",
   "metadata": {},
   "source": [
    "[Add additional factors to the data if you believe they might be useful.]"
   ]
  },
  {
   "cell_type": "code",
   "execution_count": 8,
   "metadata": {},
   "outputs": [
    {
     "data": {
      "text/html": [
       "<div>\n",
       "<style scoped>\n",
       "    .dataframe tbody tr th:only-of-type {\n",
       "        vertical-align: middle;\n",
       "    }\n",
       "\n",
       "    .dataframe tbody tr th {\n",
       "        vertical-align: top;\n",
       "    }\n",
       "\n",
       "    .dataframe thead th {\n",
       "        text-align: right;\n",
       "    }\n",
       "</style>\n",
       "<table border=\"1\" class=\"dataframe\">\n",
       "  <thead>\n",
       "    <tr style=\"text-align: right;\">\n",
       "      <th></th>\n",
       "      <th>user_id</th>\n",
       "      <th>first_name</th>\n",
       "      <th>last_name</th>\n",
       "      <th>age</th>\n",
       "      <th>city_name</th>\n",
       "      <th>state_info</th>\n",
       "      <th>reg_date</th>\n",
       "      <th>plan</th>\n",
       "      <th>churn_date</th>\n",
       "    </tr>\n",
       "  </thead>\n",
       "  <tbody>\n",
       "    <tr>\n",
       "      <th>0</th>\n",
       "      <td>1000</td>\n",
       "      <td>Anamaria</td>\n",
       "      <td>Bauer</td>\n",
       "      <td>45</td>\n",
       "      <td>Atlanta-Sandy Springs-Roswell</td>\n",
       "      <td>GA MSA</td>\n",
       "      <td>2018-12-24</td>\n",
       "      <td>ultimate</td>\n",
       "      <td>NaT</td>\n",
       "    </tr>\n",
       "    <tr>\n",
       "      <th>1</th>\n",
       "      <td>1001</td>\n",
       "      <td>Mickey</td>\n",
       "      <td>Wilkerson</td>\n",
       "      <td>28</td>\n",
       "      <td>Seattle-Tacoma-Bellevue</td>\n",
       "      <td>WA MSA</td>\n",
       "      <td>2018-08-13</td>\n",
       "      <td>surf</td>\n",
       "      <td>NaT</td>\n",
       "    </tr>\n",
       "    <tr>\n",
       "      <th>2</th>\n",
       "      <td>1002</td>\n",
       "      <td>Carlee</td>\n",
       "      <td>Hoffman</td>\n",
       "      <td>36</td>\n",
       "      <td>Las Vegas-Henderson-Paradise</td>\n",
       "      <td>NV MSA</td>\n",
       "      <td>2018-10-21</td>\n",
       "      <td>surf</td>\n",
       "      <td>NaT</td>\n",
       "    </tr>\n",
       "    <tr>\n",
       "      <th>3</th>\n",
       "      <td>1003</td>\n",
       "      <td>Reynaldo</td>\n",
       "      <td>Jenkins</td>\n",
       "      <td>52</td>\n",
       "      <td>Tulsa</td>\n",
       "      <td>OK MSA</td>\n",
       "      <td>2018-01-28</td>\n",
       "      <td>surf</td>\n",
       "      <td>NaT</td>\n",
       "    </tr>\n",
       "    <tr>\n",
       "      <th>4</th>\n",
       "      <td>1004</td>\n",
       "      <td>Leonila</td>\n",
       "      <td>Thompson</td>\n",
       "      <td>40</td>\n",
       "      <td>Seattle-Tacoma-Bellevue</td>\n",
       "      <td>WA MSA</td>\n",
       "      <td>2018-05-23</td>\n",
       "      <td>surf</td>\n",
       "      <td>NaT</td>\n",
       "    </tr>\n",
       "  </tbody>\n",
       "</table>\n",
       "</div>"
      ],
      "text/plain": [
       "   user_id first_name  last_name  age                      city_name  \\\n",
       "0     1000   Anamaria      Bauer   45  Atlanta-Sandy Springs-Roswell   \n",
       "1     1001     Mickey  Wilkerson   28        Seattle-Tacoma-Bellevue   \n",
       "2     1002     Carlee    Hoffman   36   Las Vegas-Henderson-Paradise   \n",
       "3     1003   Reynaldo    Jenkins   52                          Tulsa   \n",
       "4     1004    Leonila   Thompson   40        Seattle-Tacoma-Bellevue   \n",
       "\n",
       "  state_info   reg_date      plan churn_date  \n",
       "0     GA MSA 2018-12-24  ultimate        NaT  \n",
       "1     WA MSA 2018-08-13      surf        NaT  \n",
       "2     NV MSA 2018-10-21      surf        NaT  \n",
       "3     OK MSA 2018-01-28      surf        NaT  \n",
       "4     WA MSA 2018-05-23      surf        NaT  "
      ]
     },
     "execution_count": 8,
     "metadata": {},
     "output_type": "execute_result"
    }
   ],
   "source": [
    "users[['city_name', 'state_info']] = users['city'].str.split(', ', expand=True) # Creating 2 new columns to improve the clarity of the data\n",
    "users.insert(5, 'city_name', users.pop('city_name')) # Relocating the position of the 2 new columns.\n",
    "users.insert(6, 'state_info', users.pop('state_info'))\n",
    "users = users.drop(columns='city') # Droping the columns city\n",
    "users.head()\n"
   ]
  },
  {
   "cell_type": "markdown",
   "metadata": {},
   "source": [
    "## Calls"
   ]
  },
  {
   "cell_type": "code",
   "execution_count": 9,
   "metadata": {},
   "outputs": [
    {
     "name": "stdout",
     "output_type": "stream",
     "text": [
      "<class 'pandas.core.frame.DataFrame'>\n",
      "RangeIndex: 137735 entries, 0 to 137734\n",
      "Data columns (total 4 columns):\n",
      " #   Column     Non-Null Count   Dtype  \n",
      "---  ------     --------------   -----  \n",
      " 0   id         137735 non-null  object \n",
      " 1   user_id    137735 non-null  int64  \n",
      " 2   call_date  137735 non-null  object \n",
      " 3   duration   137735 non-null  float64\n",
      "dtypes: float64(1), int64(1), object(2)\n",
      "memory usage: 4.2+ MB\n"
     ]
    }
   ],
   "source": [
    "# Print the general/summary information about the calls' DataFrame\n",
    "calls.info()"
   ]
  },
  {
   "cell_type": "code",
   "execution_count": 10,
   "metadata": {},
   "outputs": [
    {
     "data": {
      "text/html": [
       "<div>\n",
       "<style scoped>\n",
       "    .dataframe tbody tr th:only-of-type {\n",
       "        vertical-align: middle;\n",
       "    }\n",
       "\n",
       "    .dataframe tbody tr th {\n",
       "        vertical-align: top;\n",
       "    }\n",
       "\n",
       "    .dataframe thead th {\n",
       "        text-align: right;\n",
       "    }\n",
       "</style>\n",
       "<table border=\"1\" class=\"dataframe\">\n",
       "  <thead>\n",
       "    <tr style=\"text-align: right;\">\n",
       "      <th></th>\n",
       "      <th>id</th>\n",
       "      <th>user_id</th>\n",
       "      <th>call_date</th>\n",
       "      <th>duration</th>\n",
       "    </tr>\n",
       "  </thead>\n",
       "  <tbody>\n",
       "    <tr>\n",
       "      <th>136805</th>\n",
       "      <td>1495_261</td>\n",
       "      <td>1495</td>\n",
       "      <td>2018-11-21</td>\n",
       "      <td>17.34</td>\n",
       "    </tr>\n",
       "    <tr>\n",
       "      <th>134490</th>\n",
       "      <td>1488_736</td>\n",
       "      <td>1488</td>\n",
       "      <td>2018-11-06</td>\n",
       "      <td>12.26</td>\n",
       "    </tr>\n",
       "    <tr>\n",
       "      <th>9765</th>\n",
       "      <td>1044_8</td>\n",
       "      <td>1044</td>\n",
       "      <td>2018-11-03</td>\n",
       "      <td>5.24</td>\n",
       "    </tr>\n",
       "    <tr>\n",
       "      <th>42690</th>\n",
       "      <td>1156_295</td>\n",
       "      <td>1156</td>\n",
       "      <td>2018-07-30</td>\n",
       "      <td>8.92</td>\n",
       "    </tr>\n",
       "    <tr>\n",
       "      <th>42514</th>\n",
       "      <td>1156_119</td>\n",
       "      <td>1156</td>\n",
       "      <td>2018-09-09</td>\n",
       "      <td>1.39</td>\n",
       "    </tr>\n",
       "  </tbody>\n",
       "</table>\n",
       "</div>"
      ],
      "text/plain": [
       "              id  user_id   call_date  duration\n",
       "136805  1495_261     1495  2018-11-21     17.34\n",
       "134490  1488_736     1488  2018-11-06     12.26\n",
       "9765      1044_8     1044  2018-11-03      5.24\n",
       "42690   1156_295     1156  2018-07-30      8.92\n",
       "42514   1156_119     1156  2018-09-09      1.39"
      ]
     },
     "metadata": {},
     "output_type": "display_data"
    },
    {
     "data": {
      "text/html": [
       "<div>\n",
       "<style scoped>\n",
       "    .dataframe tbody tr th:only-of-type {\n",
       "        vertical-align: middle;\n",
       "    }\n",
       "\n",
       "    .dataframe tbody tr th {\n",
       "        vertical-align: top;\n",
       "    }\n",
       "\n",
       "    .dataframe thead th {\n",
       "        text-align: right;\n",
       "    }\n",
       "</style>\n",
       "<table border=\"1\" class=\"dataframe\">\n",
       "  <thead>\n",
       "    <tr style=\"text-align: right;\">\n",
       "      <th></th>\n",
       "      <th>user_id</th>\n",
       "      <th>duration</th>\n",
       "    </tr>\n",
       "  </thead>\n",
       "  <tbody>\n",
       "    <tr>\n",
       "      <th>count</th>\n",
       "      <td>137735.000000</td>\n",
       "      <td>137735.000000</td>\n",
       "    </tr>\n",
       "    <tr>\n",
       "      <th>mean</th>\n",
       "      <td>1247.658046</td>\n",
       "      <td>6.745927</td>\n",
       "    </tr>\n",
       "    <tr>\n",
       "      <th>std</th>\n",
       "      <td>139.416268</td>\n",
       "      <td>5.839241</td>\n",
       "    </tr>\n",
       "    <tr>\n",
       "      <th>min</th>\n",
       "      <td>1000.000000</td>\n",
       "      <td>0.000000</td>\n",
       "    </tr>\n",
       "    <tr>\n",
       "      <th>25%</th>\n",
       "      <td>1128.000000</td>\n",
       "      <td>1.290000</td>\n",
       "    </tr>\n",
       "    <tr>\n",
       "      <th>50%</th>\n",
       "      <td>1247.000000</td>\n",
       "      <td>5.980000</td>\n",
       "    </tr>\n",
       "    <tr>\n",
       "      <th>75%</th>\n",
       "      <td>1365.000000</td>\n",
       "      <td>10.690000</td>\n",
       "    </tr>\n",
       "    <tr>\n",
       "      <th>max</th>\n",
       "      <td>1499.000000</td>\n",
       "      <td>37.600000</td>\n",
       "    </tr>\n",
       "  </tbody>\n",
       "</table>\n",
       "</div>"
      ],
      "text/plain": [
       "             user_id       duration\n",
       "count  137735.000000  137735.000000\n",
       "mean     1247.658046       6.745927\n",
       "std       139.416268       5.839241\n",
       "min      1000.000000       0.000000\n",
       "25%      1128.000000       1.290000\n",
       "50%      1247.000000       5.980000\n",
       "75%      1365.000000      10.690000\n",
       "max      1499.000000      37.600000"
      ]
     },
     "metadata": {},
     "output_type": "display_data"
    },
    {
     "data": {
      "text/plain": [
       "0         False\n",
       "1         False\n",
       "2         False\n",
       "3         False\n",
       "4         False\n",
       "          ...  \n",
       "137730    False\n",
       "137731    False\n",
       "137732    False\n",
       "137733    False\n",
       "137734    False\n",
       "Length: 137735, dtype: bool"
      ]
     },
     "metadata": {},
     "output_type": "display_data"
    },
    {
     "data": {
      "text/plain": [
       "id           0\n",
       "user_id      0\n",
       "call_date    0\n",
       "duration     0\n",
       "dtype: int64"
      ]
     },
     "metadata": {},
     "output_type": "display_data"
    }
   ],
   "source": [
    "# Print a sample of data for calls\n",
    "\n",
    "display(calls.sample(5)) # We used sample() for take a quick view of the data.\n",
    "display(calls.describe()) # We used describe() for check if exist values out of the expected range.\n",
    "display(calls.duplicated()) # We used duplicated()to check for any duplicated value.\n",
    "display(calls.isna().sum()) # We used isna().sum() looking for empty values.\n"
   ]
  },
  {
   "cell_type": "markdown",
   "metadata": {},
   "source": [
    "- Converted call_date to datetime for easier date-based analysis.\n",
    "\n",
    "- Removed underscores (_) from the id column to simplify identifiers.\n",
    "\n",
    "- Created a new column duration_rounded by applying np.ceil() to duration, rounding up each call to the nearest full minute   according to billing rules."
   ]
  },
  {
   "cell_type": "markdown",
   "metadata": {},
   "source": [
    " "
   ]
  },
  {
   "cell_type": "markdown",
   "metadata": {},
   "source": [
    "### Fix data"
   ]
  },
  {
   "cell_type": "markdown",
   "metadata": {},
   "source": [
    "[Fix obvious issues with the data given the initial observations.]"
   ]
  },
  {
   "cell_type": "code",
   "execution_count": 11,
   "metadata": {},
   "outputs": [],
   "source": [
    "calls['id'] = calls['id'].str.replace('_', '', regex=False) # We remove all the '_' in the ID numbers.\n",
    "calls['duration_rounded'] = np.ceil(calls['duration']).astype('int') # We use ceil() to round up the duration, we use astype() to convert the values in intergers for further analysis."
   ]
  },
  {
   "cell_type": "markdown",
   "metadata": {},
   "source": [
    "### Enrich data"
   ]
  },
  {
   "cell_type": "markdown",
   "metadata": {},
   "source": [
    "[Add additional factors to the data if you believe they might be useful.]"
   ]
  },
  {
   "cell_type": "code",
   "execution_count": 12,
   "metadata": {},
   "outputs": [
    {
     "data": {
      "text/html": [
       "<div>\n",
       "<style scoped>\n",
       "    .dataframe tbody tr th:only-of-type {\n",
       "        vertical-align: middle;\n",
       "    }\n",
       "\n",
       "    .dataframe tbody tr th {\n",
       "        vertical-align: top;\n",
       "    }\n",
       "\n",
       "    .dataframe thead th {\n",
       "        text-align: right;\n",
       "    }\n",
       "</style>\n",
       "<table border=\"1\" class=\"dataframe\">\n",
       "  <thead>\n",
       "    <tr style=\"text-align: right;\">\n",
       "      <th></th>\n",
       "      <th>id</th>\n",
       "      <th>user_id</th>\n",
       "      <th>call_date</th>\n",
       "      <th>duration</th>\n",
       "      <th>duration_rounded</th>\n",
       "      <th>month</th>\n",
       "    </tr>\n",
       "  </thead>\n",
       "  <tbody>\n",
       "    <tr>\n",
       "      <th>47181</th>\n",
       "      <td>1171212</td>\n",
       "      <td>1171</td>\n",
       "      <td>2018-02-18</td>\n",
       "      <td>11.04</td>\n",
       "      <td>12</td>\n",
       "      <td>2018-02</td>\n",
       "    </tr>\n",
       "    <tr>\n",
       "      <th>21377</th>\n",
       "      <td>107990</td>\n",
       "      <td>1079</td>\n",
       "      <td>2018-09-20</td>\n",
       "      <td>0.00</td>\n",
       "      <td>0</td>\n",
       "      <td>2018-09</td>\n",
       "    </tr>\n",
       "    <tr>\n",
       "      <th>36783</th>\n",
       "      <td>114067</td>\n",
       "      <td>1140</td>\n",
       "      <td>2018-11-07</td>\n",
       "      <td>8.12</td>\n",
       "      <td>9</td>\n",
       "      <td>2018-11</td>\n",
       "    </tr>\n",
       "    <tr>\n",
       "      <th>77238</th>\n",
       "      <td>1277314</td>\n",
       "      <td>1277</td>\n",
       "      <td>2018-12-22</td>\n",
       "      <td>7.09</td>\n",
       "      <td>8</td>\n",
       "      <td>2018-12</td>\n",
       "    </tr>\n",
       "    <tr>\n",
       "      <th>61458</th>\n",
       "      <td>1222105</td>\n",
       "      <td>1222</td>\n",
       "      <td>2018-12-04</td>\n",
       "      <td>9.39</td>\n",
       "      <td>10</td>\n",
       "      <td>2018-12</td>\n",
       "    </tr>\n",
       "  </tbody>\n",
       "</table>\n",
       "</div>"
      ],
      "text/plain": [
       "            id  user_id  call_date  duration  duration_rounded    month\n",
       "47181  1171212     1171 2018-02-18     11.04                12  2018-02\n",
       "21377   107990     1079 2018-09-20      0.00                 0  2018-09\n",
       "36783   114067     1140 2018-11-07      8.12                 9  2018-11\n",
       "77238  1277314     1277 2018-12-22      7.09                 8  2018-12\n",
       "61458  1222105     1222 2018-12-04      9.39                10  2018-12"
      ]
     },
     "execution_count": 12,
     "metadata": {},
     "output_type": "execute_result"
    }
   ],
   "source": [
    "calls['call_date'] = pd.to_datetime(calls['call_date'])  # We use datetime for change the data type from objetc to datetime.\n",
    "calls['month'] = calls['call_date'].dt.to_period('M') # We created the \"month\" column, will be usefull late when we want to calculte the minute\n",
    "calls.sample(5)"
   ]
  },
  {
   "cell_type": "markdown",
   "metadata": {},
   "source": [
    "## Messages"
   ]
  },
  {
   "cell_type": "code",
   "execution_count": 13,
   "metadata": {},
   "outputs": [
    {
     "name": "stdout",
     "output_type": "stream",
     "text": [
      "<class 'pandas.core.frame.DataFrame'>\n",
      "RangeIndex: 76051 entries, 0 to 76050\n",
      "Data columns (total 3 columns):\n",
      " #   Column        Non-Null Count  Dtype \n",
      "---  ------        --------------  ----- \n",
      " 0   id            76051 non-null  object\n",
      " 1   user_id       76051 non-null  int64 \n",
      " 2   message_date  76051 non-null  object\n",
      "dtypes: int64(1), object(2)\n",
      "memory usage: 1.7+ MB\n"
     ]
    }
   ],
   "source": [
    "# Print the general/summary information about the messages' DataFrame\n",
    "messages.info()\n"
   ]
  },
  {
   "cell_type": "code",
   "execution_count": 14,
   "metadata": {},
   "outputs": [
    {
     "data": {
      "text/html": [
       "<div>\n",
       "<style scoped>\n",
       "    .dataframe tbody tr th:only-of-type {\n",
       "        vertical-align: middle;\n",
       "    }\n",
       "\n",
       "    .dataframe tbody tr th {\n",
       "        vertical-align: top;\n",
       "    }\n",
       "\n",
       "    .dataframe thead th {\n",
       "        text-align: right;\n",
       "    }\n",
       "</style>\n",
       "<table border=\"1\" class=\"dataframe\">\n",
       "  <thead>\n",
       "    <tr style=\"text-align: right;\">\n",
       "      <th></th>\n",
       "      <th>id</th>\n",
       "      <th>user_id</th>\n",
       "      <th>message_date</th>\n",
       "    </tr>\n",
       "  </thead>\n",
       "  <tbody>\n",
       "    <tr>\n",
       "      <th>31988</th>\n",
       "      <td>1199_98</td>\n",
       "      <td>1199</td>\n",
       "      <td>2018-09-23</td>\n",
       "    </tr>\n",
       "    <tr>\n",
       "      <th>61894</th>\n",
       "      <td>1386_8</td>\n",
       "      <td>1386</td>\n",
       "      <td>2018-11-20</td>\n",
       "    </tr>\n",
       "    <tr>\n",
       "      <th>13385</th>\n",
       "      <td>1088_399</td>\n",
       "      <td>1088</td>\n",
       "      <td>2018-12-28</td>\n",
       "    </tr>\n",
       "    <tr>\n",
       "      <th>54685</th>\n",
       "      <td>1346_188</td>\n",
       "      <td>1346</td>\n",
       "      <td>2018-07-28</td>\n",
       "    </tr>\n",
       "    <tr>\n",
       "      <th>63847</th>\n",
       "      <td>1407_67</td>\n",
       "      <td>1407</td>\n",
       "      <td>2018-12-07</td>\n",
       "    </tr>\n",
       "  </tbody>\n",
       "</table>\n",
       "</div>"
      ],
      "text/plain": [
       "             id  user_id message_date\n",
       "31988   1199_98     1199   2018-09-23\n",
       "61894    1386_8     1386   2018-11-20\n",
       "13385  1088_399     1088   2018-12-28\n",
       "54685  1346_188     1346   2018-07-28\n",
       "63847   1407_67     1407   2018-12-07"
      ]
     },
     "metadata": {},
     "output_type": "display_data"
    },
    {
     "data": {
      "text/html": [
       "<div>\n",
       "<style scoped>\n",
       "    .dataframe tbody tr th:only-of-type {\n",
       "        vertical-align: middle;\n",
       "    }\n",
       "\n",
       "    .dataframe tbody tr th {\n",
       "        vertical-align: top;\n",
       "    }\n",
       "\n",
       "    .dataframe thead th {\n",
       "        text-align: right;\n",
       "    }\n",
       "</style>\n",
       "<table border=\"1\" class=\"dataframe\">\n",
       "  <thead>\n",
       "    <tr style=\"text-align: right;\">\n",
       "      <th></th>\n",
       "      <th>user_id</th>\n",
       "    </tr>\n",
       "  </thead>\n",
       "  <tbody>\n",
       "    <tr>\n",
       "      <th>count</th>\n",
       "      <td>76051.000000</td>\n",
       "    </tr>\n",
       "    <tr>\n",
       "      <th>mean</th>\n",
       "      <td>1245.972768</td>\n",
       "    </tr>\n",
       "    <tr>\n",
       "      <th>std</th>\n",
       "      <td>139.843635</td>\n",
       "    </tr>\n",
       "    <tr>\n",
       "      <th>min</th>\n",
       "      <td>1000.000000</td>\n",
       "    </tr>\n",
       "    <tr>\n",
       "      <th>25%</th>\n",
       "      <td>1123.000000</td>\n",
       "    </tr>\n",
       "    <tr>\n",
       "      <th>50%</th>\n",
       "      <td>1251.000000</td>\n",
       "    </tr>\n",
       "    <tr>\n",
       "      <th>75%</th>\n",
       "      <td>1362.000000</td>\n",
       "    </tr>\n",
       "    <tr>\n",
       "      <th>max</th>\n",
       "      <td>1497.000000</td>\n",
       "    </tr>\n",
       "  </tbody>\n",
       "</table>\n",
       "</div>"
      ],
      "text/plain": [
       "            user_id\n",
       "count  76051.000000\n",
       "mean    1245.972768\n",
       "std      139.843635\n",
       "min     1000.000000\n",
       "25%     1123.000000\n",
       "50%     1251.000000\n",
       "75%     1362.000000\n",
       "max     1497.000000"
      ]
     },
     "metadata": {},
     "output_type": "display_data"
    },
    {
     "data": {
      "text/plain": [
       "0        False\n",
       "1        False\n",
       "2        False\n",
       "3        False\n",
       "4        False\n",
       "         ...  \n",
       "76046    False\n",
       "76047    False\n",
       "76048    False\n",
       "76049    False\n",
       "76050    False\n",
       "Length: 76051, dtype: bool"
      ]
     },
     "metadata": {},
     "output_type": "display_data"
    },
    {
     "data": {
      "text/plain": [
       "id              0\n",
       "user_id         0\n",
       "message_date    0\n",
       "dtype: int64"
      ]
     },
     "metadata": {},
     "output_type": "display_data"
    }
   ],
   "source": [
    "# Print a sample of data for messages\n",
    "\n",
    "display(messages.sample(5)) # We used sample() for take a quick view of the data.\n",
    "display(messages.describe()) # We used describe() for check if exist values out of the expected range.\n",
    "display(messages.duplicated()) # We used duplicated()to check for any duplicated value.\n",
    "display(messages.isna().sum()) # We used isna().sum() looking for empty values."
   ]
  },
  {
   "cell_type": "markdown",
   "metadata": {},
   "source": [
    "- Removed underscores from the `id` column to simplify identifiers.\n",
    "- Converted `message_date` to `datetime` to enable time-based operations.\n",
    "- Created a `month` column to group and analyze messages by month per user."
   ]
  },
  {
   "cell_type": "markdown",
   "metadata": {},
   "source": [
    " "
   ]
  },
  {
   "cell_type": "markdown",
   "metadata": {},
   "source": [
    "### Fix data"
   ]
  },
  {
   "cell_type": "markdown",
   "metadata": {},
   "source": [
    "[Fix obvious issues with the data given the initial observations.]"
   ]
  },
  {
   "cell_type": "code",
   "execution_count": 15,
   "metadata": {},
   "outputs": [],
   "source": [
    "messages['message_date'] = pd.to_datetime(messages['message_date'])\n",
    "messages['id'] = messages['id'].str.replace('_', '', regex=False)\n"
   ]
  },
  {
   "cell_type": "markdown",
   "metadata": {},
   "source": [
    "### Enrich data"
   ]
  },
  {
   "cell_type": "markdown",
   "metadata": {},
   "source": [
    "[Add additional factors to the data if you believe they might be useful.]"
   ]
  },
  {
   "cell_type": "code",
   "execution_count": 16,
   "metadata": {},
   "outputs": [
    {
     "data": {
      "text/html": [
       "<div>\n",
       "<style scoped>\n",
       "    .dataframe tbody tr th:only-of-type {\n",
       "        vertical-align: middle;\n",
       "    }\n",
       "\n",
       "    .dataframe tbody tr th {\n",
       "        vertical-align: top;\n",
       "    }\n",
       "\n",
       "    .dataframe thead th {\n",
       "        text-align: right;\n",
       "    }\n",
       "</style>\n",
       "<table border=\"1\" class=\"dataframe\">\n",
       "  <thead>\n",
       "    <tr style=\"text-align: right;\">\n",
       "      <th></th>\n",
       "      <th>id</th>\n",
       "      <th>user_id</th>\n",
       "      <th>message_date</th>\n",
       "      <th>month</th>\n",
       "    </tr>\n",
       "  </thead>\n",
       "  <tbody>\n",
       "    <tr>\n",
       "      <th>0</th>\n",
       "      <td>1000125</td>\n",
       "      <td>1000</td>\n",
       "      <td>2018-12-27</td>\n",
       "      <td>2018-12</td>\n",
       "    </tr>\n",
       "    <tr>\n",
       "      <th>1</th>\n",
       "      <td>1000160</td>\n",
       "      <td>1000</td>\n",
       "      <td>2018-12-31</td>\n",
       "      <td>2018-12</td>\n",
       "    </tr>\n",
       "    <tr>\n",
       "      <th>2</th>\n",
       "      <td>1000223</td>\n",
       "      <td>1000</td>\n",
       "      <td>2018-12-31</td>\n",
       "      <td>2018-12</td>\n",
       "    </tr>\n",
       "    <tr>\n",
       "      <th>3</th>\n",
       "      <td>1000251</td>\n",
       "      <td>1000</td>\n",
       "      <td>2018-12-27</td>\n",
       "      <td>2018-12</td>\n",
       "    </tr>\n",
       "    <tr>\n",
       "      <th>4</th>\n",
       "      <td>1000255</td>\n",
       "      <td>1000</td>\n",
       "      <td>2018-12-26</td>\n",
       "      <td>2018-12</td>\n",
       "    </tr>\n",
       "  </tbody>\n",
       "</table>\n",
       "</div>"
      ],
      "text/plain": [
       "        id  user_id message_date    month\n",
       "0  1000125     1000   2018-12-27  2018-12\n",
       "1  1000160     1000   2018-12-31  2018-12\n",
       "2  1000223     1000   2018-12-31  2018-12\n",
       "3  1000251     1000   2018-12-27  2018-12\n",
       "4  1000255     1000   2018-12-26  2018-12"
      ]
     },
     "execution_count": 16,
     "metadata": {},
     "output_type": "execute_result"
    }
   ],
   "source": [
    "messages['month'] = messages['message_date'].dt.to_period('M')\n",
    "messages.head()"
   ]
  },
  {
   "cell_type": "markdown",
   "metadata": {},
   "source": [
    "## Internet"
   ]
  },
  {
   "cell_type": "code",
   "execution_count": 17,
   "metadata": {},
   "outputs": [
    {
     "name": "stdout",
     "output_type": "stream",
     "text": [
      "<class 'pandas.core.frame.DataFrame'>\n",
      "RangeIndex: 104825 entries, 0 to 104824\n",
      "Data columns (total 4 columns):\n",
      " #   Column        Non-Null Count   Dtype  \n",
      "---  ------        --------------   -----  \n",
      " 0   id            104825 non-null  object \n",
      " 1   user_id       104825 non-null  int64  \n",
      " 2   session_date  104825 non-null  object \n",
      " 3   mb_used       104825 non-null  float64\n",
      "dtypes: float64(1), int64(1), object(2)\n",
      "memory usage: 3.2+ MB\n"
     ]
    }
   ],
   "source": [
    "# Print the general/summary information about the internet DataFrame\n",
    "\n",
    "net.info()\n"
   ]
  },
  {
   "cell_type": "code",
   "execution_count": 18,
   "metadata": {},
   "outputs": [
    {
     "data": {
      "text/html": [
       "<div>\n",
       "<style scoped>\n",
       "    .dataframe tbody tr th:only-of-type {\n",
       "        vertical-align: middle;\n",
       "    }\n",
       "\n",
       "    .dataframe tbody tr th {\n",
       "        vertical-align: top;\n",
       "    }\n",
       "\n",
       "    .dataframe thead th {\n",
       "        text-align: right;\n",
       "    }\n",
       "</style>\n",
       "<table border=\"1\" class=\"dataframe\">\n",
       "  <thead>\n",
       "    <tr style=\"text-align: right;\">\n",
       "      <th></th>\n",
       "      <th>id</th>\n",
       "      <th>user_id</th>\n",
       "      <th>session_date</th>\n",
       "      <th>mb_used</th>\n",
       "    </tr>\n",
       "  </thead>\n",
       "  <tbody>\n",
       "    <tr>\n",
       "      <th>3700</th>\n",
       "      <td>1022_111</td>\n",
       "      <td>1022</td>\n",
       "      <td>2018-08-03</td>\n",
       "      <td>0.00</td>\n",
       "    </tr>\n",
       "    <tr>\n",
       "      <th>72102</th>\n",
       "      <td>1336_116</td>\n",
       "      <td>1336</td>\n",
       "      <td>2018-10-26</td>\n",
       "      <td>180.41</td>\n",
       "    </tr>\n",
       "    <tr>\n",
       "      <th>55026</th>\n",
       "      <td>1249_249</td>\n",
       "      <td>1249</td>\n",
       "      <td>2018-08-31</td>\n",
       "      <td>649.77</td>\n",
       "    </tr>\n",
       "    <tr>\n",
       "      <th>75537</th>\n",
       "      <td>1355_270</td>\n",
       "      <td>1355</td>\n",
       "      <td>2018-12-15</td>\n",
       "      <td>257.57</td>\n",
       "    </tr>\n",
       "    <tr>\n",
       "      <th>92645</th>\n",
       "      <td>1433_29</td>\n",
       "      <td>1433</td>\n",
       "      <td>2018-11-21</td>\n",
       "      <td>490.84</td>\n",
       "    </tr>\n",
       "  </tbody>\n",
       "</table>\n",
       "</div>"
      ],
      "text/plain": [
       "             id  user_id session_date  mb_used\n",
       "3700   1022_111     1022   2018-08-03     0.00\n",
       "72102  1336_116     1336   2018-10-26   180.41\n",
       "55026  1249_249     1249   2018-08-31   649.77\n",
       "75537  1355_270     1355   2018-12-15   257.57\n",
       "92645   1433_29     1433   2018-11-21   490.84"
      ]
     },
     "metadata": {},
     "output_type": "display_data"
    },
    {
     "data": {
      "text/html": [
       "<div>\n",
       "<style scoped>\n",
       "    .dataframe tbody tr th:only-of-type {\n",
       "        vertical-align: middle;\n",
       "    }\n",
       "\n",
       "    .dataframe tbody tr th {\n",
       "        vertical-align: top;\n",
       "    }\n",
       "\n",
       "    .dataframe thead th {\n",
       "        text-align: right;\n",
       "    }\n",
       "</style>\n",
       "<table border=\"1\" class=\"dataframe\">\n",
       "  <thead>\n",
       "    <tr style=\"text-align: right;\">\n",
       "      <th></th>\n",
       "      <th>user_id</th>\n",
       "      <th>mb_used</th>\n",
       "    </tr>\n",
       "  </thead>\n",
       "  <tbody>\n",
       "    <tr>\n",
       "      <th>count</th>\n",
       "      <td>104825.000000</td>\n",
       "      <td>104825.000000</td>\n",
       "    </tr>\n",
       "    <tr>\n",
       "      <th>mean</th>\n",
       "      <td>1242.496361</td>\n",
       "      <td>366.713701</td>\n",
       "    </tr>\n",
       "    <tr>\n",
       "      <th>std</th>\n",
       "      <td>142.053913</td>\n",
       "      <td>277.170542</td>\n",
       "    </tr>\n",
       "    <tr>\n",
       "      <th>min</th>\n",
       "      <td>1000.000000</td>\n",
       "      <td>0.000000</td>\n",
       "    </tr>\n",
       "    <tr>\n",
       "      <th>25%</th>\n",
       "      <td>1122.000000</td>\n",
       "      <td>136.080000</td>\n",
       "    </tr>\n",
       "    <tr>\n",
       "      <th>50%</th>\n",
       "      <td>1236.000000</td>\n",
       "      <td>343.980000</td>\n",
       "    </tr>\n",
       "    <tr>\n",
       "      <th>75%</th>\n",
       "      <td>1367.000000</td>\n",
       "      <td>554.610000</td>\n",
       "    </tr>\n",
       "    <tr>\n",
       "      <th>max</th>\n",
       "      <td>1499.000000</td>\n",
       "      <td>1693.470000</td>\n",
       "    </tr>\n",
       "  </tbody>\n",
       "</table>\n",
       "</div>"
      ],
      "text/plain": [
       "             user_id        mb_used\n",
       "count  104825.000000  104825.000000\n",
       "mean     1242.496361     366.713701\n",
       "std       142.053913     277.170542\n",
       "min      1000.000000       0.000000\n",
       "25%      1122.000000     136.080000\n",
       "50%      1236.000000     343.980000\n",
       "75%      1367.000000     554.610000\n",
       "max      1499.000000    1693.470000"
      ]
     },
     "metadata": {},
     "output_type": "display_data"
    },
    {
     "data": {
      "text/plain": [
       "0         False\n",
       "1         False\n",
       "2         False\n",
       "3         False\n",
       "4         False\n",
       "          ...  \n",
       "104820    False\n",
       "104821    False\n",
       "104822    False\n",
       "104823    False\n",
       "104824    False\n",
       "Length: 104825, dtype: bool"
      ]
     },
     "metadata": {},
     "output_type": "display_data"
    },
    {
     "data": {
      "text/plain": [
       "id              0\n",
       "user_id         0\n",
       "session_date    0\n",
       "mb_used         0\n",
       "dtype: int64"
      ]
     },
     "metadata": {},
     "output_type": "display_data"
    }
   ],
   "source": [
    "# Print a sample of data for the internet traffic\n",
    "\n",
    "display(net.sample(5)) # We used sample() for take a quick view of the data.\n",
    "display(net.describe()) # We used describe() for check if exist values out of the expected range.\n",
    "display(net.duplicated()) # We used duplicated()to check for any duplicated value.\n",
    "display(net.isna().sum()) # We used isna().sum() looking for empty values.\n"
   ]
  },
  {
   "cell_type": "markdown",
   "metadata": {},
   "source": [
    "- Removed underscores from the id column to clean and simplify identifiers.\n",
    "\n",
    "- Converted session_date column from object to datetime format to enable accurate date-based operations.\n",
    "\n",
    "- Created a new column month using .dt.to_period('M') to standardize time-based grouping for monthly analysis.\n",
    "\n",
    "- Rounded total monthly usage up to GB: Since Megaline bills based on total monthly usage in gigabytes, the total mb_used per user per month was divided by 1024 and then rounded up using np.ceil."
   ]
  },
  {
   "cell_type": "markdown",
   "metadata": {},
   "source": [
    " "
   ]
  },
  {
   "cell_type": "markdown",
   "metadata": {},
   "source": [
    "### Fix data"
   ]
  },
  {
   "cell_type": "markdown",
   "metadata": {},
   "source": [
    "[Fix obvious issues with the data given the initial observations.]"
   ]
  },
  {
   "cell_type": "code",
   "execution_count": 19,
   "metadata": {},
   "outputs": [],
   "source": [
    "net['session_date'] = pd.to_datetime(net['session_date'], errors='coerce')\n",
    "net['id'] = net['id'].str.replace('_', '', regex=False)\n"
   ]
  },
  {
   "cell_type": "markdown",
   "metadata": {},
   "source": [
    "### Enrich data"
   ]
  },
  {
   "cell_type": "markdown",
   "metadata": {},
   "source": [
    "[Add additional factors to the data if you believe they might be useful.]"
   ]
  },
  {
   "cell_type": "code",
   "execution_count": 20,
   "metadata": {},
   "outputs": [],
   "source": [
    "net['month'] = net['session_date'].dt.to_period('M')\n",
    "monthly_mb = net.groupby(['user_id', 'month'])['mb_used'].sum().reset_index() # We create a Variable to group the amount of data expend for user monthly.\n",
    "net['gb_used_rounded'] = np.ceil(net['mb_used'] / 1024)\n"
   ]
  },
  {
   "cell_type": "markdown",
   "metadata": {},
   "source": [
    "## Study plan conditions"
   ]
  },
  {
   "cell_type": "markdown",
   "metadata": {},
   "source": [
    "[It is critical to understand how the plans work, how users are charged based on their plan subscription. So, we suggest printing out the plan information to view their conditions once again.]"
   ]
  },
  {
   "cell_type": "code",
   "execution_count": 21,
   "metadata": {},
   "outputs": [
    {
     "data": {
      "text/html": [
       "<div>\n",
       "<style scoped>\n",
       "    .dataframe tbody tr th:only-of-type {\n",
       "        vertical-align: middle;\n",
       "    }\n",
       "\n",
       "    .dataframe tbody tr th {\n",
       "        vertical-align: top;\n",
       "    }\n",
       "\n",
       "    .dataframe thead th {\n",
       "        text-align: right;\n",
       "    }\n",
       "</style>\n",
       "<table border=\"1\" class=\"dataframe\">\n",
       "  <thead>\n",
       "    <tr style=\"text-align: right;\">\n",
       "      <th></th>\n",
       "      <th>messages_included</th>\n",
       "      <th>mb_per_month_included</th>\n",
       "      <th>minutes_included</th>\n",
       "      <th>usd_monthly_pay</th>\n",
       "      <th>usd_per_gb</th>\n",
       "      <th>usd_per_message</th>\n",
       "      <th>usd_per_minute</th>\n",
       "      <th>plan_name</th>\n",
       "      <th>gb_included</th>\n",
       "    </tr>\n",
       "  </thead>\n",
       "  <tbody>\n",
       "    <tr>\n",
       "      <th>0</th>\n",
       "      <td>50</td>\n",
       "      <td>15360</td>\n",
       "      <td>500</td>\n",
       "      <td>20</td>\n",
       "      <td>10</td>\n",
       "      <td>0.03</td>\n",
       "      <td>0.03</td>\n",
       "      <td>surf</td>\n",
       "      <td>15</td>\n",
       "    </tr>\n",
       "    <tr>\n",
       "      <th>1</th>\n",
       "      <td>1000</td>\n",
       "      <td>30720</td>\n",
       "      <td>3000</td>\n",
       "      <td>70</td>\n",
       "      <td>7</td>\n",
       "      <td>0.01</td>\n",
       "      <td>0.01</td>\n",
       "      <td>ultimate</td>\n",
       "      <td>30</td>\n",
       "    </tr>\n",
       "  </tbody>\n",
       "</table>\n",
       "</div>"
      ],
      "text/plain": [
       "   messages_included  mb_per_month_included  minutes_included  \\\n",
       "0                 50                  15360               500   \n",
       "1               1000                  30720              3000   \n",
       "\n",
       "   usd_monthly_pay  usd_per_gb  usd_per_message  usd_per_minute plan_name  \\\n",
       "0               20          10             0.03            0.03      surf   \n",
       "1               70           7             0.01            0.01  ultimate   \n",
       "\n",
       "   gb_included  \n",
       "0           15  \n",
       "1           30  "
      ]
     },
     "execution_count": 21,
     "metadata": {},
     "output_type": "execute_result"
    }
   ],
   "source": [
    "# Print out the plan conditions and make sure they are clear for you\n",
    "plans.head()\n"
   ]
  },
  {
   "cell_type": "markdown",
   "metadata": {},
   "source": [
    "## Aggregate data per user\n",
    "\n",
    "[Now, as the data is clean, aggregate data per user per period in order to have just one record per user per period. It should ease the further analysis a lot.]"
   ]
  },
  {
   "cell_type": "code",
   "execution_count": 22,
   "metadata": {},
   "outputs": [],
   "source": [
    "# Calculate the number of calls made by each user per month. Save the result.\n",
    "calls_per_month = calls.groupby(['user_id', 'month'])['duration'].count().reset_index(name='calls_count')\n"
   ]
  },
  {
   "cell_type": "code",
   "execution_count": 23,
   "metadata": {},
   "outputs": [],
   "source": [
    "# Calculate the amount of minutes spent by each user per month. Save the result.\n",
    "minutes_per_user = calls.groupby(['user_id', 'month'])['duration_rounded'].sum().reset_index(name='minutes_used')\n"
   ]
  },
  {
   "cell_type": "code",
   "execution_count": 24,
   "metadata": {},
   "outputs": [],
   "source": [
    "# Calculate the number of messages sent by each user per month. Save the result.\n",
    "message_per_month = messages.groupby(['user_id', 'month'])['id'].count().reset_index(name='messages_sent')\n",
    "\n"
   ]
  },
  {
   "cell_type": "code",
   "execution_count": 25,
   "metadata": {},
   "outputs": [],
   "source": [
    "# Calculate the volume of internet traffic used by each user per month. Save the result.\n",
    "\n",
    "net_user_month = net.groupby(['user_id', 'month'])['gb_used_rounded'].sum().reset_index(name='gb_used')\n",
    "net_user_month['gb_used'] = net_user_month['gb_used'].astype('int')\n",
    "\n"
   ]
  },
  {
   "cell_type": "markdown",
   "metadata": {},
   "source": [
    "[Put the aggregate data together into one DataFrame so that one record in it would represent what an unique user consumed in a given month.]"
   ]
  },
  {
   "cell_type": "code",
   "execution_count": 26,
   "metadata": {},
   "outputs": [
    {
     "data": {
      "text/html": [
       "<div>\n",
       "<style scoped>\n",
       "    .dataframe tbody tr th:only-of-type {\n",
       "        vertical-align: middle;\n",
       "    }\n",
       "\n",
       "    .dataframe tbody tr th {\n",
       "        vertical-align: top;\n",
       "    }\n",
       "\n",
       "    .dataframe thead th {\n",
       "        text-align: right;\n",
       "    }\n",
       "</style>\n",
       "<table border=\"1\" class=\"dataframe\">\n",
       "  <thead>\n",
       "    <tr style=\"text-align: right;\">\n",
       "      <th></th>\n",
       "      <th>user_id</th>\n",
       "      <th>month</th>\n",
       "      <th>calls_count</th>\n",
       "      <th>minutes_used</th>\n",
       "      <th>messages_sent</th>\n",
       "      <th>gb_used</th>\n",
       "    </tr>\n",
       "  </thead>\n",
       "  <tbody>\n",
       "    <tr>\n",
       "      <th>0</th>\n",
       "      <td>1000</td>\n",
       "      <td>2018-12</td>\n",
       "      <td>16</td>\n",
       "      <td>124</td>\n",
       "      <td>11</td>\n",
       "      <td>4</td>\n",
       "    </tr>\n",
       "    <tr>\n",
       "      <th>1</th>\n",
       "      <td>1001</td>\n",
       "      <td>2018-08</td>\n",
       "      <td>27</td>\n",
       "      <td>182</td>\n",
       "      <td>30</td>\n",
       "      <td>21</td>\n",
       "    </tr>\n",
       "    <tr>\n",
       "      <th>2</th>\n",
       "      <td>1001</td>\n",
       "      <td>2018-09</td>\n",
       "      <td>49</td>\n",
       "      <td>315</td>\n",
       "      <td>44</td>\n",
       "      <td>41</td>\n",
       "    </tr>\n",
       "    <tr>\n",
       "      <th>3</th>\n",
       "      <td>1001</td>\n",
       "      <td>2018-10</td>\n",
       "      <td>65</td>\n",
       "      <td>393</td>\n",
       "      <td>53</td>\n",
       "      <td>50</td>\n",
       "    </tr>\n",
       "    <tr>\n",
       "      <th>4</th>\n",
       "      <td>1001</td>\n",
       "      <td>2018-11</td>\n",
       "      <td>64</td>\n",
       "      <td>426</td>\n",
       "      <td>36</td>\n",
       "      <td>49</td>\n",
       "    </tr>\n",
       "  </tbody>\n",
       "</table>\n",
       "</div>"
      ],
      "text/plain": [
       "   user_id    month  calls_count  minutes_used  messages_sent  gb_used\n",
       "0     1000  2018-12           16           124             11        4\n",
       "1     1001  2018-08           27           182             30       21\n",
       "2     1001  2018-09           49           315             44       41\n",
       "3     1001  2018-10           65           393             53       50\n",
       "4     1001  2018-11           64           426             36       49"
      ]
     },
     "execution_count": 26,
     "metadata": {},
     "output_type": "execute_result"
    }
   ],
   "source": [
    "# Merge the data for calls, minutes, messages, internet based on user_id and month\n",
    "calls_minutes = calls_per_month.merge(minutes_per_user, on=['user_id', 'month'])\n",
    "messages_net = message_per_month.merge(net_user_month, on=['user_id', 'month'])\n",
    "data_user_month = calls_minutes.merge(messages_net, on=['user_id', 'month'])\n",
    "data_user_month.head()"
   ]
  },
  {
   "cell_type": "code",
   "execution_count": 27,
   "metadata": {},
   "outputs": [
    {
     "data": {
      "text/html": [
       "<div>\n",
       "<style scoped>\n",
       "    .dataframe tbody tr th:only-of-type {\n",
       "        vertical-align: middle;\n",
       "    }\n",
       "\n",
       "    .dataframe tbody tr th {\n",
       "        vertical-align: top;\n",
       "    }\n",
       "\n",
       "    .dataframe thead th {\n",
       "        text-align: right;\n",
       "    }\n",
       "</style>\n",
       "<table border=\"1\" class=\"dataframe\">\n",
       "  <thead>\n",
       "    <tr style=\"text-align: right;\">\n",
       "      <th></th>\n",
       "      <th>messages_included</th>\n",
       "      <th>mb_per_month_included</th>\n",
       "      <th>minutes_included</th>\n",
       "      <th>usd_monthly_pay</th>\n",
       "      <th>usd_per_gb</th>\n",
       "      <th>usd_per_message</th>\n",
       "      <th>usd_per_minute</th>\n",
       "      <th>plan_name</th>\n",
       "      <th>gb_included</th>\n",
       "    </tr>\n",
       "  </thead>\n",
       "  <tbody>\n",
       "    <tr>\n",
       "      <th>0</th>\n",
       "      <td>50</td>\n",
       "      <td>15360</td>\n",
       "      <td>500</td>\n",
       "      <td>20</td>\n",
       "      <td>10</td>\n",
       "      <td>0.03</td>\n",
       "      <td>0.03</td>\n",
       "      <td>surf</td>\n",
       "      <td>15</td>\n",
       "    </tr>\n",
       "    <tr>\n",
       "      <th>1</th>\n",
       "      <td>1000</td>\n",
       "      <td>30720</td>\n",
       "      <td>3000</td>\n",
       "      <td>70</td>\n",
       "      <td>7</td>\n",
       "      <td>0.01</td>\n",
       "      <td>0.01</td>\n",
       "      <td>ultimate</td>\n",
       "      <td>30</td>\n",
       "    </tr>\n",
       "  </tbody>\n",
       "</table>\n",
       "</div>"
      ],
      "text/plain": [
       "   messages_included  mb_per_month_included  minutes_included  \\\n",
       "0                 50                  15360               500   \n",
       "1               1000                  30720              3000   \n",
       "\n",
       "   usd_monthly_pay  usd_per_gb  usd_per_message  usd_per_minute plan_name  \\\n",
       "0               20          10             0.03            0.03      surf   \n",
       "1               70           7             0.01            0.01  ultimate   \n",
       "\n",
       "   gb_included  \n",
       "0           15  \n",
       "1           30  "
      ]
     },
     "execution_count": 27,
     "metadata": {},
     "output_type": "execute_result"
    }
   ],
   "source": [
    "# Add the plan information\n",
    "\n",
    "\n",
    "plans.head()"
   ]
  },
  {
   "cell_type": "markdown",
   "metadata": {},
   "source": [
    "[Calculate the monthly revenue from each user (subtract the free package limit from the total number of calls, text messages, and data; multiply the result by the calling plan value; add the monthly charge depending on the calling plan). N.B. This might not be as trivial as just a couple of lines given the plan conditions! So, it's okay to spend some time on it.]"
   ]
  },
  {
   "cell_type": "code",
   "execution_count": 28,
   "metadata": {},
   "outputs": [
    {
     "data": {
      "text/html": [
       "<div>\n",
       "<style scoped>\n",
       "    .dataframe tbody tr th:only-of-type {\n",
       "        vertical-align: middle;\n",
       "    }\n",
       "\n",
       "    .dataframe tbody tr th {\n",
       "        vertical-align: top;\n",
       "    }\n",
       "\n",
       "    .dataframe thead th {\n",
       "        text-align: right;\n",
       "    }\n",
       "</style>\n",
       "<table border=\"1\" class=\"dataframe\">\n",
       "  <thead>\n",
       "    <tr style=\"text-align: right;\">\n",
       "      <th></th>\n",
       "      <th>user_id</th>\n",
       "      <th>month</th>\n",
       "      <th>calls_count</th>\n",
       "      <th>minutes_used</th>\n",
       "      <th>messages_sent</th>\n",
       "      <th>gb_used</th>\n",
       "      <th>plan</th>\n",
       "      <th>base_revenue</th>\n",
       "      <th>calls_revenue</th>\n",
       "      <th>messages_revenue</th>\n",
       "      <th>net_revenue</th>\n",
       "      <th>total_revenue</th>\n",
       "    </tr>\n",
       "  </thead>\n",
       "  <tbody>\n",
       "    <tr>\n",
       "      <th>0</th>\n",
       "      <td>1000</td>\n",
       "      <td>2018-12</td>\n",
       "      <td>16</td>\n",
       "      <td>124</td>\n",
       "      <td>11</td>\n",
       "      <td>4</td>\n",
       "      <td>ultimate</td>\n",
       "      <td>70</td>\n",
       "      <td>0.0</td>\n",
       "      <td>0.00</td>\n",
       "      <td>0</td>\n",
       "      <td>70.00</td>\n",
       "    </tr>\n",
       "    <tr>\n",
       "      <th>1</th>\n",
       "      <td>1001</td>\n",
       "      <td>2018-08</td>\n",
       "      <td>27</td>\n",
       "      <td>182</td>\n",
       "      <td>30</td>\n",
       "      <td>21</td>\n",
       "      <td>surf</td>\n",
       "      <td>20</td>\n",
       "      <td>0.0</td>\n",
       "      <td>0.00</td>\n",
       "      <td>60</td>\n",
       "      <td>80.00</td>\n",
       "    </tr>\n",
       "    <tr>\n",
       "      <th>2</th>\n",
       "      <td>1001</td>\n",
       "      <td>2018-09</td>\n",
       "      <td>49</td>\n",
       "      <td>315</td>\n",
       "      <td>44</td>\n",
       "      <td>41</td>\n",
       "      <td>surf</td>\n",
       "      <td>20</td>\n",
       "      <td>0.0</td>\n",
       "      <td>0.00</td>\n",
       "      <td>260</td>\n",
       "      <td>280.00</td>\n",
       "    </tr>\n",
       "    <tr>\n",
       "      <th>3</th>\n",
       "      <td>1001</td>\n",
       "      <td>2018-10</td>\n",
       "      <td>65</td>\n",
       "      <td>393</td>\n",
       "      <td>53</td>\n",
       "      <td>50</td>\n",
       "      <td>surf</td>\n",
       "      <td>20</td>\n",
       "      <td>0.0</td>\n",
       "      <td>0.09</td>\n",
       "      <td>350</td>\n",
       "      <td>370.09</td>\n",
       "    </tr>\n",
       "    <tr>\n",
       "      <th>4</th>\n",
       "      <td>1001</td>\n",
       "      <td>2018-11</td>\n",
       "      <td>64</td>\n",
       "      <td>426</td>\n",
       "      <td>36</td>\n",
       "      <td>49</td>\n",
       "      <td>surf</td>\n",
       "      <td>20</td>\n",
       "      <td>0.0</td>\n",
       "      <td>0.00</td>\n",
       "      <td>340</td>\n",
       "      <td>360.00</td>\n",
       "    </tr>\n",
       "  </tbody>\n",
       "</table>\n",
       "</div>"
      ],
      "text/plain": [
       "   user_id    month  calls_count  minutes_used  messages_sent  gb_used  \\\n",
       "0     1000  2018-12           16           124             11        4   \n",
       "1     1001  2018-08           27           182             30       21   \n",
       "2     1001  2018-09           49           315             44       41   \n",
       "3     1001  2018-10           65           393             53       50   \n",
       "4     1001  2018-11           64           426             36       49   \n",
       "\n",
       "       plan  base_revenue  calls_revenue  messages_revenue  net_revenue  \\\n",
       "0  ultimate            70            0.0              0.00            0   \n",
       "1      surf            20            0.0              0.00           60   \n",
       "2      surf            20            0.0              0.00          260   \n",
       "3      surf            20            0.0              0.09          350   \n",
       "4      surf            20            0.0              0.00          340   \n",
       "\n",
       "   total_revenue  \n",
       "0          70.00  \n",
       "1          80.00  \n",
       "2         280.00  \n",
       "3         370.09  \n",
       "4         360.00  "
      ]
     },
     "execution_count": 28,
     "metadata": {},
     "output_type": "execute_result"
    }
   ],
   "source": [
    "# Calculate the monthly revenue for each user\n",
    "data_user_month = data_user_month.merge(users[['user_id', 'plan']], on='user_id', how='left')\n",
    "\n",
    "data_user_month['base_revenue'] = np.where(data_user_month['plan'] == 'surf', 20,\n",
    "                                           np.where(data_user_month['plan'] == 'ultimate', 70, 0)\n",
    "                                          )\n",
    "\n",
    "\n",
    "\n",
    "data_user_month['calls_revenue'] =  np.where(\n",
    "    data_user_month['plan'] == 'surf',\n",
    "    np.maximum(data_user_month['minutes_used'] - 500, 0) * 0.03, \n",
    "    0\n",
    ")\n",
    "\n",
    "data_user_month['messages_revenue'] = np.where(\n",
    "    data_user_month['plan'] == 'surf', \n",
    "    np.maximum(data_user_month['messages_sent'] - 50, 0) * 0.03,\n",
    "    0\n",
    ")\n",
    "\n",
    "data_user_month['net_revenue'] = np.where(\n",
    "    data_user_month['plan'] == 'surf',\n",
    "    np.maximum(data_user_month['gb_used'] - 15, 0) * 10,\n",
    "    0\n",
    ")\n",
    "\n",
    "data_user_month['total_revenue'] = data_user_month[['base_revenue', 'calls_revenue', 'messages_revenue', 'net_revenue']].sum(axis=1)\n",
    "\n",
    "data_user_month.head()"
   ]
  },
  {
   "cell_type": "markdown",
   "metadata": {},
   "source": [
    "## Study user behaviour"
   ]
  },
  {
   "cell_type": "markdown",
   "metadata": {},
   "source": [
    "[Calculate some useful descriptive statistics for the aggregated and merged data, which typically reveal an overall picture captured by the data. Draw useful plots to help the understanding. Given that the main task is to compare the plans and decide on which one is more profitable, the statistics and the plots should be calculated on a per-plan basis.]\n",
    "\n",
    "[There are relevant hints in the comments for Calls but they are not provided for Messages and Internet though the principle of statistical study is the same for them as for Calls.]"
   ]
  },
  {
   "cell_type": "markdown",
   "metadata": {},
   "source": [
    "### Calls"
   ]
  },
  {
   "cell_type": "code",
   "execution_count": 29,
   "metadata": {},
   "outputs": [
    {
     "data": {
      "image/png": "[encoded data removed]",
      "text/plain": [
       "<Figure size 1200x500 with 1 Axes>"
      ]
     },
     "metadata": {},
     "output_type": "display_data"
    }
   ],
   "source": [
    "# Compare average duration of calls per each plan per each distinct month. Plot a bar plat to visualize it.\n",
    "avg_calls_month = data_user_month.groupby(['plan', 'month'])['minutes_used'].mean().unstack() # We used group_by() to group the data with the asked indicators and then used mean() to calculate the avg, and finally we use unstack() to converts the plans into columns, with months as the index.\n",
    "avg_calls_month.plot(kind='bar', \n",
    "                     figsize=[12, 5],\n",
    "                     title= 'Avg duration of calls per each plan monthly',\n",
    "                    width = 0.6,\n",
    "                    xlabel='Month',\n",
    "                    ylabel='Avg Duration Calls',\n",
    "                     edgecolor='black'\n",
    "                    )\n",
    "plt.xticks(rotation=45)\n",
    "plt.legend(title='Plan')\n",
    "plt.tight_layout()\n",
    "plt.show()\n",
    "\n",
    "\n"
   ]
  },
  {
   "cell_type": "code",
   "execution_count": 44,
   "metadata": {},
   "outputs": [
    {
     "data": {
      "image/png": "[encoded data removed]",
      "text/plain": [
       "<Figure size 640x480 with 1 Axes>"
      ]
     },
     "metadata": {},
     "output_type": "display_data"
    }
   ],
   "source": [
    "# Compare the number of minutes users of each plan require each month. Plot a histogram.\n",
    "surf_minutes = data_user_month[data_user_month['plan'] == 'surf']['minutes_used'] # We created masks to filter the data needed.\n",
    "ultimate_minutes = data_user_month[data_user_month['plan'] == 'ultimate']['minutes_used']\n",
    "plt.hist(surf_minutes,\n",
    "        bins=10,\n",
    "        alpha=0.7,\n",
    "        label='Surf',\n",
    "        color='blue',\n",
    "        edgecolor='black')\n",
    "plt.hist(ultimate_minutes, \n",
    "         bins=10,\n",
    "        alpha=0.7,\n",
    "        label='Ultimate',\n",
    "        color='orange',\n",
    "        edgecolor='black')\n",
    "plt.title(\"Monthly Call Duration: Surf vs. Ultimate Users\")\n",
    "plt.xlabel('Minutes Used')\n",
    "plt.ylabel('Frequency (Number of users)')\n",
    "plt.legend()\n",
    "plt.tight_layout()\n",
    "plt.show()"
   ]
  },
  {
   "cell_type": "markdown",
   "metadata": {},
   "source": [
    "[Calculate the mean and the variable of the call duration to reason on whether users on the different plans have different behaviours for their calls.]"
   ]
  },
  {
   "cell_type": "code",
   "execution_count": 31,
   "metadata": {},
   "outputs": [],
   "source": [
    "# Calculate the mean and the variance of the monthly call duration\n",
    "monthly_call_mean = data_user_month.groupby(['plan', 'month'])['minutes_used'].mean()\n",
    "variance_monthly =  data_user_month.groupby(['plan', 'month'])['minutes_used'].var()"
   ]
  },
  {
   "cell_type": "code",
   "execution_count": 32,
   "metadata": {},
   "outputs": [
    {
     "data": {
      "image/png": "[encoded data removed]",
      "text/plain": [
       "<Figure size 800x500 with 1 Axes>"
      ]
     },
     "metadata": {},
     "output_type": "display_data"
    }
   ],
   "source": [
    "# Plot a boxplot to visualize the distribution of the monthly call duration\n",
    "data_user_month.boxplot(column='minutes_used', by='plan', figsize=(8, 5))\n",
    "\n",
    "plt.title('Monthly Call Duration Distribution by Plan')\n",
    "plt.suptitle('')  # Elimina el título automático de pandas\n",
    "plt.xlabel('Plan')\n",
    "plt.ylabel('Minutes used')\n",
    "plt.show()"
   ]
  },
  {
   "cell_type": "markdown",
   "metadata": {},
   "source": [
    "- The average number of minutes used per month is pretty similar for both Surf and Ultimate plans. However, users on the Surf plan tend to go over their included minutes more often. You can see this in the wider spread and higher number of outliers compared to Ultimate users. This suggests that Surf customers are more likely to exceed their plan limits, which could result in extra charges."
   ]
  },
  {
   "cell_type": "markdown",
   "metadata": {},
   "source": [
    " "
   ]
  },
  {
   "cell_type": "markdown",
   "metadata": {},
   "source": [
    "### Messages"
   ]
  },
  {
   "cell_type": "code",
   "execution_count": 33,
   "metadata": {
    "scrolled": true
   },
   "outputs": [
    {
     "data": {
      "image/png": "[encoded data removed]",
      "text/plain": [
       "<Figure size 1200x500 with 1 Axes>"
      ]
     },
     "metadata": {},
     "output_type": "display_data"
    }
   ],
   "source": [
    "# Compare the number of messages users of each plan tend to send each month\n",
    "monthly_messages_users = data_user_month.groupby(['plan', 'month'])['messages_sent'].mean().unstack()\n",
    "\n",
    "monthly_messages_users.plot(kind='bar', \n",
    "                     figsize=[12, 5],\n",
    "                     title='Average Messages Sent per Plan by Month',\n",
    "                    width = 0.6,\n",
    "                    xlabel='Plan',\n",
    "                    ylabel='Avg messages sent',\n",
    "                     edgecolor='black'\n",
    "                    )\n",
    "plt.xticks(rotation=45)\n",
    "plt.legend(title='Month')\n",
    "plt.tight_layout()\n",
    "plt.show()"
   ]
  },
  {
   "cell_type": "code",
   "execution_count": 34,
   "metadata": {},
   "outputs": [
    {
     "data": {
      "image/png": "[encoded data removed]",
      "text/plain": [
       "<Figure size 1200x500 with 1 Axes>"
      ]
     },
     "metadata": {},
     "output_type": "display_data"
    }
   ],
   "source": [
    "# Compare the amount of internet traffic consumed by users per plan\n",
    "monthly_net_users = data_user_month.groupby(['plan', 'month'])['gb_used'].mean().unstack()\n",
    "\n",
    "monthly_net_users.plot(kind='bar', \n",
    "                     figsize=[12, 5],\n",
    "                     title='Average Internet Traffic per Plan by Month',\n",
    "                    width = 0.6,\n",
    "                    xlabel='Plan',\n",
    "                    ylabel='Avg internet traffic',\n",
    "                     edgecolor='black',\n",
    "                       \n",
    "                    )\n",
    "plt.xticks(rotation=45)\n",
    "plt.legend(title='Month')\n",
    "plt.tight_layout()\n",
    "plt.show()"
   ]
  },
  {
   "cell_type": "markdown",
   "metadata": {},
   "source": [
    "- The visualizations suggest a clear trend: as the year progresses, there is a noticeable increase in internet usage, calls, and messages across both plans. This upward trend toward the end of the year could indicate higher overall engagement with mobile services during that period. Additionally, users on the Surf plan tend to exceed the limits of their base plan more often, especially in call minutes and internet usage. This behavior likely results in higher monthly revenue compared to Ultimate plan users, whose usage stays within the included allowances."
   ]
  },
  {
   "cell_type": "markdown",
   "metadata": {},
   "source": [
    " "
   ]
  },
  {
   "cell_type": "markdown",
   "metadata": {},
   "source": [
    "### Internet"
   ]
  },
  {
   "cell_type": "code",
   "execution_count": 35,
   "metadata": {},
   "outputs": [
    {
     "data": {
      "image/png": "[encoded data removed]",
      "text/plain": [
       "<Figure size 800x500 with 1 Axes>"
      ]
     },
     "metadata": {},
     "output_type": "display_data"
    }
   ],
   "source": [
    "surf_exceeded = data_user_month[\n",
    "    (data_user_month['plan'] == 'surf') & (data_user_month['gb_used'] > 15)\n",
    "]\n",
    "exceeded_count = surf_exceeded.groupby('month')['user_id'].nunique().reset_index()\n",
    "exceeded_count.columns = ['month', 'nums_user_exceeded']\n",
    "\n",
    "exceeded_count.plot(kind='bar', \n",
    "                    x='month',\n",
    "                    y='nums_user_exceeded',\n",
    "                    title='Number of Surf Plan Users Who Exceeded 15GB per Month',\n",
    "                    figsize=(8, 5),\n",
    "                    xlabel='Month',\n",
    "                    ylabel='Number of users',\n",
    "                    color='orange',\n",
    "                    edgecolor='black'\n",
    "                   )\n",
    "\n",
    "\n",
    "\n",
    "\n",
    "\n",
    "plt.xticks(rotation=45)\n",
    "plt.tight_layout()\n",
    "plt.show()"
   ]
  },
  {
   "cell_type": "markdown",
   "metadata": {},
   "source": [
    "- We can observe a clear upward trend in the number of users exceeding their data limits over the months. This increase peaks in December, likely due to the holiday season, when people tend to use more mobile internet for streaming, social media, and staying connected."
   ]
  },
  {
   "cell_type": "code",
   "execution_count": 36,
   "metadata": {},
   "outputs": [
    {
     "data": {
      "image/png": "[encoded data removed]",
      "text/plain": [
       "<Figure size 800x500 with 1 Axes>"
      ]
     },
     "metadata": {},
     "output_type": "display_data"
    }
   ],
   "source": [
    "total_gb_per_plan = data_user_month.groupby('plan')['gb_used'].sum()\n",
    "\n",
    "total_gb_per_plan.plot(kind='bar', \n",
    "                    title='Comparation of total usage of Gb for each plan',\n",
    "                    figsize=(8, 5),\n",
    "                    xlabel='Plan',\n",
    "                    ylabel='Gb used',\n",
    "                    color='red',\n",
    "                    edgecolor='black'\n",
    "                   )\n",
    "\n",
    "plt.xticks(rotation=45)\n",
    "plt.tight_layout()\n",
    "plt.show()"
   ]
  },
  {
   "cell_type": "markdown",
   "metadata": {},
   "source": [
    "- Users subscribed to the Surf plan consume nearly twice the total amount of internet data compared to those on the Ultimate plan. This suggests that Surf users often exceed their base plan limits, contributing to higher overall data usage and potentially more revenue."
   ]
  },
  {
   "cell_type": "markdown",
   "metadata": {},
   "source": [
    " "
   ]
  },
  {
   "cell_type": "markdown",
   "metadata": {},
   "source": [
    "## Revenue"
   ]
  },
  {
   "cell_type": "markdown",
   "metadata": {},
   "source": [
    "[Likewise you have studied the user behaviour, statistically describe the revenue between the plans.]"
   ]
  },
  {
   "cell_type": "code",
   "execution_count": 37,
   "metadata": {},
   "outputs": [
    {
     "data": {
      "image/png": "[encoded data removed]",
      "text/plain": [
       "<Figure size 800x500 with 1 Axes>"
      ]
     },
     "metadata": {},
     "output_type": "display_data"
    }
   ],
   "source": [
    "calls_revenue =  data_user_month.groupby(['month'])['calls_revenue'].sum().reset_index()\n",
    "\n",
    "calls_revenue.plot(kind='bar', \n",
    "                    title='Monthly revenue of calls',\n",
    "                    figsize=(8, 5),\n",
    "                    xlabel='Months',\n",
    "                    ylabel='Revenue $',\n",
    "                    color='skyblue',\n",
    "                    edgecolor='black'\n",
    "                   )\n",
    "\n",
    "plt.xticks(rotation=45)\n",
    "plt.tight_layout()\n",
    "plt.show() \n"
   ]
  },
  {
   "cell_type": "code",
   "execution_count": 38,
   "metadata": {},
   "outputs": [
    {
     "data": {
      "image/png": "[encoded data removed]",
      "text/plain": [
       "<Figure size 800x500 with 1 Axes>"
      ]
     },
     "metadata": {},
     "output_type": "display_data"
    }
   ],
   "source": [
    "net_revenue = data_user_month.groupby(['month'])['net_revenue'].sum().reset_index()\n",
    "\n",
    "net_revenue.plot(kind='bar', \n",
    "                    title='Monthly revenue of internet',\n",
    "                    figsize=(8, 5),\n",
    "                    xlabel='Months',\n",
    "                    ylabel='Revenue $',\n",
    "                    color='skyblue',\n",
    "                    edgecolor='black'\n",
    "                   )\n",
    "\n",
    "plt.xticks(rotation=45)\n",
    "plt.tight_layout()\n",
    "plt.show() \n"
   ]
  },
  {
   "cell_type": "code",
   "execution_count": 39,
   "metadata": {},
   "outputs": [
    {
     "data": {
      "image/png": "[encoded data removed]",
      "text/plain": [
       "<Figure size 800x500 with 1 Axes>"
      ]
     },
     "metadata": {},
     "output_type": "display_data"
    }
   ],
   "source": [
    "messages_revenue = data_user_month.groupby(['month'])['messages_revenue'].sum().reset_index()\n",
    "\n",
    "messages_revenue.plot(kind='bar', \n",
    "                    title='Monthly revenue of messages',\n",
    "                    figsize=(8, 5),\n",
    "                    xlabel='Months',\n",
    "                    ylabel='Revenue $',\n",
    "                    color='skyblue',\n",
    "                    edgecolor='black'\n",
    "                   )\n",
    "\n",
    "plt.xticks(rotation=45)\n",
    "plt.tight_layout()\n",
    "\n",
    "\n"
   ]
  },
  {
   "cell_type": "code",
   "execution_count": 45,
   "metadata": {},
   "outputs": [
    {
     "data": {
      "image/png": "[encoded data removed]",
      "text/plain": [
       "<Figure size 800x500 with 1 Axes>"
      ]
     },
     "metadata": {},
     "output_type": "display_data"
    }
   ],
   "source": [
    "total_revenue = data_user_month.groupby(['plan', 'month'])['total_revenue'].sum().unstack()\n",
    "\n",
    "total_revenue.plot(kind='bar', \n",
    "                    title='Monthly total revenue: Surf vs Ultimate.',\n",
    "                    figsize=(8, 5),\n",
    "                    xlabel='Months',\n",
    "                    ylabel='Revenue $',\n",
    "                    edgecolor='black'\n",
    "                   )\n",
    "\n",
    "plt.xticks(rotation=45)\n",
    "plt.tight_layout()\n",
    "plt.show()\n",
    "\n",
    "\n",
    "\n"
   ]
  },
  {
   "cell_type": "markdown",
   "metadata": {},
   "source": [
    "- The monthly total revenue from \"surf\" users shows a sharp and consistent increase throughout the year, reaching its peak in December. This trend suggests that users on the \"surf\" plan frequently exceed their monthly limits, especially toward the end of the year, likely due to increased communication and internet usage during the holiday season. In contrast, revenue from \"ultimate\" plan users remains relatively low and stable across all months, confirming that their fixed monthly fee covers all usage without additional charges."
   ]
  },
  {
   "cell_type": "markdown",
   "metadata": {},
   "source": [
    " "
   ]
  },
  {
   "cell_type": "markdown",
   "metadata": {},
   "source": [
    "## Test statistical hypotheses"
   ]
  },
  {
   "cell_type": "markdown",
   "metadata": {},
   "source": [
    "[Test the hypothesis that the average revenue from users of the Ultimate and Surf calling plans differs.]"
   ]
  },
  {
   "cell_type": "markdown",
   "metadata": {},
   "source": [
    "[Formulate the null and the alternative hypotheses, choose the statistical test, decide on the alpha value.]"
   ]
  },
  {
   "cell_type": "code",
   "execution_count": 41,
   "metadata": {},
   "outputs": [
    {
     "name": "stdout",
     "output_type": "stream",
     "text": [
      "T-statistic: 25.829474394157987\n",
      "P-value: 7.260294885434253e-74\n"
     ]
    },
    {
     "name": "stderr",
     "output_type": "stream",
     "text": [
      "/tmp/ipykernel_434/634589893.py:10: RuntimeWarning: Precision loss occurred in moment calculation due to catastrophic cancellation. This occurs when the data are nearly identical. Results may be unreliable.\n",
      "  t_stat, p_value = stats.ttest_ind(surf_income, ultimate_income, equal_var=False)\n"
     ]
    },
    {
     "data": {
      "text/html": [
       "<div>\n",
       "<style scoped>\n",
       "    .dataframe tbody tr th:only-of-type {\n",
       "        vertical-align: middle;\n",
       "    }\n",
       "\n",
       "    .dataframe tbody tr th {\n",
       "        vertical-align: top;\n",
       "    }\n",
       "\n",
       "    .dataframe thead th {\n",
       "        text-align: right;\n",
       "    }\n",
       "</style>\n",
       "<table border=\"1\" class=\"dataframe\">\n",
       "  <thead>\n",
       "    <tr style=\"text-align: right;\">\n",
       "      <th></th>\n",
       "      <th>T-statistic</th>\n",
       "      <th>P-value</th>\n",
       "      <th>Decision</th>\n",
       "    </tr>\n",
       "  </thead>\n",
       "  <tbody>\n",
       "    <tr>\n",
       "      <th>0</th>\n",
       "      <td>25.829474</td>\n",
       "      <td>7.260295e-74</td>\n",
       "      <td>Reject H₀</td>\n",
       "    </tr>\n",
       "  </tbody>\n",
       "</table>\n",
       "</div>"
      ],
      "text/plain": [
       "   T-statistic       P-value   Decision\n",
       "0    25.829474  7.260295e-74  Reject H₀"
      ]
     },
     "execution_count": 41,
     "metadata": {},
     "output_type": "execute_result"
    }
   ],
   "source": [
    "# Test the hypotheses\n",
    "# The average revenue from user of the ultimate \n",
    "data = data_user_month[['user_id', 'plan', 'month', 'total_revenue']]\n",
    "usr_avg_income = data.groupby(['user_id', 'plan'])['total_revenue'].mean().reset_index()\n",
    "usr_avg_income.rename(columns={'total_revenue': 'monthly_income'}, inplace=True)\n",
    "\n",
    "surf_income = usr_avg_income[usr_avg_income['plan'] == 'surf']['monthly_income']\n",
    "ultimate_income =  usr_avg_income[usr_avg_income['plan'] == 'ultimate']['monthly_income']\n",
    "\n",
    "t_stat, p_value = stats.ttest_ind(surf_income, ultimate_income, equal_var=False)\n",
    "\n",
    " \n",
    "\n",
    "alpha = 0.05\n",
    "print('T-statistic:', t_stat)\n",
    "print('P-value:', p_value)\n",
    "\n",
    "# Tabla resumen\n",
    "results_df = pd.DataFrame({\n",
    "    \"T-statistic\": [t_stat],\n",
    "    \"P-value\": [p_value],\n",
    "    \"Decision\": [\"Reject H₀\" if p_value < alpha else \"Fail to reject H₀\"]\n",
    "})\n",
    "\n",
    "results_df\n",
    "# **Note**: The warning is caused by zero variance in the 'Ultimate' group — all users have identical revenue. \n",
    "# This causes instability in the t-test, but due to the large difference in means and extremely small p-value, we confidently reject the null hypothesis.\n",
    "\n",
    "\n"
   ]
  },
  {
   "cell_type": "markdown",
   "metadata": {},
   "source": [
    "[Test the hypothesis that the average revenue from users in the NY-NJ area is different from that of the users from the other regions.]"
   ]
  },
  {
   "cell_type": "markdown",
   "metadata": {},
   "source": [
    "[Formulate the null and the alternative hypotheses, choose the statistical test, decide on the alpha value.]"
   ]
  },
  {
   "cell_type": "code",
   "execution_count": 42,
   "metadata": {},
   "outputs": [
    {
     "name": "stdout",
     "output_type": "stream",
     "text": [
      "T-statistic: 0.21443612291116063\n",
      "P-value: 0.8306616500350151\n"
     ]
    },
    {
     "data": {
      "text/html": [
       "<div>\n",
       "<style scoped>\n",
       "    .dataframe tbody tr th:only-of-type {\n",
       "        vertical-align: middle;\n",
       "    }\n",
       "\n",
       "    .dataframe tbody tr th {\n",
       "        vertical-align: top;\n",
       "    }\n",
       "\n",
       "    .dataframe thead th {\n",
       "        text-align: right;\n",
       "    }\n",
       "</style>\n",
       "<table border=\"1\" class=\"dataframe\">\n",
       "  <thead>\n",
       "    <tr style=\"text-align: right;\">\n",
       "      <th></th>\n",
       "      <th>T-statistic</th>\n",
       "      <th>P-value</th>\n",
       "      <th>Decision</th>\n",
       "    </tr>\n",
       "  </thead>\n",
       "  <tbody>\n",
       "    <tr>\n",
       "      <th>0</th>\n",
       "      <td>0.214436</td>\n",
       "      <td>0.830662</td>\n",
       "      <td>Fail to reject H₀</td>\n",
       "    </tr>\n",
       "  </tbody>\n",
       "</table>\n",
       "</div>"
      ],
      "text/plain": [
       "   T-statistic   P-value           Decision\n",
       "0     0.214436  0.830662  Fail to reject H₀"
      ]
     },
     "execution_count": 42,
     "metadata": {},
     "output_type": "execute_result"
    }
   ],
   "source": [
    "# Test the hypotheses\n",
    "\n",
    "df = data_user_month.merge(users[['user_id', 'state_info']], on='user_id')\n",
    "user_income = df.groupby(['user_id', 'state_info'])['total_revenue'].mean().reset_index()\n",
    "user_income.rename(columns={'total_revenue': 'monthly_income'}, inplace=True)\n",
    "\n",
    "ny_nj_income = user_income[user_income['state_info'] == 'NY-NJ-PA MSA']['monthly_income']\n",
    "other_income = user_income[user_income['state_info'] != 'NY-NJ-PA MSA']['monthly_income']\n",
    "\n",
    "t_stat, p_value = stats.ttest_ind(ny_nj_income, other_income, equal_var=False)\n",
    "\n",
    "alpha = 0.05\n",
    "print(\"T-statistic:\", t_stat)\n",
    "print(\"P-value:\", p_value)\n",
    "\n",
    "results_df = pd.DataFrame({\n",
    "    \"T-statistic\": [t_stat],\n",
    "    \"P-value\": [p_value],\n",
    "    \"Decision\": [\"Reject H₀\" if p_value < alpha else \"Fail to reject H₀\"]\n",
    "})\n",
    "\n",
    "results_df\n",
    "\n",
    "\n",
    "\n"
   ]
  },
  {
   "cell_type": "markdown",
   "metadata": {},
   "source": [
    "## General conclusion\n",
    "\n",
    "- After processing and analyzing data on 500 Megaline clients, we found clear evidence that the Surf plan generates more revenue on average than the Ultimate plan. This is largely due to Surf users frequently exceeding their plan limits, especially for internet usage, which results in additional charges. In contrast, Ultimate users pay a fixed amount and tend to stay within their included allowances.\n",
    "\n",
    "- Statistical hypothesis testing confirmed this difference with a very small p-value, allowing us to confidently reject the null hypothesis and conclude that there is a significant revenue difference between the two plans.\n",
    "\n",
    "- We also tested for regional revenue differences (NY-NJ area vs. other regions), but the results showed no statistically significant difference, meaning location does not appear to influence average user revenue."
   ]
  },
  {
   "cell_type": "markdown",
   "metadata": {},
   "source": [
    " "
   ]
  }
 ],
 "metadata": {
  "ExecuteTimeLog": [
   {
    "duration": 828,
    "start_time": "2021-11-16T09:21:11.304Z"
   },
   {
    "duration": 893,
    "start_time": "2021-11-16T09:21:17.728Z"
   },
   {
    "duration": 1150,
    "start_time": "2021-11-16T09:21:29.568Z"
   },
   {
    "duration": 3,
    "start_time": "2021-11-16T09:24:14.495Z"
   },
   {
    "duration": 120,
    "start_time": "2021-11-16T09:24:46.630Z"
   },
   {
    "duration": 3,
    "start_time": "2021-11-16T09:28:27.882Z"
   },
   {
    "duration": 4,
    "start_time": "2021-11-16T09:29:54.281Z"
   },
   {
    "duration": 3,
    "start_time": "2021-11-16T09:30:45.936Z"
   },
   {
    "duration": 4,
    "start_time": "2021-11-16T09:31:06.300Z"
   },
   {
    "duration": 113,
    "start_time": "2021-11-16T09:31:37.208Z"
   },
   {
    "duration": 143,
    "start_time": "2021-11-16T09:31:48.656Z"
   },
   {
    "duration": 98,
    "start_time": "2021-11-16T09:31:55.678Z"
   },
   {
    "duration": 3,
    "start_time": "2021-11-16T09:32:08.535Z"
   },
   {
    "duration": 111,
    "start_time": "2021-11-16T09:32:10.120Z"
   },
   {
    "duration": 3,
    "start_time": "2021-11-16T09:32:15.732Z"
   },
   {
    "duration": 4,
    "start_time": "2021-11-16T09:32:29.423Z"
   },
   {
    "duration": 3,
    "start_time": "2021-11-16T10:03:03.074Z"
   },
   {
    "duration": 3,
    "start_time": "2021-11-16T10:10:01.288Z"
   },
   {
    "duration": 3,
    "start_time": "2021-11-16T10:10:46.923Z"
   },
   {
    "duration": 121,
    "start_time": "2021-11-16T10:37:46.494Z"
   },
   {
    "duration": 125,
    "start_time": "2021-11-16T10:38:20.632Z"
   },
   {
    "duration": 112,
    "start_time": "2021-11-16T10:46:53.001Z"
   },
   {
    "duration": 110,
    "start_time": "2021-11-16T10:48:25.775Z"
   },
   {
    "duration": 3,
    "start_time": "2021-11-16T10:50:18.720Z"
   },
   {
    "duration": 4,
    "start_time": "2021-11-16T10:50:37.649Z"
   },
   {
    "duration": 2,
    "start_time": "2021-11-16T10:50:51.884Z"
   },
   {
    "duration": 3,
    "start_time": "2021-11-16T10:51:56.237Z"
   },
   {
    "duration": 101,
    "start_time": "2021-11-16T10:53:13.791Z"
   },
   {
    "duration": 3,
    "start_time": "2021-11-16T10:55:59.186Z"
   },
   {
    "duration": 3,
    "start_time": "2021-11-16T10:56:10.751Z"
   },
   {
    "duration": 3,
    "start_time": "2021-11-16T10:56:49.038Z"
   },
   {
    "duration": 3,
    "start_time": "2021-11-16T10:56:49.174Z"
   },
   {
    "duration": 4,
    "start_time": "2021-11-16T10:56:49.414Z"
   },
   {
    "duration": 3,
    "start_time": "2021-11-16T10:56:49.680Z"
   },
   {
    "duration": 3,
    "start_time": "2021-11-16T10:56:50.370Z"
   },
   {
    "duration": 114,
    "start_time": "2021-11-16T10:59:34.518Z"
   },
   {
    "duration": 3,
    "start_time": "2021-11-16T11:01:41.201Z"
   },
   {
    "duration": 116,
    "start_time": "2021-11-16T11:01:48.754Z"
   },
   {
    "duration": 3,
    "start_time": "2021-11-16T11:02:16.685Z"
   },
   {
    "duration": 3,
    "start_time": "2021-11-16T11:02:19.479Z"
   },
   {
    "duration": 3,
    "start_time": "2021-11-16T11:02:47.067Z"
   },
   {
    "duration": 3,
    "start_time": "2021-11-16T11:02:49.353Z"
   },
   {
    "duration": 3,
    "start_time": "2021-11-16T11:03:07.835Z"
   },
   {
    "duration": 3,
    "start_time": "2021-11-16T11:03:07.953Z"
   },
   {
    "duration": 112,
    "start_time": "2021-11-16T11:07:52.072Z"
   },
   {
    "duration": 187,
    "start_time": "2021-11-16T11:09:23.468Z"
   },
   {
    "duration": 4,
    "start_time": "2021-11-16T11:10:01.455Z"
   },
   {
    "duration": 3,
    "start_time": "2021-11-16T11:10:05.069Z"
   },
   {
    "duration": 4,
    "start_time": "2021-11-16T11:10:13.376Z"
   },
   {
    "duration": 3,
    "start_time": "2021-11-16T11:10:14.434Z"
   },
   {
    "duration": 3,
    "start_time": "2021-11-16T11:10:22.853Z"
   },
   {
    "duration": 4,
    "start_time": "2021-11-16T11:27:29.279Z"
   },
   {
    "duration": 4,
    "start_time": "2021-11-16T11:29:08.919Z"
   },
   {
    "duration": 118,
    "start_time": "2021-11-16T11:29:46.703Z"
   },
   {
    "duration": 437,
    "start_time": "2021-11-16T11:36:02.181Z"
   },
   {
    "duration": 157,
    "start_time": "2021-11-16T11:36:14.388Z"
   },
   {
    "duration": 207,
    "start_time": "2021-11-16T11:47:15.898Z"
   },
   {
    "duration": 3,
    "start_time": "2021-11-16T11:53:52.092Z"
   },
   {
    "duration": 3,
    "start_time": "2021-11-16T11:53:52.236Z"
   },
   {
    "duration": 3,
    "start_time": "2021-11-16T11:59:12.005Z"
   },
   {
    "duration": 112,
    "start_time": "2021-11-16T12:00:33.446Z"
   },
   {
    "duration": 3,
    "start_time": "2021-11-16T12:02:14.453Z"
   },
   {
    "duration": 3,
    "start_time": "2021-11-16T12:02:39.512Z"
   },
   {
    "duration": 106,
    "start_time": "2021-11-16T12:03:03.460Z"
   },
   {
    "duration": 3,
    "start_time": "2021-11-17T20:37:21.139Z"
   },
   {
    "duration": 3,
    "start_time": "2021-11-17T20:37:22.229Z"
   },
   {
    "duration": 3,
    "start_time": "2021-11-17T20:38:38.806Z"
   },
   {
    "duration": 3,
    "start_time": "2021-11-17T20:38:41.958Z"
   },
   {
    "duration": 3,
    "start_time": "2021-11-17T20:43:46.551Z"
   },
   {
    "duration": 4,
    "start_time": "2021-11-17T20:58:21.835Z"
   },
   {
    "duration": 3,
    "start_time": "2021-11-17T20:59:21.872Z"
   },
   {
    "duration": 4,
    "start_time": "2021-11-17T20:59:45.352Z"
   },
   {
    "duration": 4,
    "start_time": "2021-11-17T20:59:49.646Z"
   },
   {
    "duration": 159,
    "start_time": "2021-11-17T21:02:26.949Z"
   },
   {
    "duration": 3,
    "start_time": "2021-11-17T21:03:53.461Z"
   },
   {
    "duration": 3,
    "start_time": "2021-11-17T21:03:53.694Z"
   },
   {
    "duration": 3,
    "start_time": "2021-11-17T21:05:28.145Z"
   },
   {
    "duration": 116,
    "start_time": "2021-11-17T21:05:57.787Z"
   },
   {
    "duration": 3,
    "start_time": "2021-11-17T21:06:37.993Z"
   },
   {
    "duration": 3,
    "start_time": "2021-11-17T21:06:38.261Z"
   },
   {
    "duration": 3,
    "start_time": "2021-11-17T21:11:54.358Z"
   },
   {
    "duration": 3,
    "start_time": "2021-11-17T21:12:43.846Z"
   },
   {
    "duration": 4,
    "start_time": "2021-11-17T21:13:08.773Z"
   },
   {
    "duration": 3,
    "start_time": "2021-11-17T21:14:44.441Z"
   },
   {
    "duration": 3,
    "start_time": "2021-11-17T21:15:42.059Z"
   },
   {
    "duration": 4,
    "start_time": "2021-11-17T21:15:51.995Z"
   },
   {
    "duration": 3,
    "start_time": "2021-11-17T21:15:53.923Z"
   },
   {
    "duration": 3,
    "start_time": "2021-11-17T21:15:55.282Z"
   },
   {
    "duration": 3,
    "start_time": "2021-11-17T21:16:28.492Z"
   },
   {
    "duration": 3,
    "start_time": "2021-11-17T21:16:32.603Z"
   },
   {
    "duration": 3,
    "start_time": "2021-11-17T21:17:06.941Z"
   },
   {
    "duration": 98,
    "start_time": "2021-11-17T21:18:05.733Z"
   },
   {
    "duration": 4,
    "start_time": "2021-11-17T21:21:35.255Z"
   },
   {
    "duration": 3,
    "start_time": "2021-11-17T21:21:37.804Z"
   },
   {
    "duration": 4,
    "start_time": "2021-11-17T21:23:06.071Z"
   },
   {
    "duration": 3,
    "start_time": "2021-11-17T21:23:24.799Z"
   },
   {
    "duration": 3,
    "start_time": "2021-11-17T21:23:32.591Z"
   },
   {
    "duration": 98,
    "start_time": "2021-11-17T21:28:31.559Z"
   },
   {
    "duration": 3,
    "start_time": "2021-11-17T21:28:45.448Z"
   },
   {
    "duration": 3,
    "start_time": "2021-11-17T21:29:17.303Z"
   },
   {
    "duration": 3,
    "start_time": "2021-11-17T21:29:29.617Z"
   },
   {
    "duration": 3,
    "start_time": "2021-11-17T21:29:32.681Z"
   },
   {
    "duration": 3,
    "start_time": "2021-11-17T21:36:11.474Z"
   },
   {
    "duration": 3,
    "start_time": "2021-11-17T21:36:14.791Z"
   },
   {
    "duration": 3,
    "start_time": "2021-11-17T21:36:53.943Z"
   },
   {
    "duration": 3,
    "start_time": "2021-11-17T21:36:56.165Z"
   },
   {
    "duration": 4,
    "start_time": "2021-11-17T21:37:16.590Z"
   },
   {
    "duration": 3,
    "start_time": "2021-11-17T21:37:22.702Z"
   },
   {
    "duration": 4,
    "start_time": "2021-11-17T21:38:03.479Z"
   },
   {
    "duration": 3,
    "start_time": "2021-11-17T21:38:08.601Z"
   },
   {
    "duration": 3,
    "start_time": "2021-11-17T21:38:12.928Z"
   },
   {
    "duration": 3,
    "start_time": "2021-11-17T21:38:48.896Z"
   },
   {
    "duration": 2,
    "start_time": "2021-11-17T21:38:49.171Z"
   },
   {
    "duration": 4,
    "start_time": "2021-11-17T21:39:57.889Z"
   },
   {
    "duration": 3,
    "start_time": "2021-11-17T21:39:58.057Z"
   },
   {
    "duration": 3,
    "start_time": "2021-11-17T21:41:20.108Z"
   },
   {
    "duration": 3,
    "start_time": "2021-11-17T21:41:20.629Z"
   },
   {
    "duration": 3,
    "start_time": "2021-11-17T21:42:49.136Z"
   },
   {
    "duration": 3,
    "start_time": "2021-11-17T21:43:15.137Z"
   },
   {
    "duration": 4,
    "start_time": "2021-11-17T21:43:16.766Z"
   },
   {
    "duration": 4,
    "start_time": "2021-11-17T21:43:31.711Z"
   },
   {
    "duration": 3,
    "start_time": "2021-11-17T21:43:36.312Z"
   },
   {
    "duration": 4,
    "start_time": "2021-11-17T21:45:08.825Z"
   },
   {
    "duration": 4,
    "start_time": "2021-11-17T21:45:10.119Z"
   },
   {
    "duration": 4,
    "start_time": "2021-11-17T21:45:13.748Z"
   },
   {
    "duration": 3,
    "start_time": "2021-11-17T21:45:22.219Z"
   },
   {
    "duration": 3,
    "start_time": "2021-11-17T21:45:33.412Z"
   },
   {
    "duration": 2,
    "start_time": "2021-11-17T21:46:01.885Z"
   },
   {
    "duration": 3,
    "start_time": "2021-11-17T21:46:03.628Z"
   },
   {
    "duration": 107,
    "start_time": "2021-11-17T21:47:32.512Z"
   },
   {
    "duration": 103,
    "start_time": "2021-11-17T21:50:36.243Z"
   },
   {
    "duration": 3,
    "start_time": "2021-11-18T06:28:31.440Z"
   },
   {
    "duration": 3,
    "start_time": "2021-11-18T06:29:00.168Z"
   },
   {
    "duration": 3,
    "start_time": "2021-11-18T06:31:27.008Z"
   },
   {
    "duration": 2,
    "start_time": "2021-11-18T06:35:34.288Z"
   },
   {
    "duration": 2,
    "start_time": "2021-11-18T06:38:04.527Z"
   },
   {
    "duration": 155,
    "start_time": "2025-03-25T14:16:32.516Z"
   },
   {
    "duration": 308,
    "start_time": "2025-03-25T14:16:39.113Z"
   },
   {
    "duration": 363,
    "start_time": "2025-03-25T14:16:40.777Z"
   },
   {
    "duration": 235,
    "start_time": "2025-03-25T14:25:18.305Z"
   },
   {
    "duration": 9,
    "start_time": "2025-03-25T14:25:56.608Z"
   },
   {
    "duration": 6,
    "start_time": "2025-03-25T14:27:26.019Z"
   },
   {
    "duration": 5,
    "start_time": "2025-03-25T14:28:00.971Z"
   },
   {
    "duration": 5,
    "start_time": "2025-03-25T14:28:10.593Z"
   },
   {
    "duration": 11,
    "start_time": "2025-03-25T14:28:55.983Z"
   },
   {
    "duration": 20,
    "start_time": "2025-03-25T14:29:02.090Z"
   },
   {
    "duration": 26,
    "start_time": "2025-03-25T14:29:15.057Z"
   },
   {
    "duration": 26,
    "start_time": "2025-03-25T14:31:28.831Z"
   },
   {
    "duration": 34,
    "start_time": "2025-03-25T14:31:41.951Z"
   },
   {
    "duration": 27,
    "start_time": "2025-03-25T14:31:52.880Z"
   },
   {
    "duration": 26,
    "start_time": "2025-03-25T14:31:59.777Z"
   },
   {
    "duration": 28,
    "start_time": "2025-03-25T14:32:35.010Z"
   },
   {
    "duration": 15,
    "start_time": "2025-03-25T14:48:37.375Z"
   },
   {
    "duration": 11,
    "start_time": "2025-03-25T14:48:48.214Z"
   },
   {
    "duration": 3,
    "start_time": "2025-03-25T14:58:02.904Z"
   },
   {
    "duration": 4,
    "start_time": "2025-03-25T14:59:07.557Z"
   },
   {
    "duration": 8,
    "start_time": "2025-03-25T15:01:32.978Z"
   },
   {
    "duration": 9,
    "start_time": "2025-03-25T15:01:40.747Z"
   },
   {
    "duration": 8,
    "start_time": "2025-03-25T15:02:05.968Z"
   },
   {
    "duration": 158,
    "start_time": "2025-03-25T15:06:59.453Z"
   },
   {
    "duration": 304,
    "start_time": "2025-03-25T15:07:17.303Z"
   },
   {
    "duration": 161,
    "start_time": "2025-03-25T15:07:19.694Z"
   },
   {
    "duration": 10,
    "start_time": "2025-03-25T15:07:22.845Z"
   },
   {
    "duration": 9,
    "start_time": "2025-03-25T15:07:27.583Z"
   },
   {
    "duration": 32,
    "start_time": "2025-03-25T15:07:32.697Z"
   },
   {
    "duration": 5,
    "start_time": "2025-03-25T15:07:37.561Z"
   },
   {
    "duration": 23,
    "start_time": "2025-03-25T15:07:42.182Z"
   },
   {
    "duration": 8,
    "start_time": "2025-03-25T15:07:48.715Z"
   },
   {
    "duration": 174,
    "start_time": "2025-03-25T21:21:59.449Z"
   },
   {
    "duration": 301,
    "start_time": "2025-03-25T21:22:27.290Z"
   },
   {
    "duration": 222,
    "start_time": "2025-03-25T21:22:27.594Z"
   },
   {
    "duration": 8,
    "start_time": "2025-03-25T21:22:27.818Z"
   },
   {
    "duration": 31,
    "start_time": "2025-03-25T21:22:27.828Z"
   },
   {
    "duration": 4,
    "start_time": "2025-03-25T21:22:27.860Z"
   },
   {
    "duration": 7,
    "start_time": "2025-03-25T21:22:27.866Z"
   },
   {
    "duration": 52,
    "start_time": "2025-03-25T21:22:27.875Z"
   },
   {
    "duration": 4,
    "start_time": "2025-03-25T21:22:27.929Z"
   },
   {
    "duration": 3,
    "start_time": "2025-03-25T21:22:27.934Z"
   },
   {
    "duration": 2,
    "start_time": "2025-03-25T21:22:27.941Z"
   },
   {
    "duration": 3,
    "start_time": "2025-03-25T21:22:27.944Z"
   },
   {
    "duration": 3,
    "start_time": "2025-03-25T21:22:27.949Z"
   },
   {
    "duration": 3,
    "start_time": "2025-03-25T21:22:27.953Z"
   },
   {
    "duration": 2,
    "start_time": "2025-03-25T21:22:27.959Z"
   },
   {
    "duration": 43,
    "start_time": "2025-03-25T21:22:27.963Z"
   },
   {
    "duration": 3,
    "start_time": "2025-03-25T21:22:28.007Z"
   },
   {
    "duration": 3,
    "start_time": "2025-03-25T21:22:28.012Z"
   },
   {
    "duration": 2,
    "start_time": "2025-03-25T21:22:28.017Z"
   },
   {
    "duration": 2,
    "start_time": "2025-03-25T21:22:28.022Z"
   },
   {
    "duration": 2,
    "start_time": "2025-03-25T21:22:28.026Z"
   },
   {
    "duration": 3,
    "start_time": "2025-03-25T21:22:28.030Z"
   },
   {
    "duration": 3,
    "start_time": "2025-03-25T21:22:28.035Z"
   },
   {
    "duration": 3,
    "start_time": "2025-03-25T21:22:28.039Z"
   },
   {
    "duration": 2,
    "start_time": "2025-03-25T21:22:28.044Z"
   },
   {
    "duration": 3,
    "start_time": "2025-03-25T21:22:28.048Z"
   },
   {
    "duration": 3,
    "start_time": "2025-03-25T21:22:28.053Z"
   },
   {
    "duration": 3,
    "start_time": "2025-03-25T21:22:28.057Z"
   },
   {
    "duration": 2,
    "start_time": "2025-03-25T21:22:28.105Z"
   },
   {
    "duration": 3,
    "start_time": "2025-03-25T21:22:28.109Z"
   },
   {
    "duration": 3,
    "start_time": "2025-03-25T21:22:28.114Z"
   },
   {
    "duration": 24,
    "start_time": "2025-03-25T21:23:05.298Z"
   },
   {
    "duration": 28,
    "start_time": "2025-03-25T21:23:11.540Z"
   },
   {
    "duration": 463,
    "start_time": "2025-03-25T21:23:47.681Z"
   },
   {
    "duration": 32,
    "start_time": "2025-03-25T21:24:00.607Z"
   },
   {
    "duration": 30,
    "start_time": "2025-03-25T21:24:05.645Z"
   },
   {
    "duration": 2,
    "start_time": "2025-03-25T21:29:19.692Z"
   },
   {
    "duration": 5,
    "start_time": "2025-03-25T21:32:25.154Z"
   },
   {
    "duration": 13,
    "start_time": "2025-03-25T21:32:43.833Z"
   },
   {
    "duration": 13,
    "start_time": "2025-03-25T21:32:53.384Z"
   },
   {
    "duration": 15,
    "start_time": "2025-03-25T21:33:04.038Z"
   },
   {
    "duration": 6,
    "start_time": "2025-03-25T21:33:15.409Z"
   },
   {
    "duration": 5,
    "start_time": "2025-03-25T22:00:07.406Z"
   },
   {
    "duration": 13,
    "start_time": "2025-03-25T22:00:20.679Z"
   },
   {
    "duration": 14,
    "start_time": "2025-03-25T22:04:25.044Z"
   },
   {
    "duration": 15,
    "start_time": "2025-03-25T22:06:03.737Z"
   },
   {
    "duration": 17,
    "start_time": "2025-03-25T22:14:48.622Z"
   },
   {
    "duration": 63,
    "start_time": "2025-03-25T22:15:40.738Z"
   },
   {
    "duration": 45,
    "start_time": "2025-03-25T22:27:00.578Z"
   },
   {
    "duration": 505,
    "start_time": "2025-03-25T22:42:19.375Z"
   },
   {
    "duration": 22,
    "start_time": "2025-03-25T22:42:49.258Z"
   },
   {
    "duration": 26,
    "start_time": "2025-03-25T22:43:07.954Z"
   },
   {
    "duration": 27,
    "start_time": "2025-03-25T22:46:36.336Z"
   },
   {
    "duration": 33,
    "start_time": "2025-03-25T22:50:05.050Z"
   },
   {
    "duration": 90,
    "start_time": "2025-03-25T22:50:07.240Z"
   },
   {
    "duration": 13,
    "start_time": "2025-03-25T22:58:13.213Z"
   },
   {
    "duration": 36,
    "start_time": "2025-03-25T22:58:14.823Z"
   },
   {
    "duration": 178,
    "start_time": "2025-03-27T17:52:03.681Z"
   },
   {
    "duration": 311,
    "start_time": "2025-03-27T17:52:10.483Z"
   },
   {
    "duration": 220,
    "start_time": "2025-03-27T17:52:10.795Z"
   },
   {
    "duration": 11,
    "start_time": "2025-03-27T17:52:11.017Z"
   },
   {
    "duration": 34,
    "start_time": "2025-03-27T17:52:11.032Z"
   },
   {
    "duration": 21,
    "start_time": "2025-03-27T17:52:11.068Z"
   },
   {
    "duration": 8,
    "start_time": "2025-03-27T17:52:11.091Z"
   },
   {
    "duration": 24,
    "start_time": "2025-03-27T17:52:11.101Z"
   },
   {
    "duration": 5,
    "start_time": "2025-03-27T17:52:11.127Z"
   },
   {
    "duration": 14,
    "start_time": "2025-03-27T17:52:11.133Z"
   },
   {
    "duration": 19,
    "start_time": "2025-03-27T17:52:11.187Z"
   },
   {
    "duration": 83,
    "start_time": "2025-03-27T17:52:11.208Z"
   },
   {
    "duration": 39,
    "start_time": "2025-03-27T17:52:11.293Z"
   },
   {
    "duration": 31,
    "start_time": "2025-03-27T17:52:11.334Z"
   },
   {
    "duration": 30,
    "start_time": "2025-03-27T17:52:11.366Z"
   },
   {
    "duration": 33,
    "start_time": "2025-03-27T17:52:11.398Z"
   },
   {
    "duration": 91,
    "start_time": "2025-03-27T17:52:11.433Z"
   },
   {
    "duration": 2,
    "start_time": "2025-03-27T17:52:11.526Z"
   },
   {
    "duration": 3,
    "start_time": "2025-03-27T17:52:11.530Z"
   },
   {
    "duration": 4,
    "start_time": "2025-03-27T17:52:11.534Z"
   },
   {
    "duration": 3,
    "start_time": "2025-03-27T17:52:11.539Z"
   },
   {
    "duration": 3,
    "start_time": "2025-03-27T17:52:11.544Z"
   },
   {
    "duration": 2,
    "start_time": "2025-03-27T17:52:11.549Z"
   },
   {
    "duration": 3,
    "start_time": "2025-03-27T17:52:11.553Z"
   },
   {
    "duration": 29,
    "start_time": "2025-03-27T17:52:11.558Z"
   },
   {
    "duration": 3,
    "start_time": "2025-03-27T17:52:11.589Z"
   },
   {
    "duration": 3,
    "start_time": "2025-03-27T17:52:11.593Z"
   },
   {
    "duration": 3,
    "start_time": "2025-03-27T17:52:11.598Z"
   },
   {
    "duration": 2,
    "start_time": "2025-03-27T17:52:11.604Z"
   },
   {
    "duration": 3,
    "start_time": "2025-03-27T17:52:11.608Z"
   },
   {
    "duration": 3,
    "start_time": "2025-03-27T17:52:11.613Z"
   },
   {
    "duration": 3,
    "start_time": "2025-03-27T17:52:11.617Z"
   },
   {
    "duration": 3,
    "start_time": "2025-03-27T17:52:11.622Z"
   },
   {
    "duration": 3,
    "start_time": "2025-03-27T17:52:11.627Z"
   },
   {
    "duration": 17,
    "start_time": "2025-03-27T17:53:35.027Z"
   },
   {
    "duration": 61,
    "start_time": "2025-03-27T17:53:39.517Z"
   },
   {
    "duration": 33,
    "start_time": "2025-03-27T18:14:33.532Z"
   },
   {
    "duration": 513,
    "start_time": "2025-03-27T18:14:43.286Z"
   },
   {
    "duration": 41,
    "start_time": "2025-03-27T18:15:10.175Z"
   },
   {
    "duration": 26,
    "start_time": "2025-03-27T18:15:19.717Z"
   },
   {
    "duration": 290,
    "start_time": "2025-03-27T18:15:27.855Z"
   },
   {
    "duration": 165,
    "start_time": "2025-03-27T18:15:28.147Z"
   },
   {
    "duration": 9,
    "start_time": "2025-03-27T18:15:28.315Z"
   },
   {
    "duration": 66,
    "start_time": "2025-03-27T18:15:28.326Z"
   },
   {
    "duration": 5,
    "start_time": "2025-03-27T18:15:28.396Z"
   },
   {
    "duration": 11,
    "start_time": "2025-03-27T18:15:28.403Z"
   },
   {
    "duration": 25,
    "start_time": "2025-03-27T18:15:28.416Z"
   },
   {
    "duration": 5,
    "start_time": "2025-03-27T18:15:28.442Z"
   },
   {
    "duration": 48,
    "start_time": "2025-03-27T18:15:28.449Z"
   },
   {
    "duration": 22,
    "start_time": "2025-03-27T18:15:28.499Z"
   },
   {
    "duration": 85,
    "start_time": "2025-03-27T18:15:28.522Z"
   },
   {
    "duration": 39,
    "start_time": "2025-03-27T18:15:28.608Z"
   },
   {
    "duration": 42,
    "start_time": "2025-03-27T18:15:28.650Z"
   },
   {
    "duration": 11,
    "start_time": "2025-03-27T18:15:28.696Z"
   },
   {
    "duration": 34,
    "start_time": "2025-03-27T18:15:28.709Z"
   },
   {
    "duration": 56,
    "start_time": "2025-03-27T18:15:28.744Z"
   },
   {
    "duration": 14,
    "start_time": "2025-03-27T18:15:28.802Z"
   },
   {
    "duration": 74,
    "start_time": "2025-03-27T18:15:28.817Z"
   },
   {
    "duration": 2,
    "start_time": "2025-03-27T18:15:28.893Z"
   },
   {
    "duration": 3,
    "start_time": "2025-03-27T18:15:28.897Z"
   },
   {
    "duration": 3,
    "start_time": "2025-03-27T18:15:28.902Z"
   },
   {
    "duration": 3,
    "start_time": "2025-03-27T18:15:28.907Z"
   },
   {
    "duration": 2,
    "start_time": "2025-03-27T18:15:28.912Z"
   },
   {
    "duration": 3,
    "start_time": "2025-03-27T18:15:28.916Z"
   },
   {
    "duration": 4,
    "start_time": "2025-03-27T18:15:28.920Z"
   },
   {
    "duration": 2,
    "start_time": "2025-03-27T18:15:28.926Z"
   },
   {
    "duration": 3,
    "start_time": "2025-03-27T18:15:28.929Z"
   },
   {
    "duration": 3,
    "start_time": "2025-03-27T18:15:28.934Z"
   },
   {
    "duration": 3,
    "start_time": "2025-03-27T18:15:28.938Z"
   },
   {
    "duration": 43,
    "start_time": "2025-03-27T18:15:28.943Z"
   },
   {
    "duration": 3,
    "start_time": "2025-03-27T18:15:28.988Z"
   },
   {
    "duration": 3,
    "start_time": "2025-03-27T18:15:28.993Z"
   },
   {
    "duration": 3,
    "start_time": "2025-03-27T18:15:28.998Z"
   },
   {
    "duration": 3,
    "start_time": "2025-03-27T18:15:29.002Z"
   },
   {
    "duration": 111,
    "start_time": "2025-03-27T18:15:43.194Z"
   },
   {
    "duration": 38,
    "start_time": "2025-03-27T18:15:48.986Z"
   },
   {
    "duration": 29,
    "start_time": "2025-03-27T19:30:51.111Z"
   },
   {
    "duration": 9,
    "start_time": "2025-03-27T19:30:58.706Z"
   },
   {
    "duration": 14,
    "start_time": "2025-03-27T19:34:20.703Z"
   },
   {
    "duration": 328,
    "start_time": "2025-03-27T19:35:25.002Z"
   },
   {
    "duration": 164,
    "start_time": "2025-03-27T19:35:25.332Z"
   },
   {
    "duration": 9,
    "start_time": "2025-03-27T19:35:25.498Z"
   },
   {
    "duration": 37,
    "start_time": "2025-03-27T19:35:25.509Z"
   },
   {
    "duration": 5,
    "start_time": "2025-03-27T19:35:25.549Z"
   },
   {
    "duration": 38,
    "start_time": "2025-03-27T19:35:25.555Z"
   },
   {
    "duration": 22,
    "start_time": "2025-03-27T19:35:25.595Z"
   },
   {
    "duration": 5,
    "start_time": "2025-03-27T19:35:25.619Z"
   },
   {
    "duration": 14,
    "start_time": "2025-03-27T19:35:25.626Z"
   },
   {
    "duration": 45,
    "start_time": "2025-03-27T19:35:25.642Z"
   },
   {
    "duration": 61,
    "start_time": "2025-03-27T19:35:25.690Z"
   },
   {
    "duration": 62,
    "start_time": "2025-03-27T19:35:25.753Z"
   },
   {
    "duration": 29,
    "start_time": "2025-03-27T19:35:25.816Z"
   },
   {
    "duration": 12,
    "start_time": "2025-03-27T19:35:25.850Z"
   },
   {
    "duration": 52,
    "start_time": "2025-03-27T19:35:25.863Z"
   },
   {
    "duration": 2,
    "start_time": "2025-03-27T19:35:25.917Z"
   },
   {
    "duration": 3,
    "start_time": "2025-03-27T19:35:25.921Z"
   },
   {
    "duration": 13,
    "start_time": "2025-03-27T19:35:25.926Z"
   },
   {
    "duration": 89,
    "start_time": "2025-03-27T19:35:25.941Z"
   },
   {
    "duration": 2,
    "start_time": "2025-03-27T19:35:26.031Z"
   },
   {
    "duration": 3,
    "start_time": "2025-03-27T19:35:26.035Z"
   },
   {
    "duration": 3,
    "start_time": "2025-03-27T19:35:26.040Z"
   },
   {
    "duration": 3,
    "start_time": "2025-03-27T19:35:26.044Z"
   },
   {
    "duration": 3,
    "start_time": "2025-03-27T19:35:26.049Z"
   },
   {
    "duration": 3,
    "start_time": "2025-03-27T19:35:26.054Z"
   },
   {
    "duration": 3,
    "start_time": "2025-03-27T19:35:26.058Z"
   },
   {
    "duration": 2,
    "start_time": "2025-03-27T19:35:26.087Z"
   },
   {
    "duration": 3,
    "start_time": "2025-03-27T19:35:26.091Z"
   },
   {
    "duration": 2,
    "start_time": "2025-03-27T19:35:26.096Z"
   },
   {
    "duration": 3,
    "start_time": "2025-03-27T19:35:26.100Z"
   },
   {
    "duration": 3,
    "start_time": "2025-03-27T19:35:26.105Z"
   },
   {
    "duration": 3,
    "start_time": "2025-03-27T19:35:26.110Z"
   },
   {
    "duration": 2,
    "start_time": "2025-03-27T19:35:26.115Z"
   },
   {
    "duration": 3,
    "start_time": "2025-03-27T19:35:26.119Z"
   },
   {
    "duration": 2,
    "start_time": "2025-03-27T19:35:26.124Z"
   },
   {
    "duration": 3,
    "start_time": "2025-03-27T19:35:26.128Z"
   },
   {
    "duration": 4,
    "start_time": "2025-03-27T19:35:26.132Z"
   },
   {
    "duration": 9,
    "start_time": "2025-03-27T19:38:12.819Z"
   },
   {
    "duration": 7,
    "start_time": "2025-03-27T19:38:21.915Z"
   },
   {
    "duration": 8,
    "start_time": "2025-03-27T19:39:02.503Z"
   },
   {
    "duration": 10,
    "start_time": "2025-03-27T19:39:47.252Z"
   },
   {
    "duration": 483,
    "start_time": "2025-03-27T19:39:58.785Z"
   },
   {
    "duration": 269,
    "start_time": "2025-03-27T19:40:40.974Z"
   },
   {
    "duration": 162,
    "start_time": "2025-03-27T19:40:41.245Z"
   },
   {
    "duration": 10,
    "start_time": "2025-03-27T19:40:41.408Z"
   },
   {
    "duration": 33,
    "start_time": "2025-03-27T19:40:41.419Z"
   },
   {
    "duration": 4,
    "start_time": "2025-03-27T19:40:41.455Z"
   },
   {
    "duration": 35,
    "start_time": "2025-03-27T19:40:41.461Z"
   },
   {
    "duration": 23,
    "start_time": "2025-03-27T19:40:41.498Z"
   },
   {
    "duration": 4,
    "start_time": "2025-03-27T19:40:41.522Z"
   },
   {
    "duration": 14,
    "start_time": "2025-03-27T19:40:41.528Z"
   },
   {
    "duration": 44,
    "start_time": "2025-03-27T19:40:41.543Z"
   },
   {
    "duration": 57,
    "start_time": "2025-03-27T19:40:41.588Z"
   },
   {
    "duration": 56,
    "start_time": "2025-03-27T19:40:41.647Z"
   },
   {
    "duration": 30,
    "start_time": "2025-03-27T19:40:41.705Z"
   },
   {
    "duration": 11,
    "start_time": "2025-03-27T19:40:41.740Z"
   },
   {
    "duration": 56,
    "start_time": "2025-03-27T19:40:41.752Z"
   },
   {
    "duration": 29,
    "start_time": "2025-03-27T19:40:41.810Z"
   },
   {
    "duration": 10,
    "start_time": "2025-03-27T19:40:41.840Z"
   },
   {
    "duration": 12,
    "start_time": "2025-03-27T19:40:41.852Z"
   },
   {
    "duration": 59,
    "start_time": "2025-03-27T19:40:41.886Z"
   },
   {
    "duration": 2,
    "start_time": "2025-03-27T19:40:41.947Z"
   },
   {
    "duration": 3,
    "start_time": "2025-03-27T19:40:41.951Z"
   },
   {
    "duration": 4,
    "start_time": "2025-03-27T19:40:41.955Z"
   },
   {
    "duration": 26,
    "start_time": "2025-03-27T19:40:41.960Z"
   },
   {
    "duration": 3,
    "start_time": "2025-03-27T19:40:41.988Z"
   },
   {
    "duration": 2,
    "start_time": "2025-03-27T19:40:41.993Z"
   },
   {
    "duration": 3,
    "start_time": "2025-03-27T19:40:41.997Z"
   },
   {
    "duration": 4,
    "start_time": "2025-03-27T19:40:42.002Z"
   },
   {
    "duration": 3,
    "start_time": "2025-03-27T19:40:42.007Z"
   },
   {
    "duration": 4,
    "start_time": "2025-03-27T19:40:42.011Z"
   },
   {
    "duration": 3,
    "start_time": "2025-03-27T19:40:42.016Z"
   },
   {
    "duration": 3,
    "start_time": "2025-03-27T19:40:42.021Z"
   },
   {
    "duration": 4,
    "start_time": "2025-03-27T19:40:42.025Z"
   },
   {
    "duration": 3,
    "start_time": "2025-03-27T19:40:42.030Z"
   },
   {
    "duration": 3,
    "start_time": "2025-03-27T19:40:42.035Z"
   },
   {
    "duration": 3,
    "start_time": "2025-03-27T19:40:42.040Z"
   },
   {
    "duration": 4,
    "start_time": "2025-03-27T19:40:42.044Z"
   },
   {
    "duration": 3,
    "start_time": "2025-03-27T19:40:42.087Z"
   },
   {
    "duration": 15,
    "start_time": "2025-03-27T19:41:30.364Z"
   },
   {
    "duration": 11,
    "start_time": "2025-03-27T19:44:59.716Z"
   },
   {
    "duration": 439,
    "start_time": "2025-03-27T19:54:18.256Z"
   },
   {
    "duration": 38,
    "start_time": "2025-03-27T19:56:28.363Z"
   },
   {
    "duration": 17,
    "start_time": "2025-03-27T19:56:30.592Z"
   },
   {
    "duration": 333,
    "start_time": "2025-03-27T19:57:17.098Z"
   },
   {
    "duration": 178,
    "start_time": "2025-03-27T19:57:17.433Z"
   },
   {
    "duration": 10,
    "start_time": "2025-03-27T19:57:17.613Z"
   },
   {
    "duration": 32,
    "start_time": "2025-03-27T19:57:17.624Z"
   },
   {
    "duration": 28,
    "start_time": "2025-03-27T19:57:17.659Z"
   },
   {
    "duration": 10,
    "start_time": "2025-03-27T19:57:17.688Z"
   },
   {
    "duration": 23,
    "start_time": "2025-03-27T19:57:17.699Z"
   },
   {
    "duration": 5,
    "start_time": "2025-03-27T19:57:17.724Z"
   },
   {
    "duration": 13,
    "start_time": "2025-03-27T19:57:17.730Z"
   },
   {
    "duration": 18,
    "start_time": "2025-03-27T19:57:17.786Z"
   },
   {
    "duration": 64,
    "start_time": "2025-03-27T19:57:17.805Z"
   },
   {
    "duration": 38,
    "start_time": "2025-03-27T19:57:17.888Z"
   },
   {
    "duration": 30,
    "start_time": "2025-03-27T19:57:17.928Z"
   },
   {
    "duration": 28,
    "start_time": "2025-03-27T19:57:17.962Z"
   },
   {
    "duration": 36,
    "start_time": "2025-03-27T19:57:17.991Z"
   },
   {
    "duration": 28,
    "start_time": "2025-03-27T19:57:18.028Z"
   },
   {
    "duration": 29,
    "start_time": "2025-03-27T19:57:18.058Z"
   },
   {
    "duration": 14,
    "start_time": "2025-03-27T19:57:18.089Z"
   },
   {
    "duration": 83,
    "start_time": "2025-03-27T19:57:18.104Z"
   },
   {
    "duration": 38,
    "start_time": "2025-03-27T19:57:18.189Z"
   },
   {
    "duration": 16,
    "start_time": "2025-03-27T19:57:18.228Z"
   },
   {
    "duration": 2,
    "start_time": "2025-03-27T19:57:18.246Z"
   },
   {
    "duration": 3,
    "start_time": "2025-03-27T19:57:18.250Z"
   },
   {
    "duration": 3,
    "start_time": "2025-03-27T19:57:18.255Z"
   },
   {
    "duration": 2,
    "start_time": "2025-03-27T19:57:18.287Z"
   },
   {
    "duration": 2,
    "start_time": "2025-03-27T19:57:18.292Z"
   },
   {
    "duration": 3,
    "start_time": "2025-03-27T19:57:18.296Z"
   },
   {
    "duration": 4,
    "start_time": "2025-03-27T19:57:18.300Z"
   },
   {
    "duration": 3,
    "start_time": "2025-03-27T19:57:18.306Z"
   },
   {
    "duration": 3,
    "start_time": "2025-03-27T19:57:18.310Z"
   },
   {
    "duration": 3,
    "start_time": "2025-03-27T19:57:18.315Z"
   },
   {
    "duration": 3,
    "start_time": "2025-03-27T19:57:18.320Z"
   },
   {
    "duration": 3,
    "start_time": "2025-03-27T19:57:18.324Z"
   },
   {
    "duration": 3,
    "start_time": "2025-03-27T19:57:18.329Z"
   },
   {
    "duration": 2,
    "start_time": "2025-03-27T19:57:18.334Z"
   },
   {
    "duration": 3,
    "start_time": "2025-03-27T19:57:18.338Z"
   },
   {
    "duration": 44,
    "start_time": "2025-03-27T19:57:18.342Z"
   },
   {
    "duration": 275,
    "start_time": "2025-03-27T19:59:44.762Z"
   },
   {
    "duration": 159,
    "start_time": "2025-03-27T19:59:45.039Z"
   },
   {
    "duration": 9,
    "start_time": "2025-03-27T19:59:45.200Z"
   },
   {
    "duration": 32,
    "start_time": "2025-03-27T19:59:45.211Z"
   },
   {
    "duration": 5,
    "start_time": "2025-03-27T19:59:45.246Z"
   },
   {
    "duration": 35,
    "start_time": "2025-03-27T19:59:45.252Z"
   },
   {
    "duration": 21,
    "start_time": "2025-03-27T19:59:45.288Z"
   },
   {
    "duration": 4,
    "start_time": "2025-03-27T19:59:45.311Z"
   },
   {
    "duration": 14,
    "start_time": "2025-03-27T19:59:45.317Z"
   },
   {
    "duration": 15,
    "start_time": "2025-03-27T19:59:45.332Z"
   },
   {
    "duration": 90,
    "start_time": "2025-03-27T19:59:45.349Z"
   },
   {
    "duration": 51,
    "start_time": "2025-03-27T19:59:45.441Z"
   },
   {
    "duration": 31,
    "start_time": "2025-03-27T19:59:45.494Z"
   },
   {
    "duration": 11,
    "start_time": "2025-03-27T19:59:45.529Z"
   },
   {
    "duration": 54,
    "start_time": "2025-03-27T19:59:45.541Z"
   },
   {
    "duration": 28,
    "start_time": "2025-03-27T19:59:45.597Z"
   },
   {
    "duration": 5,
    "start_time": "2025-03-27T19:59:45.627Z"
   },
   {
    "duration": 13,
    "start_time": "2025-03-27T19:59:45.634Z"
   },
   {
    "duration": 84,
    "start_time": "2025-03-27T19:59:45.649Z"
   },
   {
    "duration": 63,
    "start_time": "2025-03-27T19:59:45.736Z"
   },
   {
    "duration": 15,
    "start_time": "2025-03-27T19:59:45.801Z"
   },
   {
    "duration": 2,
    "start_time": "2025-03-27T19:59:45.817Z"
   },
   {
    "duration": 4,
    "start_time": "2025-03-27T19:59:45.820Z"
   },
   {
    "duration": 3,
    "start_time": "2025-03-27T19:59:45.825Z"
   },
   {
    "duration": 4,
    "start_time": "2025-03-27T19:59:45.829Z"
   },
   {
    "duration": 3,
    "start_time": "2025-03-27T19:59:45.834Z"
   },
   {
    "duration": 2,
    "start_time": "2025-03-27T19:59:45.840Z"
   },
   {
    "duration": 4,
    "start_time": "2025-03-27T19:59:45.843Z"
   },
   {
    "duration": 38,
    "start_time": "2025-03-27T19:59:45.848Z"
   },
   {
    "duration": 2,
    "start_time": "2025-03-27T19:59:45.888Z"
   },
   {
    "duration": 4,
    "start_time": "2025-03-27T19:59:45.891Z"
   },
   {
    "duration": 3,
    "start_time": "2025-03-27T19:59:45.897Z"
   },
   {
    "duration": 3,
    "start_time": "2025-03-27T19:59:45.901Z"
   },
   {
    "duration": 3,
    "start_time": "2025-03-27T19:59:45.906Z"
   },
   {
    "duration": 2,
    "start_time": "2025-03-27T19:59:45.911Z"
   },
   {
    "duration": 4,
    "start_time": "2025-03-27T19:59:45.915Z"
   },
   {
    "duration": 3,
    "start_time": "2025-03-27T19:59:45.920Z"
   },
   {
    "duration": 22,
    "start_time": "2025-03-27T20:05:33.800Z"
   },
   {
    "duration": 21,
    "start_time": "2025-03-27T20:05:40.781Z"
   },
   {
    "duration": 14,
    "start_time": "2025-03-27T20:13:20.960Z"
   },
   {
    "duration": 32,
    "start_time": "2025-03-27T20:13:23.266Z"
   },
   {
    "duration": 5,
    "start_time": "2025-03-27T20:16:06.585Z"
   },
   {
    "duration": 179,
    "start_time": "2025-03-27T20:16:18.602Z"
   },
   {
    "duration": 9,
    "start_time": "2025-03-27T20:16:23.475Z"
   },
   {
    "duration": 9,
    "start_time": "2025-03-27T20:19:47.027Z"
   },
   {
    "duration": 12,
    "start_time": "2025-03-27T20:24:22.652Z"
   },
   {
    "duration": 9,
    "start_time": "2025-03-27T20:26:09.654Z"
   },
   {
    "duration": 11,
    "start_time": "2025-03-27T20:26:31.274Z"
   },
   {
    "duration": 9,
    "start_time": "2025-03-27T20:26:49.678Z"
   },
   {
    "duration": 7,
    "start_time": "2025-03-27T20:26:59.145Z"
   },
   {
    "duration": 10,
    "start_time": "2025-03-27T20:32:15.889Z"
   },
   {
    "duration": 13,
    "start_time": "2025-03-27T20:32:16.873Z"
   },
   {
    "duration": 10,
    "start_time": "2025-03-27T20:32:17.297Z"
   },
   {
    "duration": 10,
    "start_time": "2025-03-27T20:32:17.670Z"
   },
   {
    "duration": 305,
    "start_time": "2025-03-27T20:33:08.184Z"
   },
   {
    "duration": 157,
    "start_time": "2025-03-27T20:33:08.491Z"
   },
   {
    "duration": 10,
    "start_time": "2025-03-27T20:33:08.649Z"
   },
   {
    "duration": 44,
    "start_time": "2025-03-27T20:33:08.661Z"
   },
   {
    "duration": 5,
    "start_time": "2025-03-27T20:33:08.707Z"
   },
   {
    "duration": 8,
    "start_time": "2025-03-27T20:33:08.713Z"
   },
   {
    "duration": 21,
    "start_time": "2025-03-27T20:33:08.722Z"
   },
   {
    "duration": 4,
    "start_time": "2025-03-27T20:33:08.745Z"
   },
   {
    "duration": 41,
    "start_time": "2025-03-27T20:33:08.751Z"
   },
   {
    "duration": 15,
    "start_time": "2025-03-27T20:33:08.796Z"
   },
   {
    "duration": 79,
    "start_time": "2025-03-27T20:33:08.813Z"
   },
   {
    "duration": 38,
    "start_time": "2025-03-27T20:33:08.893Z"
   },
   {
    "duration": 30,
    "start_time": "2025-03-27T20:33:08.933Z"
   },
   {
    "duration": 32,
    "start_time": "2025-03-27T20:33:08.965Z"
   },
   {
    "duration": 33,
    "start_time": "2025-03-27T20:33:08.999Z"
   },
   {
    "duration": 29,
    "start_time": "2025-03-27T20:33:09.034Z"
   },
   {
    "duration": 11,
    "start_time": "2025-03-27T20:33:09.086Z"
   },
   {
    "duration": 13,
    "start_time": "2025-03-27T20:33:09.099Z"
   },
   {
    "duration": 84,
    "start_time": "2025-03-27T20:33:09.113Z"
   },
   {
    "duration": 39,
    "start_time": "2025-03-27T20:33:09.199Z"
   },
   {
    "duration": 15,
    "start_time": "2025-03-27T20:33:09.240Z"
   },
   {
    "duration": 7,
    "start_time": "2025-03-27T20:33:09.256Z"
   },
   {
    "duration": 15,
    "start_time": "2025-03-27T20:33:09.286Z"
   },
   {
    "duration": 13,
    "start_time": "2025-03-27T20:33:09.303Z"
   },
   {
    "duration": 13,
    "start_time": "2025-03-27T20:33:09.318Z"
   },
   {
    "duration": 10,
    "start_time": "2025-03-27T20:33:09.333Z"
   },
   {
    "duration": 2,
    "start_time": "2025-03-27T20:33:09.345Z"
   },
   {
    "duration": 3,
    "start_time": "2025-03-27T20:33:09.350Z"
   },
   {
    "duration": 34,
    "start_time": "2025-03-27T20:33:09.354Z"
   },
   {
    "duration": 3,
    "start_time": "2025-03-27T20:33:09.390Z"
   },
   {
    "duration": 3,
    "start_time": "2025-03-27T20:33:09.394Z"
   },
   {
    "duration": 3,
    "start_time": "2025-03-27T20:33:09.399Z"
   },
   {
    "duration": 3,
    "start_time": "2025-03-27T20:33:09.404Z"
   },
   {
    "duration": 2,
    "start_time": "2025-03-27T20:33:09.410Z"
   },
   {
    "duration": 3,
    "start_time": "2025-03-27T20:33:09.413Z"
   },
   {
    "duration": 4,
    "start_time": "2025-03-27T20:33:09.417Z"
   },
   {
    "duration": 2,
    "start_time": "2025-03-27T20:33:09.423Z"
   },
   {
    "duration": 12,
    "start_time": "2025-03-27T20:34:35.166Z"
   },
   {
    "duration": 388,
    "start_time": "2025-03-27T20:42:42.671Z"
   },
   {
    "duration": 10,
    "start_time": "2025-03-27T20:44:46.487Z"
   },
   {
    "duration": 184,
    "start_time": "2025-03-27T20:47:49.403Z"
   },
   {
    "duration": 22,
    "start_time": "2025-03-27T20:47:57.148Z"
   },
   {
    "duration": 15,
    "start_time": "2025-03-27T20:48:03.802Z"
   },
   {
    "duration": 7,
    "start_time": "2025-03-27T20:48:35.387Z"
   },
   {
    "duration": 23,
    "start_time": "2025-03-27T20:53:19.149Z"
   },
   {
    "duration": 308,
    "start_time": "2025-03-27T20:54:22.264Z"
   },
   {
    "duration": 126,
    "start_time": "2025-03-27T20:54:30.347Z"
   },
   {
    "duration": 37,
    "start_time": "2025-03-27T20:54:48.117Z"
   },
   {
    "duration": 20,
    "start_time": "2025-03-27T20:55:34.418Z"
   },
   {
    "duration": 6,
    "start_time": "2025-03-27T20:56:29.871Z"
   },
   {
    "duration": 31,
    "start_time": "2025-03-27T20:56:39.991Z"
   },
   {
    "duration": 11,
    "start_time": "2025-03-27T20:57:25.837Z"
   },
   {
    "duration": 12,
    "start_time": "2025-03-27T20:57:49.768Z"
   },
   {
    "duration": 12,
    "start_time": "2025-03-27T20:58:02.722Z"
   },
   {
    "duration": 19,
    "start_time": "2025-03-27T20:58:09.725Z"
   },
   {
    "duration": 8,
    "start_time": "2025-03-27T20:59:58.518Z"
   },
   {
    "duration": 38,
    "start_time": "2025-03-27T21:24:00.892Z"
   },
   {
    "duration": 263,
    "start_time": "2025-03-27T21:24:09.882Z"
   },
   {
    "duration": 295,
    "start_time": "2025-03-27T21:25:06.983Z"
   },
   {
    "duration": 158,
    "start_time": "2025-03-27T21:25:07.281Z"
   },
   {
    "duration": 10,
    "start_time": "2025-03-27T21:25:07.441Z"
   },
   {
    "duration": 46,
    "start_time": "2025-03-27T21:25:07.453Z"
   },
   {
    "duration": 4,
    "start_time": "2025-03-27T21:25:07.502Z"
   },
   {
    "duration": 8,
    "start_time": "2025-03-27T21:25:07.508Z"
   },
   {
    "duration": 22,
    "start_time": "2025-03-27T21:25:07.518Z"
   },
   {
    "duration": 4,
    "start_time": "2025-03-27T21:25:07.542Z"
   },
   {
    "duration": 47,
    "start_time": "2025-03-27T21:25:07.548Z"
   },
   {
    "duration": 15,
    "start_time": "2025-03-27T21:25:07.597Z"
   },
   {
    "duration": 80,
    "start_time": "2025-03-27T21:25:07.613Z"
   },
   {
    "duration": 38,
    "start_time": "2025-03-27T21:25:07.695Z"
   },
   {
    "duration": 29,
    "start_time": "2025-03-27T21:25:07.735Z"
   },
   {
    "duration": 12,
    "start_time": "2025-03-27T21:25:07.786Z"
   },
   {
    "duration": 33,
    "start_time": "2025-03-27T21:25:07.800Z"
   },
   {
    "duration": 51,
    "start_time": "2025-03-27T21:25:07.836Z"
   },
   {
    "duration": 12,
    "start_time": "2025-03-27T21:25:07.888Z"
   },
   {
    "duration": 13,
    "start_time": "2025-03-27T21:25:07.901Z"
   },
   {
    "duration": 80,
    "start_time": "2025-03-27T21:25:07.915Z"
   },
   {
    "duration": 38,
    "start_time": "2025-03-27T21:25:07.997Z"
   },
   {
    "duration": 14,
    "start_time": "2025-03-27T21:25:08.037Z"
   },
   {
    "duration": 7,
    "start_time": "2025-03-27T21:25:08.053Z"
   },
   {
    "duration": 36,
    "start_time": "2025-03-27T21:25:08.061Z"
   },
   {
    "duration": 11,
    "start_time": "2025-03-27T21:25:08.100Z"
   },
   {
    "duration": 14,
    "start_time": "2025-03-27T21:25:08.113Z"
   },
   {
    "duration": 12,
    "start_time": "2025-03-27T21:25:08.129Z"
   },
   {
    "duration": 20,
    "start_time": "2025-03-27T21:25:08.142Z"
   },
   {
    "duration": 27,
    "start_time": "2025-03-27T21:25:08.163Z"
   },
   {
    "duration": 572,
    "start_time": "2025-03-27T21:25:08.192Z"
   },
   {
    "duration": 0,
    "start_time": "2025-03-27T21:25:08.765Z"
   },
   {
    "duration": 0,
    "start_time": "2025-03-27T21:25:08.766Z"
   },
   {
    "duration": 0,
    "start_time": "2025-03-27T21:25:08.767Z"
   },
   {
    "duration": 0,
    "start_time": "2025-03-27T21:25:08.768Z"
   },
   {
    "duration": 0,
    "start_time": "2025-03-27T21:25:08.770Z"
   },
   {
    "duration": 0,
    "start_time": "2025-03-27T21:25:08.771Z"
   },
   {
    "duration": 0,
    "start_time": "2025-03-27T21:25:08.786Z"
   },
   {
    "duration": 0,
    "start_time": "2025-03-27T21:25:08.787Z"
   },
   {
    "duration": 13,
    "start_time": "2025-03-27T21:25:30.741Z"
   },
   {
    "duration": 54,
    "start_time": "2025-03-27T21:27:02.029Z"
   },
   {
    "duration": 53,
    "start_time": "2025-03-27T21:27:23.201Z"
   },
   {
    "duration": 8,
    "start_time": "2025-03-27T21:29:45.258Z"
   },
   {
    "duration": 52,
    "start_time": "2025-03-27T21:30:50.030Z"
   },
   {
    "duration": 22,
    "start_time": "2025-03-27T21:31:06.178Z"
   },
   {
    "duration": 16,
    "start_time": "2025-03-27T21:32:10.082Z"
   },
   {
    "duration": 20,
    "start_time": "2025-03-27T21:33:07.697Z"
   },
   {
    "duration": 16,
    "start_time": "2025-03-27T21:34:50.749Z"
   },
   {
    "duration": 278,
    "start_time": "2025-03-27T21:35:07.570Z"
   },
   {
    "duration": 167,
    "start_time": "2025-03-27T21:35:07.850Z"
   },
   {
    "duration": 16,
    "start_time": "2025-03-27T21:35:08.021Z"
   },
   {
    "duration": 33,
    "start_time": "2025-03-27T21:35:08.038Z"
   },
   {
    "duration": 4,
    "start_time": "2025-03-27T21:35:08.086Z"
   },
   {
    "duration": 8,
    "start_time": "2025-03-27T21:35:08.092Z"
   },
   {
    "duration": 23,
    "start_time": "2025-03-27T21:35:08.102Z"
   },
   {
    "duration": 10,
    "start_time": "2025-03-27T21:35:08.127Z"
   },
   {
    "duration": 15,
    "start_time": "2025-03-27T21:35:08.139Z"
   },
   {
    "duration": 39,
    "start_time": "2025-03-27T21:35:08.156Z"
   },
   {
    "duration": 59,
    "start_time": "2025-03-27T21:35:08.197Z"
   },
   {
    "duration": 60,
    "start_time": "2025-03-27T21:35:08.258Z"
   },
   {
    "duration": 29,
    "start_time": "2025-03-27T21:35:08.319Z"
   },
   {
    "duration": 13,
    "start_time": "2025-03-27T21:35:08.352Z"
   },
   {
    "duration": 50,
    "start_time": "2025-03-27T21:35:08.366Z"
   },
   {
    "duration": 29,
    "start_time": "2025-03-27T21:35:08.418Z"
   },
   {
    "duration": 11,
    "start_time": "2025-03-27T21:35:08.449Z"
   },
   {
    "duration": 35,
    "start_time": "2025-03-27T21:35:08.461Z"
   },
   {
    "duration": 68,
    "start_time": "2025-03-27T21:35:08.498Z"
   },
   {
    "duration": 54,
    "start_time": "2025-03-27T21:35:08.568Z"
   },
   {
    "duration": 15,
    "start_time": "2025-03-27T21:35:08.624Z"
   },
   {
    "duration": 7,
    "start_time": "2025-03-27T21:35:08.641Z"
   },
   {
    "duration": 13,
    "start_time": "2025-03-27T21:35:08.650Z"
   },
   {
    "duration": 14,
    "start_time": "2025-03-27T21:35:08.687Z"
   },
   {
    "duration": 10,
    "start_time": "2025-03-27T21:35:08.703Z"
   },
   {
    "duration": 10,
    "start_time": "2025-03-27T21:35:08.714Z"
   },
   {
    "duration": 15,
    "start_time": "2025-03-27T21:35:08.725Z"
   },
   {
    "duration": 8,
    "start_time": "2025-03-27T21:35:08.742Z"
   },
   {
    "duration": 39,
    "start_time": "2025-03-27T21:35:08.752Z"
   },
   {
    "duration": 3,
    "start_time": "2025-03-27T21:35:08.793Z"
   },
   {
    "duration": 3,
    "start_time": "2025-03-27T21:35:08.797Z"
   },
   {
    "duration": 3,
    "start_time": "2025-03-27T21:35:08.802Z"
   },
   {
    "duration": 3,
    "start_time": "2025-03-27T21:35:08.806Z"
   },
   {
    "duration": 3,
    "start_time": "2025-03-27T21:35:08.811Z"
   },
   {
    "duration": 4,
    "start_time": "2025-03-27T21:35:08.816Z"
   },
   {
    "duration": 4,
    "start_time": "2025-03-27T21:35:08.822Z"
   },
   {
    "duration": 3,
    "start_time": "2025-03-27T21:35:08.827Z"
   },
   {
    "duration": 575,
    "start_time": "2025-03-27T21:35:32.046Z"
   },
   {
    "duration": 328,
    "start_time": "2025-03-27T21:40:03.419Z"
   },
   {
    "duration": 164,
    "start_time": "2025-03-27T21:40:03.750Z"
   },
   {
    "duration": 10,
    "start_time": "2025-03-27T21:40:03.916Z"
   },
   {
    "duration": 32,
    "start_time": "2025-03-27T21:40:03.927Z"
   },
   {
    "duration": 14,
    "start_time": "2025-03-27T21:40:03.962Z"
   },
   {
    "duration": 11,
    "start_time": "2025-03-27T21:40:03.987Z"
   },
   {
    "duration": 26,
    "start_time": "2025-03-27T21:40:04.000Z"
   },
   {
    "duration": 5,
    "start_time": "2025-03-27T21:40:04.029Z"
   },
   {
    "duration": 14,
    "start_time": "2025-03-27T21:40:04.036Z"
   },
   {
    "duration": 45,
    "start_time": "2025-03-27T21:40:04.052Z"
   },
   {
    "duration": 60,
    "start_time": "2025-03-27T21:40:04.100Z"
   },
   {
    "duration": 60,
    "start_time": "2025-03-27T21:40:04.162Z"
   },
   {
    "duration": 30,
    "start_time": "2025-03-27T21:40:04.224Z"
   },
   {
    "duration": 29,
    "start_time": "2025-03-27T21:40:04.258Z"
   },
   {
    "duration": 37,
    "start_time": "2025-03-27T21:40:04.289Z"
   },
   {
    "duration": 29,
    "start_time": "2025-03-27T21:40:04.328Z"
   },
   {
    "duration": 34,
    "start_time": "2025-03-27T21:40:04.358Z"
   },
   {
    "duration": 14,
    "start_time": "2025-03-27T21:40:04.395Z"
   },
   {
    "duration": 82,
    "start_time": "2025-03-27T21:40:04.411Z"
   },
   {
    "duration": 39,
    "start_time": "2025-03-27T21:40:04.494Z"
   },
   {
    "duration": 14,
    "start_time": "2025-03-27T21:40:04.535Z"
   },
   {
    "duration": 7,
    "start_time": "2025-03-27T21:40:04.551Z"
   },
   {
    "duration": 35,
    "start_time": "2025-03-27T21:40:04.560Z"
   },
   {
    "duration": 11,
    "start_time": "2025-03-27T21:40:04.596Z"
   },
   {
    "duration": 10,
    "start_time": "2025-03-27T21:40:04.609Z"
   },
   {
    "duration": 9,
    "start_time": "2025-03-27T21:40:04.620Z"
   },
   {
    "duration": 14,
    "start_time": "2025-03-27T21:40:04.630Z"
   },
   {
    "duration": 8,
    "start_time": "2025-03-27T21:40:04.646Z"
   },
   {
    "duration": 47,
    "start_time": "2025-03-27T21:40:04.655Z"
   },
   {
    "duration": 2,
    "start_time": "2025-03-27T21:40:04.704Z"
   },
   {
    "duration": 3,
    "start_time": "2025-03-27T21:40:04.708Z"
   },
   {
    "duration": 2,
    "start_time": "2025-03-27T21:40:04.714Z"
   },
   {
    "duration": 4,
    "start_time": "2025-03-27T21:40:04.717Z"
   },
   {
    "duration": 4,
    "start_time": "2025-03-27T21:40:04.722Z"
   },
   {
    "duration": 4,
    "start_time": "2025-03-27T21:40:04.727Z"
   },
   {
    "duration": 3,
    "start_time": "2025-03-27T21:40:04.732Z"
   },
   {
    "duration": 4,
    "start_time": "2025-03-27T21:40:04.736Z"
   },
   {
    "duration": 549,
    "start_time": "2025-03-27T21:40:31.506Z"
   },
   {
    "duration": 20,
    "start_time": "2025-03-27T21:40:34.860Z"
   },
   {
    "duration": 48,
    "start_time": "2025-03-27T21:40:46.167Z"
   },
   {
    "duration": 300,
    "start_time": "2025-03-27T21:40:52.584Z"
   },
   {
    "duration": 168,
    "start_time": "2025-03-27T21:40:52.887Z"
   },
   {
    "duration": 9,
    "start_time": "2025-03-27T21:40:53.057Z"
   },
   {
    "duration": 43,
    "start_time": "2025-03-27T21:40:53.068Z"
   },
   {
    "duration": 4,
    "start_time": "2025-03-27T21:40:53.114Z"
   },
   {
    "duration": 18,
    "start_time": "2025-03-27T21:40:53.120Z"
   },
   {
    "duration": 49,
    "start_time": "2025-03-27T21:40:53.140Z"
   },
   {
    "duration": 10,
    "start_time": "2025-03-27T21:40:53.191Z"
   },
   {
    "duration": 13,
    "start_time": "2025-03-27T21:40:53.203Z"
   },
   {
    "duration": 19,
    "start_time": "2025-03-27T21:40:53.219Z"
   },
   {
    "duration": 83,
    "start_time": "2025-03-27T21:40:53.239Z"
   },
   {
    "duration": 38,
    "start_time": "2025-03-27T21:40:53.324Z"
   },
   {
    "duration": 45,
    "start_time": "2025-03-27T21:40:53.364Z"
   },
   {
    "duration": 302,
    "start_time": "2025-03-27T21:41:26.074Z"
   },
   {
    "duration": 174,
    "start_time": "2025-03-27T21:41:26.381Z"
   },
   {
    "duration": 11,
    "start_time": "2025-03-27T21:41:26.557Z"
   },
   {
    "duration": 47,
    "start_time": "2025-03-27T21:41:26.571Z"
   },
   {
    "duration": 4,
    "start_time": "2025-03-27T21:41:26.621Z"
   },
   {
    "duration": 8,
    "start_time": "2025-03-27T21:41:26.627Z"
   },
   {
    "duration": 51,
    "start_time": "2025-03-27T21:41:26.636Z"
   },
   {
    "duration": 5,
    "start_time": "2025-03-27T21:41:26.690Z"
   },
   {
    "duration": 14,
    "start_time": "2025-03-27T21:41:26.697Z"
   },
   {
    "duration": 17,
    "start_time": "2025-03-27T21:41:26.713Z"
   },
   {
    "duration": 84,
    "start_time": "2025-03-27T21:41:26.732Z"
   },
   {
    "duration": 71,
    "start_time": "2025-03-27T21:41:26.817Z"
   },
   {
    "duration": 30,
    "start_time": "2025-03-27T21:41:26.891Z"
   },
   {
    "duration": 13,
    "start_time": "2025-03-27T21:41:26.925Z"
   },
   {
    "duration": 59,
    "start_time": "2025-03-27T21:41:26.940Z"
   },
   {
    "duration": 31,
    "start_time": "2025-03-27T21:41:27.001Z"
   },
   {
    "duration": 13,
    "start_time": "2025-03-27T21:41:27.036Z"
   },
   {
    "duration": 14,
    "start_time": "2025-03-27T21:41:27.051Z"
   },
   {
    "duration": 108,
    "start_time": "2025-03-27T21:41:27.067Z"
   },
   {
    "duration": 40,
    "start_time": "2025-03-27T21:41:27.187Z"
   },
   {
    "duration": 19,
    "start_time": "2025-03-27T21:41:27.228Z"
   },
   {
    "duration": 8,
    "start_time": "2025-03-27T21:41:27.249Z"
   },
   {
    "duration": 34,
    "start_time": "2025-03-27T21:41:27.258Z"
   },
   {
    "duration": 11,
    "start_time": "2025-03-27T21:41:27.294Z"
   },
   {
    "duration": 13,
    "start_time": "2025-03-27T21:41:27.307Z"
   },
   {
    "duration": 13,
    "start_time": "2025-03-27T21:41:27.322Z"
   },
   {
    "duration": 20,
    "start_time": "2025-03-27T21:41:27.337Z"
   },
   {
    "duration": 33,
    "start_time": "2025-03-27T21:41:27.359Z"
   },
   {
    "duration": 18,
    "start_time": "2025-03-27T21:41:27.394Z"
   },
   {
    "duration": 2,
    "start_time": "2025-03-27T21:41:27.414Z"
   },
   {
    "duration": 2,
    "start_time": "2025-03-27T21:41:27.418Z"
   },
   {
    "duration": 3,
    "start_time": "2025-03-27T21:41:27.422Z"
   },
   {
    "duration": 3,
    "start_time": "2025-03-27T21:41:27.426Z"
   },
   {
    "duration": 3,
    "start_time": "2025-03-27T21:41:27.431Z"
   },
   {
    "duration": 5,
    "start_time": "2025-03-27T21:41:27.435Z"
   },
   {
    "duration": 3,
    "start_time": "2025-03-27T21:41:27.441Z"
   },
   {
    "duration": 42,
    "start_time": "2025-03-27T21:41:27.445Z"
   },
   {
    "duration": 546,
    "start_time": "2025-03-27T21:47:24.918Z"
   },
   {
    "duration": 283,
    "start_time": "2025-03-27T21:47:31.472Z"
   },
   {
    "duration": 161,
    "start_time": "2025-03-27T21:47:31.759Z"
   },
   {
    "duration": 10,
    "start_time": "2025-03-27T21:47:31.921Z"
   },
   {
    "duration": 32,
    "start_time": "2025-03-27T21:47:31.932Z"
   },
   {
    "duration": 20,
    "start_time": "2025-03-27T21:47:31.967Z"
   },
   {
    "duration": 8,
    "start_time": "2025-03-27T21:47:31.989Z"
   },
   {
    "duration": 21,
    "start_time": "2025-03-27T21:47:32.000Z"
   },
   {
    "duration": 4,
    "start_time": "2025-03-27T21:47:32.023Z"
   },
   {
    "duration": 13,
    "start_time": "2025-03-27T21:47:32.029Z"
   },
   {
    "duration": 49,
    "start_time": "2025-03-27T21:47:32.043Z"
   },
   {
    "duration": 58,
    "start_time": "2025-03-27T21:47:32.094Z"
   },
   {
    "duration": 54,
    "start_time": "2025-03-27T21:47:32.154Z"
   },
   {
    "duration": 30,
    "start_time": "2025-03-27T21:47:32.210Z"
   },
   {
    "duration": 13,
    "start_time": "2025-03-27T21:47:32.244Z"
   },
   {
    "duration": 56,
    "start_time": "2025-03-27T21:47:32.259Z"
   },
   {
    "duration": 29,
    "start_time": "2025-03-27T21:47:32.316Z"
   },
   {
    "duration": 11,
    "start_time": "2025-03-27T21:47:32.347Z"
   },
   {
    "duration": 41,
    "start_time": "2025-03-27T21:47:32.359Z"
   },
   {
    "duration": 69,
    "start_time": "2025-03-27T21:47:32.402Z"
   },
   {
    "duration": 51,
    "start_time": "2025-03-27T21:47:32.472Z"
   },
   {
    "duration": 15,
    "start_time": "2025-03-27T21:47:32.525Z"
   },
   {
    "duration": 8,
    "start_time": "2025-03-27T21:47:32.541Z"
   },
   {
    "duration": 37,
    "start_time": "2025-03-27T21:47:32.550Z"
   },
   {
    "duration": 12,
    "start_time": "2025-03-27T21:47:32.588Z"
   },
   {
    "duration": 9,
    "start_time": "2025-03-27T21:47:32.602Z"
   },
   {
    "duration": 9,
    "start_time": "2025-03-27T21:47:32.613Z"
   },
   {
    "duration": 15,
    "start_time": "2025-03-27T21:47:32.623Z"
   },
   {
    "duration": 7,
    "start_time": "2025-03-27T21:47:32.640Z"
   },
   {
    "duration": 52,
    "start_time": "2025-03-27T21:47:32.648Z"
   },
   {
    "duration": 2,
    "start_time": "2025-03-27T21:47:32.701Z"
   },
   {
    "duration": 4,
    "start_time": "2025-03-27T21:47:32.704Z"
   },
   {
    "duration": 3,
    "start_time": "2025-03-27T21:47:32.709Z"
   },
   {
    "duration": 2,
    "start_time": "2025-03-27T21:47:32.714Z"
   },
   {
    "duration": 3,
    "start_time": "2025-03-27T21:47:32.718Z"
   },
   {
    "duration": 3,
    "start_time": "2025-03-27T21:47:32.722Z"
   },
   {
    "duration": 3,
    "start_time": "2025-03-27T21:47:32.727Z"
   },
   {
    "duration": 2,
    "start_time": "2025-03-27T21:47:32.732Z"
   },
   {
    "duration": 6,
    "start_time": "2025-03-27T22:41:21.960Z"
   },
   {
    "duration": 178,
    "start_time": "2025-03-27T22:42:34.725Z"
   },
   {
    "duration": 124,
    "start_time": "2025-03-27T22:42:53.356Z"
   },
   {
    "duration": 30,
    "start_time": "2025-03-27T22:43:18.363Z"
   },
   {
    "duration": 8,
    "start_time": "2025-03-27T22:45:45.625Z"
   },
   {
    "duration": 15,
    "start_time": "2025-03-27T22:45:58.911Z"
   },
   {
    "duration": 7,
    "start_time": "2025-03-27T22:46:02.558Z"
   },
   {
    "duration": 6,
    "start_time": "2025-03-27T22:46:27.090Z"
   },
   {
    "duration": 9,
    "start_time": "2025-03-27T22:46:56.715Z"
   },
   {
    "duration": 2204,
    "start_time": "2025-03-27T22:48:13.987Z"
   },
   {
    "duration": 57,
    "start_time": "2025-03-27T22:48:23.780Z"
   },
   {
    "duration": 143,
    "start_time": "2025-03-27T22:49:49.026Z"
   },
   {
    "duration": 184,
    "start_time": "2025-03-27T22:51:26.833Z"
   },
   {
    "duration": 219,
    "start_time": "2025-03-27T22:57:01.543Z"
   },
   {
    "duration": 246,
    "start_time": "2025-03-27T22:57:27.674Z"
   },
   {
    "duration": 230,
    "start_time": "2025-03-27T22:57:42.007Z"
   },
   {
    "duration": 214,
    "start_time": "2025-03-27T22:57:47.791Z"
   },
   {
    "duration": 217,
    "start_time": "2025-03-27T22:57:57.928Z"
   },
   {
    "duration": 223,
    "start_time": "2025-03-27T22:58:56.692Z"
   },
   {
    "duration": 4,
    "start_time": "2025-03-27T22:59:50.260Z"
   },
   {
    "duration": 6,
    "start_time": "2025-03-27T23:00:09.707Z"
   },
   {
    "duration": 772,
    "start_time": "2025-03-27T23:00:39.299Z"
   },
   {
    "duration": 607,
    "start_time": "2025-03-27T23:00:51.882Z"
   },
   {
    "duration": 158,
    "start_time": "2025-03-27T23:01:54.219Z"
   },
   {
    "duration": 225,
    "start_time": "2025-03-27T23:02:08.071Z"
   },
   {
    "duration": 197,
    "start_time": "2025-03-27T23:02:26.821Z"
   },
   {
    "duration": 209,
    "start_time": "2025-03-27T23:02:37.897Z"
   },
   {
    "duration": 210,
    "start_time": "2025-03-27T23:04:09.519Z"
   },
   {
    "duration": 214,
    "start_time": "2025-03-27T23:04:19.009Z"
   },
   {
    "duration": 1153,
    "start_time": "2025-03-27T23:09:30.765Z"
   },
   {
    "duration": 18,
    "start_time": "2025-03-27T23:12:47.359Z"
   },
   {
    "duration": 101,
    "start_time": "2025-03-27T23:12:59.308Z"
   },
   {
    "duration": 102,
    "start_time": "2025-03-27T23:14:15.214Z"
   },
   {
    "duration": 113,
    "start_time": "2025-03-27T23:15:39.736Z"
   },
   {
    "duration": 125,
    "start_time": "2025-03-27T23:17:09.417Z"
   },
   {
    "duration": 157,
    "start_time": "2025-03-27T23:17:22.965Z"
   },
   {
    "duration": 302,
    "start_time": "2025-03-27T23:18:12.053Z"
   },
   {
    "duration": 306,
    "start_time": "2025-03-27T23:19:32.202Z"
   },
   {
    "duration": 345,
    "start_time": "2025-03-27T23:19:45.848Z"
   },
   {
    "duration": 291,
    "start_time": "2025-03-27T23:20:47.813Z"
   },
   {
    "duration": 6,
    "start_time": "2025-03-27T23:32:35.005Z"
   },
   {
    "duration": 6,
    "start_time": "2025-03-27T23:33:46.776Z"
   },
   {
    "duration": 163,
    "start_time": "2025-03-28T01:16:44.185Z"
   },
   {
    "duration": 2198,
    "start_time": "2025-03-28T01:16:49.411Z"
   },
   {
    "duration": 297,
    "start_time": "2025-03-28T01:16:51.612Z"
   },
   {
    "duration": 43,
    "start_time": "2025-03-28T01:16:51.912Z"
   },
   {
    "duration": 5,
    "start_time": "2025-03-28T01:16:51.958Z"
   },
   {
    "duration": 9,
    "start_time": "2025-03-28T01:16:51.965Z"
   },
   {
    "duration": 46,
    "start_time": "2025-03-28T01:16:51.977Z"
   },
   {
    "duration": 5,
    "start_time": "2025-03-28T01:16:52.025Z"
   },
   {
    "duration": 14,
    "start_time": "2025-03-28T01:16:52.031Z"
   },
   {
    "duration": 17,
    "start_time": "2025-03-28T01:16:52.047Z"
   },
   {
    "duration": 103,
    "start_time": "2025-03-28T01:16:52.066Z"
   },
   {
    "duration": 59,
    "start_time": "2025-03-28T01:16:52.171Z"
   },
   {
    "duration": 40,
    "start_time": "2025-03-28T01:16:52.231Z"
   },
   {
    "duration": 14,
    "start_time": "2025-03-28T01:16:52.274Z"
   },
   {
    "duration": 43,
    "start_time": "2025-03-28T01:16:52.313Z"
   },
   {
    "duration": 51,
    "start_time": "2025-03-28T01:16:52.358Z"
   },
   {
    "duration": 19,
    "start_time": "2025-03-28T01:16:52.411Z"
   },
   {
    "duration": 17,
    "start_time": "2025-03-28T01:16:52.433Z"
   },
   {
    "duration": 93,
    "start_time": "2025-03-28T01:16:52.452Z"
   },
   {
    "duration": 48,
    "start_time": "2025-03-28T01:16:52.546Z"
   },
   {
    "duration": 26,
    "start_time": "2025-03-28T01:16:52.599Z"
   },
   {
    "duration": 9,
    "start_time": "2025-03-28T01:16:52.630Z"
   },
   {
    "duration": 12,
    "start_time": "2025-03-28T01:16:52.641Z"
   },
   {
    "duration": 12,
    "start_time": "2025-03-28T01:16:52.655Z"
   },
   {
    "duration": 10,
    "start_time": "2025-03-28T01:16:52.669Z"
   },
   {
    "duration": 29,
    "start_time": "2025-03-28T01:16:52.681Z"
   },
   {
    "duration": 14,
    "start_time": "2025-03-28T01:16:52.711Z"
   },
   {
    "duration": 7,
    "start_time": "2025-03-28T01:16:52.727Z"
   },
   {
    "duration": 18,
    "start_time": "2025-03-28T01:16:52.736Z"
   },
   {
    "duration": 390,
    "start_time": "2025-03-28T01:16:52.755Z"
   },
   {
    "duration": 304,
    "start_time": "2025-03-28T01:16:53.147Z"
   },
   {
    "duration": 7,
    "start_time": "2025-03-28T01:16:53.453Z"
   },
   {
    "duration": 2,
    "start_time": "2025-03-28T01:16:53.464Z"
   },
   {
    "duration": 2,
    "start_time": "2025-03-28T01:16:53.468Z"
   },
   {
    "duration": 2,
    "start_time": "2025-03-28T01:16:53.472Z"
   },
   {
    "duration": 2,
    "start_time": "2025-03-28T01:16:53.476Z"
   },
   {
    "duration": 29,
    "start_time": "2025-03-28T01:16:53.480Z"
   },
   {
    "duration": 155,
    "start_time": "2025-03-28T15:42:20.036Z"
   },
   {
    "duration": 2126,
    "start_time": "2025-03-28T15:42:33.076Z"
   },
   {
    "duration": 245,
    "start_time": "2025-03-28T15:42:35.204Z"
   },
   {
    "duration": 32,
    "start_time": "2025-03-28T15:42:35.450Z"
   },
   {
    "duration": 4,
    "start_time": "2025-03-28T15:42:35.484Z"
   },
   {
    "duration": 9,
    "start_time": "2025-03-28T15:42:35.489Z"
   },
   {
    "duration": 40,
    "start_time": "2025-03-28T15:42:35.500Z"
   },
   {
    "duration": 5,
    "start_time": "2025-03-28T15:42:35.542Z"
   },
   {
    "duration": 13,
    "start_time": "2025-03-28T15:42:35.549Z"
   },
   {
    "duration": 15,
    "start_time": "2025-03-28T15:42:35.563Z"
   },
   {
    "duration": 86,
    "start_time": "2025-03-28T15:42:35.581Z"
   },
   {
    "duration": 40,
    "start_time": "2025-03-28T15:42:35.669Z"
   },
   {
    "duration": 41,
    "start_time": "2025-03-28T15:42:35.711Z"
   },
   {
    "duration": 17,
    "start_time": "2025-03-28T15:42:35.754Z"
   },
   {
    "duration": 54,
    "start_time": "2025-03-28T15:42:35.773Z"
   },
   {
    "duration": 28,
    "start_time": "2025-03-28T15:42:35.829Z"
   },
   {
    "duration": 11,
    "start_time": "2025-03-28T15:42:35.859Z"
   },
   {
    "duration": 12,
    "start_time": "2025-03-28T15:42:35.872Z"
   },
   {
    "duration": 80,
    "start_time": "2025-03-28T15:42:35.886Z"
   },
   {
    "duration": 38,
    "start_time": "2025-03-28T15:42:35.967Z"
   },
   {
    "duration": 30,
    "start_time": "2025-03-28T15:42:36.007Z"
   },
   {
    "duration": 9,
    "start_time": "2025-03-28T15:42:36.039Z"
   },
   {
    "duration": 9,
    "start_time": "2025-03-28T15:42:36.049Z"
   },
   {
    "duration": 10,
    "start_time": "2025-03-28T15:42:36.060Z"
   },
   {
    "duration": 9,
    "start_time": "2025-03-28T15:42:36.071Z"
   },
   {
    "duration": 7,
    "start_time": "2025-03-28T15:42:36.081Z"
   },
   {
    "duration": 44,
    "start_time": "2025-03-28T15:42:36.089Z"
   },
   {
    "duration": 8,
    "start_time": "2025-03-28T15:42:36.135Z"
   },
   {
    "duration": 19,
    "start_time": "2025-03-28T15:42:36.146Z"
   },
   {
    "duration": 421,
    "start_time": "2025-03-28T15:42:36.167Z"
   },
   {
    "duration": 289,
    "start_time": "2025-03-28T15:42:36.590Z"
   },
   {
    "duration": 6,
    "start_time": "2025-03-28T15:42:36.881Z"
   },
   {
    "duration": 2,
    "start_time": "2025-03-28T15:42:36.889Z"
   },
   {
    "duration": 204,
    "start_time": "2025-03-28T15:42:36.893Z"
   },
   {
    "duration": 0,
    "start_time": "2025-03-28T15:42:37.100Z"
   },
   {
    "duration": 0,
    "start_time": "2025-03-28T15:42:37.101Z"
   },
   {
    "duration": 0,
    "start_time": "2025-03-28T15:42:37.102Z"
   },
   {
    "duration": 6,
    "start_time": "2025-03-28T15:42:50.762Z"
   },
   {
    "duration": 6,
    "start_time": "2025-03-28T15:43:02.902Z"
   },
   {
    "duration": 6,
    "start_time": "2025-03-28T15:45:16.015Z"
   },
   {
    "duration": 557,
    "start_time": "2025-03-28T15:49:36.258Z"
   },
   {
    "duration": 452,
    "start_time": "2025-03-28T15:49:53.617Z"
   },
   {
    "duration": 188,
    "start_time": "2025-03-28T15:49:54.072Z"
   },
   {
    "duration": 33,
    "start_time": "2025-03-28T15:49:54.262Z"
   },
   {
    "duration": 4,
    "start_time": "2025-03-28T15:49:54.297Z"
   },
   {
    "duration": 26,
    "start_time": "2025-03-28T15:49:54.303Z"
   },
   {
    "duration": 22,
    "start_time": "2025-03-28T15:49:54.332Z"
   },
   {
    "duration": 4,
    "start_time": "2025-03-28T15:49:54.355Z"
   },
   {
    "duration": 13,
    "start_time": "2025-03-28T15:49:54.361Z"
   },
   {
    "duration": 14,
    "start_time": "2025-03-28T15:49:54.377Z"
   },
   {
    "duration": 57,
    "start_time": "2025-03-28T15:49:54.424Z"
   },
   {
    "duration": 68,
    "start_time": "2025-03-28T15:49:54.483Z"
   },
   {
    "duration": 44,
    "start_time": "2025-03-28T15:49:54.552Z"
   },
   {
    "duration": 25,
    "start_time": "2025-03-28T15:49:54.599Z"
   },
   {
    "duration": 33,
    "start_time": "2025-03-28T15:49:54.626Z"
   },
   {
    "duration": 28,
    "start_time": "2025-03-28T15:49:54.660Z"
   },
   {
    "duration": 34,
    "start_time": "2025-03-28T15:49:54.690Z"
   },
   {
    "duration": 14,
    "start_time": "2025-03-28T15:49:54.726Z"
   },
   {
    "duration": 66,
    "start_time": "2025-03-28T15:49:54.742Z"
   },
   {
    "duration": 49,
    "start_time": "2025-03-28T15:49:54.809Z"
   },
   {
    "duration": 15,
    "start_time": "2025-03-28T15:49:54.860Z"
   },
   {
    "duration": 8,
    "start_time": "2025-03-28T15:49:54.876Z"
   },
   {
    "duration": 11,
    "start_time": "2025-03-28T15:49:54.886Z"
   },
   {
    "duration": 35,
    "start_time": "2025-03-28T15:49:54.899Z"
   },
   {
    "duration": 9,
    "start_time": "2025-03-28T15:49:54.937Z"
   },
   {
    "duration": 8,
    "start_time": "2025-03-28T15:49:54.948Z"
   },
   {
    "duration": 16,
    "start_time": "2025-03-28T15:49:54.957Z"
   },
   {
    "duration": 8,
    "start_time": "2025-03-28T15:49:54.974Z"
   },
   {
    "duration": 49,
    "start_time": "2025-03-28T15:49:54.987Z"
   },
   {
    "duration": 334,
    "start_time": "2025-03-28T15:49:55.038Z"
   },
   {
    "duration": 302,
    "start_time": "2025-03-28T15:49:55.373Z"
   },
   {
    "duration": 9,
    "start_time": "2025-03-28T15:49:55.679Z"
   },
   {
    "duration": 3,
    "start_time": "2025-03-28T15:49:55.691Z"
   },
   {
    "duration": 655,
    "start_time": "2025-03-28T15:49:55.695Z"
   },
   {
    "duration": 0,
    "start_time": "2025-03-28T15:49:56.352Z"
   },
   {
    "duration": 0,
    "start_time": "2025-03-28T15:49:56.353Z"
   },
   {
    "duration": 0,
    "start_time": "2025-03-28T15:49:56.354Z"
   },
   {
    "duration": 7,
    "start_time": "2025-03-28T15:50:38.863Z"
   },
   {
    "duration": 7,
    "start_time": "2025-03-28T15:55:03.544Z"
   },
   {
    "duration": 70,
    "start_time": "2025-03-28T15:56:09.091Z"
   },
   {
    "duration": 222,
    "start_time": "2025-03-28T15:59:35.272Z"
   },
   {
    "duration": 303,
    "start_time": "2025-03-28T15:59:46.416Z"
   },
   {
    "duration": 477,
    "start_time": "2025-03-28T15:59:58.918Z"
   },
   {
    "duration": 189,
    "start_time": "2025-03-28T15:59:59.397Z"
   },
   {
    "duration": 43,
    "start_time": "2025-03-28T15:59:59.588Z"
   },
   {
    "duration": 5,
    "start_time": "2025-03-28T15:59:59.633Z"
   },
   {
    "duration": 9,
    "start_time": "2025-03-28T15:59:59.641Z"
   },
   {
    "duration": 24,
    "start_time": "2025-03-28T15:59:59.652Z"
   },
   {
    "duration": 5,
    "start_time": "2025-03-28T15:59:59.678Z"
   },
   {
    "duration": 47,
    "start_time": "2025-03-28T15:59:59.685Z"
   },
   {
    "duration": 20,
    "start_time": "2025-03-28T15:59:59.734Z"
   },
   {
    "duration": 96,
    "start_time": "2025-03-28T15:59:59.757Z"
   },
   {
    "duration": 40,
    "start_time": "2025-03-28T15:59:59.858Z"
   },
   {
    "duration": 39,
    "start_time": "2025-03-28T15:59:59.899Z"
   },
   {
    "duration": 11,
    "start_time": "2025-03-28T15:59:59.940Z"
   },
   {
    "duration": 31,
    "start_time": "2025-03-28T15:59:59.953Z"
   },
   {
    "duration": 49,
    "start_time": "2025-03-28T15:59:59.985Z"
   },
   {
    "duration": 10,
    "start_time": "2025-03-28T16:00:00.036Z"
   },
   {
    "duration": 13,
    "start_time": "2025-03-28T16:00:00.048Z"
   },
   {
    "duration": 75,
    "start_time": "2025-03-28T16:00:00.063Z"
   },
   {
    "duration": 38,
    "start_time": "2025-03-28T16:00:00.139Z"
   },
   {
    "duration": 14,
    "start_time": "2025-03-28T16:00:00.179Z"
   },
   {
    "duration": 31,
    "start_time": "2025-03-28T16:00:00.195Z"
   },
   {
    "duration": 10,
    "start_time": "2025-03-28T16:00:00.228Z"
   },
   {
    "duration": 11,
    "start_time": "2025-03-28T16:00:00.239Z"
   },
   {
    "duration": 8,
    "start_time": "2025-03-28T16:00:00.252Z"
   },
   {
    "duration": 8,
    "start_time": "2025-03-28T16:00:00.262Z"
   },
   {
    "duration": 14,
    "start_time": "2025-03-28T16:00:00.272Z"
   },
   {
    "duration": 39,
    "start_time": "2025-03-28T16:00:00.288Z"
   },
   {
    "duration": 20,
    "start_time": "2025-03-28T16:00:00.332Z"
   },
   {
    "duration": 386,
    "start_time": "2025-03-28T16:00:00.353Z"
   },
   {
    "duration": 324,
    "start_time": "2025-03-28T16:00:00.742Z"
   },
   {
    "duration": 7,
    "start_time": "2025-03-28T16:00:01.068Z"
   },
   {
    "duration": 4,
    "start_time": "2025-03-28T16:00:01.077Z"
   },
   {
    "duration": 497,
    "start_time": "2025-03-28T16:00:01.082Z"
   },
   {
    "duration": 0,
    "start_time": "2025-03-28T16:00:01.580Z"
   },
   {
    "duration": 0,
    "start_time": "2025-03-28T16:00:01.582Z"
   },
   {
    "duration": 0,
    "start_time": "2025-03-28T16:00:01.583Z"
   },
   {
    "duration": 63,
    "start_time": "2025-03-28T16:00:02.119Z"
   },
   {
    "duration": 26,
    "start_time": "2025-03-28T16:00:09.990Z"
   },
   {
    "duration": 276,
    "start_time": "2025-03-28T16:00:16.607Z"
   },
   {
    "duration": 274,
    "start_time": "2025-03-28T16:01:05.809Z"
   },
   {
    "duration": 28,
    "start_time": "2025-03-28T16:04:15.189Z"
   },
   {
    "duration": 403,
    "start_time": "2025-03-28T16:04:47.862Z"
   },
   {
    "duration": 762,
    "start_time": "2025-03-28T16:07:33.370Z"
   },
   {
    "duration": 418,
    "start_time": "2025-03-28T16:07:54.384Z"
   },
   {
    "duration": 211,
    "start_time": "2025-03-28T16:07:54.804Z"
   },
   {
    "duration": 34,
    "start_time": "2025-03-28T16:07:55.017Z"
   },
   {
    "duration": 5,
    "start_time": "2025-03-28T16:07:55.053Z"
   },
   {
    "duration": 9,
    "start_time": "2025-03-28T16:07:55.061Z"
   },
   {
    "duration": 24,
    "start_time": "2025-03-28T16:07:55.071Z"
   },
   {
    "duration": 30,
    "start_time": "2025-03-28T16:07:55.096Z"
   },
   {
    "duration": 18,
    "start_time": "2025-03-28T16:07:55.128Z"
   },
   {
    "duration": 16,
    "start_time": "2025-03-28T16:07:55.148Z"
   },
   {
    "duration": 93,
    "start_time": "2025-03-28T16:07:55.168Z"
   },
   {
    "duration": 42,
    "start_time": "2025-03-28T16:07:55.263Z"
   },
   {
    "duration": 48,
    "start_time": "2025-03-28T16:07:55.307Z"
   },
   {
    "duration": 13,
    "start_time": "2025-03-28T16:07:55.357Z"
   },
   {
    "duration": 61,
    "start_time": "2025-03-28T16:07:55.372Z"
   },
   {
    "duration": 29,
    "start_time": "2025-03-28T16:07:55.435Z"
   },
   {
    "duration": 13,
    "start_time": "2025-03-28T16:07:55.466Z"
   },
   {
    "duration": 15,
    "start_time": "2025-03-28T16:07:55.480Z"
   },
   {
    "duration": 85,
    "start_time": "2025-03-28T16:07:55.497Z"
   },
   {
    "duration": 56,
    "start_time": "2025-03-28T16:07:55.584Z"
   },
   {
    "duration": 15,
    "start_time": "2025-03-28T16:07:55.642Z"
   },
   {
    "duration": 8,
    "start_time": "2025-03-28T16:07:55.659Z"
   },
   {
    "duration": 11,
    "start_time": "2025-03-28T16:07:55.669Z"
   },
   {
    "duration": 11,
    "start_time": "2025-03-28T16:07:55.682Z"
   },
   {
    "duration": 13,
    "start_time": "2025-03-28T16:07:55.723Z"
   },
   {
    "duration": 9,
    "start_time": "2025-03-28T16:07:55.738Z"
   },
   {
    "duration": 15,
    "start_time": "2025-03-28T16:07:55.749Z"
   },
   {
    "duration": 9,
    "start_time": "2025-03-28T16:07:55.766Z"
   },
   {
    "duration": 51,
    "start_time": "2025-03-28T16:07:55.779Z"
   },
   {
    "duration": 320,
    "start_time": "2025-03-28T16:07:55.832Z"
   },
   {
    "duration": 250,
    "start_time": "2025-03-28T16:07:56.154Z"
   },
   {
    "duration": 17,
    "start_time": "2025-03-28T16:07:56.407Z"
   },
   {
    "duration": 3,
    "start_time": "2025-03-28T16:07:56.426Z"
   },
   {
    "duration": 1080,
    "start_time": "2025-03-28T16:07:56.431Z"
   },
   {
    "duration": 0,
    "start_time": "2025-03-28T16:07:57.527Z"
   },
   {
    "duration": 0,
    "start_time": "2025-03-28T16:07:57.528Z"
   },
   {
    "duration": 0,
    "start_time": "2025-03-28T16:07:57.530Z"
   },
   {
    "duration": 6,
    "start_time": "2025-03-28T16:08:22.554Z"
   },
   {
    "duration": 10,
    "start_time": "2025-03-28T16:08:41.732Z"
   },
   {
    "duration": 9,
    "start_time": "2025-03-28T16:09:17.141Z"
   },
   {
    "duration": 10,
    "start_time": "2025-03-28T16:09:30.331Z"
   },
   {
    "duration": 12,
    "start_time": "2025-03-28T16:09:42.151Z"
   },
   {
    "duration": 9,
    "start_time": "2025-03-28T16:10:01.495Z"
   },
   {
    "duration": 10,
    "start_time": "2025-03-28T16:10:26.673Z"
   },
   {
    "duration": 10,
    "start_time": "2025-03-28T16:10:46.763Z"
   },
   {
    "duration": 10,
    "start_time": "2025-03-28T16:11:04.359Z"
   },
   {
    "duration": 529,
    "start_time": "2025-03-28T16:11:49.099Z"
   },
   {
    "duration": 6,
    "start_time": "2025-03-28T16:12:07.745Z"
   },
   {
    "duration": 323,
    "start_time": "2025-03-28T16:12:50.329Z"
   },
   {
    "duration": 319,
    "start_time": "2025-03-28T16:14:08.121Z"
   },
   {
    "duration": 407,
    "start_time": "2025-03-28T16:14:21.003Z"
   },
   {
    "duration": 187,
    "start_time": "2025-03-28T16:14:21.412Z"
   },
   {
    "duration": 36,
    "start_time": "2025-03-28T16:14:21.601Z"
   },
   {
    "duration": 5,
    "start_time": "2025-03-28T16:14:21.640Z"
   },
   {
    "duration": 8,
    "start_time": "2025-03-28T16:14:21.646Z"
   },
   {
    "duration": 20,
    "start_time": "2025-03-28T16:14:21.657Z"
   },
   {
    "duration": 4,
    "start_time": "2025-03-28T16:14:21.678Z"
   },
   {
    "duration": 50,
    "start_time": "2025-03-28T16:14:21.684Z"
   },
   {
    "duration": 16,
    "start_time": "2025-03-28T16:14:21.735Z"
   },
   {
    "duration": 73,
    "start_time": "2025-03-28T16:14:21.754Z"
   },
   {
    "duration": 39,
    "start_time": "2025-03-28T16:14:21.828Z"
   },
   {
    "duration": 43,
    "start_time": "2025-03-28T16:14:21.868Z"
   },
   {
    "duration": 12,
    "start_time": "2025-03-28T16:14:21.925Z"
   },
   {
    "duration": 33,
    "start_time": "2025-03-28T16:14:21.938Z"
   },
   {
    "duration": 28,
    "start_time": "2025-03-28T16:14:21.973Z"
   },
   {
    "duration": 10,
    "start_time": "2025-03-28T16:14:22.024Z"
   },
   {
    "duration": 13,
    "start_time": "2025-03-28T16:14:22.037Z"
   },
   {
    "duration": 76,
    "start_time": "2025-03-28T16:14:22.051Z"
   },
   {
    "duration": 36,
    "start_time": "2025-03-28T16:14:22.128Z"
   },
   {
    "duration": 15,
    "start_time": "2025-03-28T16:14:22.166Z"
   },
   {
    "duration": 8,
    "start_time": "2025-03-28T16:14:22.182Z"
   },
   {
    "duration": 32,
    "start_time": "2025-03-28T16:14:22.192Z"
   },
   {
    "duration": 10,
    "start_time": "2025-03-28T16:14:22.225Z"
   },
   {
    "duration": 9,
    "start_time": "2025-03-28T16:14:22.236Z"
   },
   {
    "duration": 8,
    "start_time": "2025-03-28T16:14:22.246Z"
   },
   {
    "duration": 14,
    "start_time": "2025-03-28T16:14:22.255Z"
   },
   {
    "duration": 7,
    "start_time": "2025-03-28T16:14:22.271Z"
   },
   {
    "duration": 51,
    "start_time": "2025-03-28T16:14:22.282Z"
   },
   {
    "duration": 320,
    "start_time": "2025-03-28T16:14:22.334Z"
   },
   {
    "duration": 235,
    "start_time": "2025-03-28T16:14:22.656Z"
   },
   {
    "duration": 7,
    "start_time": "2025-03-28T16:14:22.892Z"
   },
   {
    "duration": 2,
    "start_time": "2025-03-28T16:14:22.900Z"
   },
   {
    "duration": 337,
    "start_time": "2025-03-28T16:14:22.904Z"
   },
   {
    "duration": 2,
    "start_time": "2025-03-28T16:14:23.243Z"
   },
   {
    "duration": 4,
    "start_time": "2025-03-28T16:14:23.246Z"
   },
   {
    "duration": 3,
    "start_time": "2025-03-28T16:14:23.251Z"
   },
   {
    "duration": 357,
    "start_time": "2025-03-28T16:16:44.362Z"
   },
   {
    "duration": 374,
    "start_time": "2025-03-28T16:16:57.879Z"
   },
   {
    "duration": 334,
    "start_time": "2025-03-28T16:17:07.256Z"
   },
   {
    "duration": 423,
    "start_time": "2025-03-28T16:17:24.007Z"
   },
   {
    "duration": 300,
    "start_time": "2025-03-28T16:17:48.140Z"
   },
   {
    "duration": 320,
    "start_time": "2025-03-28T16:18:28.773Z"
   },
   {
    "duration": 350,
    "start_time": "2025-03-28T16:18:40.390Z"
   },
   {
    "duration": 354,
    "start_time": "2025-03-28T16:18:47.979Z"
   },
   {
    "duration": 144,
    "start_time": "2025-03-28T16:24:42.929Z"
   },
   {
    "duration": 220,
    "start_time": "2025-03-28T16:24:55.062Z"
   },
   {
    "duration": 121,
    "start_time": "2025-03-28T16:28:39.195Z"
   },
   {
    "duration": 173,
    "start_time": "2025-03-28T16:29:18.679Z"
   },
   {
    "duration": 110,
    "start_time": "2025-03-28T16:29:58.589Z"
   },
   {
    "duration": 4,
    "start_time": "2025-03-28T16:40:52.280Z"
   },
   {
    "duration": 321,
    "start_time": "2025-03-28T16:41:05.140Z"
   },
   {
    "duration": 316,
    "start_time": "2025-03-28T16:42:34.238Z"
   },
   {
    "duration": 328,
    "start_time": "2025-03-28T16:42:40.001Z"
   },
   {
    "duration": 310,
    "start_time": "2025-03-28T16:43:08.150Z"
   },
   {
    "duration": 4,
    "start_time": "2025-03-28T17:00:58.146Z"
   },
   {
    "duration": 6,
    "start_time": "2025-03-28T17:01:30.383Z"
   },
   {
    "duration": 5,
    "start_time": "2025-03-28T17:02:25.229Z"
   },
   {
    "duration": 12,
    "start_time": "2025-03-28T17:02:44.052Z"
   },
   {
    "duration": 18,
    "start_time": "2025-03-28T17:03:05.021Z"
   },
   {
    "duration": 188,
    "start_time": "2025-03-28T17:03:17.079Z"
   },
   {
    "duration": 438,
    "start_time": "2025-03-28T17:03:33.255Z"
   },
   {
    "duration": 414,
    "start_time": "2025-03-28T17:03:43.591Z"
   },
   {
    "duration": 188,
    "start_time": "2025-03-28T17:03:44.007Z"
   },
   {
    "duration": 39,
    "start_time": "2025-03-28T17:03:44.197Z"
   },
   {
    "duration": 4,
    "start_time": "2025-03-28T17:03:44.239Z"
   },
   {
    "duration": 8,
    "start_time": "2025-03-28T17:03:44.244Z"
   },
   {
    "duration": 22,
    "start_time": "2025-03-28T17:03:44.254Z"
   },
   {
    "duration": 5,
    "start_time": "2025-03-28T17:03:44.277Z"
   },
   {
    "duration": 48,
    "start_time": "2025-03-28T17:03:44.284Z"
   },
   {
    "duration": 15,
    "start_time": "2025-03-28T17:03:44.333Z"
   },
   {
    "duration": 73,
    "start_time": "2025-03-28T17:03:44.352Z"
   },
   {
    "duration": 37,
    "start_time": "2025-03-28T17:03:44.427Z"
   },
   {
    "duration": 31,
    "start_time": "2025-03-28T17:03:44.466Z"
   },
   {
    "duration": 29,
    "start_time": "2025-03-28T17:03:44.498Z"
   },
   {
    "duration": 32,
    "start_time": "2025-03-28T17:03:44.528Z"
   },
   {
    "duration": 27,
    "start_time": "2025-03-28T17:03:44.562Z"
   },
   {
    "duration": 11,
    "start_time": "2025-03-28T17:03:44.590Z"
   },
   {
    "duration": 13,
    "start_time": "2025-03-28T17:03:44.625Z"
   },
   {
    "duration": 57,
    "start_time": "2025-03-28T17:03:44.639Z"
   },
   {
    "duration": 53,
    "start_time": "2025-03-28T17:03:44.697Z"
   },
   {
    "duration": 14,
    "start_time": "2025-03-28T17:03:44.752Z"
   },
   {
    "duration": 7,
    "start_time": "2025-03-28T17:03:44.767Z"
   },
   {
    "duration": 9,
    "start_time": "2025-03-28T17:03:44.776Z"
   },
   {
    "duration": 12,
    "start_time": "2025-03-28T17:03:44.787Z"
   },
   {
    "duration": 29,
    "start_time": "2025-03-28T17:03:44.802Z"
   },
   {
    "duration": 7,
    "start_time": "2025-03-28T17:03:44.833Z"
   },
   {
    "duration": 15,
    "start_time": "2025-03-28T17:03:44.842Z"
   },
   {
    "duration": 8,
    "start_time": "2025-03-28T17:03:44.858Z"
   },
   {
    "duration": 19,
    "start_time": "2025-03-28T17:03:44.870Z"
   },
   {
    "duration": 371,
    "start_time": "2025-03-28T17:03:44.890Z"
   },
   {
    "duration": 240,
    "start_time": "2025-03-28T17:03:45.264Z"
   },
   {
    "duration": 5,
    "start_time": "2025-03-28T17:03:45.524Z"
   },
   {
    "duration": 120,
    "start_time": "2025-03-28T17:03:45.531Z"
   },
   {
    "duration": 329,
    "start_time": "2025-03-28T17:03:45.653Z"
   },
   {
    "duration": 358,
    "start_time": "2025-03-28T17:03:45.984Z"
   },
   {
    "duration": 599,
    "start_time": "2025-03-28T17:03:46.344Z"
   },
   {
    "duration": 0,
    "start_time": "2025-03-28T17:03:46.945Z"
   },
   {
    "duration": 0,
    "start_time": "2025-03-28T17:03:46.946Z"
   },
   {
    "duration": 150,
    "start_time": "2025-03-28T17:11:23.218Z"
   },
   {
    "duration": 317,
    "start_time": "2025-03-28T17:11:54.082Z"
   },
   {
    "duration": 251,
    "start_time": "2025-03-28T17:14:30.526Z"
   },
   {
    "duration": 264,
    "start_time": "2025-03-28T17:14:48.207Z"
   },
   {
    "duration": 255,
    "start_time": "2025-03-28T17:15:31.525Z"
   },
   {
    "duration": 4,
    "start_time": "2025-03-28T17:17:14.902Z"
   },
   {
    "duration": 102,
    "start_time": "2025-03-28T17:17:25.400Z"
   },
   {
    "duration": 103,
    "start_time": "2025-03-28T17:18:11.982Z"
   },
   {
    "duration": 98,
    "start_time": "2025-03-28T17:18:18.918Z"
   },
   {
    "duration": 123,
    "start_time": "2025-03-28T17:19:25.150Z"
   },
   {
    "duration": 217,
    "start_time": "2025-03-28T17:19:53.314Z"
   },
   {
    "duration": 179,
    "start_time": "2025-03-28T17:20:07.065Z"
   },
   {
    "duration": 177,
    "start_time": "2025-03-28T17:20:22.580Z"
   },
   {
    "duration": 203,
    "start_time": "2025-03-28T17:21:15.437Z"
   },
   {
    "duration": 204,
    "start_time": "2025-03-28T17:22:31.839Z"
   },
   {
    "duration": 388,
    "start_time": "2025-03-28T17:26:41.704Z"
   },
   {
    "duration": 360,
    "start_time": "2025-03-28T17:26:52.621Z"
   },
   {
    "duration": 4,
    "start_time": "2025-03-28T17:29:37.940Z"
   },
   {
    "duration": 9,
    "start_time": "2025-03-28T17:31:30.436Z"
   },
   {
    "duration": 10,
    "start_time": "2025-03-28T17:32:08.220Z"
   },
   {
    "duration": 11,
    "start_time": "2025-03-28T17:32:18.209Z"
   },
   {
    "duration": 9,
    "start_time": "2025-03-28T17:33:13.818Z"
   },
   {
    "duration": 9,
    "start_time": "2025-03-28T17:38:06.267Z"
   },
   {
    "duration": 5,
    "start_time": "2025-03-28T17:39:20.656Z"
   },
   {
    "duration": 273,
    "start_time": "2025-03-28T17:40:23.610Z"
   },
   {
    "duration": 408,
    "start_time": "2025-03-28T17:40:59.459Z"
   },
   {
    "duration": 318,
    "start_time": "2025-03-28T17:42:44.285Z"
   },
   {
    "duration": 300,
    "start_time": "2025-03-28T17:42:50.308Z"
   },
   {
    "duration": 255,
    "start_time": "2025-03-28T17:43:01.718Z"
   },
   {
    "duration": 239,
    "start_time": "2025-03-28T17:46:03.052Z"
   },
   {
    "duration": 251,
    "start_time": "2025-03-28T17:46:21.838Z"
   },
   {
    "duration": 218,
    "start_time": "2025-03-28T17:46:49.957Z"
   },
   {
    "duration": 520,
    "start_time": "2025-03-28T17:47:25.512Z"
   },
   {
    "duration": 509,
    "start_time": "2025-03-28T17:47:41.940Z"
   },
   {
    "duration": 324,
    "start_time": "2025-03-28T17:49:33.610Z"
   },
   {
    "duration": 396,
    "start_time": "2025-03-28T17:50:55.395Z"
   },
   {
    "duration": 337,
    "start_time": "2025-03-28T17:51:33.907Z"
   },
   {
    "duration": 322,
    "start_time": "2025-03-28T17:51:54.220Z"
   },
   {
    "duration": 15,
    "start_time": "2025-03-28T19:13:39.861Z"
   },
   {
    "duration": 15,
    "start_time": "2025-03-28T19:13:58.219Z"
   },
   {
    "duration": 18,
    "start_time": "2025-03-28T19:14:08.257Z"
   },
   {
    "duration": 849,
    "start_time": "2025-03-28T19:14:26.339Z"
   },
   {
    "duration": 164,
    "start_time": "2025-03-28T19:14:27.192Z"
   },
   {
    "duration": 36,
    "start_time": "2025-03-28T19:14:27.358Z"
   },
   {
    "duration": 5,
    "start_time": "2025-03-28T19:14:27.396Z"
   },
   {
    "duration": 10,
    "start_time": "2025-03-28T19:14:27.426Z"
   },
   {
    "duration": 25,
    "start_time": "2025-03-28T19:14:27.438Z"
   },
   {
    "duration": 6,
    "start_time": "2025-03-28T19:14:27.465Z"
   },
   {
    "duration": 14,
    "start_time": "2025-03-28T19:14:27.473Z"
   },
   {
    "duration": 49,
    "start_time": "2025-03-28T19:14:27.489Z"
   },
   {
    "duration": 87,
    "start_time": "2025-03-28T19:14:27.540Z"
   },
   {
    "duration": 40,
    "start_time": "2025-03-28T19:14:27.629Z"
   },
   {
    "duration": 32,
    "start_time": "2025-03-28T19:14:27.671Z"
   },
   {
    "duration": 27,
    "start_time": "2025-03-28T19:14:27.705Z"
   },
   {
    "duration": 36,
    "start_time": "2025-03-28T19:14:27.738Z"
   },
   {
    "duration": 66,
    "start_time": "2025-03-28T19:14:27.776Z"
   },
   {
    "duration": 14,
    "start_time": "2025-03-28T19:14:27.844Z"
   },
   {
    "duration": 15,
    "start_time": "2025-03-28T19:14:27.860Z"
   },
   {
    "duration": 95,
    "start_time": "2025-03-28T19:14:27.877Z"
   },
   {
    "duration": 52,
    "start_time": "2025-03-28T19:14:27.974Z"
   },
   {
    "duration": 17,
    "start_time": "2025-03-28T19:14:28.028Z"
   },
   {
    "duration": 8,
    "start_time": "2025-03-28T19:14:28.046Z"
   },
   {
    "duration": 10,
    "start_time": "2025-03-28T19:14:28.056Z"
   },
   {
    "duration": 11,
    "start_time": "2025-03-28T19:14:28.068Z"
   },
   {
    "duration": 43,
    "start_time": "2025-03-28T19:14:28.081Z"
   },
   {
    "duration": 12,
    "start_time": "2025-03-28T19:14:28.126Z"
   },
   {
    "duration": 15,
    "start_time": "2025-03-28T19:14:28.140Z"
   },
   {
    "duration": 8,
    "start_time": "2025-03-28T19:14:28.157Z"
   },
   {
    "duration": 22,
    "start_time": "2025-03-28T19:14:28.166Z"
   },
   {
    "duration": 368,
    "start_time": "2025-03-28T19:14:28.192Z"
   },
   {
    "duration": 269,
    "start_time": "2025-03-28T19:14:28.562Z"
   },
   {
    "duration": 8,
    "start_time": "2025-03-28T19:14:28.833Z"
   },
   {
    "duration": 147,
    "start_time": "2025-03-28T19:14:28.843Z"
   },
   {
    "duration": 432,
    "start_time": "2025-03-28T19:14:28.992Z"
   },
   {
    "duration": 334,
    "start_time": "2025-03-28T19:14:29.426Z"
   },
   {
    "duration": 265,
    "start_time": "2025-03-28T19:14:29.762Z"
   },
   {
    "duration": 218,
    "start_time": "2025-03-28T19:14:30.029Z"
   },
   {
    "duration": 277,
    "start_time": "2025-03-28T19:14:30.249Z"
   },
   {
    "duration": 524,
    "start_time": "2025-03-28T19:14:30.528Z"
   },
   {
    "duration": 333,
    "start_time": "2025-03-28T19:14:31.054Z"
   },
   {
    "duration": 10,
    "start_time": "2025-03-28T19:14:31.389Z"
   },
   {
    "duration": 4,
    "start_time": "2025-03-28T19:14:31.404Z"
   },
   {
    "duration": 7,
    "start_time": "2025-03-28T19:14:39.534Z"
   },
   {
    "duration": 15,
    "start_time": "2025-03-28T19:15:40.083Z"
   },
   {
    "duration": 8,
    "start_time": "2025-03-28T19:16:29.418Z"
   },
   {
    "duration": 274,
    "start_time": "2025-03-28T19:25:43.908Z"
   },
   {
    "duration": 495,
    "start_time": "2025-03-28T19:25:53.495Z"
   },
   {
    "duration": 48,
    "start_time": "2025-03-28T19:26:25.070Z"
   },
   {
    "duration": 83,
    "start_time": "2025-03-28T19:27:08.730Z"
   },
   {
    "duration": 736,
    "start_time": "2025-03-28T19:27:16.507Z"
   },
   {
    "duration": 160,
    "start_time": "2025-03-28T19:27:17.246Z"
   },
   {
    "duration": 44,
    "start_time": "2025-03-28T19:27:17.407Z"
   },
   {
    "duration": 4,
    "start_time": "2025-03-28T19:27:17.454Z"
   },
   {
    "duration": 9,
    "start_time": "2025-03-28T19:27:17.460Z"
   },
   {
    "duration": 22,
    "start_time": "2025-03-28T19:27:17.472Z"
   },
   {
    "duration": 7,
    "start_time": "2025-03-28T19:27:17.525Z"
   },
   {
    "duration": 23,
    "start_time": "2025-03-28T19:27:17.534Z"
   },
   {
    "duration": 15,
    "start_time": "2025-03-28T19:27:17.559Z"
   },
   {
    "duration": 104,
    "start_time": "2025-03-28T19:27:17.578Z"
   },
   {
    "duration": 54,
    "start_time": "2025-03-28T19:27:17.684Z"
   },
   {
    "duration": 35,
    "start_time": "2025-03-28T19:27:17.740Z"
   },
   {
    "duration": 11,
    "start_time": "2025-03-28T19:27:17.778Z"
   },
   {
    "duration": 62,
    "start_time": "2025-03-28T19:27:17.791Z"
   },
   {
    "duration": 27,
    "start_time": "2025-03-28T19:27:17.857Z"
   },
   {
    "duration": 12,
    "start_time": "2025-03-28T19:27:17.886Z"
   },
   {
    "duration": 40,
    "start_time": "2025-03-28T19:27:17.900Z"
   },
   {
    "duration": 92,
    "start_time": "2025-03-28T19:27:17.942Z"
   },
   {
    "duration": 63,
    "start_time": "2025-03-28T19:27:18.037Z"
   },
   {
    "duration": 29,
    "start_time": "2025-03-28T19:27:18.102Z"
   },
   {
    "duration": 12,
    "start_time": "2025-03-28T19:27:18.133Z"
   },
   {
    "duration": 10,
    "start_time": "2025-03-28T19:27:18.147Z"
   },
   {
    "duration": 15,
    "start_time": "2025-03-28T19:27:18.159Z"
   },
   {
    "duration": 12,
    "start_time": "2025-03-28T19:27:18.176Z"
   },
   {
    "duration": 34,
    "start_time": "2025-03-28T19:27:18.190Z"
   },
   {
    "duration": 20,
    "start_time": "2025-03-28T19:27:18.226Z"
   },
   {
    "duration": 10,
    "start_time": "2025-03-28T19:27:18.248Z"
   },
   {
    "duration": 19,
    "start_time": "2025-03-28T19:27:18.262Z"
   },
   {
    "duration": 375,
    "start_time": "2025-03-28T19:27:18.283Z"
   },
   {
    "duration": 230,
    "start_time": "2025-03-28T19:27:18.660Z"
   },
   {
    "duration": 6,
    "start_time": "2025-03-28T19:27:18.892Z"
   },
   {
    "duration": 136,
    "start_time": "2025-03-28T19:27:18.900Z"
   },
   {
    "duration": 414,
    "start_time": "2025-03-28T19:27:19.038Z"
   },
   {
    "duration": 351,
    "start_time": "2025-03-28T19:27:19.455Z"
   },
   {
    "duration": 299,
    "start_time": "2025-03-28T19:27:19.809Z"
   },
   {
    "duration": 259,
    "start_time": "2025-03-28T19:27:20.110Z"
   },
   {
    "duration": 282,
    "start_time": "2025-03-28T19:27:20.371Z"
   },
   {
    "duration": 525,
    "start_time": "2025-03-28T19:27:20.656Z"
   },
   {
    "duration": 356,
    "start_time": "2025-03-28T19:27:21.183Z"
   },
   {
    "duration": 718,
    "start_time": "2025-03-28T19:27:21.541Z"
   },
   {
    "duration": 0,
    "start_time": "2025-03-28T19:27:22.261Z"
   },
   {
    "duration": 53,
    "start_time": "2025-03-28T19:27:51.570Z"
   },
   {
    "duration": 12,
    "start_time": "2025-03-28T19:28:42.881Z"
   },
   {
    "duration": 16,
    "start_time": "2025-03-28T19:29:12.266Z"
   },
   {
    "duration": 17,
    "start_time": "2025-03-28T19:29:41.643Z"
   },
   {
    "duration": 14,
    "start_time": "2025-03-28T19:30:25.285Z"
   },
   {
    "duration": 760,
    "start_time": "2025-03-28T19:30:34.170Z"
   },
   {
    "duration": 155,
    "start_time": "2025-03-28T19:30:34.933Z"
   },
   {
    "duration": 37,
    "start_time": "2025-03-28T19:30:35.090Z"
   },
   {
    "duration": 6,
    "start_time": "2025-03-28T19:30:35.130Z"
   },
   {
    "duration": 8,
    "start_time": "2025-03-28T19:30:35.138Z"
   },
   {
    "duration": 21,
    "start_time": "2025-03-28T19:30:35.148Z"
   },
   {
    "duration": 4,
    "start_time": "2025-03-28T19:30:35.170Z"
   },
   {
    "duration": 14,
    "start_time": "2025-03-28T19:30:35.176Z"
   },
   {
    "duration": 21,
    "start_time": "2025-03-28T19:30:35.224Z"
   },
   {
    "duration": 78,
    "start_time": "2025-03-28T19:30:35.249Z"
   },
   {
    "duration": 40,
    "start_time": "2025-03-28T19:30:35.328Z"
   },
   {
    "duration": 33,
    "start_time": "2025-03-28T19:30:35.371Z"
   },
   {
    "duration": 24,
    "start_time": "2025-03-28T19:30:35.406Z"
   },
   {
    "duration": 31,
    "start_time": "2025-03-28T19:30:35.432Z"
   },
   {
    "duration": 28,
    "start_time": "2025-03-28T19:30:35.465Z"
   },
   {
    "duration": 37,
    "start_time": "2025-03-28T19:30:35.494Z"
   },
   {
    "duration": 13,
    "start_time": "2025-03-28T19:30:35.532Z"
   },
   {
    "duration": 54,
    "start_time": "2025-03-28T19:30:35.547Z"
   },
   {
    "duration": 56,
    "start_time": "2025-03-28T19:30:35.603Z"
   },
   {
    "duration": 14,
    "start_time": "2025-03-28T19:30:35.661Z"
   },
   {
    "duration": 8,
    "start_time": "2025-03-28T19:30:35.677Z"
   },
   {
    "duration": 10,
    "start_time": "2025-03-28T19:30:35.687Z"
   },
   {
    "duration": 13,
    "start_time": "2025-03-28T19:30:35.723Z"
   },
   {
    "duration": 10,
    "start_time": "2025-03-28T19:30:35.739Z"
   },
   {
    "duration": 10,
    "start_time": "2025-03-28T19:30:35.751Z"
   },
   {
    "duration": 15,
    "start_time": "2025-03-28T19:30:35.763Z"
   },
   {
    "duration": 9,
    "start_time": "2025-03-28T19:30:35.779Z"
   },
   {
    "duration": 47,
    "start_time": "2025-03-28T19:30:35.793Z"
   },
   {
    "duration": 335,
    "start_time": "2025-03-28T19:30:35.842Z"
   },
   {
    "duration": 257,
    "start_time": "2025-03-28T19:30:36.179Z"
   },
   {
    "duration": 6,
    "start_time": "2025-03-28T19:30:36.438Z"
   },
   {
    "duration": 124,
    "start_time": "2025-03-28T19:30:36.446Z"
   },
   {
    "duration": 378,
    "start_time": "2025-03-28T19:30:36.571Z"
   },
   {
    "duration": 320,
    "start_time": "2025-03-28T19:30:36.951Z"
   },
   {
    "duration": 274,
    "start_time": "2025-03-28T19:30:37.273Z"
   },
   {
    "duration": 206,
    "start_time": "2025-03-28T19:30:37.549Z"
   },
   {
    "duration": 278,
    "start_time": "2025-03-28T19:30:37.756Z"
   },
   {
    "duration": 491,
    "start_time": "2025-03-28T19:30:38.036Z"
   },
   {
    "duration": 316,
    "start_time": "2025-03-28T19:30:38.528Z"
   },
   {
    "duration": 15,
    "start_time": "2025-03-28T19:30:38.845Z"
   },
   {
    "duration": 2,
    "start_time": "2025-03-28T19:30:38.862Z"
   },
   {
    "duration": 22,
    "start_time": "2025-03-28T19:31:34.756Z"
   },
   {
    "duration": 773,
    "start_time": "2025-03-28T19:40:52.582Z"
   },
   {
    "duration": 840,
    "start_time": "2025-03-28T19:41:09.438Z"
   },
   {
    "duration": 172,
    "start_time": "2025-03-28T19:41:10.281Z"
   },
   {
    "duration": 35,
    "start_time": "2025-03-28T19:41:10.455Z"
   },
   {
    "duration": 5,
    "start_time": "2025-03-28T19:41:10.492Z"
   },
   {
    "duration": 30,
    "start_time": "2025-03-28T19:41:10.499Z"
   },
   {
    "duration": 24,
    "start_time": "2025-03-28T19:41:10.530Z"
   },
   {
    "duration": 4,
    "start_time": "2025-03-28T19:41:10.556Z"
   },
   {
    "duration": 10,
    "start_time": "2025-03-28T19:41:10.562Z"
   },
   {
    "duration": 16,
    "start_time": "2025-03-28T19:41:10.574Z"
   },
   {
    "duration": 62,
    "start_time": "2025-03-28T19:41:10.623Z"
   },
   {
    "duration": 56,
    "start_time": "2025-03-28T19:41:10.687Z"
   },
   {
    "duration": 33,
    "start_time": "2025-03-28T19:41:10.745Z"
   },
   {
    "duration": 13,
    "start_time": "2025-03-28T19:41:10.780Z"
   },
   {
    "duration": 56,
    "start_time": "2025-03-28T19:41:10.795Z"
   },
   {
    "duration": 29,
    "start_time": "2025-03-28T19:41:10.852Z"
   },
   {
    "duration": 11,
    "start_time": "2025-03-28T19:41:10.883Z"
   },
   {
    "duration": 35,
    "start_time": "2025-03-28T19:41:10.896Z"
   },
   {
    "duration": 63,
    "start_time": "2025-03-28T19:41:10.933Z"
   },
   {
    "duration": 55,
    "start_time": "2025-03-28T19:41:10.998Z"
   },
   {
    "duration": 14,
    "start_time": "2025-03-28T19:41:11.055Z"
   },
   {
    "duration": 7,
    "start_time": "2025-03-28T19:41:11.071Z"
   },
   {
    "duration": 9,
    "start_time": "2025-03-28T19:41:11.080Z"
   },
   {
    "duration": 37,
    "start_time": "2025-03-28T19:41:11.091Z"
   },
   {
    "duration": 9,
    "start_time": "2025-03-28T19:41:11.129Z"
   },
   {
    "duration": 8,
    "start_time": "2025-03-28T19:41:11.140Z"
   },
   {
    "duration": 16,
    "start_time": "2025-03-28T19:41:11.150Z"
   },
   {
    "duration": 9,
    "start_time": "2025-03-28T19:41:11.168Z"
   },
   {
    "duration": 57,
    "start_time": "2025-03-28T19:41:11.182Z"
   },
   {
    "duration": 358,
    "start_time": "2025-03-28T19:41:11.241Z"
   },
   {
    "duration": 283,
    "start_time": "2025-03-28T19:41:11.601Z"
   },
   {
    "duration": 7,
    "start_time": "2025-03-28T19:41:11.886Z"
   },
   {
    "duration": 133,
    "start_time": "2025-03-28T19:41:11.894Z"
   },
   {
    "duration": 421,
    "start_time": "2025-03-28T19:41:12.029Z"
   },
   {
    "duration": 356,
    "start_time": "2025-03-28T19:41:12.451Z"
   },
   {
    "duration": 277,
    "start_time": "2025-03-28T19:41:12.809Z"
   },
   {
    "duration": 179,
    "start_time": "2025-03-28T19:41:13.088Z"
   },
   {
    "duration": 358,
    "start_time": "2025-03-28T19:41:13.269Z"
   },
   {
    "duration": 898,
    "start_time": "2025-03-28T19:41:13.628Z"
   },
   {
    "duration": 319,
    "start_time": "2025-03-28T19:41:14.528Z"
   },
   {
    "duration": 15,
    "start_time": "2025-03-28T19:41:14.849Z"
   },
   {
    "duration": 2,
    "start_time": "2025-03-28T19:41:14.866Z"
   },
   {
    "duration": 696,
    "start_time": "2025-03-28T19:41:34.275Z"
   },
   {
    "duration": 760,
    "start_time": "2025-03-28T19:41:41.161Z"
   },
   {
    "duration": 155,
    "start_time": "2025-03-28T19:41:41.926Z"
   },
   {
    "duration": 32,
    "start_time": "2025-03-28T19:41:42.082Z"
   },
   {
    "duration": 4,
    "start_time": "2025-03-28T19:41:42.125Z"
   },
   {
    "duration": 8,
    "start_time": "2025-03-28T19:41:42.131Z"
   },
   {
    "duration": 21,
    "start_time": "2025-03-28T19:41:42.140Z"
   },
   {
    "duration": 4,
    "start_time": "2025-03-28T19:41:42.162Z"
   },
   {
    "duration": 10,
    "start_time": "2025-03-28T19:41:42.168Z"
   },
   {
    "duration": 50,
    "start_time": "2025-03-28T19:41:42.179Z"
   },
   {
    "duration": 63,
    "start_time": "2025-03-28T19:41:42.232Z"
   },
   {
    "duration": 55,
    "start_time": "2025-03-28T19:41:42.298Z"
   },
   {
    "duration": 32,
    "start_time": "2025-03-28T19:41:42.355Z"
   },
   {
    "duration": 13,
    "start_time": "2025-03-28T19:41:42.388Z"
   },
   {
    "duration": 50,
    "start_time": "2025-03-28T19:41:42.403Z"
   },
   {
    "duration": 28,
    "start_time": "2025-03-28T19:41:42.454Z"
   },
   {
    "duration": 11,
    "start_time": "2025-03-28T19:41:42.484Z"
   },
   {
    "duration": 33,
    "start_time": "2025-03-28T19:41:42.497Z"
   },
   {
    "duration": 58,
    "start_time": "2025-03-28T19:41:42.531Z"
   },
   {
    "duration": 59,
    "start_time": "2025-03-28T19:41:42.591Z"
   },
   {
    "duration": 14,
    "start_time": "2025-03-28T19:41:42.651Z"
   },
   {
    "duration": 7,
    "start_time": "2025-03-28T19:41:42.666Z"
   },
   {
    "duration": 9,
    "start_time": "2025-03-28T19:41:42.675Z"
   },
   {
    "duration": 10,
    "start_time": "2025-03-28T19:41:42.685Z"
   },
   {
    "duration": 29,
    "start_time": "2025-03-28T19:41:42.696Z"
   },
   {
    "duration": 8,
    "start_time": "2025-03-28T19:41:42.727Z"
   },
   {
    "duration": 15,
    "start_time": "2025-03-28T19:41:42.737Z"
   },
   {
    "duration": 7,
    "start_time": "2025-03-28T19:41:42.753Z"
   },
   {
    "duration": 19,
    "start_time": "2025-03-28T19:41:42.764Z"
   },
   {
    "duration": 375,
    "start_time": "2025-03-28T19:41:42.784Z"
   },
   {
    "duration": 252,
    "start_time": "2025-03-28T19:41:43.161Z"
   },
   {
    "duration": 10,
    "start_time": "2025-03-28T19:41:43.414Z"
   },
   {
    "duration": 130,
    "start_time": "2025-03-28T19:41:43.426Z"
   },
   {
    "duration": 396,
    "start_time": "2025-03-28T19:41:43.557Z"
   },
   {
    "duration": 335,
    "start_time": "2025-03-28T19:41:43.955Z"
   },
   {
    "duration": 334,
    "start_time": "2025-03-28T19:41:44.292Z"
   },
   {
    "duration": 236,
    "start_time": "2025-03-28T19:41:44.628Z"
   },
   {
    "duration": 474,
    "start_time": "2025-03-28T19:41:44.865Z"
   },
   {
    "duration": 503,
    "start_time": "2025-03-28T19:41:45.341Z"
   },
   {
    "duration": 303,
    "start_time": "2025-03-28T19:41:45.846Z"
   },
   {
    "duration": 15,
    "start_time": "2025-03-28T19:41:46.151Z"
   },
   {
    "duration": 2,
    "start_time": "2025-03-28T19:41:46.168Z"
   },
   {
    "duration": 721,
    "start_time": "2025-03-28T19:42:06.890Z"
   },
   {
    "duration": 766,
    "start_time": "2025-03-28T19:42:13.281Z"
   },
   {
    "duration": 157,
    "start_time": "2025-03-28T19:42:14.049Z"
   },
   {
    "duration": 35,
    "start_time": "2025-03-28T19:42:14.208Z"
   },
   {
    "duration": 4,
    "start_time": "2025-03-28T19:42:14.246Z"
   },
   {
    "duration": 8,
    "start_time": "2025-03-28T19:42:14.252Z"
   },
   {
    "duration": 22,
    "start_time": "2025-03-28T19:42:14.261Z"
   },
   {
    "duration": 4,
    "start_time": "2025-03-28T19:42:14.284Z"
   },
   {
    "duration": 45,
    "start_time": "2025-03-28T19:42:14.290Z"
   },
   {
    "duration": 15,
    "start_time": "2025-03-28T19:42:14.336Z"
   },
   {
    "duration": 75,
    "start_time": "2025-03-28T19:42:14.354Z"
   },
   {
    "duration": 42,
    "start_time": "2025-03-28T19:42:14.431Z"
   },
   {
    "duration": 51,
    "start_time": "2025-03-28T19:42:14.475Z"
   },
   {
    "duration": 11,
    "start_time": "2025-03-28T19:42:14.528Z"
   },
   {
    "duration": 32,
    "start_time": "2025-03-28T19:42:14.541Z"
   },
   {
    "duration": 53,
    "start_time": "2025-03-28T19:42:14.575Z"
   },
   {
    "duration": 11,
    "start_time": "2025-03-28T19:42:14.630Z"
   },
   {
    "duration": 13,
    "start_time": "2025-03-28T19:42:14.643Z"
   },
   {
    "duration": 74,
    "start_time": "2025-03-28T19:42:14.658Z"
   },
   {
    "duration": 37,
    "start_time": "2025-03-28T19:42:14.733Z"
   },
   {
    "duration": 13,
    "start_time": "2025-03-28T19:42:14.772Z"
   },
   {
    "duration": 9,
    "start_time": "2025-03-28T19:42:14.787Z"
   },
   {
    "duration": 32,
    "start_time": "2025-03-28T19:42:14.798Z"
   },
   {
    "duration": 9,
    "start_time": "2025-03-28T19:42:14.832Z"
   },
   {
    "duration": 9,
    "start_time": "2025-03-28T19:42:14.843Z"
   },
   {
    "duration": 9,
    "start_time": "2025-03-28T19:42:14.853Z"
   },
   {
    "duration": 14,
    "start_time": "2025-03-28T19:42:14.863Z"
   },
   {
    "duration": 7,
    "start_time": "2025-03-28T19:42:14.879Z"
   },
   {
    "duration": 50,
    "start_time": "2025-03-28T19:42:14.889Z"
   },
   {
    "duration": 349,
    "start_time": "2025-03-28T19:42:14.941Z"
   },
   {
    "duration": 290,
    "start_time": "2025-03-28T19:42:15.292Z"
   },
   {
    "duration": 8,
    "start_time": "2025-03-28T19:42:15.584Z"
   },
   {
    "duration": 123,
    "start_time": "2025-03-28T19:42:15.594Z"
   },
   {
    "duration": 393,
    "start_time": "2025-03-28T19:42:15.719Z"
   },
   {
    "duration": 319,
    "start_time": "2025-03-28T19:42:16.124Z"
   },
   {
    "duration": 300,
    "start_time": "2025-03-28T19:42:16.444Z"
   },
   {
    "duration": 306,
    "start_time": "2025-03-28T19:42:16.746Z"
   },
   {
    "duration": 415,
    "start_time": "2025-03-28T19:42:17.054Z"
   },
   {
    "duration": 567,
    "start_time": "2025-03-28T19:42:17.471Z"
   },
   {
    "duration": 311,
    "start_time": "2025-03-28T19:42:18.040Z"
   },
   {
    "duration": 16,
    "start_time": "2025-03-28T19:42:18.353Z"
   },
   {
    "duration": 2,
    "start_time": "2025-03-28T19:42:18.371Z"
   },
   {
    "duration": 5,
    "start_time": "2025-03-28T19:42:42.356Z"
   },
   {
    "duration": 847,
    "start_time": "2025-03-28T19:43:40.550Z"
   },
   {
    "duration": 756,
    "start_time": "2025-03-28T19:43:46.077Z"
   },
   {
    "duration": 156,
    "start_time": "2025-03-28T19:43:46.836Z"
   },
   {
    "duration": 36,
    "start_time": "2025-03-28T19:43:46.994Z"
   },
   {
    "duration": 4,
    "start_time": "2025-03-28T19:43:47.034Z"
   },
   {
    "duration": 9,
    "start_time": "2025-03-28T19:43:47.039Z"
   },
   {
    "duration": 20,
    "start_time": "2025-03-28T19:43:47.050Z"
   },
   {
    "duration": 4,
    "start_time": "2025-03-28T19:43:47.072Z"
   },
   {
    "duration": 47,
    "start_time": "2025-03-28T19:43:47.078Z"
   },
   {
    "duration": 15,
    "start_time": "2025-03-28T19:43:47.126Z"
   },
   {
    "duration": 81,
    "start_time": "2025-03-28T19:43:47.144Z"
   },
   {
    "duration": 39,
    "start_time": "2025-03-28T19:43:47.226Z"
   },
   {
    "duration": 33,
    "start_time": "2025-03-28T19:43:47.266Z"
   },
   {
    "duration": 25,
    "start_time": "2025-03-28T19:43:47.300Z"
   },
   {
    "duration": 32,
    "start_time": "2025-03-28T19:43:47.327Z"
   },
   {
    "duration": 28,
    "start_time": "2025-03-28T19:43:47.361Z"
   },
   {
    "duration": 38,
    "start_time": "2025-03-28T19:43:47.391Z"
   },
   {
    "duration": 14,
    "start_time": "2025-03-28T19:43:47.430Z"
   },
   {
    "duration": 88,
    "start_time": "2025-03-28T19:43:47.446Z"
   },
   {
    "duration": 37,
    "start_time": "2025-03-28T19:43:47.536Z"
   },
   {
    "duration": 15,
    "start_time": "2025-03-28T19:43:47.574Z"
   },
   {
    "duration": 8,
    "start_time": "2025-03-28T19:43:47.590Z"
   },
   {
    "duration": 35,
    "start_time": "2025-03-28T19:43:47.600Z"
   },
   {
    "duration": 11,
    "start_time": "2025-03-28T19:43:47.637Z"
   },
   {
    "duration": 9,
    "start_time": "2025-03-28T19:43:47.650Z"
   },
   {
    "duration": 8,
    "start_time": "2025-03-28T19:43:47.661Z"
   },
   {
    "duration": 18,
    "start_time": "2025-03-28T19:43:47.671Z"
   },
   {
    "duration": 37,
    "start_time": "2025-03-28T19:43:47.690Z"
   },
   {
    "duration": 25,
    "start_time": "2025-03-28T19:43:47.731Z"
   },
   {
    "duration": 389,
    "start_time": "2025-03-28T19:43:47.758Z"
   },
   {
    "duration": 243,
    "start_time": "2025-03-28T19:43:48.149Z"
   },
   {
    "duration": 7,
    "start_time": "2025-03-28T19:43:48.394Z"
   },
   {
    "duration": 132,
    "start_time": "2025-03-28T19:43:48.403Z"
   },
   {
    "duration": 410,
    "start_time": "2025-03-28T19:43:48.537Z"
   },
   {
    "duration": 324,
    "start_time": "2025-03-28T19:43:48.948Z"
   },
   {
    "duration": 271,
    "start_time": "2025-03-28T19:43:49.275Z"
   },
   {
    "duration": 204,
    "start_time": "2025-03-28T19:43:49.548Z"
   },
   {
    "duration": 247,
    "start_time": "2025-03-28T19:43:49.754Z"
   },
   {
    "duration": 522,
    "start_time": "2025-03-28T19:43:50.003Z"
   },
   {
    "duration": 317,
    "start_time": "2025-03-28T19:43:50.527Z"
   },
   {
    "duration": 14,
    "start_time": "2025-03-28T19:43:50.846Z"
   },
   {
    "duration": 289,
    "start_time": "2025-03-28T19:43:50.861Z"
   },
   {
    "duration": 13,
    "start_time": "2025-03-28T19:44:26.805Z"
   },
   {
    "duration": 805,
    "start_time": "2025-03-28T19:44:42.985Z"
   },
   {
    "duration": 174,
    "start_time": "2025-03-28T19:44:43.794Z"
   },
   {
    "duration": 37,
    "start_time": "2025-03-28T19:44:43.970Z"
   },
   {
    "duration": 17,
    "start_time": "2025-03-28T19:44:44.010Z"
   },
   {
    "duration": 10,
    "start_time": "2025-03-28T19:44:44.029Z"
   },
   {
    "duration": 22,
    "start_time": "2025-03-28T19:44:44.041Z"
   },
   {
    "duration": 5,
    "start_time": "2025-03-28T19:44:44.065Z"
   },
   {
    "duration": 13,
    "start_time": "2025-03-28T19:44:44.072Z"
   },
   {
    "duration": 47,
    "start_time": "2025-03-28T19:44:44.086Z"
   },
   {
    "duration": 88,
    "start_time": "2025-03-28T19:44:44.137Z"
   },
   {
    "duration": 41,
    "start_time": "2025-03-28T19:44:44.227Z"
   },
   {
    "duration": 32,
    "start_time": "2025-03-28T19:44:44.270Z"
   },
   {
    "duration": 30,
    "start_time": "2025-03-28T19:44:44.304Z"
   },
   {
    "duration": 35,
    "start_time": "2025-03-28T19:44:44.336Z"
   },
   {
    "duration": 30,
    "start_time": "2025-03-28T19:44:44.373Z"
   },
   {
    "duration": 11,
    "start_time": "2025-03-28T19:44:44.425Z"
   },
   {
    "duration": 15,
    "start_time": "2025-03-28T19:44:44.437Z"
   },
   {
    "duration": 83,
    "start_time": "2025-03-28T19:44:44.454Z"
   },
   {
    "duration": 42,
    "start_time": "2025-03-28T19:44:44.540Z"
   },
   {
    "duration": 17,
    "start_time": "2025-03-28T19:44:44.584Z"
   },
   {
    "duration": 28,
    "start_time": "2025-03-28T19:44:44.602Z"
   },
   {
    "duration": 11,
    "start_time": "2025-03-28T19:44:44.632Z"
   },
   {
    "duration": 11,
    "start_time": "2025-03-28T19:44:44.644Z"
   },
   {
    "duration": 10,
    "start_time": "2025-03-28T19:44:44.658Z"
   },
   {
    "duration": 9,
    "start_time": "2025-03-28T19:44:44.670Z"
   },
   {
    "duration": 52,
    "start_time": "2025-03-28T19:44:44.681Z"
   },
   {
    "duration": 8,
    "start_time": "2025-03-28T19:44:44.735Z"
   },
   {
    "duration": 21,
    "start_time": "2025-03-28T19:44:44.748Z"
   },
   {
    "duration": 387,
    "start_time": "2025-03-28T19:44:44.771Z"
   },
   {
    "duration": 277,
    "start_time": "2025-03-28T19:44:45.159Z"
   },
   {
    "duration": 6,
    "start_time": "2025-03-28T19:44:45.438Z"
   },
   {
    "duration": 125,
    "start_time": "2025-03-28T19:44:45.446Z"
   },
   {
    "duration": 404,
    "start_time": "2025-03-28T19:44:45.573Z"
   },
   {
    "duration": 362,
    "start_time": "2025-03-28T19:44:45.980Z"
   },
   {
    "duration": 250,
    "start_time": "2025-03-28T19:44:46.345Z"
   },
   {
    "duration": 242,
    "start_time": "2025-03-28T19:44:46.597Z"
   },
   {
    "duration": 247,
    "start_time": "2025-03-28T19:44:46.841Z"
   },
   {
    "duration": 545,
    "start_time": "2025-03-28T19:44:47.090Z"
   },
   {
    "duration": 349,
    "start_time": "2025-03-28T19:44:47.637Z"
   },
   {
    "duration": 16,
    "start_time": "2025-03-28T19:44:47.989Z"
   },
   {
    "duration": 25,
    "start_time": "2025-03-28T19:44:48.006Z"
   },
   {
    "duration": 283,
    "start_time": "2025-03-28T19:48:55.160Z"
   },
   {
    "duration": 17,
    "start_time": "2025-03-28T19:49:25.328Z"
   },
   {
    "duration": 293,
    "start_time": "2025-03-28T19:49:35.766Z"
   },
   {
    "duration": 48,
    "start_time": "2025-03-28T19:50:53.321Z"
   },
   {
    "duration": 754,
    "start_time": "2025-03-28T19:51:01.349Z"
   },
   {
    "duration": 158,
    "start_time": "2025-03-28T19:51:02.106Z"
   },
   {
    "duration": 31,
    "start_time": "2025-03-28T19:51:02.266Z"
   },
   {
    "duration": 4,
    "start_time": "2025-03-28T19:51:02.301Z"
   },
   {
    "duration": 25,
    "start_time": "2025-03-28T19:51:02.306Z"
   },
   {
    "duration": 21,
    "start_time": "2025-03-28T19:51:02.333Z"
   },
   {
    "duration": 4,
    "start_time": "2025-03-28T19:51:02.355Z"
   },
   {
    "duration": 14,
    "start_time": "2025-03-28T19:51:02.361Z"
   },
   {
    "duration": 47,
    "start_time": "2025-03-28T19:51:02.377Z"
   },
   {
    "duration": 58,
    "start_time": "2025-03-28T19:51:02.428Z"
   },
   {
    "duration": 54,
    "start_time": "2025-03-28T19:51:02.488Z"
   },
   {
    "duration": 31,
    "start_time": "2025-03-28T19:51:02.544Z"
   },
   {
    "duration": 12,
    "start_time": "2025-03-28T19:51:02.577Z"
   },
   {
    "duration": 56,
    "start_time": "2025-03-28T19:51:02.590Z"
   },
   {
    "duration": 28,
    "start_time": "2025-03-28T19:51:02.647Z"
   },
   {
    "duration": 10,
    "start_time": "2025-03-28T19:51:02.677Z"
   },
   {
    "duration": 13,
    "start_time": "2025-03-28T19:51:02.688Z"
   },
   {
    "duration": 56,
    "start_time": "2025-03-28T19:51:02.723Z"
   },
   {
    "duration": 53,
    "start_time": "2025-03-28T19:51:02.780Z"
   },
   {
    "duration": 13,
    "start_time": "2025-03-28T19:51:02.835Z"
   },
   {
    "duration": 7,
    "start_time": "2025-03-28T19:51:02.850Z"
   },
   {
    "duration": 10,
    "start_time": "2025-03-28T19:51:02.858Z"
   },
   {
    "duration": 9,
    "start_time": "2025-03-28T19:51:02.869Z"
   },
   {
    "duration": 9,
    "start_time": "2025-03-28T19:51:02.880Z"
   },
   {
    "duration": 36,
    "start_time": "2025-03-28T19:51:02.890Z"
   },
   {
    "duration": 14,
    "start_time": "2025-03-28T19:51:02.928Z"
   },
   {
    "duration": 7,
    "start_time": "2025-03-28T19:51:02.944Z"
   },
   {
    "duration": 18,
    "start_time": "2025-03-28T19:51:02.955Z"
   },
   {
    "duration": 379,
    "start_time": "2025-03-28T19:51:02.975Z"
   },
   {
    "duration": 232,
    "start_time": "2025-03-28T19:51:03.356Z"
   },
   {
    "duration": 7,
    "start_time": "2025-03-28T19:51:03.590Z"
   },
   {
    "duration": 127,
    "start_time": "2025-03-28T19:51:03.599Z"
   },
   {
    "duration": 395,
    "start_time": "2025-03-28T19:51:03.728Z"
   },
   {
    "duration": 332,
    "start_time": "2025-03-28T19:51:04.125Z"
   },
   {
    "duration": 235,
    "start_time": "2025-03-28T19:51:04.459Z"
   },
   {
    "duration": 172,
    "start_time": "2025-03-28T19:51:04.696Z"
   },
   {
    "duration": 301,
    "start_time": "2025-03-28T19:51:04.870Z"
   },
   {
    "duration": 531,
    "start_time": "2025-03-28T19:51:05.173Z"
   },
   {
    "duration": 335,
    "start_time": "2025-03-28T19:51:05.706Z"
   },
   {
    "duration": 15,
    "start_time": "2025-03-28T19:51:06.043Z"
   },
   {
    "duration": 585,
    "start_time": "2025-03-28T19:51:06.060Z"
   },
   {
    "duration": 3,
    "start_time": "2025-03-28T19:52:06.699Z"
   },
   {
    "duration": 465,
    "start_time": "2025-03-28T19:52:11.685Z"
   },
   {
    "duration": 53,
    "start_time": "2025-03-28T19:53:10.007Z"
   },
   {
    "duration": 797,
    "start_time": "2025-03-28T19:53:20.654Z"
   },
   {
    "duration": 155,
    "start_time": "2025-03-28T19:53:21.455Z"
   },
   {
    "duration": 34,
    "start_time": "2025-03-28T19:53:21.612Z"
   },
   {
    "duration": 4,
    "start_time": "2025-03-28T19:53:21.648Z"
   },
   {
    "duration": 8,
    "start_time": "2025-03-28T19:53:21.654Z"
   },
   {
    "duration": 22,
    "start_time": "2025-03-28T19:53:21.663Z"
   },
   {
    "duration": 4,
    "start_time": "2025-03-28T19:53:21.687Z"
   },
   {
    "duration": 14,
    "start_time": "2025-03-28T19:53:21.724Z"
   },
   {
    "duration": 15,
    "start_time": "2025-03-28T19:53:21.740Z"
   },
   {
    "duration": 78,
    "start_time": "2025-03-28T19:53:21.759Z"
   },
   {
    "duration": 38,
    "start_time": "2025-03-28T19:53:21.838Z"
   },
   {
    "duration": 57,
    "start_time": "2025-03-28T19:53:21.878Z"
   },
   {
    "duration": 13,
    "start_time": "2025-03-28T19:53:21.937Z"
   },
   {
    "duration": 34,
    "start_time": "2025-03-28T19:53:21.953Z"
   },
   {
    "duration": 51,
    "start_time": "2025-03-28T19:53:21.990Z"
   },
   {
    "duration": 12,
    "start_time": "2025-03-28T19:53:22.044Z"
   },
   {
    "duration": 14,
    "start_time": "2025-03-28T19:53:22.057Z"
   },
   {
    "duration": 71,
    "start_time": "2025-03-28T19:53:22.073Z"
   },
   {
    "duration": 36,
    "start_time": "2025-03-28T19:53:22.146Z"
   },
   {
    "duration": 14,
    "start_time": "2025-03-28T19:53:22.184Z"
   },
   {
    "duration": 25,
    "start_time": "2025-03-28T19:53:22.200Z"
   },
   {
    "duration": 11,
    "start_time": "2025-03-28T19:53:22.226Z"
   },
   {
    "duration": 11,
    "start_time": "2025-03-28T19:53:22.238Z"
   },
   {
    "duration": 9,
    "start_time": "2025-03-28T19:53:22.251Z"
   },
   {
    "duration": 9,
    "start_time": "2025-03-28T19:53:22.261Z"
   },
   {
    "duration": 14,
    "start_time": "2025-03-28T19:53:22.272Z"
   },
   {
    "duration": 39,
    "start_time": "2025-03-28T19:53:22.288Z"
   },
   {
    "duration": 19,
    "start_time": "2025-03-28T19:53:22.332Z"
   },
   {
    "duration": 374,
    "start_time": "2025-03-28T19:53:22.352Z"
   },
   {
    "duration": 246,
    "start_time": "2025-03-28T19:53:22.728Z"
   },
   {
    "duration": 5,
    "start_time": "2025-03-28T19:53:22.976Z"
   },
   {
    "duration": 147,
    "start_time": "2025-03-28T19:53:22.983Z"
   },
   {
    "duration": 411,
    "start_time": "2025-03-28T19:53:23.131Z"
   },
   {
    "duration": 324,
    "start_time": "2025-03-28T19:53:23.544Z"
   },
   {
    "duration": 232,
    "start_time": "2025-03-28T19:53:23.870Z"
   },
   {
    "duration": 222,
    "start_time": "2025-03-28T19:53:24.124Z"
   },
   {
    "duration": 242,
    "start_time": "2025-03-28T19:53:24.347Z"
   },
   {
    "duration": 522,
    "start_time": "2025-03-28T19:53:24.590Z"
   },
   {
    "duration": 325,
    "start_time": "2025-03-28T19:53:25.114Z"
   },
   {
    "duration": 15,
    "start_time": "2025-03-28T19:53:25.442Z"
   },
   {
    "duration": 676,
    "start_time": "2025-03-28T19:53:25.459Z"
   },
   {
    "duration": 21,
    "start_time": "2025-03-28T19:54:11.421Z"
   },
   {
    "duration": 831,
    "start_time": "2025-03-28T19:57:57.540Z"
   },
   {
    "duration": 169,
    "start_time": "2025-03-28T19:57:58.374Z"
   },
   {
    "duration": 32,
    "start_time": "2025-03-28T19:57:58.545Z"
   },
   {
    "duration": 5,
    "start_time": "2025-03-28T19:57:58.581Z"
   },
   {
    "duration": 8,
    "start_time": "2025-03-28T19:57:58.588Z"
   },
   {
    "duration": 51,
    "start_time": "2025-03-28T19:57:58.599Z"
   },
   {
    "duration": 5,
    "start_time": "2025-03-28T19:57:58.652Z"
   },
   {
    "duration": 14,
    "start_time": "2025-03-28T19:57:58.658Z"
   },
   {
    "duration": 19,
    "start_time": "2025-03-28T19:57:58.674Z"
   },
   {
    "duration": 64,
    "start_time": "2025-03-28T19:57:58.727Z"
   },
   {
    "duration": 59,
    "start_time": "2025-03-28T19:57:58.795Z"
   },
   {
    "duration": 34,
    "start_time": "2025-03-28T19:57:58.856Z"
   },
   {
    "duration": 14,
    "start_time": "2025-03-28T19:57:58.892Z"
   },
   {
    "duration": 38,
    "start_time": "2025-03-28T19:57:58.925Z"
   },
   {
    "duration": 30,
    "start_time": "2025-03-28T19:57:58.964Z"
   },
   {
    "duration": 33,
    "start_time": "2025-03-28T19:57:58.996Z"
   },
   {
    "duration": 14,
    "start_time": "2025-03-28T19:57:59.031Z"
   },
   {
    "duration": 84,
    "start_time": "2025-03-28T19:57:59.047Z"
   },
   {
    "duration": 39,
    "start_time": "2025-03-28T19:57:59.132Z"
   },
   {
    "duration": 14,
    "start_time": "2025-03-28T19:57:59.173Z"
   },
   {
    "duration": 8,
    "start_time": "2025-03-28T19:57:59.189Z"
   },
   {
    "duration": 10,
    "start_time": "2025-03-28T19:57:59.224Z"
   },
   {
    "duration": 11,
    "start_time": "2025-03-28T19:57:59.236Z"
   },
   {
    "duration": 9,
    "start_time": "2025-03-28T19:57:59.249Z"
   },
   {
    "duration": 10,
    "start_time": "2025-03-28T19:57:59.260Z"
   },
   {
    "duration": 15,
    "start_time": "2025-03-28T19:57:59.272Z"
   },
   {
    "duration": 41,
    "start_time": "2025-03-28T19:57:59.290Z"
   },
   {
    "duration": 20,
    "start_time": "2025-03-28T19:57:59.335Z"
   },
   {
    "duration": 406,
    "start_time": "2025-03-28T19:57:59.357Z"
   },
   {
    "duration": 265,
    "start_time": "2025-03-28T19:57:59.767Z"
   },
   {
    "duration": 7,
    "start_time": "2025-03-28T19:58:00.034Z"
   },
   {
    "duration": 130,
    "start_time": "2025-03-28T19:58:00.042Z"
   },
   {
    "duration": 406,
    "start_time": "2025-03-28T19:58:00.174Z"
   },
   {
    "duration": 369,
    "start_time": "2025-03-28T19:58:00.582Z"
   },
   {
    "duration": 236,
    "start_time": "2025-03-28T19:58:00.954Z"
   },
   {
    "duration": 177,
    "start_time": "2025-03-28T19:58:01.194Z"
   },
   {
    "duration": 311,
    "start_time": "2025-03-28T19:58:01.373Z"
   },
   {
    "duration": 548,
    "start_time": "2025-03-28T19:58:01.686Z"
   },
   {
    "duration": 309,
    "start_time": "2025-03-28T19:58:02.236Z"
   },
   {
    "duration": 16,
    "start_time": "2025-03-28T19:58:02.547Z"
   },
   {
    "duration": 17,
    "start_time": "2025-03-28T19:58:02.565Z"
   },
   {
    "duration": 825,
    "start_time": "2025-03-28T19:59:00.039Z"
   },
   {
    "duration": 173,
    "start_time": "2025-03-28T19:59:00.867Z"
   },
   {
    "duration": 32,
    "start_time": "2025-03-28T19:59:01.041Z"
   },
   {
    "duration": 4,
    "start_time": "2025-03-28T19:59:01.075Z"
   },
   {
    "duration": 9,
    "start_time": "2025-03-28T19:59:01.080Z"
   },
   {
    "duration": 43,
    "start_time": "2025-03-28T19:59:01.091Z"
   },
   {
    "duration": 5,
    "start_time": "2025-03-28T19:59:01.137Z"
   },
   {
    "duration": 15,
    "start_time": "2025-03-28T19:59:01.144Z"
   },
   {
    "duration": 15,
    "start_time": "2025-03-28T19:59:01.160Z"
   },
   {
    "duration": 94,
    "start_time": "2025-03-28T19:59:01.179Z"
   },
   {
    "duration": 49,
    "start_time": "2025-03-28T19:59:01.275Z"
   },
   {
    "duration": 32,
    "start_time": "2025-03-28T19:59:01.325Z"
   },
   {
    "duration": 12,
    "start_time": "2025-03-28T19:59:01.359Z"
   },
   {
    "duration": 55,
    "start_time": "2025-03-28T19:59:01.373Z"
   },
   {
    "duration": 28,
    "start_time": "2025-03-28T19:59:01.429Z"
   },
   {
    "duration": 11,
    "start_time": "2025-03-28T19:59:01.459Z"
   },
   {
    "duration": 13,
    "start_time": "2025-03-28T19:59:01.471Z"
   },
   {
    "duration": 85,
    "start_time": "2025-03-28T19:59:01.486Z"
   },
   {
    "duration": 52,
    "start_time": "2025-03-28T19:59:01.573Z"
   },
   {
    "duration": 15,
    "start_time": "2025-03-28T19:59:01.627Z"
   },
   {
    "duration": 7,
    "start_time": "2025-03-28T19:59:01.644Z"
   },
   {
    "duration": 9,
    "start_time": "2025-03-28T19:59:01.653Z"
   },
   {
    "duration": 10,
    "start_time": "2025-03-28T19:59:01.664Z"
   },
   {
    "duration": 9,
    "start_time": "2025-03-28T19:59:01.675Z"
   },
   {
    "duration": 41,
    "start_time": "2025-03-28T19:59:01.686Z"
   },
   {
    "duration": 15,
    "start_time": "2025-03-28T19:59:01.729Z"
   },
   {
    "duration": 8,
    "start_time": "2025-03-28T19:59:01.745Z"
   },
   {
    "duration": 19,
    "start_time": "2025-03-28T19:59:01.758Z"
   },
   {
    "duration": 377,
    "start_time": "2025-03-28T19:59:01.778Z"
   },
   {
    "duration": 240,
    "start_time": "2025-03-28T19:59:02.157Z"
   },
   {
    "duration": 6,
    "start_time": "2025-03-28T19:59:02.399Z"
   },
   {
    "duration": 138,
    "start_time": "2025-03-28T19:59:02.406Z"
   },
   {
    "duration": 398,
    "start_time": "2025-03-28T19:59:02.546Z"
   },
   {
    "duration": 321,
    "start_time": "2025-03-28T19:59:02.946Z"
   },
   {
    "duration": 262,
    "start_time": "2025-03-28T19:59:03.269Z"
   },
   {
    "duration": 212,
    "start_time": "2025-03-28T19:59:03.534Z"
   },
   {
    "duration": 248,
    "start_time": "2025-03-28T19:59:03.748Z"
   },
   {
    "duration": 360,
    "start_time": "2025-03-28T19:59:03.998Z"
   },
   {
    "duration": 392,
    "start_time": "2025-03-28T19:59:04.360Z"
   },
   {
    "duration": 401,
    "start_time": "2025-03-28T19:59:04.754Z"
   },
   {
    "duration": 15,
    "start_time": "2025-03-28T19:59:05.157Z"
   },
   {
    "duration": 18,
    "start_time": "2025-03-28T19:59:05.174Z"
   },
   {
    "duration": 742,
    "start_time": "2025-03-28T19:59:52.512Z"
   },
   {
    "duration": 156,
    "start_time": "2025-03-28T19:59:53.256Z"
   },
   {
    "duration": 35,
    "start_time": "2025-03-28T19:59:53.414Z"
   },
   {
    "duration": 5,
    "start_time": "2025-03-28T19:59:53.452Z"
   },
   {
    "duration": 8,
    "start_time": "2025-03-28T19:59:53.458Z"
   },
   {
    "duration": 20,
    "start_time": "2025-03-28T19:59:53.468Z"
   },
   {
    "duration": 34,
    "start_time": "2025-03-28T19:59:53.490Z"
   },
   {
    "duration": 17,
    "start_time": "2025-03-28T19:59:53.526Z"
   },
   {
    "duration": 16,
    "start_time": "2025-03-28T19:59:53.545Z"
   },
   {
    "duration": 78,
    "start_time": "2025-03-28T19:59:53.565Z"
   },
   {
    "duration": 38,
    "start_time": "2025-03-28T19:59:53.645Z"
   },
   {
    "duration": 48,
    "start_time": "2025-03-28T19:59:53.685Z"
   },
   {
    "duration": 12,
    "start_time": "2025-03-28T19:59:53.735Z"
   },
   {
    "duration": 31,
    "start_time": "2025-03-28T19:59:53.749Z"
   },
   {
    "duration": 50,
    "start_time": "2025-03-28T19:59:53.782Z"
   },
   {
    "duration": 11,
    "start_time": "2025-03-28T19:59:53.833Z"
   },
   {
    "duration": 14,
    "start_time": "2025-03-28T19:59:53.846Z"
   },
   {
    "duration": 83,
    "start_time": "2025-03-28T19:59:53.862Z"
   },
   {
    "duration": 39,
    "start_time": "2025-03-28T19:59:53.947Z"
   },
   {
    "duration": 15,
    "start_time": "2025-03-28T19:59:53.988Z"
   },
   {
    "duration": 26,
    "start_time": "2025-03-28T19:59:54.004Z"
   },
   {
    "duration": 10,
    "start_time": "2025-03-28T19:59:54.032Z"
   },
   {
    "duration": 11,
    "start_time": "2025-03-28T19:59:54.044Z"
   },
   {
    "duration": 9,
    "start_time": "2025-03-28T19:59:54.057Z"
   },
   {
    "duration": 7,
    "start_time": "2025-03-28T19:59:54.068Z"
   },
   {
    "duration": 47,
    "start_time": "2025-03-28T19:59:54.077Z"
   },
   {
    "duration": 9,
    "start_time": "2025-03-28T19:59:54.126Z"
   },
   {
    "duration": 21,
    "start_time": "2025-03-28T19:59:54.139Z"
   },
   {
    "duration": 388,
    "start_time": "2025-03-28T19:59:54.162Z"
   },
   {
    "duration": 252,
    "start_time": "2025-03-28T19:59:54.552Z"
   },
   {
    "duration": 20,
    "start_time": "2025-03-28T19:59:54.805Z"
   },
   {
    "duration": 129,
    "start_time": "2025-03-28T19:59:54.828Z"
   },
   {
    "duration": 400,
    "start_time": "2025-03-28T19:59:54.959Z"
   },
   {
    "duration": 352,
    "start_time": "2025-03-28T19:59:55.361Z"
   },
   {
    "duration": 272,
    "start_time": "2025-03-28T19:59:55.723Z"
   },
   {
    "duration": 227,
    "start_time": "2025-03-28T19:59:55.997Z"
   },
   {
    "duration": 268,
    "start_time": "2025-03-28T19:59:56.226Z"
   },
   {
    "duration": 304,
    "start_time": "2025-03-28T19:59:56.496Z"
   },
   {
    "duration": 282,
    "start_time": "2025-03-28T19:59:56.802Z"
   },
   {
    "duration": 357,
    "start_time": "2025-03-28T19:59:57.085Z"
   },
   {
    "duration": 16,
    "start_time": "2025-03-28T19:59:57.444Z"
   },
   {
    "duration": 18,
    "start_time": "2025-03-28T19:59:57.462Z"
   },
   {
    "duration": 6,
    "start_time": "2025-03-28T20:01:48.248Z"
   },
   {
    "duration": 238,
    "start_time": "2025-03-28T20:02:01.566Z"
   },
   {
    "duration": 328,
    "start_time": "2025-03-28T20:02:52.718Z"
   }
  ],
  "kernelspec": {
   "display_name": "Python 3 (ipykernel)",
   "language": "python",
   "name": "python3"
  },
  "language_info": {
   "codemirror_mode": {
    "name": "ipython",
    "version": 3
   },
   "file_extension": ".py",
   "mimetype": "text/x-python",
   "name": "python",
   "nbconvert_exporter": "python",
   "pygments_lexer": "ipython3",
   "version": "3.9.19"
  },
  "toc": {
   "base_numbering": 1,
   "nav_menu": {},
   "number_sections": true,
   "sideBar": true,
   "skip_h1_title": false,
   "title_cell": "Table of Contents",
   "title_sidebar": "Contents",
   "toc_cell": false,
   "toc_position": {
    "height": "calc(100% - 180px)",
    "left": "10px",
    "top": "150px",
    "width": "277.4px"
   },
   "toc_section_display": true,
   "toc_window_display": true
  }
 },
 "nbformat": 4,
 "nbformat_minor": 2
}
