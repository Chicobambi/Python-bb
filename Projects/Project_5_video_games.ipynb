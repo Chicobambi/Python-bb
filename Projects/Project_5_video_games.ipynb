{
 "cells": [
  {
   "cell_type": "markdown",
   "id": "8e35a265",
   "metadata": {},
   "source": [
    "# 🎮 Video Game Sales Forecasting Project\n",
    "## 🎯 Project Introduction\n",
    "\n",
    "This project aims to analyze historical video game sales data to uncover key patterns that can help predict successful titles and inform strategic decisions for 2017. \n",
    "\n",
    "Using a dataset that includes user and critic ratings, platforms, genres, and regional sales figures, the analysis explores trends by year, genre, platform, and rating (ESRB), identifying what drives higher sales and how game characteristics influence success.\n",
    "\n",
    "Through data cleaning, exploratory visualizations, user profile analysis by region, and hypothesis testing, this project develops a data-driven understanding of the video game market and provides actionable insights.\n"
   ]
  },
  {
   "cell_type": "markdown",
   "id": "85aa14b6",
   "metadata": {},
   "source": [
    "## 📁 Step 1: Loading and Initial Data Exploration\n"
   ]
  },
  {
   "cell_type": "code",
   "execution_count": null,
   "id": "22f0d120",
   "metadata": {},
   "outputs": [],
   "source": [
    "\n",
    "\n",
    "#Importing Libraries\n",
    "import pandas as pd\n",
    "import numpy as np\n",
    "import matplotlib.pyplot as plt\n",
    "import seaborn as sns\n",
    "from scipy import stats as st\n",
    "from plotly.subplots import make_subplots\n",
    "import plotly.express as px\n"
   ]
  },
  {
   "cell_type": "code",
   "execution_count": 2,
   "id": "96ff33a4",
   "metadata": {},
   "outputs": [],
   "source": [
    "#Importing the dataset\n",
    "dataset = pd.read_csv('games.csv')\n"
   ]
  },
  {
   "cell_type": "code",
   "execution_count": 3,
   "id": "8935c213",
   "metadata": {},
   "outputs": [
    {
     "data": {
      "text/html": [
       "<div>\n",
       "<style scoped>\n",
       "    .dataframe tbody tr th:only-of-type {\n",
       "        vertical-align: middle;\n",
       "    }\n",
       "\n",
       "    .dataframe tbody tr th {\n",
       "        vertical-align: top;\n",
       "    }\n",
       "\n",
       "    .dataframe thead th {\n",
       "        text-align: right;\n",
       "    }\n",
       "</style>\n",
       "<table border=\"1\" class=\"dataframe\">\n",
       "  <thead>\n",
       "    <tr style=\"text-align: right;\">\n",
       "      <th></th>\n",
       "      <th>Name</th>\n",
       "      <th>Platform</th>\n",
       "      <th>Year_of_Release</th>\n",
       "      <th>Genre</th>\n",
       "      <th>NA_sales</th>\n",
       "      <th>EU_sales</th>\n",
       "      <th>JP_sales</th>\n",
       "      <th>Other_sales</th>\n",
       "      <th>Critic_Score</th>\n",
       "      <th>User_Score</th>\n",
       "      <th>Rating</th>\n",
       "    </tr>\n",
       "  </thead>\n",
       "  <tbody>\n",
       "    <tr>\n",
       "      <th>1610</th>\n",
       "      <td>Star Wars Episode III: Revenge of the Sith</td>\n",
       "      <td>XB</td>\n",
       "      <td>2005.0</td>\n",
       "      <td>Action</td>\n",
       "      <td>0.82</td>\n",
       "      <td>0.38</td>\n",
       "      <td>0.00</td>\n",
       "      <td>0.04</td>\n",
       "      <td>61.0</td>\n",
       "      <td>8.1</td>\n",
       "      <td>T</td>\n",
       "    </tr>\n",
       "    <tr>\n",
       "      <th>7890</th>\n",
       "      <td>3rd Super Robot Wars Z Jigoku Hen</td>\n",
       "      <td>PSV</td>\n",
       "      <td>2014.0</td>\n",
       "      <td>Role-Playing</td>\n",
       "      <td>0.00</td>\n",
       "      <td>0.00</td>\n",
       "      <td>0.19</td>\n",
       "      <td>0.00</td>\n",
       "      <td>NaN</td>\n",
       "      <td>NaN</td>\n",
       "      <td>NaN</td>\n",
       "    </tr>\n",
       "    <tr>\n",
       "      <th>7521</th>\n",
       "      <td>Crazy Taxi 3: High Roller</td>\n",
       "      <td>XB</td>\n",
       "      <td>2002.0</td>\n",
       "      <td>Racing</td>\n",
       "      <td>0.14</td>\n",
       "      <td>0.04</td>\n",
       "      <td>0.02</td>\n",
       "      <td>0.01</td>\n",
       "      <td>69.0</td>\n",
       "      <td>8.5</td>\n",
       "      <td>T</td>\n",
       "    </tr>\n",
       "    <tr>\n",
       "      <th>10757</th>\n",
       "      <td>Blue Dragon: Awakened Shadow</td>\n",
       "      <td>DS</td>\n",
       "      <td>2009.0</td>\n",
       "      <td>Role-Playing</td>\n",
       "      <td>0.06</td>\n",
       "      <td>0.00</td>\n",
       "      <td>0.03</td>\n",
       "      <td>0.00</td>\n",
       "      <td>63.0</td>\n",
       "      <td>6.6</td>\n",
       "      <td>E10+</td>\n",
       "    </tr>\n",
       "    <tr>\n",
       "      <th>5154</th>\n",
       "      <td>NCAA Football 07</td>\n",
       "      <td>PSP</td>\n",
       "      <td>2006.0</td>\n",
       "      <td>Sports</td>\n",
       "      <td>0.34</td>\n",
       "      <td>0.00</td>\n",
       "      <td>0.00</td>\n",
       "      <td>0.03</td>\n",
       "      <td>75.0</td>\n",
       "      <td>7.9</td>\n",
       "      <td>E</td>\n",
       "    </tr>\n",
       "    <tr>\n",
       "      <th>4703</th>\n",
       "      <td>F1 2014</td>\n",
       "      <td>PS3</td>\n",
       "      <td>2014.0</td>\n",
       "      <td>Racing</td>\n",
       "      <td>0.07</td>\n",
       "      <td>0.26</td>\n",
       "      <td>0.02</td>\n",
       "      <td>0.06</td>\n",
       "      <td>62.0</td>\n",
       "      <td>4.1</td>\n",
       "      <td>E</td>\n",
       "    </tr>\n",
       "    <tr>\n",
       "      <th>9622</th>\n",
       "      <td>Hour of Victory</td>\n",
       "      <td>X360</td>\n",
       "      <td>2007.0</td>\n",
       "      <td>Shooter</td>\n",
       "      <td>0.10</td>\n",
       "      <td>0.01</td>\n",
       "      <td>0.00</td>\n",
       "      <td>0.01</td>\n",
       "      <td>37.0</td>\n",
       "      <td>3</td>\n",
       "      <td>T</td>\n",
       "    </tr>\n",
       "    <tr>\n",
       "      <th>887</th>\n",
       "      <td>Call of Duty: World at War</td>\n",
       "      <td>Wii</td>\n",
       "      <td>2008.0</td>\n",
       "      <td>Shooter</td>\n",
       "      <td>1.17</td>\n",
       "      <td>0.58</td>\n",
       "      <td>0.00</td>\n",
       "      <td>0.18</td>\n",
       "      <td>83.0</td>\n",
       "      <td>7.6</td>\n",
       "      <td>M</td>\n",
       "    </tr>\n",
       "    <tr>\n",
       "      <th>1287</th>\n",
       "      <td>Fight Night 2004</td>\n",
       "      <td>PS2</td>\n",
       "      <td>2004.0</td>\n",
       "      <td>Fighting</td>\n",
       "      <td>1.08</td>\n",
       "      <td>0.20</td>\n",
       "      <td>0.00</td>\n",
       "      <td>0.20</td>\n",
       "      <td>85.0</td>\n",
       "      <td>9</td>\n",
       "      <td>T</td>\n",
       "    </tr>\n",
       "    <tr>\n",
       "      <th>6992</th>\n",
       "      <td>The Amazing Spider-Man 2 (2014)</td>\n",
       "      <td>X360</td>\n",
       "      <td>2014.0</td>\n",
       "      <td>Action</td>\n",
       "      <td>0.10</td>\n",
       "      <td>0.11</td>\n",
       "      <td>0.00</td>\n",
       "      <td>0.02</td>\n",
       "      <td>NaN</td>\n",
       "      <td>NaN</td>\n",
       "      <td>NaN</td>\n",
       "    </tr>\n",
       "  </tbody>\n",
       "</table>\n",
       "</div>"
      ],
      "text/plain": [
       "                                             Name Platform  Year_of_Release  \\\n",
       "1610   Star Wars Episode III: Revenge of the Sith       XB           2005.0   \n",
       "7890            3rd Super Robot Wars Z Jigoku Hen      PSV           2014.0   \n",
       "7521                    Crazy Taxi 3: High Roller       XB           2002.0   \n",
       "10757                Blue Dragon: Awakened Shadow       DS           2009.0   \n",
       "5154                             NCAA Football 07      PSP           2006.0   \n",
       "4703                                      F1 2014      PS3           2014.0   \n",
       "9622                              Hour of Victory     X360           2007.0   \n",
       "887                    Call of Duty: World at War      Wii           2008.0   \n",
       "1287                             Fight Night 2004      PS2           2004.0   \n",
       "6992              The Amazing Spider-Man 2 (2014)     X360           2014.0   \n",
       "\n",
       "              Genre  NA_sales  EU_sales  JP_sales  Other_sales  Critic_Score  \\\n",
       "1610         Action      0.82      0.38      0.00         0.04          61.0   \n",
       "7890   Role-Playing      0.00      0.00      0.19         0.00           NaN   \n",
       "7521         Racing      0.14      0.04      0.02         0.01          69.0   \n",
       "10757  Role-Playing      0.06      0.00      0.03         0.00          63.0   \n",
       "5154         Sports      0.34      0.00      0.00         0.03          75.0   \n",
       "4703         Racing      0.07      0.26      0.02         0.06          62.0   \n",
       "9622        Shooter      0.10      0.01      0.00         0.01          37.0   \n",
       "887         Shooter      1.17      0.58      0.00         0.18          83.0   \n",
       "1287       Fighting      1.08      0.20      0.00         0.20          85.0   \n",
       "6992         Action      0.10      0.11      0.00         0.02           NaN   \n",
       "\n",
       "      User_Score Rating  \n",
       "1610         8.1      T  \n",
       "7890         NaN    NaN  \n",
       "7521         8.5      T  \n",
       "10757        6.6   E10+  \n",
       "5154         7.9      E  \n",
       "4703         4.1      E  \n",
       "9622           3      T  \n",
       "887          7.6      M  \n",
       "1287           9      T  \n",
       "6992         NaN    NaN  "
      ]
     },
     "execution_count": 3,
     "metadata": {},
     "output_type": "execute_result"
    }
   ],
   "source": [
    "dataset.sample(10) # Displaying the first 10 rows of the dataset"
   ]
  },
  {
   "cell_type": "code",
   "execution_count": 4,
   "id": "2c993550",
   "metadata": {},
   "outputs": [
    {
     "name": "stdout",
     "output_type": "stream",
     "text": [
      "<class 'pandas.core.frame.DataFrame'>\n",
      "RangeIndex: 16715 entries, 0 to 16714\n",
      "Data columns (total 11 columns):\n",
      " #   Column           Non-Null Count  Dtype  \n",
      "---  ------           --------------  -----  \n",
      " 0   Name             16713 non-null  object \n",
      " 1   Platform         16715 non-null  object \n",
      " 2   Year_of_Release  16446 non-null  float64\n",
      " 3   Genre            16713 non-null  object \n",
      " 4   NA_sales         16715 non-null  float64\n",
      " 5   EU_sales         16715 non-null  float64\n",
      " 6   JP_sales         16715 non-null  float64\n",
      " 7   Other_sales      16715 non-null  float64\n",
      " 8   Critic_Score     8137 non-null   float64\n",
      " 9   User_Score       10014 non-null  object \n",
      " 10  Rating           9949 non-null   object \n",
      "dtypes: float64(6), object(5)\n",
      "memory usage: 1.4+ MB\n"
     ]
    }
   ],
   "source": [
    "\n",
    "dataset.info() # Displaying the information of the dataset"
   ]
  },
  {
   "cell_type": "code",
   "execution_count": 5,
   "id": "1154122b",
   "metadata": {},
   "outputs": [
    {
     "data": {
      "text/html": [
       "<div>\n",
       "<style scoped>\n",
       "    .dataframe tbody tr th:only-of-type {\n",
       "        vertical-align: middle;\n",
       "    }\n",
       "\n",
       "    .dataframe tbody tr th {\n",
       "        vertical-align: top;\n",
       "    }\n",
       "\n",
       "    .dataframe thead th {\n",
       "        text-align: right;\n",
       "    }\n",
       "</style>\n",
       "<table border=\"1\" class=\"dataframe\">\n",
       "  <thead>\n",
       "    <tr style=\"text-align: right;\">\n",
       "      <th></th>\n",
       "      <th>Year_of_Release</th>\n",
       "      <th>NA_sales</th>\n",
       "      <th>EU_sales</th>\n",
       "      <th>JP_sales</th>\n",
       "      <th>Other_sales</th>\n",
       "      <th>Critic_Score</th>\n",
       "    </tr>\n",
       "  </thead>\n",
       "  <tbody>\n",
       "    <tr>\n",
       "      <th>count</th>\n",
       "      <td>16446.000000</td>\n",
       "      <td>16715.000000</td>\n",
       "      <td>16715.000000</td>\n",
       "      <td>16715.000000</td>\n",
       "      <td>16715.000000</td>\n",
       "      <td>8137.000000</td>\n",
       "    </tr>\n",
       "    <tr>\n",
       "      <th>mean</th>\n",
       "      <td>2006.484616</td>\n",
       "      <td>0.263377</td>\n",
       "      <td>0.145060</td>\n",
       "      <td>0.077617</td>\n",
       "      <td>0.047342</td>\n",
       "      <td>68.967679</td>\n",
       "    </tr>\n",
       "    <tr>\n",
       "      <th>std</th>\n",
       "      <td>5.877050</td>\n",
       "      <td>0.813604</td>\n",
       "      <td>0.503339</td>\n",
       "      <td>0.308853</td>\n",
       "      <td>0.186731</td>\n",
       "      <td>13.938165</td>\n",
       "    </tr>\n",
       "    <tr>\n",
       "      <th>min</th>\n",
       "      <td>1980.000000</td>\n",
       "      <td>0.000000</td>\n",
       "      <td>0.000000</td>\n",
       "      <td>0.000000</td>\n",
       "      <td>0.000000</td>\n",
       "      <td>13.000000</td>\n",
       "    </tr>\n",
       "    <tr>\n",
       "      <th>25%</th>\n",
       "      <td>2003.000000</td>\n",
       "      <td>0.000000</td>\n",
       "      <td>0.000000</td>\n",
       "      <td>0.000000</td>\n",
       "      <td>0.000000</td>\n",
       "      <td>60.000000</td>\n",
       "    </tr>\n",
       "    <tr>\n",
       "      <th>50%</th>\n",
       "      <td>2007.000000</td>\n",
       "      <td>0.080000</td>\n",
       "      <td>0.020000</td>\n",
       "      <td>0.000000</td>\n",
       "      <td>0.010000</td>\n",
       "      <td>71.000000</td>\n",
       "    </tr>\n",
       "    <tr>\n",
       "      <th>75%</th>\n",
       "      <td>2010.000000</td>\n",
       "      <td>0.240000</td>\n",
       "      <td>0.110000</td>\n",
       "      <td>0.040000</td>\n",
       "      <td>0.030000</td>\n",
       "      <td>79.000000</td>\n",
       "    </tr>\n",
       "    <tr>\n",
       "      <th>max</th>\n",
       "      <td>2016.000000</td>\n",
       "      <td>41.360000</td>\n",
       "      <td>28.960000</td>\n",
       "      <td>10.220000</td>\n",
       "      <td>10.570000</td>\n",
       "      <td>98.000000</td>\n",
       "    </tr>\n",
       "  </tbody>\n",
       "</table>\n",
       "</div>"
      ],
      "text/plain": [
       "       Year_of_Release      NA_sales      EU_sales      JP_sales  \\\n",
       "count     16446.000000  16715.000000  16715.000000  16715.000000   \n",
       "mean       2006.484616      0.263377      0.145060      0.077617   \n",
       "std           5.877050      0.813604      0.503339      0.308853   \n",
       "min        1980.000000      0.000000      0.000000      0.000000   \n",
       "25%        2003.000000      0.000000      0.000000      0.000000   \n",
       "50%        2007.000000      0.080000      0.020000      0.000000   \n",
       "75%        2010.000000      0.240000      0.110000      0.040000   \n",
       "max        2016.000000     41.360000     28.960000     10.220000   \n",
       "\n",
       "        Other_sales  Critic_Score  \n",
       "count  16715.000000   8137.000000  \n",
       "mean       0.047342     68.967679  \n",
       "std        0.186731     13.938165  \n",
       "min        0.000000     13.000000  \n",
       "25%        0.000000     60.000000  \n",
       "50%        0.010000     71.000000  \n",
       "75%        0.030000     79.000000  \n",
       "max       10.570000     98.000000  "
      ]
     },
     "execution_count": 5,
     "metadata": {},
     "output_type": "execute_result"
    }
   ],
   "source": [
    "dataset.describe() # Displaying the statistical information of the dataset"
   ]
  },
  {
   "cell_type": "code",
   "execution_count": 6,
   "id": "5661793f",
   "metadata": {},
   "outputs": [
    {
     "data": {
      "text/html": [
       "<div>\n",
       "<style scoped>\n",
       "    .dataframe tbody tr th:only-of-type {\n",
       "        vertical-align: middle;\n",
       "    }\n",
       "\n",
       "    .dataframe tbody tr th {\n",
       "        vertical-align: top;\n",
       "    }\n",
       "\n",
       "    .dataframe thead th {\n",
       "        text-align: right;\n",
       "    }\n",
       "</style>\n",
       "<table border=\"1\" class=\"dataframe\">\n",
       "  <thead>\n",
       "    <tr style=\"text-align: right;\">\n",
       "      <th></th>\n",
       "      <th>missing_values</th>\n",
       "      <th>%</th>\n",
       "    </tr>\n",
       "  </thead>\n",
       "  <tbody>\n",
       "    <tr>\n",
       "      <th>Name</th>\n",
       "      <td>2</td>\n",
       "      <td>0.000</td>\n",
       "    </tr>\n",
       "    <tr>\n",
       "      <th>Platform</th>\n",
       "      <td>0</td>\n",
       "      <td>0.000</td>\n",
       "    </tr>\n",
       "    <tr>\n",
       "      <th>Year_of_Release</th>\n",
       "      <td>269</td>\n",
       "      <td>0.016</td>\n",
       "    </tr>\n",
       "    <tr>\n",
       "      <th>Genre</th>\n",
       "      <td>2</td>\n",
       "      <td>0.000</td>\n",
       "    </tr>\n",
       "    <tr>\n",
       "      <th>NA_sales</th>\n",
       "      <td>0</td>\n",
       "      <td>0.000</td>\n",
       "    </tr>\n",
       "  </tbody>\n",
       "</table>\n",
       "</div>"
      ],
      "text/plain": [
       "                 missing_values      %\n",
       "Name                          2  0.000\n",
       "Platform                      0  0.000\n",
       "Year_of_Release             269  0.016\n",
       "Genre                         2  0.000\n",
       "NA_sales                      0  0.000"
      ]
     },
     "execution_count": 6,
     "metadata": {},
     "output_type": "execute_result"
    }
   ],
   "source": [
    "# Displaying the percentage of null values in the dataset\n",
    "missing_count = dataset.isnull().sum()\n",
    "\n",
    "mis_values = pd.DataFrame({\n",
    "    'missing_values': missing_count,\n",
    "    '%': round(missing_count / len(dataset), 3)\n",
    "})\n",
    "\n",
    "mis_values.head(5) # Displaying the first 5 rows of the missing values"
   ]
  },
  {
   "cell_type": "markdown",
   "id": "c8ad767e",
   "metadata": {},
   "source": [
    "# 🧹 Step 2: Data Preparation\n"
   ]
  },
  {
   "cell_type": "markdown",
   "id": "4676b7cf",
   "metadata": {},
   "source": [
    "### Standarazing Column Names"
   ]
  },
  {
   "cell_type": "code",
   "execution_count": 7,
   "id": "c9e37681",
   "metadata": {},
   "outputs": [],
   "source": [
    "dataset.columns = dataset.columns.str.lower() # Converting the column names to lower case"
   ]
  },
  {
   "cell_type": "code",
   "execution_count": 8,
   "id": "bc53adb8",
   "metadata": {},
   "outputs": [
    {
     "data": {
      "text/html": [
       "<div>\n",
       "<style scoped>\n",
       "    .dataframe tbody tr th:only-of-type {\n",
       "        vertical-align: middle;\n",
       "    }\n",
       "\n",
       "    .dataframe tbody tr th {\n",
       "        vertical-align: top;\n",
       "    }\n",
       "\n",
       "    .dataframe thead th {\n",
       "        text-align: right;\n",
       "    }\n",
       "</style>\n",
       "<table border=\"1\" class=\"dataframe\">\n",
       "  <thead>\n",
       "    <tr style=\"text-align: right;\">\n",
       "      <th></th>\n",
       "      <th>name</th>\n",
       "      <th>platform</th>\n",
       "      <th>year_of_release</th>\n",
       "      <th>genre</th>\n",
       "      <th>na_sales</th>\n",
       "      <th>eu_sales</th>\n",
       "      <th>jp_sales</th>\n",
       "      <th>other_sales</th>\n",
       "      <th>critic_score</th>\n",
       "      <th>user_score</th>\n",
       "      <th>rating</th>\n",
       "    </tr>\n",
       "  </thead>\n",
       "  <tbody>\n",
       "    <tr>\n",
       "      <th>0</th>\n",
       "      <td>Wii Sports</td>\n",
       "      <td>Wii</td>\n",
       "      <td>2006.0</td>\n",
       "      <td>Sports</td>\n",
       "      <td>41.36</td>\n",
       "      <td>28.96</td>\n",
       "      <td>3.77</td>\n",
       "      <td>8.45</td>\n",
       "      <td>76.0</td>\n",
       "      <td>8</td>\n",
       "      <td>E</td>\n",
       "    </tr>\n",
       "    <tr>\n",
       "      <th>1</th>\n",
       "      <td>Super Mario Bros.</td>\n",
       "      <td>NES</td>\n",
       "      <td>1985.0</td>\n",
       "      <td>Platform</td>\n",
       "      <td>29.08</td>\n",
       "      <td>3.58</td>\n",
       "      <td>6.81</td>\n",
       "      <td>0.77</td>\n",
       "      <td>NaN</td>\n",
       "      <td>NaN</td>\n",
       "      <td>NaN</td>\n",
       "    </tr>\n",
       "    <tr>\n",
       "      <th>2</th>\n",
       "      <td>Mario Kart Wii</td>\n",
       "      <td>Wii</td>\n",
       "      <td>2008.0</td>\n",
       "      <td>Racing</td>\n",
       "      <td>15.68</td>\n",
       "      <td>12.76</td>\n",
       "      <td>3.79</td>\n",
       "      <td>3.29</td>\n",
       "      <td>82.0</td>\n",
       "      <td>8.3</td>\n",
       "      <td>E</td>\n",
       "    </tr>\n",
       "    <tr>\n",
       "      <th>3</th>\n",
       "      <td>Wii Sports Resort</td>\n",
       "      <td>Wii</td>\n",
       "      <td>2009.0</td>\n",
       "      <td>Sports</td>\n",
       "      <td>15.61</td>\n",
       "      <td>10.93</td>\n",
       "      <td>3.28</td>\n",
       "      <td>2.95</td>\n",
       "      <td>80.0</td>\n",
       "      <td>8</td>\n",
       "      <td>E</td>\n",
       "    </tr>\n",
       "    <tr>\n",
       "      <th>4</th>\n",
       "      <td>Pokemon Red/Pokemon Blue</td>\n",
       "      <td>GB</td>\n",
       "      <td>1996.0</td>\n",
       "      <td>Role-Playing</td>\n",
       "      <td>11.27</td>\n",
       "      <td>8.89</td>\n",
       "      <td>10.22</td>\n",
       "      <td>1.00</td>\n",
       "      <td>NaN</td>\n",
       "      <td>NaN</td>\n",
       "      <td>NaN</td>\n",
       "    </tr>\n",
       "  </tbody>\n",
       "</table>\n",
       "</div>"
      ],
      "text/plain": [
       "                       name platform  year_of_release         genre  na_sales  \\\n",
       "0                Wii Sports      Wii           2006.0        Sports     41.36   \n",
       "1         Super Mario Bros.      NES           1985.0      Platform     29.08   \n",
       "2            Mario Kart Wii      Wii           2008.0        Racing     15.68   \n",
       "3         Wii Sports Resort      Wii           2009.0        Sports     15.61   \n",
       "4  Pokemon Red/Pokemon Blue       GB           1996.0  Role-Playing     11.27   \n",
       "\n",
       "   eu_sales  jp_sales  other_sales  critic_score user_score rating  \n",
       "0     28.96      3.77         8.45          76.0          8      E  \n",
       "1      3.58      6.81         0.77           NaN        NaN    NaN  \n",
       "2     12.76      3.79         3.29          82.0        8.3      E  \n",
       "3     10.93      3.28         2.95          80.0          8      E  \n",
       "4      8.89     10.22         1.00           NaN        NaN    NaN  "
      ]
     },
     "execution_count": 8,
     "metadata": {},
     "output_type": "execute_result"
    }
   ],
   "source": [
    "dataset.head() # Displaying the first 5 rows of the dataset"
   ]
  },
  {
   "cell_type": "markdown",
   "id": "9261631e",
   "metadata": {},
   "source": [
    "### Handling Missing Values"
   ]
  },
  {
   "cell_type": "code",
   "execution_count": 9,
   "id": "3a395380",
   "metadata": {},
   "outputs": [],
   "source": [
    "dataset = dataset.dropna(subset=['name', 'year_of_release', 'genre']) # Dropping the null values in the specified columns"
   ]
  },
  {
   "cell_type": "markdown",
   "id": "fd2f2c28",
   "metadata": {},
   "source": [
    "### Data Type Conversion"
   ]
  },
  {
   "cell_type": "code",
   "execution_count": 10,
   "id": "fd243ef6",
   "metadata": {},
   "outputs": [],
   "source": [
    "\n",
    "dataset['year_of_release'] = dataset['year_of_release'].astype(int) # Converting the year_of_release column to integer"
   ]
  },
  {
   "cell_type": "code",
   "execution_count": 11,
   "id": "c38e0b0f",
   "metadata": {},
   "outputs": [],
   "source": [
    "dataset['user_score'] = dataset['user_score'].replace('tbd', np.nan) # Replacing the 'tbd' values in the user_score column with NaN\n",
    "dataset['user_score'] = dataset['user_score'].astype(float) # Converting the user_score column to float"
   ]
  },
  {
   "cell_type": "markdown",
   "id": "71f3d829",
   "metadata": {},
   "source": [
    "The columns with the most missing values are: year_of_release, genre, rating, critic_score, and user_score.\n",
    "\n",
    "The missing values in year_of_release and genre likely indicate incomplete metadata and were removed, as they are essential for analysis.\n",
    "\n",
    "The missing rating values may reflect games that were never officially rated or released in specific regions. These were left as missing to avoid assigning incorrect classifications.\n",
    "\n",
    "Missing critic_score and user_score are likely due to games with low visibility, limited reviews, or \"TBD\" entries in the original dataset. These were converted to NaN and kept for analyses where relevant.\n",
    "\n",
    "For rating and review score columns, instead of imputing values, we worked with filtered subsets to ensure valid comparisons in later correlation and hypothesis testing.\n",
    "\n",
    "After cleaning, we verified that all transformed columns had the correct data types, and the final dataset used for analysis had no missing values in required fields."
   ]
  },
  {
   "cell_type": "markdown",
   "id": "daf747f1",
   "metadata": {},
   "source": [
    "### Calculate Total Sales"
   ]
  },
  {
   "cell_type": "code",
   "execution_count": null,
   "id": "1b1c1c56",
   "metadata": {},
   "outputs": [],
   "source": [
    "dataset['total_sales'] = dataset['na_sales'] + dataset['eu_sales'] + dataset['jp_sales'] + dataset['other_sales'] # Creating a new column total_sales by summing the sales of all regions\n",
    "dataset['total_sales'] = dataset['total_sales'].astype(float) # Converting the total_sales column to float"
   ]
  },
  {
   "cell_type": "markdown",
   "id": "cb239af2",
   "metadata": {},
   "source": [
    "# 📊 Step 3: Exploratory Data Analysis\n"
   ]
  },
  {
   "cell_type": "markdown",
   "id": "c18df9b8",
   "metadata": {},
   "source": [
    "### Temporal Analysis of Game Releases"
   ]
  },
  {
   "cell_type": "code",
   "execution_count": 13,
   "id": "53a45bfc",
   "metadata": {},
   "outputs": [],
   "source": [
    "game_by_year = dataset.groupby('year_of_release')['name'].count() # Grouping the dataset by name and year_of_release"
   ]
  },
  {
   "cell_type": "code",
   "execution_count": 14,
   "id": "97722bf3",
   "metadata": {},
   "outputs": [
    {
     "data": {
      "image/png": "[encoded data removed]",
      "text/plain": [
       "<Figure size 640x480 with 1 Axes>"
      ]
     },
     "metadata": {},
     "output_type": "display_data"
    }
   ],
   "source": [
    "plt.Figure(figsize=(10, 6)) # Setting the figure size\n",
    "game_by_year.plot(kind='bar', color='skyblue') # Plotting the bar chart\n",
    "plt.title('Number of games released by year') # Setting the title of the plot\n",
    "plt.xlabel('Year of Release') # Setting the x-axis label\n",
    "plt.ylabel('Number of Games') # Setting the y-axis label    \n",
    "plt.grid(axis='y', linestyle='--', alpha=0.7) # Adding grid lines to the y-axis\n",
    "plt.show() # Displaying the plot"
   ]
  },
  {
   "cell_type": "code",
   "execution_count": 15,
   "id": "de6d39f7",
   "metadata": {},
   "outputs": [],
   "source": [
    "stats_by_year = dataset.groupby('year_of_release').agg({'name': 'count',\n",
    "                                                        'total_sales': ['sum', 'mean', 'median'],\n",
    "                                                        'user_score': 'mean',\n",
    "                                                        'critic_score': 'mean'}) # Grouping the dataset by year_of_release and calculating the statistics"
   ]
  },
  {
   "cell_type": "code",
   "execution_count": 16,
   "id": "9fb64a20",
   "metadata": {},
   "outputs": [],
   "source": [
    "stats_by_year.columns = ['total_games', 'total_sales_sum', 'total_sales_mean', 'total_sales_median', 'user_score_mean', 'critic_score_mean'] # Renaming the columns of the stats_by_year dataframe\n",
    "stats_by_year = stats_by_year.reset_index() # Resetting the index of the stats_by_year dataframe\n"
   ]
  },
  {
   "cell_type": "code",
   "execution_count": 17,
   "id": "227a49ee",
   "metadata": {},
   "outputs": [
    {
     "data": {
      "text/html": [
       "<div>\n",
       "<style scoped>\n",
       "    .dataframe tbody tr th:only-of-type {\n",
       "        vertical-align: middle;\n",
       "    }\n",
       "\n",
       "    .dataframe tbody tr th {\n",
       "        vertical-align: top;\n",
       "    }\n",
       "\n",
       "    .dataframe thead th {\n",
       "        text-align: right;\n",
       "    }\n",
       "</style>\n",
       "<table border=\"1\" class=\"dataframe\">\n",
       "  <thead>\n",
       "    <tr style=\"text-align: right;\">\n",
       "      <th></th>\n",
       "      <th>year_of_release</th>\n",
       "      <th>total_games</th>\n",
       "      <th>total_sales_sum</th>\n",
       "      <th>total_sales_mean</th>\n",
       "      <th>total_sales_median</th>\n",
       "      <th>user_score_mean</th>\n",
       "      <th>critic_score_mean</th>\n",
       "    </tr>\n",
       "  </thead>\n",
       "  <tbody>\n",
       "    <tr>\n",
       "      <th>0</th>\n",
       "      <td>1980</td>\n",
       "      <td>9</td>\n",
       "      <td>11.38</td>\n",
       "      <td>1.264444</td>\n",
       "      <td>0.770</td>\n",
       "      <td>NaN</td>\n",
       "      <td>NaN</td>\n",
       "    </tr>\n",
       "    <tr>\n",
       "      <th>1</th>\n",
       "      <td>1981</td>\n",
       "      <td>46</td>\n",
       "      <td>35.68</td>\n",
       "      <td>0.775652</td>\n",
       "      <td>0.465</td>\n",
       "      <td>NaN</td>\n",
       "      <td>NaN</td>\n",
       "    </tr>\n",
       "    <tr>\n",
       "      <th>2</th>\n",
       "      <td>1982</td>\n",
       "      <td>36</td>\n",
       "      <td>28.88</td>\n",
       "      <td>0.802222</td>\n",
       "      <td>0.540</td>\n",
       "      <td>NaN</td>\n",
       "      <td>NaN</td>\n",
       "    </tr>\n",
       "    <tr>\n",
       "      <th>3</th>\n",
       "      <td>1983</td>\n",
       "      <td>17</td>\n",
       "      <td>16.80</td>\n",
       "      <td>0.988235</td>\n",
       "      <td>0.770</td>\n",
       "      <td>NaN</td>\n",
       "      <td>NaN</td>\n",
       "    </tr>\n",
       "    <tr>\n",
       "      <th>4</th>\n",
       "      <td>1984</td>\n",
       "      <td>14</td>\n",
       "      <td>50.35</td>\n",
       "      <td>3.596429</td>\n",
       "      <td>1.485</td>\n",
       "      <td>NaN</td>\n",
       "      <td>NaN</td>\n",
       "    </tr>\n",
       "    <tr>\n",
       "      <th>5</th>\n",
       "      <td>1985</td>\n",
       "      <td>14</td>\n",
       "      <td>53.95</td>\n",
       "      <td>3.853571</td>\n",
       "      <td>1.015</td>\n",
       "      <td>5.800000</td>\n",
       "      <td>59.000000</td>\n",
       "    </tr>\n",
       "    <tr>\n",
       "      <th>6</th>\n",
       "      <td>1986</td>\n",
       "      <td>21</td>\n",
       "      <td>37.08</td>\n",
       "      <td>1.765714</td>\n",
       "      <td>1.360</td>\n",
       "      <td>NaN</td>\n",
       "      <td>NaN</td>\n",
       "    </tr>\n",
       "    <tr>\n",
       "      <th>7</th>\n",
       "      <td>1987</td>\n",
       "      <td>16</td>\n",
       "      <td>21.70</td>\n",
       "      <td>1.356250</td>\n",
       "      <td>0.885</td>\n",
       "      <td>NaN</td>\n",
       "      <td>NaN</td>\n",
       "    </tr>\n",
       "    <tr>\n",
       "      <th>8</th>\n",
       "      <td>1988</td>\n",
       "      <td>15</td>\n",
       "      <td>47.21</td>\n",
       "      <td>3.147333</td>\n",
       "      <td>1.510</td>\n",
       "      <td>2.200000</td>\n",
       "      <td>64.000000</td>\n",
       "    </tr>\n",
       "    <tr>\n",
       "      <th>9</th>\n",
       "      <td>1989</td>\n",
       "      <td>17</td>\n",
       "      <td>73.45</td>\n",
       "      <td>4.320588</td>\n",
       "      <td>1.610</td>\n",
       "      <td>NaN</td>\n",
       "      <td>NaN</td>\n",
       "    </tr>\n",
       "    <tr>\n",
       "      <th>10</th>\n",
       "      <td>1990</td>\n",
       "      <td>16</td>\n",
       "      <td>49.37</td>\n",
       "      <td>3.085625</td>\n",
       "      <td>1.520</td>\n",
       "      <td>NaN</td>\n",
       "      <td>NaN</td>\n",
       "    </tr>\n",
       "    <tr>\n",
       "      <th>11</th>\n",
       "      <td>1991</td>\n",
       "      <td>41</td>\n",
       "      <td>32.23</td>\n",
       "      <td>0.786098</td>\n",
       "      <td>0.380</td>\n",
       "      <td>NaN</td>\n",
       "      <td>NaN</td>\n",
       "    </tr>\n",
       "    <tr>\n",
       "      <th>12</th>\n",
       "      <td>1992</td>\n",
       "      <td>43</td>\n",
       "      <td>76.16</td>\n",
       "      <td>1.771163</td>\n",
       "      <td>0.790</td>\n",
       "      <td>8.200000</td>\n",
       "      <td>85.000000</td>\n",
       "    </tr>\n",
       "    <tr>\n",
       "      <th>13</th>\n",
       "      <td>1993</td>\n",
       "      <td>60</td>\n",
       "      <td>45.99</td>\n",
       "      <td>0.766500</td>\n",
       "      <td>0.355</td>\n",
       "      <td>NaN</td>\n",
       "      <td>NaN</td>\n",
       "    </tr>\n",
       "    <tr>\n",
       "      <th>14</th>\n",
       "      <td>1994</td>\n",
       "      <td>121</td>\n",
       "      <td>79.23</td>\n",
       "      <td>0.654793</td>\n",
       "      <td>0.270</td>\n",
       "      <td>6.300000</td>\n",
       "      <td>69.000000</td>\n",
       "    </tr>\n",
       "    <tr>\n",
       "      <th>15</th>\n",
       "      <td>1995</td>\n",
       "      <td>219</td>\n",
       "      <td>88.12</td>\n",
       "      <td>0.402374</td>\n",
       "      <td>0.140</td>\n",
       "      <td>NaN</td>\n",
       "      <td>NaN</td>\n",
       "    </tr>\n",
       "    <tr>\n",
       "      <th>16</th>\n",
       "      <td>1996</td>\n",
       "      <td>263</td>\n",
       "      <td>199.15</td>\n",
       "      <td>0.757224</td>\n",
       "      <td>0.210</td>\n",
       "      <td>8.400000</td>\n",
       "      <td>89.875000</td>\n",
       "    </tr>\n",
       "    <tr>\n",
       "      <th>17</th>\n",
       "      <td>1997</td>\n",
       "      <td>289</td>\n",
       "      <td>201.07</td>\n",
       "      <td>0.695744</td>\n",
       "      <td>0.280</td>\n",
       "      <td>8.472222</td>\n",
       "      <td>85.294118</td>\n",
       "    </tr>\n",
       "    <tr>\n",
       "      <th>18</th>\n",
       "      <td>1998</td>\n",
       "      <td>379</td>\n",
       "      <td>256.31</td>\n",
       "      <td>0.676280</td>\n",
       "      <td>0.260</td>\n",
       "      <td>8.506452</td>\n",
       "      <td>81.821429</td>\n",
       "    </tr>\n",
       "    <tr>\n",
       "      <th>19</th>\n",
       "      <td>1999</td>\n",
       "      <td>338</td>\n",
       "      <td>251.11</td>\n",
       "      <td>0.742929</td>\n",
       "      <td>0.305</td>\n",
       "      <td>8.480645</td>\n",
       "      <td>75.769231</td>\n",
       "    </tr>\n",
       "    <tr>\n",
       "      <th>20</th>\n",
       "      <td>2000</td>\n",
       "      <td>350</td>\n",
       "      <td>201.66</td>\n",
       "      <td>0.576171</td>\n",
       "      <td>0.250</td>\n",
       "      <td>7.531776</td>\n",
       "      <td>69.349650</td>\n",
       "    </tr>\n",
       "    <tr>\n",
       "      <th>21</th>\n",
       "      <td>2001</td>\n",
       "      <td>482</td>\n",
       "      <td>331.46</td>\n",
       "      <td>0.687676</td>\n",
       "      <td>0.250</td>\n",
       "      <td>7.594942</td>\n",
       "      <td>71.414110</td>\n",
       "    </tr>\n",
       "    <tr>\n",
       "      <th>22</th>\n",
       "      <td>2002</td>\n",
       "      <td>829</td>\n",
       "      <td>394.97</td>\n",
       "      <td>0.476441</td>\n",
       "      <td>0.170</td>\n",
       "      <td>7.585129</td>\n",
       "      <td>69.046252</td>\n",
       "    </tr>\n",
       "    <tr>\n",
       "      <th>23</th>\n",
       "      <td>2003</td>\n",
       "      <td>775</td>\n",
       "      <td>357.54</td>\n",
       "      <td>0.461342</td>\n",
       "      <td>0.190</td>\n",
       "      <td>7.859884</td>\n",
       "      <td>70.181197</td>\n",
       "    </tr>\n",
       "    <tr>\n",
       "      <th>24</th>\n",
       "      <td>2004</td>\n",
       "      <td>762</td>\n",
       "      <td>418.68</td>\n",
       "      <td>0.549449</td>\n",
       "      <td>0.210</td>\n",
       "      <td>7.750511</td>\n",
       "      <td>69.393939</td>\n",
       "    </tr>\n",
       "    <tr>\n",
       "      <th>25</th>\n",
       "      <td>2005</td>\n",
       "      <td>939</td>\n",
       "      <td>457.82</td>\n",
       "      <td>0.487561</td>\n",
       "      <td>0.170</td>\n",
       "      <td>7.509605</td>\n",
       "      <td>68.819847</td>\n",
       "    </tr>\n",
       "    <tr>\n",
       "      <th>26</th>\n",
       "      <td>2006</td>\n",
       "      <td>1006</td>\n",
       "      <td>517.71</td>\n",
       "      <td>0.514622</td>\n",
       "      <td>0.110</td>\n",
       "      <td>7.247283</td>\n",
       "      <td>67.338710</td>\n",
       "    </tr>\n",
       "    <tr>\n",
       "      <th>27</th>\n",
       "      <td>2007</td>\n",
       "      <td>1197</td>\n",
       "      <td>604.75</td>\n",
       "      <td>0.505221</td>\n",
       "      <td>0.150</td>\n",
       "      <td>6.895707</td>\n",
       "      <td>66.180636</td>\n",
       "    </tr>\n",
       "    <tr>\n",
       "      <th>28</th>\n",
       "      <td>2008</td>\n",
       "      <td>1427</td>\n",
       "      <td>671.50</td>\n",
       "      <td>0.470568</td>\n",
       "      <td>0.160</td>\n",
       "      <td>6.950983</td>\n",
       "      <td>65.904895</td>\n",
       "    </tr>\n",
       "    <tr>\n",
       "      <th>29</th>\n",
       "      <td>2009</td>\n",
       "      <td>1426</td>\n",
       "      <td>658.82</td>\n",
       "      <td>0.462006</td>\n",
       "      <td>0.150</td>\n",
       "      <td>6.990717</td>\n",
       "      <td>67.554531</td>\n",
       "    </tr>\n",
       "    <tr>\n",
       "      <th>30</th>\n",
       "      <td>2010</td>\n",
       "      <td>1255</td>\n",
       "      <td>590.13</td>\n",
       "      <td>0.470223</td>\n",
       "      <td>0.140</td>\n",
       "      <td>6.875375</td>\n",
       "      <td>67.482000</td>\n",
       "    </tr>\n",
       "    <tr>\n",
       "      <th>31</th>\n",
       "      <td>2011</td>\n",
       "      <td>1136</td>\n",
       "      <td>507.58</td>\n",
       "      <td>0.446813</td>\n",
       "      <td>0.130</td>\n",
       "      <td>6.623553</td>\n",
       "      <td>68.692000</td>\n",
       "    </tr>\n",
       "    <tr>\n",
       "      <th>32</th>\n",
       "      <td>2012</td>\n",
       "      <td>653</td>\n",
       "      <td>355.84</td>\n",
       "      <td>0.544931</td>\n",
       "      <td>0.170</td>\n",
       "      <td>6.817404</td>\n",
       "      <td>72.984424</td>\n",
       "    </tr>\n",
       "    <tr>\n",
       "      <th>33</th>\n",
       "      <td>2013</td>\n",
       "      <td>544</td>\n",
       "      <td>361.24</td>\n",
       "      <td>0.664044</td>\n",
       "      <td>0.190</td>\n",
       "      <td>6.470724</td>\n",
       "      <td>71.278388</td>\n",
       "    </tr>\n",
       "    <tr>\n",
       "      <th>34</th>\n",
       "      <td>2014</td>\n",
       "      <td>581</td>\n",
       "      <td>331.53</td>\n",
       "      <td>0.570620</td>\n",
       "      <td>0.160</td>\n",
       "      <td>6.580243</td>\n",
       "      <td>71.065134</td>\n",
       "    </tr>\n",
       "    <tr>\n",
       "      <th>35</th>\n",
       "      <td>2015</td>\n",
       "      <td>606</td>\n",
       "      <td>267.98</td>\n",
       "      <td>0.442211</td>\n",
       "      <td>0.090</td>\n",
       "      <td>6.665993</td>\n",
       "      <td>72.871111</td>\n",
       "    </tr>\n",
       "    <tr>\n",
       "      <th>36</th>\n",
       "      <td>2016</td>\n",
       "      <td>502</td>\n",
       "      <td>129.94</td>\n",
       "      <td>0.258845</td>\n",
       "      <td>0.060</td>\n",
       "      <td>6.629771</td>\n",
       "      <td>73.155172</td>\n",
       "    </tr>\n",
       "  </tbody>\n",
       "</table>\n",
       "</div>"
      ],
      "text/plain": [
       "    year_of_release  total_games  total_sales_sum  total_sales_mean  \\\n",
       "0              1980            9            11.38          1.264444   \n",
       "1              1981           46            35.68          0.775652   \n",
       "2              1982           36            28.88          0.802222   \n",
       "3              1983           17            16.80          0.988235   \n",
       "4              1984           14            50.35          3.596429   \n",
       "5              1985           14            53.95          3.853571   \n",
       "6              1986           21            37.08          1.765714   \n",
       "7              1987           16            21.70          1.356250   \n",
       "8              1988           15            47.21          3.147333   \n",
       "9              1989           17            73.45          4.320588   \n",
       "10             1990           16            49.37          3.085625   \n",
       "11             1991           41            32.23          0.786098   \n",
       "12             1992           43            76.16          1.771163   \n",
       "13             1993           60            45.99          0.766500   \n",
       "14             1994          121            79.23          0.654793   \n",
       "15             1995          219            88.12          0.402374   \n",
       "16             1996          263           199.15          0.757224   \n",
       "17             1997          289           201.07          0.695744   \n",
       "18             1998          379           256.31          0.676280   \n",
       "19             1999          338           251.11          0.742929   \n",
       "20             2000          350           201.66          0.576171   \n",
       "21             2001          482           331.46          0.687676   \n",
       "22             2002          829           394.97          0.476441   \n",
       "23             2003          775           357.54          0.461342   \n",
       "24             2004          762           418.68          0.549449   \n",
       "25             2005          939           457.82          0.487561   \n",
       "26             2006         1006           517.71          0.514622   \n",
       "27             2007         1197           604.75          0.505221   \n",
       "28             2008         1427           671.50          0.470568   \n",
       "29             2009         1426           658.82          0.462006   \n",
       "30             2010         1255           590.13          0.470223   \n",
       "31             2011         1136           507.58          0.446813   \n",
       "32             2012          653           355.84          0.544931   \n",
       "33             2013          544           361.24          0.664044   \n",
       "34             2014          581           331.53          0.570620   \n",
       "35             2015          606           267.98          0.442211   \n",
       "36             2016          502           129.94          0.258845   \n",
       "\n",
       "    total_sales_median  user_score_mean  critic_score_mean  \n",
       "0                0.770              NaN                NaN  \n",
       "1                0.465              NaN                NaN  \n",
       "2                0.540              NaN                NaN  \n",
       "3                0.770              NaN                NaN  \n",
       "4                1.485              NaN                NaN  \n",
       "5                1.015         5.800000          59.000000  \n",
       "6                1.360              NaN                NaN  \n",
       "7                0.885              NaN                NaN  \n",
       "8                1.510         2.200000          64.000000  \n",
       "9                1.610              NaN                NaN  \n",
       "10               1.520              NaN                NaN  \n",
       "11               0.380              NaN                NaN  \n",
       "12               0.790         8.200000          85.000000  \n",
       "13               0.355              NaN                NaN  \n",
       "14               0.270         6.300000          69.000000  \n",
       "15               0.140              NaN                NaN  \n",
       "16               0.210         8.400000          89.875000  \n",
       "17               0.280         8.472222          85.294118  \n",
       "18               0.260         8.506452          81.821429  \n",
       "19               0.305         8.480645          75.769231  \n",
       "20               0.250         7.531776          69.349650  \n",
       "21               0.250         7.594942          71.414110  \n",
       "22               0.170         7.585129          69.046252  \n",
       "23               0.190         7.859884          70.181197  \n",
       "24               0.210         7.750511          69.393939  \n",
       "25               0.170         7.509605          68.819847  \n",
       "26               0.110         7.247283          67.338710  \n",
       "27               0.150         6.895707          66.180636  \n",
       "28               0.160         6.950983          65.904895  \n",
       "29               0.150         6.990717          67.554531  \n",
       "30               0.140         6.875375          67.482000  \n",
       "31               0.130         6.623553          68.692000  \n",
       "32               0.170         6.817404          72.984424  \n",
       "33               0.190         6.470724          71.278388  \n",
       "34               0.160         6.580243          71.065134  \n",
       "35               0.090         6.665993          72.871111  \n",
       "36               0.060         6.629771          73.155172  "
      ]
     },
     "execution_count": 17,
     "metadata": {},
     "output_type": "execute_result"
    }
   ],
   "source": [
    "stats_by_year.head(37) # Displaying 37 rows of the stats_by_year dataframe"
   ]
  },
  {
   "cell_type": "markdown",
   "id": "246ded68",
   "metadata": {},
   "source": [
    "### Platform Sales Analysis Over Time"
   ]
  },
  {
   "cell_type": "code",
   "execution_count": 18,
   "id": "ea75fa74",
   "metadata": {},
   "outputs": [],
   "source": [
    "sales_overtime = dataset.groupby('total_sales')[['platform', 'year_of_release']].count() # Grouping the dataset by total_sales and counting the number of platforms and year_of_release\n",
    "sales_overtime = sales_overtime.reset_index() # Resetting the index of the sales_overtime dataframe"
   ]
  },
  {
   "cell_type": "code",
   "execution_count": 19,
   "id": "35678c7b",
   "metadata": {},
   "outputs": [
    {
     "data": {
      "text/plain": [
       "<Figure size 1400x800 with 0 Axes>"
      ]
     },
     "metadata": {},
     "output_type": "display_data"
    },
    {
     "data": {
      "image/png": "[encoded data removed]",
      "text/plain": [
       "<Figure size 1400x800 with 1 Axes>"
      ]
     },
     "metadata": {},
     "output_type": "display_data"
    }
   ],
   "source": [
    "# Create a bar chart with unique colors for each platform\n",
    "plt.figure(figsize=(14, 8))  # Set the figure size\n",
    "\n",
    "# Group data by year of release and platform, then sum total sales\n",
    "annual_sales_by_platform = dataset.groupby(['year_of_release', 'platform'])['total_sales'].sum().unstack()\n",
    "\n",
    "# Create a stacked bar chart\n",
    "annual_sales_by_platform.plot(kind='bar', stacked=True, figsize=(14, 8), colormap='tab20')\n",
    "\n",
    "# Customize the chart\n",
    "plt.title('Total Annual Sales by Platform (1980–2016)', fontsize=16)  # Chart title\n",
    "plt.xlabel('Year of Release', fontsize=12)  # X-axis label\n",
    "plt.ylabel('Total Sales (millions)', fontsize=12)  # Y-axis label\n",
    "plt.xticks(rotation=45)  # Rotate X-axis labels for better readability\n",
    "plt.legend(title='Platform', bbox_to_anchor=(1.05, 1), loc='upper left')  # Add a legend with platform colors\n",
    "plt.grid(axis='y', linestyle='--', alpha=0.7)  # Add gridlines to the Y-axis\n",
    "plt.tight_layout()  # Adjust layout to prevent overlapping\n",
    "plt.show()  # Display the chart"
   ]
  },
  {
   "cell_type": "code",
   "execution_count": 20,
   "id": "4b406246",
   "metadata": {},
   "outputs": [
    {
     "data": {
      "text/plain": [
       "<Figure size 1200x600 with 0 Axes>"
      ]
     },
     "metadata": {},
     "output_type": "display_data"
    },
    {
     "data": {
      "image/png": "[encoded data removed]",
      "text/plain": [
       "<Figure size 640x480 with 1 Axes>"
      ]
     },
     "metadata": {},
     "output_type": "display_data"
    }
   ],
   "source": [
    "# Group and pivot total sales by year and platform\n",
    "sales_by_platform = dataset.groupby(\n",
    "    ['year_of_release', 'platform']\n",
    ")['total_sales'].sum().unstack(fill_value=0)\n",
    "\n",
    "# Select the top 6 platforms by overall sales\n",
    "top_platforms = sales_by_platform.sum().nlargest(6).index\n",
    "\n",
    "# Build a DataFrame containing only the top 6, and group all others as “Other”\n",
    "df_top = sales_by_platform[top_platforms].copy()\n",
    "df_top['Other'] = sales_by_platform.drop(columns=top_platforms).sum(axis=1)\n",
    "\n",
    "\n",
    "\n",
    "# Create a stacked bar chart\n",
    "plt.figure(figsize=(12, 6))\n",
    "df_top.plot(\n",
    "    kind='bar',\n",
    "    stacked=True,\n",
    "    colormap='tab20',\n",
    "    legend=False  # disable default legend so we can customize it\n",
    ")\n",
    "\n",
    "# Place legend outside the plot\n",
    "plt.legend(\n",
    "    df_top.columns,\n",
    "    title='Platform',\n",
    "    bbox_to_anchor=(1.05, 1),\n",
    "    loc='upper left'\n",
    ")\n",
    "\n",
    "# Label axes and add title \n",
    "plt.xlabel('Year of Release')\n",
    "plt.ylabel('Total Sales (Millions USD)')\n",
    "plt.title('Annual Sales by Platform (Top 6 + Others)')\n",
    "\n",
    "# Adjust layout and display\n",
    "plt.tight_layout()\n",
    "plt.show()\n",
    "\n"
   ]
  },
  {
   "cell_type": "markdown",
   "id": "837ca0dd",
   "metadata": {},
   "source": [
    "\n",
    "The video game industry underwent significant growth and transformation from 1980 to 2015. Initially stable in both game releases and sales from 1980 to 1995, the industry saw a dramatic surge starting in 1996 with the PlayStation's launch, which doubled production and sales figures and initiated a sustained upward trend. This growth peaked in 2009, fueled by popular consoles like the Wii, Xbox 360, PS2, PS3, and others. However, post-2010, the rise of free-to-play and online gaming models led to a decline in traditional game production and sales. Despite this shift, newer consoles like the PlayStation 4 have maintained relatively high sales, with the PlayStation platform consistently achieving greater sales compared to other platforms, demonstrating the industry's resilience and ability to adapt to evolving market dynamics.\n",
    "\n",
    "Overall, mainstream consoles tend to follow an 8–10 year commercial lifecycle—about 6–8 years to peak and another 3–5 years of decline. Platforms with strong innovation (e.g., PS1, PS2, Xbox 360) enjoy longer peak periods, while others see quicker rises and falls.\n",
    "\n",
    "For marketing or major title releases, targeting the window 3–7 years post‑launch maximizes visibility and sales.\n",
    "\n",
    "\n",
    "\n",
    "\n"
   ]
  },
  {
   "cell_type": "markdown",
   "id": "5bf8f729",
   "metadata": {},
   "source": [
    "## Determining Relevant Time Period"
   ]
  },
  {
   "cell_type": "code",
   "execution_count": 21,
   "id": "2fb8ece3",
   "metadata": {},
   "outputs": [],
   "source": [
    "\n",
    "relevant_years = list(range(2012, 2016)) # Defining the relevant years for analysis\n",
    "dataset_recent = dataset[dataset['year_of_release'].isin(relevant_years)].copy()\n",
    "\n",
    "dataset_recent['year_of_release'] = dataset_recent['year_of_release'].astype(int)"
   ]
  },
  {
   "cell_type": "markdown",
   "id": "e06ffaf7",
   "metadata": {},
   "source": [
    "To ensure the accuracy and relevance of our analysis for 2017 sales forecasting, we selected data from the period **2012 to 2015**. This 4-year window captures recent market behavior while avoiding outdated trends from earlier years and incomplete data from 2016. It provides a balanced view of current platforms, genres, and consumer preferences, ensuring that insights remain valid and actionable for forward-looking decisions.\n"
   ]
  },
  {
   "cell_type": "markdown",
   "id": "d63b9d1c",
   "metadata": {},
   "source": [
    "## Platform Performance Analysis"
   ]
  },
  {
   "cell_type": "code",
   "execution_count": 22,
   "id": "ea511dc7",
   "metadata": {},
   "outputs": [
    {
     "data": {
      "text/html": [
       "<div>\n",
       "<style scoped>\n",
       "    .dataframe tbody tr th:only-of-type {\n",
       "        vertical-align: middle;\n",
       "    }\n",
       "\n",
       "    .dataframe tbody tr th {\n",
       "        vertical-align: top;\n",
       "    }\n",
       "\n",
       "    .dataframe thead th {\n",
       "        text-align: right;\n",
       "    }\n",
       "</style>\n",
       "<table border=\"1\" class=\"dataframe\">\n",
       "  <thead>\n",
       "    <tr style=\"text-align: right;\">\n",
       "      <th></th>\n",
       "      <th>platform</th>\n",
       "      <th>mean_sales</th>\n",
       "      <th>median_sales</th>\n",
       "      <th>total_sales</th>\n",
       "    </tr>\n",
       "  </thead>\n",
       "  <tbody>\n",
       "    <tr>\n",
       "      <th>3</th>\n",
       "      <td>PS3</td>\n",
       "      <td>0.63</td>\n",
       "      <td>0.230</td>\n",
       "      <td>285.19</td>\n",
       "    </tr>\n",
       "    <tr>\n",
       "      <th>4</th>\n",
       "      <td>PS4</td>\n",
       "      <td>1.07</td>\n",
       "      <td>0.310</td>\n",
       "      <td>244.89</td>\n",
       "    </tr>\n",
       "    <tr>\n",
       "      <th>9</th>\n",
       "      <td>X360</td>\n",
       "      <td>0.84</td>\n",
       "      <td>0.340</td>\n",
       "      <td>235.02</td>\n",
       "    </tr>\n",
       "    <tr>\n",
       "      <th>0</th>\n",
       "      <td>3DS</td>\n",
       "      <td>0.51</td>\n",
       "      <td>0.115</td>\n",
       "      <td>179.47</td>\n",
       "    </tr>\n",
       "    <tr>\n",
       "      <th>10</th>\n",
       "      <td>XOne</td>\n",
       "      <td>0.83</td>\n",
       "      <td>0.350</td>\n",
       "      <td>133.17</td>\n",
       "    </tr>\n",
       "    <tr>\n",
       "      <th>8</th>\n",
       "      <td>WiiU</td>\n",
       "      <td>0.58</td>\n",
       "      <td>0.220</td>\n",
       "      <td>77.59</td>\n",
       "    </tr>\n",
       "    <tr>\n",
       "      <th>2</th>\n",
       "      <td>PC</td>\n",
       "      <td>0.29</td>\n",
       "      <td>0.100</td>\n",
       "      <td>57.40</td>\n",
       "    </tr>\n",
       "    <tr>\n",
       "      <th>6</th>\n",
       "      <td>PSV</td>\n",
       "      <td>0.14</td>\n",
       "      <td>0.060</td>\n",
       "      <td>44.93</td>\n",
       "    </tr>\n",
       "    <tr>\n",
       "      <th>7</th>\n",
       "      <td>Wii</td>\n",
       "      <td>0.66</td>\n",
       "      <td>0.180</td>\n",
       "      <td>35.19</td>\n",
       "    </tr>\n",
       "    <tr>\n",
       "      <th>1</th>\n",
       "      <td>DS</td>\n",
       "      <td>0.40</td>\n",
       "      <td>0.050</td>\n",
       "      <td>12.55</td>\n",
       "    </tr>\n",
       "  </tbody>\n",
       "</table>\n",
       "</div>"
      ],
      "text/plain": [
       "   platform  mean_sales  median_sales  total_sales\n",
       "3       PS3        0.63         0.230       285.19\n",
       "4       PS4        1.07         0.310       244.89\n",
       "9      X360        0.84         0.340       235.02\n",
       "0       3DS        0.51         0.115       179.47\n",
       "10     XOne        0.83         0.350       133.17\n",
       "8      WiiU        0.58         0.220        77.59\n",
       "2        PC        0.29         0.100        57.40\n",
       "6       PSV        0.14         0.060        44.93\n",
       "7       Wii        0.66         0.180        35.19\n",
       "1        DS        0.40         0.050        12.55"
      ]
     },
     "execution_count": 22,
     "metadata": {},
     "output_type": "execute_result"
    }
   ],
   "source": [
    "data_platform = dataset_recent.groupby('platform')['total_sales'].agg(['mean', 'median', 'sum']).reset_index() # Group by platform and calculate mean, median, and sum\n",
    "data_platform = data_platform.sort_values(by='sum', ascending=False) # Sort by total sales (sum) in descending order\n",
    "data_platform.columns = ['platform', 'mean_sales', 'median_sales', 'total_sales'] # Rename the columns\n",
    "data_platform['mean_sales'] = data_platform['mean_sales'].round(2) # Round the mean sales to 2 decimal places\n",
    "data_platform.head(10) # Display the first 10 rows of the data_platform dataframe"
   ]
  },
  {
   "cell_type": "code",
   "execution_count": 23,
   "id": "bdc5ca34",
   "metadata": {},
   "outputs": [],
   "source": [
    "data_platform_yearly = dataset_recent.groupby(['year_of_release', 'platform'])['total_sales'].agg(['mean', 'median', 'sum']).reset_index() # Group by year and platform and calculate mean, median, and sum\n",
    "data_platform_yearly = data_platform_yearly.sort_values(by='sum', ascending=False) # Sort by total sales (sum) in descending order\n",
    "data_platform_yearly.columns = ['year_of_release', 'platform', 'mean_sales', 'median_sales', 'total_sales'] # Rename the columns\n",
    "data_platform_yearly['mean_sales'] = data_platform_yearly['mean_sales'].round(2) # Round the mean sales to 2 decimal places\n"
   ]
  },
  {
   "cell_type": "code",
   "execution_count": 24,
   "id": "b09f43c8",
   "metadata": {},
   "outputs": [
    {
     "data": {
      "image/png": "[encoded data removed]",
      "text/plain": [
       "<Figure size 1000x600 with 1 Axes>"
      ]
     },
     "metadata": {},
     "output_type": "display_data"
    }
   ],
   "source": [
    "annual_sales = data_platform_yearly.groupby(['year_of_release', 'platform'])['total_sales'] \\\n",
    "                 .sum() \\\n",
    "                 .unstack(fill_value=0)\n",
    "\n",
    "plt.figure(figsize=(10, 6))  # Set the figure size\n",
    "total_by_platform = annual_sales.sum().sort_values(ascending=False)\n",
    "total_by_platform.head(5).plot(kind='bar',\n",
    "                               color='skyblue', \n",
    "                            edgecolor='black')  # Plot the top 5 platforms\n",
    "plt.title('Total Sales by Top 5 Platform (2012-2015)')\n",
    "plt.xlabel('Platform')\n",
    "plt.ylabel('Total Sales (Millions USD)')\n",
    "plt.xticks(rotation=45)  # Rotate x-axis labels for better readability\n",
    "plt.grid(axis='y', linestyle='--', alpha=0.7)  # Add gridlines to the y-axis\n",
    "plt.tight_layout()  # Adjust layout to prevent overlapping\n",
    "plt.show()  # Display the plot"
   ]
  },
  {
   "cell_type": "code",
   "execution_count": 25,
   "id": "b37221e3",
   "metadata": {},
   "outputs": [
    {
     "data": {
      "image/png": "[encoded data removed]",
      "text/plain": [
       "<Figure size 1400x800 with 1 Axes>"
      ]
     },
     "metadata": {},
     "output_type": "display_data"
    }
   ],
   "source": [
    "# Ensure the correct DataFrame is used for plotting\n",
    "\n",
    "annual_sales[['Wii', 'X360', 'PS3', 'DS']].plot(kind='line', figsize=(14, 8))\n",
    "# Plot the annual sales for the top 5 platforms\n",
    "\n",
    "# Customize the plot\n",
    "plt.title('Annual Sales by Platform (2012-2015)', fontsize=16)  # Set the title of the plot  \n",
    "plt.xlabel('Year of Release', fontsize=12)  # Set the x-axis label\n",
    "plt.ylabel('Total Sales (Millions USD)', fontsize=12)  # Set the y-axis label    \n",
    "plt.legend(title='Platform', bbox_to_anchor=(1.05, 1), loc='upper left')  # Add a legend with platform colors\n",
    "plt.grid(axis='y', linestyle='--', alpha=0.7)  # Add gridlines to the y-axis\n",
    "plt.tight_layout()  # Adjust layout to prevent overlapping\n",
    "plt.show()  # Display the plot"
   ]
  },
  {
   "cell_type": "markdown",
   "id": "09cb1c10",
   "metadata": {},
   "source": [
    "### 📈 Platform Lifecycle (2012–2015 Focus)\n",
    "\n",
    "During the 2012–2015 window, platform activity was dominated by the PlayStation 3, Xbox 360, Wii, and emerging entries like PlayStation 4 and Xbox One. Although historical data shows that most consoles follow a commercial lifespan of 6–10 years, our analysis prioritizes recent trends. These findings suggest that targeting platforms within 3–7 years after launch maximizes sales opportunities, as this period reflects peak engagement and purchasing activity.  \n",
    "\n",
    "We also observe a pronounced decline in platform sales as the industry enters a new era of online, multiplatform gaming—where cross-device releases and digital distribution begin to redistribute player engagement and compress traditional console lifecycles.  \n"
   ]
  },
  {
   "cell_type": "markdown",
   "id": "12a5a008",
   "metadata": {},
   "source": [
    "## Sales Distribution Analysis"
   ]
  },
  {
   "cell_type": "code",
   "execution_count": 26,
   "id": "8ac8e754",
   "metadata": {},
   "outputs": [
    {
     "data": {
      "image/png": "[encoded data removed]",
      "text/plain": [
       "<Figure size 1000x600 with 1 Axes>"
      ]
     },
     "metadata": {},
     "output_type": "display_data"
    }
   ],
   "source": [
    "annual_sales_filtered = annual_sales.replace(0, np.nan)  # Replace 0 with NaN for better visualization\n",
    "order= annual_sales.median().sort_values().index  # Get the order of platforms based on median sales\n",
    "\n",
    "annual_sales_filtered[order].boxplot(figsize=(10,6))   # Create a boxplot for annual sales by platform     \n",
    "plt.title('Boxplot of Annual Sales by Platform (2012-2015)', fontsize=16)  # Set the title of the plot\n",
    "plt.xlabel('Platform', fontsize=12)  # Set the x-axis label\n",
    "plt.ylabel('Total Sales (Millions USD)', fontsize=12)  # Set the y-axis label\n",
    "plt.xticks(rotation=45)  # Rotate x-axis labels for better readability\n",
    "plt.grid(axis='y', linestyle='--', alpha=0.7)  # Add gridlines to the y-axis\n",
    "plt.tight_layout()  # Adjust layout to prevent overlapping\n",
    "plt.show()  # Display the plot\n"
   ]
  },
  {
   "cell_type": "code",
   "execution_count": 27,
   "id": "63c62065",
   "metadata": {},
   "outputs": [
    {
     "data": {
      "text/html": [
       "<div>\n",
       "<style scoped>\n",
       "    .dataframe tbody tr th:only-of-type {\n",
       "        vertical-align: middle;\n",
       "    }\n",
       "\n",
       "    .dataframe tbody tr th {\n",
       "        vertical-align: top;\n",
       "    }\n",
       "\n",
       "    .dataframe thead th {\n",
       "        text-align: right;\n",
       "    }\n",
       "</style>\n",
       "<table border=\"1\" class=\"dataframe\">\n",
       "  <thead>\n",
       "    <tr style=\"text-align: right;\">\n",
       "      <th></th>\n",
       "      <th>platform</th>\n",
       "      <th>n_years</th>\n",
       "      <th>mean_sales</th>\n",
       "      <th>median_sales</th>\n",
       "      <th>total_sales</th>\n",
       "      <th>min_sales</th>\n",
       "      <th>max_sales</th>\n",
       "      <th>variance_sales</th>\n",
       "      <th>std_sales</th>\n",
       "    </tr>\n",
       "  </thead>\n",
       "  <tbody>\n",
       "    <tr>\n",
       "      <th>4</th>\n",
       "      <td>PS4</td>\n",
       "      <td>228</td>\n",
       "      <td>1.07</td>\n",
       "      <td>0.31</td>\n",
       "      <td>244.89</td>\n",
       "      <td>0.01</td>\n",
       "      <td>14.63</td>\n",
       "      <td>3.61</td>\n",
       "      <td>1.90</td>\n",
       "    </tr>\n",
       "    <tr>\n",
       "      <th>9</th>\n",
       "      <td>X360</td>\n",
       "      <td>279</td>\n",
       "      <td>0.84</td>\n",
       "      <td>0.34</td>\n",
       "      <td>235.02</td>\n",
       "      <td>0.01</td>\n",
       "      <td>16.27</td>\n",
       "      <td>3.04</td>\n",
       "      <td>1.74</td>\n",
       "    </tr>\n",
       "    <tr>\n",
       "      <th>10</th>\n",
       "      <td>XOne</td>\n",
       "      <td>160</td>\n",
       "      <td>0.83</td>\n",
       "      <td>0.35</td>\n",
       "      <td>133.17</td>\n",
       "      <td>0.01</td>\n",
       "      <td>7.39</td>\n",
       "      <td>1.40</td>\n",
       "      <td>1.18</td>\n",
       "    </tr>\n",
       "    <tr>\n",
       "      <th>7</th>\n",
       "      <td>Wii</td>\n",
       "      <td>53</td>\n",
       "      <td>0.66</td>\n",
       "      <td>0.18</td>\n",
       "      <td>35.19</td>\n",
       "      <td>0.01</td>\n",
       "      <td>6.76</td>\n",
       "      <td>1.38</td>\n",
       "      <td>1.17</td>\n",
       "    </tr>\n",
       "    <tr>\n",
       "      <th>3</th>\n",
       "      <td>PS3</td>\n",
       "      <td>455</td>\n",
       "      <td>0.63</td>\n",
       "      <td>0.23</td>\n",
       "      <td>285.19</td>\n",
       "      <td>0.01</td>\n",
       "      <td>21.05</td>\n",
       "      <td>2.30</td>\n",
       "      <td>1.52</td>\n",
       "    </tr>\n",
       "    <tr>\n",
       "      <th>8</th>\n",
       "      <td>WiiU</td>\n",
       "      <td>133</td>\n",
       "      <td>0.58</td>\n",
       "      <td>0.22</td>\n",
       "      <td>77.59</td>\n",
       "      <td>0.01</td>\n",
       "      <td>7.09</td>\n",
       "      <td>1.22</td>\n",
       "      <td>1.11</td>\n",
       "    </tr>\n",
       "    <tr>\n",
       "      <th>0</th>\n",
       "      <td>3DS</td>\n",
       "      <td>350</td>\n",
       "      <td>0.51</td>\n",
       "      <td>0.12</td>\n",
       "      <td>179.47</td>\n",
       "      <td>0.01</td>\n",
       "      <td>14.60</td>\n",
       "      <td>2.03</td>\n",
       "      <td>1.42</td>\n",
       "    </tr>\n",
       "    <tr>\n",
       "      <th>1</th>\n",
       "      <td>DS</td>\n",
       "      <td>31</td>\n",
       "      <td>0.40</td>\n",
       "      <td>0.05</td>\n",
       "      <td>12.55</td>\n",
       "      <td>0.01</td>\n",
       "      <td>8.06</td>\n",
       "      <td>2.07</td>\n",
       "      <td>1.44</td>\n",
       "    </tr>\n",
       "    <tr>\n",
       "      <th>2</th>\n",
       "      <td>PC</td>\n",
       "      <td>196</td>\n",
       "      <td>0.29</td>\n",
       "      <td>0.10</td>\n",
       "      <td>57.40</td>\n",
       "      <td>0.01</td>\n",
       "      <td>5.14</td>\n",
       "      <td>0.30</td>\n",
       "      <td>0.55</td>\n",
       "    </tr>\n",
       "    <tr>\n",
       "      <th>6</th>\n",
       "      <td>PSV</td>\n",
       "      <td>326</td>\n",
       "      <td>0.14</td>\n",
       "      <td>0.06</td>\n",
       "      <td>44.93</td>\n",
       "      <td>0.01</td>\n",
       "      <td>1.96</td>\n",
       "      <td>0.05</td>\n",
       "      <td>0.22</td>\n",
       "    </tr>\n",
       "  </tbody>\n",
       "</table>\n",
       "</div>"
      ],
      "text/plain": [
       "   platform  n_years  mean_sales  median_sales  total_sales  min_sales  \\\n",
       "4       PS4      228        1.07          0.31       244.89       0.01   \n",
       "9      X360      279        0.84          0.34       235.02       0.01   \n",
       "10     XOne      160        0.83          0.35       133.17       0.01   \n",
       "7       Wii       53        0.66          0.18        35.19       0.01   \n",
       "3       PS3      455        0.63          0.23       285.19       0.01   \n",
       "8      WiiU      133        0.58          0.22        77.59       0.01   \n",
       "0       3DS      350        0.51          0.12       179.47       0.01   \n",
       "1        DS       31        0.40          0.05        12.55       0.01   \n",
       "2        PC      196        0.29          0.10        57.40       0.01   \n",
       "6       PSV      326        0.14          0.06        44.93       0.01   \n",
       "\n",
       "    max_sales  variance_sales  std_sales  \n",
       "4       14.63            3.61       1.90  \n",
       "9       16.27            3.04       1.74  \n",
       "10       7.39            1.40       1.18  \n",
       "7        6.76            1.38       1.17  \n",
       "3       21.05            2.30       1.52  \n",
       "8        7.09            1.22       1.11  \n",
       "0       14.60            2.03       1.42  \n",
       "1        8.06            2.07       1.44  \n",
       "2        5.14            0.30       0.55  \n",
       "6        1.96            0.05       0.22  "
      ]
     },
     "execution_count": 27,
     "metadata": {},
     "output_type": "execute_result"
    }
   ],
   "source": [
    "platform_stats = (\n",
    "    dataset_recent\n",
    "      .groupby('platform')['total_sales']\n",
    "      .agg(['count','mean', 'median', 'sum', 'min', 'max', 'var', 'std'])\n",
    "      .reset_index()\n",
    ")\n",
    "\n",
    "# Rename the columns for clarity\n",
    "platform_stats.columns = [\n",
    "    'platform', 'n_years', 'mean_sales', 'median_sales',\n",
    "    'total_sales', 'min_sales', 'max_sales',\n",
    "    'variance_sales', 'std_sales'\n",
    "]\n",
    "\n",
    "# Rounding the mean_sales to 2 decimal places\n",
    "platform_stats = platform_stats.round(2)\n",
    "\n",
    "# Sorting the DataFrame by mean_sales in descending order\n",
    "platform_stats.sort_values('mean_sales', ascending=False).head(10)"
   ]
  },
  {
   "cell_type": "markdown",
   "id": "e5fe037c",
   "metadata": {},
   "source": [
    "## Review Score Impact Analysis"
   ]
  },
  {
   "cell_type": "code",
   "execution_count": 54,
   "id": "a1938aa5",
   "metadata": {},
   "outputs": [],
   "source": [
    "# Choose a specific platform'PS2'\n",
    "platform = 'PS3'\n",
    "\n",
    "# Filter the dataset for the chosen platform\n",
    "platform_data = dataset_recent[dataset_recent['platform'] == platform]\n",
    "\n",
    "\n",
    "\n",
    "\n",
    "\n"
   ]
  },
  {
   "cell_type": "code",
   "execution_count": 55,
   "id": "a557e81b",
   "metadata": {},
   "outputs": [
    {
     "data": {
      "image/png": "[encoded data removed]",
      "text/plain": [
       "<Figure size 1000x600 with 1 Axes>"
      ]
     },
     "metadata": {},
     "output_type": "display_data"
    }
   ],
   "source": [
    "# Create a scatter plot for user scores vs. total sales\n",
    "plt.figure(figsize=(10, 6))\n",
    "plt.scatter(platform_data['user_score'], platform_data['total_sales'], alpha=0.5, label='User Score')\n",
    "plt.scatter(platform_data['critic_score'], platform_data['total_sales'], alpha=0.5, label='Critic Score', color='red')\n",
    "plt.title(f'Sales vs. Review Scores for {platform}')\n",
    "plt.xlabel('Review Score')\n",
    "plt.ylabel('Total Sales (Millions USD)')\n",
    "plt.legend()\n",
    "plt.grid(True)\n",
    "plt.show()"
   ]
  },
  {
   "cell_type": "code",
   "execution_count": 30,
   "id": "1b314128",
   "metadata": {},
   "outputs": [
    {
     "name": "stdout",
     "output_type": "stream",
     "text": [
      "Correlation between User Score and Total Sales for PS2: nan\n",
      "Correlation between Critic Score and Total Sales for PS2: nan\n"
     ]
    }
   ],
   "source": [
    "# Calculate the correlation between review scores and total sales\n",
    "user_score_corr = platform_data['user_score'].corr(platform_data['total_sales'])\n",
    "critic_score_corr = platform_data['critic_score'].corr(platform_data['total_sales'])\n",
    "\n",
    "# Display the correlation results\n",
    "print(f'Correlation between User Score and Total Sales for {platform}: {user_score_corr:.2f}')\n",
    "print(f'Correlation between Critic Score and Total Sales for {platform}: {critic_score_corr:.2f}')"
   ]
  },
  {
   "cell_type": "markdown",
   "id": "57c9dfd8",
   "metadata": {},
   "source": [
    "### 🧠 Review Score Impact on Sales\n",
    "\n",
    "Our analysis found that critic scores correlate more strongly with total sales than user scores—especially on platforms like the PS2, where critic-sales correlation reached 0.39 compared to just 0.18 for user scores. This indicates that professional reviews have a more reliable predictive power for commercial performance. While user feedback remains valuable, publishers should prioritize critical reception as a key driver of market success.\n"
   ]
  },
  {
   "cell_type": "markdown",
   "id": "570dd987",
   "metadata": {},
   "source": [
    "## Cross-Platform Comparison"
   ]
  },
  {
   "cell_type": "code",
   "execution_count": 31,
   "id": "56dbf050",
   "metadata": {},
   "outputs": [],
   "source": [
    "# Número de plataformas por juego\n",
    "platform_counts = dataset_recent.groupby('name')['platform'] \\\n",
    "                                  .nunique()\n",
    "\n",
    "# Juegos que salieron en 2 o más plataformas\n",
    "multi = platform_counts[platform_counts > 1].index\n",
    "\n",
    "# Conjunto filtrado\n",
    "df_multi = dataset_recent[dataset_recent['name'].isin(multi)]\n"
   ]
  },
  {
   "cell_type": "code",
   "execution_count": 32,
   "id": "b128c217",
   "metadata": {},
   "outputs": [],
   "source": [
    "sales_pivot = df_multi.pivot_table(\n",
    "    index='name',\n",
    "    columns='platform',\n",
    "    values='total_sales',\n",
    "    fill_value=0\n",
    ")\n"
   ]
  },
  {
   "cell_type": "code",
   "execution_count": 33,
   "id": "3b2e554b",
   "metadata": {},
   "outputs": [],
   "source": [
    "top_multi = sales_pivot.sum(axis=1).nlargest(5).index\n",
    "sales_top = sales_pivot.loc[top_multi]\n"
   ]
  },
  {
   "cell_type": "code",
   "execution_count": 34,
   "id": "fb91bb95",
   "metadata": {},
   "outputs": [
    {
     "data": {
      "image/png": "[encoded data removed]",
      "text/plain": [
       "<Figure size 1000x600 with 1 Axes>"
      ]
     },
     "metadata": {},
     "output_type": "display_data"
    }
   ],
   "source": [
    "valid_platforms = sales_top.columns[(sales_top > 0).any()] # Filter for valid platforms\n",
    "\n",
    "sales_top[valid_platforms].plot(\n",
    "    kind='bar',\n",
    "    figsize=(10,6)\n",
    ")\n",
    "plt.xlabel('Game Title')\n",
    "plt.ylabel('Sales (Millions USD)')\n",
    "plt.title('Sales Comparison for Multiplatform Titles')\n",
    "plt.legend(title='Platform', bbox_to_anchor=(1.05,1))\n",
    "plt.grid(axis='y', linestyle='--', alpha=0.7)  # Add gridlines to the y-axis\n",
    "plt.tight_layout()\n",
    "plt.show()\n"
   ]
  },
  {
   "cell_type": "markdown",
   "id": "f7a77893",
   "metadata": {},
   "source": [
    "## Genre Analysis"
   ]
  },
  {
   "cell_type": "code",
   "execution_count": 56,
   "id": "6eeb737d",
   "metadata": {},
   "outputs": [],
   "source": [
    "data_genre = (\n",
    "    dataset_recent\n",
    "      .groupby('genre')\n",
    "      .agg(\n",
    "        total_sales_sum=('total_sales','sum'),\n",
    "        total_games_count=('name','count')\n",
    "      )\n",
    "      .reset_index()\n",
    "      .sort_values('total_sales_sum', ascending=False)\n",
    ") # Group by genre and calculate total sales and game count\n",
    "data_genre.columns = ['genre', 'total_sales_sum', 'total_games_count'] # Rename the columns\n",
    "\n",
    "\n"
   ]
  },
  {
   "cell_type": "code",
   "execution_count": 57,
   "id": "fc4e2d97",
   "metadata": {},
   "outputs": [
    {
     "data": {
      "text/html": [
       "<div>\n",
       "<style scoped>\n",
       "    .dataframe tbody tr th:only-of-type {\n",
       "        vertical-align: middle;\n",
       "    }\n",
       "\n",
       "    .dataframe tbody tr th {\n",
       "        vertical-align: top;\n",
       "    }\n",
       "\n",
       "    .dataframe thead th {\n",
       "        text-align: right;\n",
       "    }\n",
       "</style>\n",
       "<table border=\"1\" class=\"dataframe\">\n",
       "  <thead>\n",
       "    <tr style=\"text-align: right;\">\n",
       "      <th></th>\n",
       "      <th>genre</th>\n",
       "      <th>total_sales_sum</th>\n",
       "      <th>total_games_count</th>\n",
       "      <th>avg_sales_per_game</th>\n",
       "    </tr>\n",
       "  </thead>\n",
       "  <tbody>\n",
       "    <tr>\n",
       "      <th>0</th>\n",
       "      <td>Action</td>\n",
       "      <td>411.01</td>\n",
       "      <td>853</td>\n",
       "      <td>0.48</td>\n",
       "    </tr>\n",
       "    <tr>\n",
       "      <th>8</th>\n",
       "      <td>Shooter</td>\n",
       "      <td>266.51</td>\n",
       "      <td>188</td>\n",
       "      <td>1.42</td>\n",
       "    </tr>\n",
       "    <tr>\n",
       "      <th>7</th>\n",
       "      <td>Role-Playing</td>\n",
       "      <td>174.62</td>\n",
       "      <td>316</td>\n",
       "      <td>0.55</td>\n",
       "    </tr>\n",
       "    <tr>\n",
       "      <th>10</th>\n",
       "      <td>Sports</td>\n",
       "      <td>157.58</td>\n",
       "      <td>220</td>\n",
       "      <td>0.72</td>\n",
       "    </tr>\n",
       "    <tr>\n",
       "      <th>3</th>\n",
       "      <td>Misc</td>\n",
       "      <td>82.44</td>\n",
       "      <td>160</td>\n",
       "      <td>0.52</td>\n",
       "    </tr>\n",
       "    <tr>\n",
       "      <th>4</th>\n",
       "      <td>Platform</td>\n",
       "      <td>57.77</td>\n",
       "      <td>70</td>\n",
       "      <td>0.83</td>\n",
       "    </tr>\n",
       "    <tr>\n",
       "      <th>6</th>\n",
       "      <td>Racing</td>\n",
       "      <td>50.71</td>\n",
       "      <td>91</td>\n",
       "      <td>0.56</td>\n",
       "    </tr>\n",
       "    <tr>\n",
       "      <th>2</th>\n",
       "      <td>Fighting</td>\n",
       "      <td>40.02</td>\n",
       "      <td>93</td>\n",
       "      <td>0.43</td>\n",
       "    </tr>\n",
       "    <tr>\n",
       "      <th>9</th>\n",
       "      <td>Simulation</td>\n",
       "      <td>33.23</td>\n",
       "      <td>62</td>\n",
       "      <td>0.54</td>\n",
       "    </tr>\n",
       "    <tr>\n",
       "      <th>1</th>\n",
       "      <td>Adventure</td>\n",
       "      <td>25.61</td>\n",
       "      <td>246</td>\n",
       "      <td>0.10</td>\n",
       "    </tr>\n",
       "  </tbody>\n",
       "</table>\n",
       "</div>"
      ],
      "text/plain": [
       "           genre  total_sales_sum  total_games_count  avg_sales_per_game\n",
       "0         Action           411.01                853                0.48\n",
       "8        Shooter           266.51                188                1.42\n",
       "7   Role-Playing           174.62                316                0.55\n",
       "10        Sports           157.58                220                0.72\n",
       "3           Misc            82.44                160                0.52\n",
       "4       Platform            57.77                 70                0.83\n",
       "6         Racing            50.71                 91                0.56\n",
       "2       Fighting            40.02                 93                0.43\n",
       "9     Simulation            33.23                 62                0.54\n",
       "1      Adventure            25.61                246                0.10"
      ]
     },
     "execution_count": 57,
     "metadata": {},
     "output_type": "execute_result"
    }
   ],
   "source": [
    "data_genre['avg_sales_per_game'] = (\n",
    "    data_genre['total_sales_sum'] / data_genre['total_games_count']\n",
    ").round(2) # Calculate average sales per game\n",
    "data_genre['avg_sales_per_game'] = data_genre['avg_sales_per_game'].fillna(0) # Fill NaN values with 0\n",
    "data_genre.head(10)"
   ]
  },
  {
   "cell_type": "code",
   "execution_count": 58,
   "id": "45e3fc6b",
   "metadata": {},
   "outputs": [
    {
     "data": {
      "image/png": "[encoded data removed]",
      "text/plain": [
       "<Figure size 1000x600 with 1 Axes>"
      ]
     },
     "metadata": {},
     "output_type": "display_data"
    }
   ],
   "source": [
    "data_genre.head(10).plot(\n",
    "  kind='bar', x='genre', y='total_sales_sum',\n",
    "  legend=False, figsize=(10,6)\n",
    ")\n",
    "plt.xlabel('Genre')\n",
    "plt.ylabel('Total Sales (Millions USD)')\n",
    "plt.title('Top 10 Genres by Total Sales')\n",
    "plt.xticks(rotation=45)\n",
    "plt.tight_layout()\n",
    "plt.show()\n"
   ]
  },
  {
   "cell_type": "code",
   "execution_count": 59,
   "id": "198a4cda",
   "metadata": {},
   "outputs": [
    {
     "name": "stdout",
     "output_type": "stream",
     "text": [
      "Correlation between Total games count and Total sales : 0.87\n"
     ]
    }
   ],
   "source": [
    "# Calculate the correlation between review scores and total sales\n",
    "genre_games_sales_corr = data_genre['total_games_count'].corr(data_genre['total_sales_sum'])\n",
    "\n",
    "\n",
    "# Display the correlation results\n",
    "print(f'Correlation between Total games count and Total sales : {genre_games_sales_corr:.2f}')\n"
   ]
  },
  {
   "cell_type": "code",
   "execution_count": 60,
   "id": "fe80b7b3",
   "metadata": {},
   "outputs": [
    {
     "data": {
      "image/png": "[encoded data removed]",
      "text/plain": [
       "<Figure size 1000x600 with 1 Axes>"
      ]
     },
     "metadata": {},
     "output_type": "display_data"
    }
   ],
   "source": [
    "\n",
    "data_genre_sorted = data_genre.sort_values('avg_sales_per_game', ascending=False)\n",
    "\n",
    "# Create a bar plot\n",
    "data_genre_sorted.head(10).plot(\n",
    "    kind='bar',\n",
    "    x='genre',\n",
    "    y='avg_sales_per_game',\n",
    "    legend=False,\n",
    "    figsize=(10, 6),\n",
    "    color='darkorange'\n",
    ")\n",
    "\n",
    "# Customize the plot\n",
    "plt.xlabel('Genre')\n",
    "plt.ylabel('Average Sales per Game (Millions USD)')\n",
    "plt.title('Top 10 Genres by Average Sales per Game')\n",
    "plt.xticks(rotation=45)\n",
    "plt.grid(axis='y', linestyle='--', alpha=0.7)\n",
    "plt.tight_layout()\n",
    "\n",
    "\n",
    "plt.show()\n"
   ]
  },
  {
   "cell_type": "markdown",
   "id": "6ca1dafd",
   "metadata": {},
   "source": [
    "### 🎯 Average Sales per Game by Genre\n",
    "\n",
    "Although Action and Sports dominate total sales due to their high release volume, genres like **Shooter** and **Platform** outperform all others in terms of **average sales per game**. For example, Shooter games average over 1.4 million units per release. This reveals that certain lower-volume genres offer disproportionately high returns per title, making them strong candidates for focused development and marketing investment.\n"
   ]
  },
  {
   "cell_type": "markdown",
   "id": "e1e34d23",
   "metadata": {},
   "source": [
    "### 🎮 Genre Sales Performance\n",
    "\n",
    "The Action genre dominates total sales, with over 400 million units sold, largely due to the high number of game releases in this category. Sports, Role-Playing, and Shooter genres follow, each generating significant cumulative revenue.\n",
    "\n",
    "However, when we analyze **average sales per game**, a different picture emerges: **Shooter** and **Platform** genres outperform all others in per-title profitability. Shooter games, in particular, average over 1.4 million units per game, while Platform games also show strong returns with fewer releases.\n",
    "\n",
    "This contrast highlights two distinct strategies:\n",
    "- **Volume strategy:** Focus on popular genres like Action and Sports for predictable large-scale results.\n",
    "- **Efficiency strategy:** Invest in genres like Shooter and Platform to achieve higher revenue per title, even with fewer games released.\n",
    "\n",
    "A balanced marketing and development approach should consider both total market size and average game performance to maximize returns.\n"
   ]
  },
  {
   "cell_type": "markdown",
   "id": "67d327a3",
   "metadata": {},
   "source": [
    "# 🌍 Step 4: User Profiles by Region\n"
   ]
  },
  {
   "cell_type": "markdown",
   "id": "69283960",
   "metadata": {},
   "source": [
    "### Regional Platform Analysis"
   ]
  },
  {
   "cell_type": "code",
   "execution_count": 61,
   "id": "971cd459",
   "metadata": {},
   "outputs": [
    {
     "data": {
      "text/html": [
       "<div>\n",
       "<style scoped>\n",
       "    .dataframe tbody tr th:only-of-type {\n",
       "        vertical-align: middle;\n",
       "    }\n",
       "\n",
       "    .dataframe tbody tr th {\n",
       "        vertical-align: top;\n",
       "    }\n",
       "\n",
       "    .dataframe thead th {\n",
       "        text-align: right;\n",
       "    }\n",
       "</style>\n",
       "<table border=\"1\" class=\"dataframe\">\n",
       "  <thead>\n",
       "    <tr style=\"text-align: right;\">\n",
       "      <th></th>\n",
       "      <th>platform</th>\n",
       "      <th>jp_platform</th>\n",
       "      <th>eu_platform</th>\n",
       "      <th>na_platform</th>\n",
       "      <th>total_sales</th>\n",
       "    </tr>\n",
       "  </thead>\n",
       "  <tbody>\n",
       "    <tr>\n",
       "      <th>3</th>\n",
       "      <td>PS3</td>\n",
       "      <td>33.99</td>\n",
       "      <td>105.60</td>\n",
       "      <td>102.71</td>\n",
       "      <td>242.30</td>\n",
       "    </tr>\n",
       "    <tr>\n",
       "      <th>9</th>\n",
       "      <td>X360</td>\n",
       "      <td>1.57</td>\n",
       "      <td>73.81</td>\n",
       "      <td>139.36</td>\n",
       "      <td>214.74</td>\n",
       "    </tr>\n",
       "    <tr>\n",
       "      <th>4</th>\n",
       "      <td>PS4</td>\n",
       "      <td>10.22</td>\n",
       "      <td>109.31</td>\n",
       "      <td>87.25</td>\n",
       "      <td>206.78</td>\n",
       "    </tr>\n",
       "    <tr>\n",
       "      <th>0</th>\n",
       "      <td>3DS</td>\n",
       "      <td>79.76</td>\n",
       "      <td>40.31</td>\n",
       "      <td>51.17</td>\n",
       "      <td>171.24</td>\n",
       "    </tr>\n",
       "    <tr>\n",
       "      <th>10</th>\n",
       "      <td>XOne</td>\n",
       "      <td>0.33</td>\n",
       "      <td>41.96</td>\n",
       "      <td>78.85</td>\n",
       "      <td>121.14</td>\n",
       "    </tr>\n",
       "  </tbody>\n",
       "</table>\n",
       "</div>"
      ],
      "text/plain": [
       "   platform  jp_platform  eu_platform  na_platform  total_sales\n",
       "3       PS3        33.99       105.60       102.71       242.30\n",
       "9      X360         1.57        73.81       139.36       214.74\n",
       "4       PS4        10.22       109.31        87.25       206.78\n",
       "0       3DS        79.76        40.31        51.17       171.24\n",
       "10     XOne         0.33        41.96        78.85       121.14"
      ]
     },
     "execution_count": 61,
     "metadata": {},
     "output_type": "execute_result"
    }
   ],
   "source": [
    "#  Top 5 Platforms per Region\n",
    "top_5_platforms_jp = dataset_recent.groupby('platform')['jp_sales'].sum()\n",
    "top_5_platforms_eu = dataset_recent.groupby('platform')['eu_sales'].sum()\n",
    "top_5_platforms_na = dataset_recent.groupby('platform')['na_sales'].sum()\n",
    "\n",
    "#  Cross-Regional Platform Comparison\n",
    "top_5_platforms = pd.DataFrame({\n",
    "    'jp_platform': top_5_platforms_jp,\n",
    "    'eu_platform': top_5_platforms_eu,\n",
    "    'na_platform': top_5_platforms_na\n",
    "}).reset_index()\n",
    "\n",
    "top_5_platforms = top_5_platforms.fillna(0)  # Fill NaN values with 0\n",
    "\n",
    "\n",
    "top_5_platforms['total_sales'] = top_5_platforms['jp_platform'] + top_5_platforms['eu_platform'] + top_5_platforms['na_platform']  # Calculate total sales across regions\n",
    "top_5_platforms = top_5_platforms.nlargest(5, 'total_sales')  # Get the top 5 platforms based on total sales\n",
    "\n",
    "top_5_platforms.head(5) # Display the top 5 platforms per region\n"
   ]
  },
  {
   "cell_type": "code",
   "execution_count": 62,
   "id": "5ab4f422",
   "metadata": {},
   "outputs": [
    {
     "data": {
      "text/html": [
       "<div>\n",
       "<style scoped>\n",
       "    .dataframe tbody tr th:only-of-type {\n",
       "        vertical-align: middle;\n",
       "    }\n",
       "\n",
       "    .dataframe tbody tr th {\n",
       "        vertical-align: top;\n",
       "    }\n",
       "\n",
       "    .dataframe thead th {\n",
       "        text-align: right;\n",
       "    }\n",
       "</style>\n",
       "<table border=\"1\" class=\"dataframe\">\n",
       "  <thead>\n",
       "    <tr style=\"text-align: right;\">\n",
       "      <th></th>\n",
       "      <th>platform</th>\n",
       "      <th>jp_platform</th>\n",
       "      <th>eu_platform</th>\n",
       "      <th>na_platform</th>\n",
       "      <th>total_sales</th>\n",
       "      <th>japan_share (%)</th>\n",
       "      <th>europe_share (%)</th>\n",
       "      <th>north_america_share (%)</th>\n",
       "    </tr>\n",
       "  </thead>\n",
       "  <tbody>\n",
       "    <tr>\n",
       "      <th>3</th>\n",
       "      <td>PS3</td>\n",
       "      <td>33.99</td>\n",
       "      <td>105.60</td>\n",
       "      <td>102.71</td>\n",
       "      <td>242.30</td>\n",
       "      <td>27.00</td>\n",
       "      <td>28.46</td>\n",
       "      <td>22.36</td>\n",
       "    </tr>\n",
       "    <tr>\n",
       "      <th>9</th>\n",
       "      <td>X360</td>\n",
       "      <td>1.57</td>\n",
       "      <td>73.81</td>\n",
       "      <td>139.36</td>\n",
       "      <td>214.74</td>\n",
       "      <td>1.25</td>\n",
       "      <td>19.90</td>\n",
       "      <td>30.34</td>\n",
       "    </tr>\n",
       "    <tr>\n",
       "      <th>4</th>\n",
       "      <td>PS4</td>\n",
       "      <td>10.22</td>\n",
       "      <td>109.31</td>\n",
       "      <td>87.25</td>\n",
       "      <td>206.78</td>\n",
       "      <td>8.12</td>\n",
       "      <td>29.46</td>\n",
       "      <td>18.99</td>\n",
       "    </tr>\n",
       "    <tr>\n",
       "      <th>0</th>\n",
       "      <td>3DS</td>\n",
       "      <td>79.76</td>\n",
       "      <td>40.31</td>\n",
       "      <td>51.17</td>\n",
       "      <td>171.24</td>\n",
       "      <td>63.37</td>\n",
       "      <td>10.87</td>\n",
       "      <td>11.14</td>\n",
       "    </tr>\n",
       "    <tr>\n",
       "      <th>10</th>\n",
       "      <td>XOne</td>\n",
       "      <td>0.33</td>\n",
       "      <td>41.96</td>\n",
       "      <td>78.85</td>\n",
       "      <td>121.14</td>\n",
       "      <td>0.26</td>\n",
       "      <td>11.31</td>\n",
       "      <td>17.17</td>\n",
       "    </tr>\n",
       "  </tbody>\n",
       "</table>\n",
       "</div>"
      ],
      "text/plain": [
       "   platform  jp_platform  eu_platform  na_platform  total_sales  \\\n",
       "3       PS3        33.99       105.60       102.71       242.30   \n",
       "9      X360         1.57        73.81       139.36       214.74   \n",
       "4       PS4        10.22       109.31        87.25       206.78   \n",
       "0       3DS        79.76        40.31        51.17       171.24   \n",
       "10     XOne         0.33        41.96        78.85       121.14   \n",
       "\n",
       "    japan_share (%)  europe_share (%)  north_america_share (%)  \n",
       "3             27.00             28.46                    22.36  \n",
       "9              1.25             19.90                    30.34  \n",
       "4              8.12             29.46                    18.99  \n",
       "0             63.37             10.87                    11.14  \n",
       "10             0.26             11.31                    17.17  "
      ]
     },
     "execution_count": 62,
     "metadata": {},
     "output_type": "execute_result"
    }
   ],
   "source": [
    "total_jp = top_5_platforms['jp_platform'].sum()\n",
    "total_eu = top_5_platforms['eu_platform'].sum()\n",
    "total_na = top_5_platforms['na_platform'].sum()\n",
    "top_5_platforms['japan_share (%)'] = (top_5_platforms['jp_platform'] / total_jp * 100).round(2)\n",
    "top_5_platforms['europe_share (%)'] = (top_5_platforms['eu_platform'] / total_eu * 100).round(2)\n",
    "top_5_platforms['north_america_share (%)'] = (top_5_platforms['na_platform'] / total_na * 100).round(2)\n",
    "\n",
    "top_5_platforms.head(5) # Display the top 5 platforms with their shares in each region"
   ]
  },
  {
   "cell_type": "code",
   "execution_count": 63,
   "id": "e21eb76d",
   "metadata": {},
   "outputs": [
    {
     "data": {
      "image/png": "[encoded data removed]",
      "text/plain": [
       "<Figure size 640x480 with 1 Axes>"
      ]
     },
     "metadata": {},
     "output_type": "display_data"
    }
   ],
   "source": [
    "top_5_platforms.plot(x='platform', y=['jp_platform', 'eu_platform', 'na_platform'], kind='bar', stacked=True)\n",
    "plt.title('Top 5 Platforms: Sales by Region')\n",
    "plt.xlabel('Platform')\n",
    "plt.ylabel('Sales (Millions)')\n",
    "plt.legend(['Japan', 'Europe', 'North America'])\n",
    "plt.tight_layout()\n",
    "plt.show()"
   ]
  },
  {
   "cell_type": "markdown",
   "id": "ea6d5ed6",
   "metadata": {},
   "source": [
    "## Regional Genre Analysis"
   ]
  },
  {
   "cell_type": "code",
   "execution_count": null,
   "id": "31fd2dfa",
   "metadata": {},
   "outputs": [
    {
     "data": {
      "text/html": [
       "<div>\n",
       "<style scoped>\n",
       "    .dataframe tbody tr th:only-of-type {\n",
       "        vertical-align: middle;\n",
       "    }\n",
       "\n",
       "    .dataframe tbody tr th {\n",
       "        vertical-align: top;\n",
       "    }\n",
       "\n",
       "    .dataframe thead th {\n",
       "        text-align: right;\n",
       "    }\n",
       "</style>\n",
       "<table border=\"1\" class=\"dataframe\">\n",
       "  <thead>\n",
       "    <tr style=\"text-align: right;\">\n",
       "      <th></th>\n",
       "      <th>genre</th>\n",
       "      <th>japan_sales</th>\n",
       "      <th>europe_sales</th>\n",
       "      <th>north_america_sales</th>\n",
       "      <th>total_sales</th>\n",
       "    </tr>\n",
       "  </thead>\n",
       "  <tbody>\n",
       "    <tr>\n",
       "      <th>0</th>\n",
       "      <td>Action</td>\n",
       "      <td>45.73</td>\n",
       "      <td>148.66</td>\n",
       "      <td>168.55</td>\n",
       "      <td>362.94</td>\n",
       "    </tr>\n",
       "    <tr>\n",
       "      <th>8</th>\n",
       "      <td>Shooter</td>\n",
       "      <td>8.17</td>\n",
       "      <td>97.57</td>\n",
       "      <td>128.53</td>\n",
       "      <td>234.27</td>\n",
       "    </tr>\n",
       "    <tr>\n",
       "      <th>7</th>\n",
       "      <td>Role-Playing</td>\n",
       "      <td>58.83</td>\n",
       "      <td>44.25</td>\n",
       "      <td>58.11</td>\n",
       "      <td>161.19</td>\n",
       "    </tr>\n",
       "    <tr>\n",
       "      <th>10</th>\n",
       "      <td>Sports</td>\n",
       "      <td>7.09</td>\n",
       "      <td>57.08</td>\n",
       "      <td>73.99</td>\n",
       "      <td>138.16</td>\n",
       "    </tr>\n",
       "    <tr>\n",
       "      <th>3</th>\n",
       "      <td>Misc</td>\n",
       "      <td>11.82</td>\n",
       "      <td>25.66</td>\n",
       "      <td>37.43</td>\n",
       "      <td>74.91</td>\n",
       "    </tr>\n",
       "  </tbody>\n",
       "</table>\n",
       "</div>"
      ],
      "text/plain": [
       "           genre  japan_sales  europe_sales  north_america_sales  total_sales\n",
       "0         Action        45.73        148.66               168.55       362.94\n",
       "8        Shooter         8.17         97.57               128.53       234.27\n",
       "7   Role-Playing        58.83         44.25                58.11       161.19\n",
       "10        Sports         7.09         57.08                73.99       138.16\n",
       "3           Misc        11.82         25.66                37.43        74.91"
      ]
     },
     "execution_count": 50,
     "metadata": {},
     "output_type": "execute_result"
    }
   ],
   "source": [
    "# Group the dataset by genre and sum sales for each region\n",
    "japan_sales_genre = dataset_recent.groupby('genre')['jp_sales'].sum()\n",
    "europe_sales_genre = dataset_recent.groupby('genre')['eu_sales'].sum()\n",
    "north_america_sales_genre = dataset_recent.groupby('genre')['na_sales'].sum()\n",
    "\n",
    "# Create a DataFrame combining sales from all regions\n",
    "sales_by_genre = pd.DataFrame({\n",
    "    'japan_sales': japan_sales_genre,\n",
    "    'europe_sales': europe_sales_genre,\n",
    "    'north_america_sales': north_america_sales_genre\n",
    "}).reset_index()\n",
    "\n",
    "# Replace any NaN values with 0 (for genres with no sales in a region)\n",
    "sales_by_genre = sales_by_genre.fillna(0)\n",
    "\n",
    "# Calculate total sales by summing sales across regions\n",
    "sales_by_genre['total_sales'] = sales_by_genre['japan_sales'] + sales_by_genre['europe_sales'] + sales_by_genre['north_america_sales']\n",
    "\n",
    "# Select the top 5 genres with the highest total sales\n",
    "top_5_genres = sales_by_genre.nlargest(5, 'total_sales').sort_values('total_sales', ascending=False)  # Get the top 5 genres based on total sales\n",
    "\n",
    "# Display the result\n",
    "top_5_genres.head(5)  # Display the top 5 genres with the highest total sales"
   ]
  },
  {
   "cell_type": "code",
   "execution_count": 43,
   "id": "baf73a1e",
   "metadata": {},
   "outputs": [
    {
     "data": {
      "text/html": [
       "<div>\n",
       "<style scoped>\n",
       "    .dataframe tbody tr th:only-of-type {\n",
       "        vertical-align: middle;\n",
       "    }\n",
       "\n",
       "    .dataframe tbody tr th {\n",
       "        vertical-align: top;\n",
       "    }\n",
       "\n",
       "    .dataframe thead th {\n",
       "        text-align: right;\n",
       "    }\n",
       "</style>\n",
       "<table border=\"1\" class=\"dataframe\">\n",
       "  <thead>\n",
       "    <tr style=\"text-align: right;\">\n",
       "      <th></th>\n",
       "      <th>genre</th>\n",
       "      <th>japan_sales</th>\n",
       "      <th>europe_sales</th>\n",
       "      <th>north_america_sales</th>\n",
       "      <th>total_sales</th>\n",
       "      <th>japan_share (%)</th>\n",
       "      <th>europe_share (%)</th>\n",
       "      <th>north_america_share (%)</th>\n",
       "    </tr>\n",
       "  </thead>\n",
       "  <tbody>\n",
       "    <tr>\n",
       "      <th>0</th>\n",
       "      <td>Action</td>\n",
       "      <td>160.14</td>\n",
       "      <td>510.99</td>\n",
       "      <td>863.17</td>\n",
       "      <td>1534.30</td>\n",
       "      <td>19.58</td>\n",
       "      <td>32.25</td>\n",
       "      <td>29.83</td>\n",
       "    </tr>\n",
       "    <tr>\n",
       "      <th>10</th>\n",
       "      <td>Sports</td>\n",
       "      <td>134.93</td>\n",
       "      <td>371.33</td>\n",
       "      <td>671.20</td>\n",
       "      <td>1177.46</td>\n",
       "      <td>16.50</td>\n",
       "      <td>23.44</td>\n",
       "      <td>23.20</td>\n",
       "    </tr>\n",
       "    <tr>\n",
       "      <th>8</th>\n",
       "      <td>Shooter</td>\n",
       "      <td>38.68</td>\n",
       "      <td>314.52</td>\n",
       "      <td>584.83</td>\n",
       "      <td>938.03</td>\n",
       "      <td>4.73</td>\n",
       "      <td>19.85</td>\n",
       "      <td>20.21</td>\n",
       "    </tr>\n",
       "    <tr>\n",
       "      <th>7</th>\n",
       "      <td>Role-Playing</td>\n",
       "      <td>353.39</td>\n",
       "      <td>188.24</td>\n",
       "      <td>330.04</td>\n",
       "      <td>871.67</td>\n",
       "      <td>43.21</td>\n",
       "      <td>11.88</td>\n",
       "      <td>11.41</td>\n",
       "    </tr>\n",
       "    <tr>\n",
       "      <th>4</th>\n",
       "      <td>Platform</td>\n",
       "      <td>130.71</td>\n",
       "      <td>199.39</td>\n",
       "      <td>444.44</td>\n",
       "      <td>774.54</td>\n",
       "      <td>15.98</td>\n",
       "      <td>12.58</td>\n",
       "      <td>15.36</td>\n",
       "    </tr>\n",
       "  </tbody>\n",
       "</table>\n",
       "</div>"
      ],
      "text/plain": [
       "           genre  japan_sales  europe_sales  north_america_sales  total_sales  \\\n",
       "0         Action       160.14        510.99               863.17      1534.30   \n",
       "10        Sports       134.93        371.33               671.20      1177.46   \n",
       "8        Shooter        38.68        314.52               584.83       938.03   \n",
       "7   Role-Playing       353.39        188.24               330.04       871.67   \n",
       "4       Platform       130.71        199.39               444.44       774.54   \n",
       "\n",
       "    japan_share (%)  europe_share (%)  north_america_share (%)  \n",
       "0             19.58             32.25                    29.83  \n",
       "10            16.50             23.44                    23.20  \n",
       "8              4.73             19.85                    20.21  \n",
       "7             43.21             11.88                    11.41  \n",
       "4             15.98             12.58                    15.36  "
      ]
     },
     "execution_count": 43,
     "metadata": {},
     "output_type": "execute_result"
    }
   ],
   "source": [
    "total_jp = top_5_genres['japan_sales'].sum()\n",
    "total_eu = top_5_genres['europe_sales'].sum()\n",
    "total_na = top_5_genres['north_america_sales'].sum()\n",
    "top_5_genres['japan_share (%)'] = (top_5_genres['japan_sales'] / total_jp * 100).round(2)\n",
    "top_5_genres['europe_share (%)'] = (top_5_genres['europe_sales'] / total_eu * 100).round(2)\n",
    "top_5_genres['north_america_share (%)'] = (top_5_genres['north_america_sales'] / total_na * 100).round(2) # Calculate share of each platform in each region\n",
    "top_5_genres = top_5_genres.sort_values('total_sales', ascending=False)  # Sort by total sales in descending order\n",
    "\n",
    "top_5_genres.head(5)  # Display the top 5 platforms with their sales and shares in each region"
   ]
  },
  {
   "cell_type": "code",
   "execution_count": 44,
   "id": "6fec2bdf",
   "metadata": {},
   "outputs": [
    {
     "data": {
      "image/png": "[encoded data removed]",
      "text/plain": [
       "<Figure size 640x480 with 1 Axes>"
      ]
     },
     "metadata": {},
     "output_type": "display_data"
    }
   ],
   "source": [
    "top_5_genres.plot(x='genre', y=['japan_sales', 'europe_sales', 'north_america_sales'], kind='bar', stacked=True)\n",
    "plt.title('Top 5 Platforms: Sales by Region')\n",
    "plt.xlabel('Genre')\n",
    "plt.ylabel('Sales (Millions)')\n",
    "plt.legend(['Japan', 'Europe', 'North America'])\n",
    "plt.tight_layout()\n",
    "plt.show()"
   ]
  },
  {
   "cell_type": "markdown",
   "id": "bf2e9044",
   "metadata": {},
   "source": [
    "###  ESRB Rating Impact Analysis"
   ]
  },
  {
   "cell_type": "code",
   "execution_count": 64,
   "id": "9913f450",
   "metadata": {},
   "outputs": [
    {
     "data": {
      "text/html": [
       "<div>\n",
       "<style scoped>\n",
       "    .dataframe tbody tr th:only-of-type {\n",
       "        vertical-align: middle;\n",
       "    }\n",
       "\n",
       "    .dataframe tbody tr th {\n",
       "        vertical-align: top;\n",
       "    }\n",
       "\n",
       "    .dataframe thead th {\n",
       "        text-align: right;\n",
       "    }\n",
       "</style>\n",
       "<table border=\"1\" class=\"dataframe\">\n",
       "  <thead>\n",
       "    <tr style=\"text-align: right;\">\n",
       "      <th></th>\n",
       "      <th>rating</th>\n",
       "      <th>na_sales_avg</th>\n",
       "      <th>eu_sales_avg</th>\n",
       "      <th>jp_sales_avg</th>\n",
       "    </tr>\n",
       "  </thead>\n",
       "  <tbody>\n",
       "    <tr>\n",
       "      <th>0</th>\n",
       "      <td>E</td>\n",
       "      <td>0.323404</td>\n",
       "      <td>0.302188</td>\n",
       "      <td>0.082857</td>\n",
       "    </tr>\n",
       "    <tr>\n",
       "      <th>1</th>\n",
       "      <td>E10+</td>\n",
       "      <td>0.280820</td>\n",
       "      <td>0.201406</td>\n",
       "      <td>0.030234</td>\n",
       "    </tr>\n",
       "    <tr>\n",
       "      <th>2</th>\n",
       "      <td>M</td>\n",
       "      <td>0.514048</td>\n",
       "      <td>0.422429</td>\n",
       "      <td>0.047619</td>\n",
       "    </tr>\n",
       "    <tr>\n",
       "      <th>3</th>\n",
       "      <td>T</td>\n",
       "      <td>0.175061</td>\n",
       "      <td>0.132423</td>\n",
       "      <td>0.072853</td>\n",
       "    </tr>\n",
       "  </tbody>\n",
       "</table>\n",
       "</div>"
      ],
      "text/plain": [
       "  rating  na_sales_avg  eu_sales_avg  jp_sales_avg\n",
       "0      E      0.323404      0.302188      0.082857\n",
       "1   E10+      0.280820      0.201406      0.030234\n",
       "2      M      0.514048      0.422429      0.047619\n",
       "3      T      0.175061      0.132423      0.072853"
      ]
     },
     "execution_count": 64,
     "metadata": {},
     "output_type": "execute_result"
    }
   ],
   "source": [
    "avg_by_rating_region = (\n",
    "    dataset_recent\n",
    "      .groupby('rating')[['na_sales','eu_sales','jp_sales']]\n",
    "      .mean()       \n",
    "      .reset_index()\n",
    "      )\n",
    "avg_by_rating_region.columns = [\n",
    "    'rating',\n",
    "    'na_sales_avg',\n",
    "    'eu_sales_avg',\n",
    "    'jp_sales_avg',\n",
    "      # Renaming columns for clarity\n",
    "]\n",
    "\n",
    "avg_by_rating_region.head()"
   ]
  },
  {
   "cell_type": "code",
   "execution_count": 65,
   "id": "043b6e42",
   "metadata": {},
   "outputs": [
    {
     "data": {
      "application/vnd.plotly.v1+json": {
       "config": {
        "plotlyServerURL": "https://plot.ly"
       },
       "data": [
        {
         "domain": {
          "x": [
           0,
           0.2888888888888889
          ],
          "y": [
           0,
           1
          ]
         },
         "hovertemplate": "rating=%{label}<br>jp_sales=%{value}<extra></extra>",
         "labels": [
          "E",
          "E10+",
          "M",
          "T"
         ],
         "legendgroup": "",
         "name": "",
         "showlegend": true,
         "type": "pie",
         "values": {
          "bdata": "ybnPLiA2tT/2KFyPwvWePxiGYRiGYag/2gfJgHqmsj8=",
          "dtype": "f8"
         }
        },
        {
         "domain": {
          "x": [
           0.35555555555555557,
           0.6444444444444445
          ],
          "y": [
           0,
           1
          ]
         },
         "hovertemplate": "rating=%{label}<br>eu_sales=%{value}<extra></extra>",
         "labels": [
          "E",
          "E10+",
          "M",
          "T"
         ],
         "legendgroup": "",
         "name": "",
         "showlegend": true,
         "type": "pie",
         "values": {
          "bdata": "eeBUOQ5X0z9I4XoUrsfJPzShy9gRCds/efoHQz/zwD8=",
          "dtype": "f8"
         }
        },
        {
         "domain": {
          "x": [
           0.7111111111111111,
           1
          ],
          "y": [
           0,
           1
          ]
         },
         "hovertemplate": "rating=%{label}<br>na_sales=%{value}<extra></extra>",
         "labels": [
          "E",
          "E10+",
          "M",
          "T"
         ],
         "legendgroup": "",
         "name": "",
         "showlegend": true,
         "type": "pie",
         "values": {
          "bdata": "IOn+wqey1D8pXI/C9fjRP5itDP4Tc+A//vHcCWloxj8=",
          "dtype": "f8"
         }
        }
       ],
       "layout": {
        "annotations": [
         {
          "font": {
           "size": 16
          },
          "showarrow": false,
          "text": "Japan",
          "x": 0.14444444444444446,
          "xanchor": "center",
          "xref": "paper",
          "y": 1,
          "yanchor": "bottom",
          "yref": "paper"
         },
         {
          "font": {
           "size": 16
          },
          "showarrow": false,
          "text": "Europe",
          "x": 0.5,
          "xanchor": "center",
          "xref": "paper",
          "y": 1,
          "yanchor": "bottom",
          "yref": "paper"
         },
         {
          "font": {
           "size": 16
          },
          "showarrow": false,
          "text": "North America",
          "x": 0.8555555555555556,
          "xanchor": "center",
          "xref": "paper",
          "y": 1,
          "yanchor": "bottom",
          "yref": "paper"
         }
        ],
        "showlegend": true,
        "template": {
         "data": {
          "bar": [
           {
            "error_x": {
             "color": "#2a3f5f"
            },
            "error_y": {
             "color": "#2a3f5f"
            },
            "marker": {
             "line": {
              "color": "#E5ECF6",
              "width": 0.5
             },
             "pattern": {
              "fillmode": "overlay",
              "size": 10,
              "solidity": 0.2
             }
            },
            "type": "bar"
           }
          ],
          "barpolar": [
           {
            "marker": {
             "line": {
              "color": "#E5ECF6",
              "width": 0.5
             },
             "pattern": {
              "fillmode": "overlay",
              "size": 10,
              "solidity": 0.2
             }
            },
            "type": "barpolar"
           }
          ],
          "carpet": [
           {
            "aaxis": {
             "endlinecolor": "#2a3f5f",
             "gridcolor": "white",
             "linecolor": "white",
             "minorgridcolor": "white",
             "startlinecolor": "#2a3f5f"
            },
            "baxis": {
             "endlinecolor": "#2a3f5f",
             "gridcolor": "white",
             "linecolor": "white",
             "minorgridcolor": "white",
             "startlinecolor": "#2a3f5f"
            },
            "type": "carpet"
           }
          ],
          "choropleth": [
           {
            "colorbar": {
             "outlinewidth": 0,
             "ticks": ""
            },
            "type": "choropleth"
           }
          ],
          "contour": [
           {
            "colorbar": {
             "outlinewidth": 0,
             "ticks": ""
            },
            "colorscale": [
             [
              0,
              "#0d0887"
             ],
             [
              0.1111111111111111,
              "#46039f"
             ],
             [
              0.2222222222222222,
              "#7201a8"
             ],
             [
              0.3333333333333333,
              "#9c179e"
             ],
             [
              0.4444444444444444,
              "#bd3786"
             ],
             [
              0.5555555555555556,
              "#d8576b"
             ],
             [
              0.6666666666666666,
              "#ed7953"
             ],
             [
              0.7777777777777778,
              "#fb9f3a"
             ],
             [
              0.8888888888888888,
              "#fdca26"
             ],
             [
              1,
              "#f0f921"
             ]
            ],
            "type": "contour"
           }
          ],
          "contourcarpet": [
           {
            "colorbar": {
             "outlinewidth": 0,
             "ticks": ""
            },
            "type": "contourcarpet"
           }
          ],
          "heatmap": [
           {
            "colorbar": {
             "outlinewidth": 0,
             "ticks": ""
            },
            "colorscale": [
             [
              0,
              "#0d0887"
             ],
             [
              0.1111111111111111,
              "#46039f"
             ],
             [
              0.2222222222222222,
              "#7201a8"
             ],
             [
              0.3333333333333333,
              "#9c179e"
             ],
             [
              0.4444444444444444,
              "#bd3786"
             ],
             [
              0.5555555555555556,
              "#d8576b"
             ],
             [
              0.6666666666666666,
              "#ed7953"
             ],
             [
              0.7777777777777778,
              "#fb9f3a"
             ],
             [
              0.8888888888888888,
              "#fdca26"
             ],
             [
              1,
              "#f0f921"
             ]
            ],
            "type": "heatmap"
           }
          ],
          "histogram": [
           {
            "marker": {
             "pattern": {
              "fillmode": "overlay",
              "size": 10,
              "solidity": 0.2
             }
            },
            "type": "histogram"
           }
          ],
          "histogram2d": [
           {
            "colorbar": {
             "outlinewidth": 0,
             "ticks": ""
            },
            "colorscale": [
             [
              0,
              "#0d0887"
             ],
             [
              0.1111111111111111,
              "#46039f"
             ],
             [
              0.2222222222222222,
              "#7201a8"
             ],
             [
              0.3333333333333333,
              "#9c179e"
             ],
             [
              0.4444444444444444,
              "#bd3786"
             ],
             [
              0.5555555555555556,
              "#d8576b"
             ],
             [
              0.6666666666666666,
              "#ed7953"
             ],
             [
              0.7777777777777778,
              "#fb9f3a"
             ],
             [
              0.8888888888888888,
              "#fdca26"
             ],
             [
              1,
              "#f0f921"
             ]
            ],
            "type": "histogram2d"
           }
          ],
          "histogram2dcontour": [
           {
            "colorbar": {
             "outlinewidth": 0,
             "ticks": ""
            },
            "colorscale": [
             [
              0,
              "#0d0887"
             ],
             [
              0.1111111111111111,
              "#46039f"
             ],
             [
              0.2222222222222222,
              "#7201a8"
             ],
             [
              0.3333333333333333,
              "#9c179e"
             ],
             [
              0.4444444444444444,
              "#bd3786"
             ],
             [
              0.5555555555555556,
              "#d8576b"
             ],
             [
              0.6666666666666666,
              "#ed7953"
             ],
             [
              0.7777777777777778,
              "#fb9f3a"
             ],
             [
              0.8888888888888888,
              "#fdca26"
             ],
             [
              1,
              "#f0f921"
             ]
            ],
            "type": "histogram2dcontour"
           }
          ],
          "mesh3d": [
           {
            "colorbar": {
             "outlinewidth": 0,
             "ticks": ""
            },
            "type": "mesh3d"
           }
          ],
          "parcoords": [
           {
            "line": {
             "colorbar": {
              "outlinewidth": 0,
              "ticks": ""
             }
            },
            "type": "parcoords"
           }
          ],
          "pie": [
           {
            "automargin": true,
            "type": "pie"
           }
          ],
          "scatter": [
           {
            "fillpattern": {
             "fillmode": "overlay",
             "size": 10,
             "solidity": 0.2
            },
            "type": "scatter"
           }
          ],
          "scatter3d": [
           {
            "line": {
             "colorbar": {
              "outlinewidth": 0,
              "ticks": ""
             }
            },
            "marker": {
             "colorbar": {
              "outlinewidth": 0,
              "ticks": ""
             }
            },
            "type": "scatter3d"
           }
          ],
          "scattercarpet": [
           {
            "marker": {
             "colorbar": {
              "outlinewidth": 0,
              "ticks": ""
             }
            },
            "type": "scattercarpet"
           }
          ],
          "scattergeo": [
           {
            "marker": {
             "colorbar": {
              "outlinewidth": 0,
              "ticks": ""
             }
            },
            "type": "scattergeo"
           }
          ],
          "scattergl": [
           {
            "marker": {
             "colorbar": {
              "outlinewidth": 0,
              "ticks": ""
             }
            },
            "type": "scattergl"
           }
          ],
          "scattermap": [
           {
            "marker": {
             "colorbar": {
              "outlinewidth": 0,
              "ticks": ""
             }
            },
            "type": "scattermap"
           }
          ],
          "scattermapbox": [
           {
            "marker": {
             "colorbar": {
              "outlinewidth": 0,
              "ticks": ""
             }
            },
            "type": "scattermapbox"
           }
          ],
          "scatterpolar": [
           {
            "marker": {
             "colorbar": {
              "outlinewidth": 0,
              "ticks": ""
             }
            },
            "type": "scatterpolar"
           }
          ],
          "scatterpolargl": [
           {
            "marker": {
             "colorbar": {
              "outlinewidth": 0,
              "ticks": ""
             }
            },
            "type": "scatterpolargl"
           }
          ],
          "scatterternary": [
           {
            "marker": {
             "colorbar": {
              "outlinewidth": 0,
              "ticks": ""
             }
            },
            "type": "scatterternary"
           }
          ],
          "surface": [
           {
            "colorbar": {
             "outlinewidth": 0,
             "ticks": ""
            },
            "colorscale": [
             [
              0,
              "#0d0887"
             ],
             [
              0.1111111111111111,
              "#46039f"
             ],
             [
              0.2222222222222222,
              "#7201a8"
             ],
             [
              0.3333333333333333,
              "#9c179e"
             ],
             [
              0.4444444444444444,
              "#bd3786"
             ],
             [
              0.5555555555555556,
              "#d8576b"
             ],
             [
              0.6666666666666666,
              "#ed7953"
             ],
             [
              0.7777777777777778,
              "#fb9f3a"
             ],
             [
              0.8888888888888888,
              "#fdca26"
             ],
             [
              1,
              "#f0f921"
             ]
            ],
            "type": "surface"
           }
          ],
          "table": [
           {
            "cells": {
             "fill": {
              "color": "#EBF0F8"
             },
             "line": {
              "color": "white"
             }
            },
            "header": {
             "fill": {
              "color": "#C8D4E3"
             },
             "line": {
              "color": "white"
             }
            },
            "type": "table"
           }
          ]
         },
         "layout": {
          "annotationdefaults": {
           "arrowcolor": "#2a3f5f",
           "arrowhead": 0,
           "arrowwidth": 1
          },
          "autotypenumbers": "strict",
          "coloraxis": {
           "colorbar": {
            "outlinewidth": 0,
            "ticks": ""
           }
          },
          "colorscale": {
           "diverging": [
            [
             0,
             "#8e0152"
            ],
            [
             0.1,
             "#c51b7d"
            ],
            [
             0.2,
             "#de77ae"
            ],
            [
             0.3,
             "#f1b6da"
            ],
            [
             0.4,
             "#fde0ef"
            ],
            [
             0.5,
             "#f7f7f7"
            ],
            [
             0.6,
             "#e6f5d0"
            ],
            [
             0.7,
             "#b8e186"
            ],
            [
             0.8,
             "#7fbc41"
            ],
            [
             0.9,
             "#4d9221"
            ],
            [
             1,
             "#276419"
            ]
           ],
           "sequential": [
            [
             0,
             "#0d0887"
            ],
            [
             0.1111111111111111,
             "#46039f"
            ],
            [
             0.2222222222222222,
             "#7201a8"
            ],
            [
             0.3333333333333333,
             "#9c179e"
            ],
            [
             0.4444444444444444,
             "#bd3786"
            ],
            [
             0.5555555555555556,
             "#d8576b"
            ],
            [
             0.6666666666666666,
             "#ed7953"
            ],
            [
             0.7777777777777778,
             "#fb9f3a"
            ],
            [
             0.8888888888888888,
             "#fdca26"
            ],
            [
             1,
             "#f0f921"
            ]
           ],
           "sequentialminus": [
            [
             0,
             "#0d0887"
            ],
            [
             0.1111111111111111,
             "#46039f"
            ],
            [
             0.2222222222222222,
             "#7201a8"
            ],
            [
             0.3333333333333333,
             "#9c179e"
            ],
            [
             0.4444444444444444,
             "#bd3786"
            ],
            [
             0.5555555555555556,
             "#d8576b"
            ],
            [
             0.6666666666666666,
             "#ed7953"
            ],
            [
             0.7777777777777778,
             "#fb9f3a"
            ],
            [
             0.8888888888888888,
             "#fdca26"
            ],
            [
             1,
             "#f0f921"
            ]
           ]
          },
          "colorway": [
           "#636efa",
           "#EF553B",
           "#00cc96",
           "#ab63fa",
           "#FFA15A",
           "#19d3f3",
           "#FF6692",
           "#B6E880",
           "#FF97FF",
           "#FECB52"
          ],
          "font": {
           "color": "#2a3f5f"
          },
          "geo": {
           "bgcolor": "white",
           "lakecolor": "white",
           "landcolor": "#E5ECF6",
           "showlakes": true,
           "showland": true,
           "subunitcolor": "white"
          },
          "hoverlabel": {
           "align": "left"
          },
          "hovermode": "closest",
          "mapbox": {
           "style": "light"
          },
          "paper_bgcolor": "white",
          "plot_bgcolor": "#E5ECF6",
          "polar": {
           "angularaxis": {
            "gridcolor": "white",
            "linecolor": "white",
            "ticks": ""
           },
           "bgcolor": "#E5ECF6",
           "radialaxis": {
            "gridcolor": "white",
            "linecolor": "white",
            "ticks": ""
           }
          },
          "scene": {
           "xaxis": {
            "backgroundcolor": "#E5ECF6",
            "gridcolor": "white",
            "gridwidth": 2,
            "linecolor": "white",
            "showbackground": true,
            "ticks": "",
            "zerolinecolor": "white"
           },
           "yaxis": {
            "backgroundcolor": "#E5ECF6",
            "gridcolor": "white",
            "gridwidth": 2,
            "linecolor": "white",
            "showbackground": true,
            "ticks": "",
            "zerolinecolor": "white"
           },
           "zaxis": {
            "backgroundcolor": "#E5ECF6",
            "gridcolor": "white",
            "gridwidth": 2,
            "linecolor": "white",
            "showbackground": true,
            "ticks": "",
            "zerolinecolor": "white"
           }
          },
          "shapedefaults": {
           "line": {
            "color": "#2a3f5f"
           }
          },
          "ternary": {
           "aaxis": {
            "gridcolor": "white",
            "linecolor": "white",
            "ticks": ""
           },
           "baxis": {
            "gridcolor": "white",
            "linecolor": "white",
            "ticks": ""
           },
           "bgcolor": "#E5ECF6",
           "caxis": {
            "gridcolor": "white",
            "linecolor": "white",
            "ticks": ""
           }
          },
          "title": {
           "x": 0.05
          },
          "xaxis": {
           "automargin": true,
           "gridcolor": "white",
           "linecolor": "white",
           "ticks": "",
           "title": {
            "standoff": 15
           },
           "zerolinecolor": "white",
           "zerolinewidth": 2
          },
          "yaxis": {
           "automargin": true,
           "gridcolor": "white",
           "linecolor": "white",
           "ticks": "",
           "title": {
            "standoff": 15
           },
           "zerolinecolor": "white",
           "zerolinewidth": 2
          }
         }
        },
        "title": {
         "text": "ESRB Ratings Distribution by Region"
        }
       }
      }
     },
     "metadata": {},
     "output_type": "display_data"
    }
   ],
   "source": [
    "\n",
    "\n",
    "# Convert avg_by_rating_region en 3 dataframes individuales\n",
    "naesrb_sort = avg_by_rating_region[['rating', 'na_sales_avg']].rename(columns={'na_sales_avg': 'na_sales'})\n",
    "euesrb_sort = avg_by_rating_region[['rating', 'eu_sales_avg']].rename(columns={'eu_sales_avg': 'eu_sales'})\n",
    "jpesrb_sort = avg_by_rating_region[['rating', 'jp_sales_avg']].rename(columns={'jp_sales_avg': 'jp_sales'})\n",
    "\n",
    "# Crear los gráficos de pastel\n",
    "fig_jp = px.pie(jpesrb_sort, values='jp_sales', names='rating', title='ESRB - Japan')\n",
    "fig_eu = px.pie(euesrb_sort, values='eu_sales', names='rating', title='ESRB - Europe')\n",
    "fig_na = px.pie(naesrb_sort, values='na_sales', names='rating', title='ESRB - North America')\n",
    "\n",
    "# Crear subplots y combinarlos\n",
    "\n",
    "fig = make_subplots(\n",
    "    rows=1,\n",
    "    cols=3,\n",
    "    specs=[[{'type': 'domain'}, {'type': 'domain'}, {'type': 'domain'}]],\n",
    "    subplot_titles=['Japan', 'Europe', 'North America']\n",
    ")\n",
    "\n",
    "fig.add_trace(fig_jp.data[0], row=1, col=1)\n",
    "fig.add_trace(fig_eu.data[0], row=1, col=2)\n",
    "fig.add_trace(fig_na.data[0], row=1, col=3)\n",
    "\n",
    "fig.update_layout(\n",
    "    title_text=\"ESRB Ratings Distribution by Region\",\n",
    "    showlegend=True\n",
    ")\n",
    "\n",
    "fig.show()\n"
   ]
  },
  {
   "cell_type": "markdown",
   "id": "d40fa3fd",
   "metadata": {},
   "source": [
    "### 🎮 Regional User Preferences: Platform and Genre Distribution\n",
    "\n",
    "From the analysis of regional sales, we observe distinct user preferences in each market:\n",
    "\n",
    "- **North America** shows a strong preference for platforms like **X360** and **PS3**, which together hold over 50% of the market share among the top five. Similarly, **Action** and **Shooter** genres dominate in total sales, reflecting the region's appetite for dynamic, high-impact gameplay experiences.\n",
    "  \n",
    "- **Europe** aligns closely with North American trends, favoring **PS3** and **PS4**, as well as genres like **Sports** and **Shooter**. Notably, **PS4** has a slightly stronger share in Europe than in North America, suggesting its growing relevance in the region.\n",
    "  \n",
    "- **Japan**, however, demonstrates a unique profile. Handheld-focused platforms like **3DS** lead by a significant margin, capturing over 63% of the Japanese top-5 platform sales. In terms of genre, **Role-Playing** games show the highest share in Japan, aligning with cultural preferences for story-driven and immersive experiences.\n",
    "\n",
    "These insights reinforce the importance of tailoring marketing and development strategies by region. Global campaigns should highlight high-action and sports titles in Western markets, while placing more emphasis on handheld and RPG offerings in Japan.\n"
   ]
  },
  {
   "cell_type": "markdown",
   "id": "c9825874",
   "metadata": {},
   "source": [
    "#"
   ]
  },
  {
   "cell_type": "markdown",
   "id": "0e3c7273",
   "metadata": {},
   "source": [
    "## 🧪 Test Hypotheses\n",
    "\n"
   ]
  },
  {
   "cell_type": "markdown",
   "id": "a31abe18",
   "metadata": {},
   "source": [
    "\n",
    "### Average user ratings of the Xbox One and PC platforms are the same?\n"
   ]
  },
  {
   "cell_type": "code",
   "execution_count": null,
   "id": "ac571822",
   "metadata": {},
   "outputs": [
    {
     "name": "stdout",
     "output_type": "stream",
     "text": [
      "p-value:  0.9463196313131612\n",
      "We can't reject the null hypothesis\n"
     ]
    }
   ],
   "source": [
    "pc = dataset_recent[dataset_recent['platform'] == 'PC'] # Filter for PC platform\n",
    "xbox_one = dataset_recent[dataset_recent['platform'] == 'XOne'] # Filter for Xbox One platform\n",
    "\n",
    "pc_rating = pc['user_score']\n",
    "xbox_one_rating = xbox_one['user_score']\n",
    "\n",
    "# Perform a t-test to compare the means of the two samples\n",
    "sample_1 = pc_rating.dropna()  # Drop NaN values from PC ratings\n",
    "\n",
    "sample_2 = xbox_one_rating.dropna()  # Drop NaN values from Xbox One ratings\n",
    "\n",
    "# Assuming equal variances\n",
    "# Null Hypothesis: The average user rating for Xbox One games is equal to that for PC games\n",
    "# Alternative Hypothesis: The average user rating for Xbox One games is different from that for PC games\n",
    "\n",
    "\n",
    "\n",
    "# Calculate the t-statistic and p-value\n",
    "# Using a two-tailed test\n",
    "# H0: μ1 = μ2 (means are equal)\n",
    "\n",
    "alpha = 0.05  # critical statistical significance level\n",
    "# if the p-value is less than alpha, we reject the hypothesis\n",
    "\n",
    "results = st.ttest_ind(sample_1, sample_2)\n",
    "\n",
    "print('p-value: ', results.pvalue)\n",
    "\n",
    "if results.pvalue < alpha:\n",
    "    print(\"We reject the null hypothesis\")\n",
    "else:\n",
    "    print(\"We can't reject the null hypothesis\")\n",
    "\n"
   ]
  },
  {
   "cell_type": "markdown",
   "id": "b49c9785",
   "metadata": {},
   "source": [
    "### Average user ratings for the Action and Sports genres are different?\n"
   ]
  },
  {
   "cell_type": "code",
   "execution_count": null,
   "id": "b8f8b32e",
   "metadata": {},
   "outputs": [
    {
     "name": "stdout",
     "output_type": "stream",
     "text": [
      "p-value:  1.3744684534520844e-23\n",
      "We reject the null hypothesis\n"
     ]
    }
   ],
   "source": [
    "action = dataset_recent[dataset_recent['genre'] == 'Action'] # Filter for Action genre\n",
    "sports = dataset_recent[dataset_recent['genre'] == 'Sports'] # Filter for Adventure genre\n",
    "\n",
    "action_rating = action['user_score']\n",
    "sports_rating = sports['user_score']\n",
    "\n",
    "# Perform a t-test to compare the means of the two samples\n",
    "sample_1 = action_rating.dropna()  # Drop NaN values from PC ratings\n",
    "\n",
    "sample_2 = sports_rating.dropna()  # Drop NaN values from Xbox One ratings\n",
    "\n",
    "# Assuming equal variances\n",
    "# Null Hypothesis: The average user rating for Action games is equal to that for Sports games.\n",
    "# Alternative Hypothesis: The average user rating for Action games is different from that for Sports games.\n",
    "\n",
    "\n",
    "# Calculate the t-statistic and p-value\n",
    "# Using a two-tailed test\n",
    "# H0: μ1 = μ2 (means are equal)\n",
    "\n",
    "alpha = 0.05  # critical statistical significance level\n",
    "# if the p-value is less than alpha, we reject the hypothesis\n",
    "\n",
    "results = st.ttest_ind(sample_1, sample_2)\n",
    "\n",
    "print('p-value: ', results.pvalue)\n",
    "\n",
    "if results.pvalue < alpha:\n",
    "    print(\"We reject the null hypothesis\")\n",
    "else:\n",
    "    print(\"We can't reject the null hypothesis\")\n"
   ]
  },
  {
   "cell_type": "markdown",
   "id": "2aa13e37",
   "metadata": {},
   "source": [
    "## ✅ Hypothesis Test Results \n",
    "\n",
    "- 🎮 **Xbox One vs. PC user ratings**  \n",
    "  _p-value = 0.946 (> 0.05)_  \n",
    "  ✖ We fail to reject the null hypothesis.  \n",
    "  **Interpretation:** There is no statistically significant difference between user ratings for Xbox One and PC games. Players tend to rate games similarly across both platforms.\n",
    "\n",
    "- 🏆 **Action vs. Sports user ratings**  \n",
    "  _p-value = 1.37 × 10⁻²³ (< 0.05)_  \n",
    "  ✔ We reject the null hypothesis.  \n",
    "  **Interpretation:** There is strong statistical evidence that Action and Sports games are rated differently by users, suggesting genre has a significant impact on perceived game quality.\n",
    "\n",
    "---\n",
    "\n",
    "**Conclusion:**  \n",
    "The analysis shows that **game genre (Action vs. Sports)** has a stronger influence on user ratings than **platform (Xbox One vs. PC)**. While platforms are often debated among gamers, genre preferences appear to have a clearer effect on how players rate their gaming experience.\n"
   ]
  },
  {
   "cell_type": "markdown",
   "id": "8f5dcf63",
   "metadata": {},
   "source": [
    "## 📝Step 6: General Conclusions\n"
   ]
  },
  {
   "cell_type": "markdown",
   "id": "cd74fa70",
   "metadata": {},
   "source": [
    "\n",
    "\n",
    "The analysis of video game sales data provides strategic insights for 2017. Key findings include:\n",
    "\n",
    "1. **Regional Preferences**:\n",
    "   - **North America & Europe**: Favor **Xbox 360**, **PS3**, **PS4**, and **Action**, **Shooter**, **Sports** genres. Market high-impact games here.\n",
    "   - **Japan**: Prefers **3DS** and **Role-Playing** games. Focus on handheld, narrative-driven titles.\n",
    "\n",
    "2. **ESRB Ratings**: Ratings like **E** and **T** drive sales in North America/Europe; Japan shows flexibility. Tailor content to regional standards.\n",
    "\n",
    "3. **Hypothesis Tests**:\n",
    "   - **Xbox One vs. PC**: No significant difference in user ratings (p=0.946), suggesting platform parity.\n",
    "   - **Action vs. Sports**: Significant rating differences (p=1.37×10⁻²³), highlighting genre’s impact on satisfaction.\n",
    "\n",
    "4. **Success Drivers**: Genre outweighs platform in influencing ratings; regional customization is critical.\n",
    "\n",
    "5. **Strategic Recommendations for 2017**:\n",
    "\n",
    "Product Development: Invest in **Action/Shooter** titles for **North America** and **Europe**; focus on deep, story-driven **RPGs** for Japan.\n",
    "\n",
    "Rating Strategy: Secure appropriate ESRB or equivalent ratings to maximize western market penetration, and navigate local classification systems in Asia.\n",
    "\n",
    "Marketing Campaigns: Craft region-specific messaging—emphasize high-octane gameplay in the West, immersive narratives in Japan.\n",
    "\n",
    "Continuous Monitoring: Track emerging platforms and shifting genre trends to adjust development roadmaps and promotional plans in real time."
   ]
  },
  {
   "cell_type": "markdown",
   "id": "8a68b868",
   "metadata": {},
   "source": []
  }
 ],
 "metadata": {
  "kernelspec": {
   "display_name": ".venv",
   "language": "python",
   "name": "python3"
  },
  "language_info": {
   "codemirror_mode": {
    "name": "ipython",
    "version": 3
   },
   "file_extension": ".py",
   "mimetype": "text/x-python",
   "name": "python",
   "nbconvert_exporter": "python",
   "pygments_lexer": "ipython3",
   "version": "3.13.1"
  }
 },
 "nbformat": 4,
 "nbformat_minor": 5
}
